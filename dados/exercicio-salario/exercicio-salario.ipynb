{
 "cells": [
  {
   "cell_type": "markdown",
   "id": "4cd9f908",
   "metadata": {},
   "source": [
    "### EXERCICIO"
   ]
  },
  {
   "cell_type": "markdown",
   "id": "354123c8",
   "metadata": {},
   "source": [
    "1 – Importe a base de dados .csv"
   ]
  },
  {
   "cell_type": "code",
   "execution_count": 51,
   "id": "a17f25f9",
   "metadata": {},
   "outputs": [],
   "source": [
    "import pandas as pd\n",
    "df = pd.read_csv('./dados_salario.csv')"
   ]
  },
  {
   "cell_type": "markdown",
   "id": "341a226d",
   "metadata": {},
   "source": [
    "2 – Visualize as 3 primeiras linhas da base."
   ]
  },
  {
   "cell_type": "code",
   "execution_count": 52,
   "id": "3f09d072",
   "metadata": {},
   "outputs": [
    {
     "data": {
      "text/html": [
       "<div>\n",
       "<style scoped>\n",
       "    .dataframe tbody tr th:only-of-type {\n",
       "        vertical-align: middle;\n",
       "    }\n",
       "\n",
       "    .dataframe tbody tr th {\n",
       "        vertical-align: top;\n",
       "    }\n",
       "\n",
       "    .dataframe thead th {\n",
       "        text-align: right;\n",
       "    }\n",
       "</style>\n",
       "<table border=\"1\" class=\"dataframe\">\n",
       "  <thead>\n",
       "    <tr style=\"text-align: right;\">\n",
       "      <th></th>\n",
       "      <th>Nome</th>\n",
       "      <th>Idade</th>\n",
       "      <th>Salário</th>\n",
       "      <th>Ano</th>\n",
       "    </tr>\n",
       "  </thead>\n",
       "  <tbody>\n",
       "    <tr>\n",
       "      <th>0</th>\n",
       "      <td>Isabela</td>\n",
       "      <td>36</td>\n",
       "      <td>8794.69</td>\n",
       "      <td>2021</td>\n",
       "    </tr>\n",
       "    <tr>\n",
       "      <th>1</th>\n",
       "      <td>Larissa</td>\n",
       "      <td>26</td>\n",
       "      <td>5272.69</td>\n",
       "      <td>2023</td>\n",
       "    </tr>\n",
       "    <tr>\n",
       "      <th>2</th>\n",
       "      <td>Marcelo</td>\n",
       "      <td>56</td>\n",
       "      <td>7369.04</td>\n",
       "      <td>2021</td>\n",
       "    </tr>\n",
       "  </tbody>\n",
       "</table>\n",
       "</div>"
      ],
      "text/plain": [
       "      Nome  Idade  Salário   Ano\n",
       "0  Isabela     36  8794.69  2021\n",
       "1  Larissa     26  5272.69  2023\n",
       "2  Marcelo     56  7369.04  2021"
      ]
     },
     "execution_count": 52,
     "metadata": {},
     "output_type": "execute_result"
    }
   ],
   "source": [
    "df.head(3)"
   ]
  },
  {
   "cell_type": "markdown",
   "id": "00914b0a",
   "metadata": {},
   "source": [
    "3 – Visualize as informações com .info()"
   ]
  },
  {
   "cell_type": "code",
   "execution_count": 53,
   "id": "cc431117",
   "metadata": {},
   "outputs": [
    {
     "name": "stdout",
     "output_type": "stream",
     "text": [
      "<class 'pandas.core.frame.DataFrame'>\n",
      "RangeIndex: 100 entries, 0 to 99\n",
      "Data columns (total 4 columns):\n",
      " #   Column   Non-Null Count  Dtype  \n",
      "---  ------   --------------  -----  \n",
      " 0   Nome     100 non-null    object \n",
      " 1   Idade    100 non-null    int64  \n",
      " 2   Salário  100 non-null    float64\n",
      " 3   Ano      100 non-null    int64  \n",
      "dtypes: float64(1), int64(2), object(1)\n",
      "memory usage: 3.2+ KB\n"
     ]
    }
   ],
   "source": [
    "df.info()"
   ]
  },
  {
   "cell_type": "markdown",
   "id": "74a8ab8c",
   "metadata": {},
   "source": [
    "4 – Crie uma nova coluna chamada “Desconto”, nela tem 10% do valor do\n",
    "salário."
   ]
  },
  {
   "cell_type": "code",
   "execution_count": 54,
   "id": "353db58f",
   "metadata": {},
   "outputs": [
    {
     "data": {
      "text/html": [
       "<div>\n",
       "<style scoped>\n",
       "    .dataframe tbody tr th:only-of-type {\n",
       "        vertical-align: middle;\n",
       "    }\n",
       "\n",
       "    .dataframe tbody tr th {\n",
       "        vertical-align: top;\n",
       "    }\n",
       "\n",
       "    .dataframe thead th {\n",
       "        text-align: right;\n",
       "    }\n",
       "</style>\n",
       "<table border=\"1\" class=\"dataframe\">\n",
       "  <thead>\n",
       "    <tr style=\"text-align: right;\">\n",
       "      <th></th>\n",
       "      <th>Nome</th>\n",
       "      <th>Idade</th>\n",
       "      <th>Salário</th>\n",
       "      <th>Ano</th>\n",
       "      <th>Desconto</th>\n",
       "    </tr>\n",
       "  </thead>\n",
       "  <tbody>\n",
       "    <tr>\n",
       "      <th>0</th>\n",
       "      <td>Isabela</td>\n",
       "      <td>36</td>\n",
       "      <td>8794.69</td>\n",
       "      <td>2021</td>\n",
       "      <td>879.469</td>\n",
       "    </tr>\n",
       "    <tr>\n",
       "      <th>1</th>\n",
       "      <td>Larissa</td>\n",
       "      <td>26</td>\n",
       "      <td>5272.69</td>\n",
       "      <td>2023</td>\n",
       "      <td>527.269</td>\n",
       "    </tr>\n",
       "    <tr>\n",
       "      <th>2</th>\n",
       "      <td>Marcelo</td>\n",
       "      <td>56</td>\n",
       "      <td>7369.04</td>\n",
       "      <td>2021</td>\n",
       "      <td>736.904</td>\n",
       "    </tr>\n",
       "    <tr>\n",
       "      <th>3</th>\n",
       "      <td>Júlia</td>\n",
       "      <td>27</td>\n",
       "      <td>8379.53</td>\n",
       "      <td>2020</td>\n",
       "      <td>837.953</td>\n",
       "    </tr>\n",
       "    <tr>\n",
       "      <th>4</th>\n",
       "      <td>Lucas</td>\n",
       "      <td>19</td>\n",
       "      <td>4226.16</td>\n",
       "      <td>2023</td>\n",
       "      <td>422.616</td>\n",
       "    </tr>\n",
       "  </tbody>\n",
       "</table>\n",
       "</div>"
      ],
      "text/plain": [
       "      Nome  Idade  Salário   Ano  Desconto\n",
       "0  Isabela     36  8794.69  2021   879.469\n",
       "1  Larissa     26  5272.69  2023   527.269\n",
       "2  Marcelo     56  7369.04  2021   736.904\n",
       "3    Júlia     27  8379.53  2020   837.953\n",
       "4    Lucas     19  4226.16  2023   422.616"
      ]
     },
     "execution_count": 54,
     "metadata": {},
     "output_type": "execute_result"
    }
   ],
   "source": [
    "df['Desconto'] = df['Salário'] * 0.1\n",
    "df.head()"
   ]
  },
  {
   "cell_type": "markdown",
   "id": "d23a68c3",
   "metadata": {},
   "source": [
    "5 – Crie um novo df filtrando as pessoas com Idade maior que 30 anos"
   ]
  },
  {
   "cell_type": "code",
   "execution_count": 55,
   "id": "6ad3df76",
   "metadata": {},
   "outputs": [
    {
     "data": {
      "text/html": [
       "<div>\n",
       "<style scoped>\n",
       "    .dataframe tbody tr th:only-of-type {\n",
       "        vertical-align: middle;\n",
       "    }\n",
       "\n",
       "    .dataframe tbody tr th {\n",
       "        vertical-align: top;\n",
       "    }\n",
       "\n",
       "    .dataframe thead th {\n",
       "        text-align: right;\n",
       "    }\n",
       "</style>\n",
       "<table border=\"1\" class=\"dataframe\">\n",
       "  <thead>\n",
       "    <tr style=\"text-align: right;\">\n",
       "      <th></th>\n",
       "      <th>Nome</th>\n",
       "      <th>Idade</th>\n",
       "      <th>Salário</th>\n",
       "      <th>Ano</th>\n",
       "      <th>Desconto</th>\n",
       "    </tr>\n",
       "  </thead>\n",
       "  <tbody>\n",
       "    <tr>\n",
       "      <th>0</th>\n",
       "      <td>Isabela</td>\n",
       "      <td>36</td>\n",
       "      <td>8794.69</td>\n",
       "      <td>2021</td>\n",
       "      <td>879.469</td>\n",
       "    </tr>\n",
       "    <tr>\n",
       "      <th>2</th>\n",
       "      <td>Marcelo</td>\n",
       "      <td>56</td>\n",
       "      <td>7369.04</td>\n",
       "      <td>2021</td>\n",
       "      <td>736.904</td>\n",
       "    </tr>\n",
       "    <tr>\n",
       "      <th>5</th>\n",
       "      <td>Pedro</td>\n",
       "      <td>38</td>\n",
       "      <td>3532.96</td>\n",
       "      <td>2023</td>\n",
       "      <td>353.296</td>\n",
       "    </tr>\n",
       "    <tr>\n",
       "      <th>6</th>\n",
       "      <td>Aline</td>\n",
       "      <td>57</td>\n",
       "      <td>5753.40</td>\n",
       "      <td>2021</td>\n",
       "      <td>575.340</td>\n",
       "    </tr>\n",
       "    <tr>\n",
       "      <th>7</th>\n",
       "      <td>Samara</td>\n",
       "      <td>50</td>\n",
       "      <td>8123.47</td>\n",
       "      <td>2022</td>\n",
       "      <td>812.347</td>\n",
       "    </tr>\n",
       "    <tr>\n",
       "      <th>...</th>\n",
       "      <td>...</td>\n",
       "      <td>...</td>\n",
       "      <td>...</td>\n",
       "      <td>...</td>\n",
       "      <td>...</td>\n",
       "    </tr>\n",
       "    <tr>\n",
       "      <th>92</th>\n",
       "      <td>Diego</td>\n",
       "      <td>54</td>\n",
       "      <td>4414.89</td>\n",
       "      <td>2020</td>\n",
       "      <td>441.489</td>\n",
       "    </tr>\n",
       "    <tr>\n",
       "      <th>93</th>\n",
       "      <td>Beatriz</td>\n",
       "      <td>50</td>\n",
       "      <td>9102.64</td>\n",
       "      <td>2022</td>\n",
       "      <td>910.264</td>\n",
       "    </tr>\n",
       "    <tr>\n",
       "      <th>95</th>\n",
       "      <td>Paula</td>\n",
       "      <td>31</td>\n",
       "      <td>8135.06</td>\n",
       "      <td>2021</td>\n",
       "      <td>813.506</td>\n",
       "    </tr>\n",
       "    <tr>\n",
       "      <th>98</th>\n",
       "      <td>Eliane</td>\n",
       "      <td>58</td>\n",
       "      <td>4128.88</td>\n",
       "      <td>2020</td>\n",
       "      <td>412.888</td>\n",
       "    </tr>\n",
       "    <tr>\n",
       "      <th>99</th>\n",
       "      <td>Daniel</td>\n",
       "      <td>52</td>\n",
       "      <td>5852.04</td>\n",
       "      <td>2021</td>\n",
       "      <td>585.204</td>\n",
       "    </tr>\n",
       "  </tbody>\n",
       "</table>\n",
       "<p>70 rows × 5 columns</p>\n",
       "</div>"
      ],
      "text/plain": [
       "       Nome  Idade  Salário   Ano  Desconto\n",
       "0   Isabela     36  8794.69  2021   879.469\n",
       "2   Marcelo     56  7369.04  2021   736.904\n",
       "5     Pedro     38  3532.96  2023   353.296\n",
       "6     Aline     57  5753.40  2021   575.340\n",
       "7    Samara     50  8123.47  2022   812.347\n",
       "..      ...    ...      ...   ...       ...\n",
       "92    Diego     54  4414.89  2020   441.489\n",
       "93  Beatriz     50  9102.64  2022   910.264\n",
       "95    Paula     31  8135.06  2021   813.506\n",
       "98   Eliane     58  4128.88  2020   412.888\n",
       "99   Daniel     52  5852.04  2021   585.204\n",
       "\n",
       "[70 rows x 5 columns]"
      ]
     },
     "execution_count": 55,
     "metadata": {},
     "output_type": "execute_result"
    }
   ],
   "source": [
    "filtro_maiorQue_30 = df.query('Idade > 30')\n",
    "filtro_maiorQue_30\n"
   ]
  },
  {
   "cell_type": "markdown",
   "id": "4647375b",
   "metadata": {},
   "source": [
    "6 – No df original, crie uma coluna chamada “Faixa Etária”, onde se a pessoa\n",
    "tiver menos que 30 anos vai receber “Jovem”, e pessoas com 30 anos ou mais\n",
    "vai receber “Adulto”.\n"
   ]
  },
  {
   "cell_type": "code",
   "execution_count": 56,
   "id": "c8a0c302",
   "metadata": {},
   "outputs": [
    {
     "data": {
      "text/html": [
       "<div>\n",
       "<style scoped>\n",
       "    .dataframe tbody tr th:only-of-type {\n",
       "        vertical-align: middle;\n",
       "    }\n",
       "\n",
       "    .dataframe tbody tr th {\n",
       "        vertical-align: top;\n",
       "    }\n",
       "\n",
       "    .dataframe thead th {\n",
       "        text-align: right;\n",
       "    }\n",
       "</style>\n",
       "<table border=\"1\" class=\"dataframe\">\n",
       "  <thead>\n",
       "    <tr style=\"text-align: right;\">\n",
       "      <th></th>\n",
       "      <th>Nome</th>\n",
       "      <th>Idade</th>\n",
       "      <th>Salário</th>\n",
       "      <th>Ano</th>\n",
       "      <th>Desconto</th>\n",
       "      <th>Faixa Etária</th>\n",
       "    </tr>\n",
       "  </thead>\n",
       "  <tbody>\n",
       "    <tr>\n",
       "      <th>0</th>\n",
       "      <td>Isabela</td>\n",
       "      <td>36</td>\n",
       "      <td>8794.69</td>\n",
       "      <td>2021</td>\n",
       "      <td>879.469</td>\n",
       "      <td>Adulto</td>\n",
       "    </tr>\n",
       "    <tr>\n",
       "      <th>1</th>\n",
       "      <td>Larissa</td>\n",
       "      <td>26</td>\n",
       "      <td>5272.69</td>\n",
       "      <td>2023</td>\n",
       "      <td>527.269</td>\n",
       "      <td>Jovem</td>\n",
       "    </tr>\n",
       "    <tr>\n",
       "      <th>2</th>\n",
       "      <td>Marcelo</td>\n",
       "      <td>56</td>\n",
       "      <td>7369.04</td>\n",
       "      <td>2021</td>\n",
       "      <td>736.904</td>\n",
       "      <td>Adulto</td>\n",
       "    </tr>\n",
       "    <tr>\n",
       "      <th>3</th>\n",
       "      <td>Júlia</td>\n",
       "      <td>27</td>\n",
       "      <td>8379.53</td>\n",
       "      <td>2020</td>\n",
       "      <td>837.953</td>\n",
       "      <td>Jovem</td>\n",
       "    </tr>\n",
       "    <tr>\n",
       "      <th>4</th>\n",
       "      <td>Lucas</td>\n",
       "      <td>19</td>\n",
       "      <td>4226.16</td>\n",
       "      <td>2023</td>\n",
       "      <td>422.616</td>\n",
       "      <td>Jovem</td>\n",
       "    </tr>\n",
       "    <tr>\n",
       "      <th>...</th>\n",
       "      <td>...</td>\n",
       "      <td>...</td>\n",
       "      <td>...</td>\n",
       "      <td>...</td>\n",
       "      <td>...</td>\n",
       "      <td>...</td>\n",
       "    </tr>\n",
       "    <tr>\n",
       "      <th>95</th>\n",
       "      <td>Paula</td>\n",
       "      <td>31</td>\n",
       "      <td>8135.06</td>\n",
       "      <td>2021</td>\n",
       "      <td>813.506</td>\n",
       "      <td>Adulto</td>\n",
       "    </tr>\n",
       "    <tr>\n",
       "      <th>96</th>\n",
       "      <td>Carla</td>\n",
       "      <td>28</td>\n",
       "      <td>5055.49</td>\n",
       "      <td>2023</td>\n",
       "      <td>505.549</td>\n",
       "      <td>Jovem</td>\n",
       "    </tr>\n",
       "    <tr>\n",
       "      <th>97</th>\n",
       "      <td>Isabela</td>\n",
       "      <td>18</td>\n",
       "      <td>9227.83</td>\n",
       "      <td>2020</td>\n",
       "      <td>922.783</td>\n",
       "      <td>Jovem</td>\n",
       "    </tr>\n",
       "    <tr>\n",
       "      <th>98</th>\n",
       "      <td>Eliane</td>\n",
       "      <td>58</td>\n",
       "      <td>4128.88</td>\n",
       "      <td>2020</td>\n",
       "      <td>412.888</td>\n",
       "      <td>Adulto</td>\n",
       "    </tr>\n",
       "    <tr>\n",
       "      <th>99</th>\n",
       "      <td>Daniel</td>\n",
       "      <td>52</td>\n",
       "      <td>5852.04</td>\n",
       "      <td>2021</td>\n",
       "      <td>585.204</td>\n",
       "      <td>Adulto</td>\n",
       "    </tr>\n",
       "  </tbody>\n",
       "</table>\n",
       "<p>100 rows × 6 columns</p>\n",
       "</div>"
      ],
      "text/plain": [
       "       Nome  Idade  Salário   Ano  Desconto Faixa Etária\n",
       "0   Isabela     36  8794.69  2021   879.469       Adulto\n",
       "1   Larissa     26  5272.69  2023   527.269        Jovem\n",
       "2   Marcelo     56  7369.04  2021   736.904       Adulto\n",
       "3     Júlia     27  8379.53  2020   837.953        Jovem\n",
       "4     Lucas     19  4226.16  2023   422.616        Jovem\n",
       "..      ...    ...      ...   ...       ...          ...\n",
       "95    Paula     31  8135.06  2021   813.506       Adulto\n",
       "96    Carla     28  5055.49  2023   505.549        Jovem\n",
       "97  Isabela     18  9227.83  2020   922.783        Jovem\n",
       "98   Eliane     58  4128.88  2020   412.888       Adulto\n",
       "99   Daniel     52  5852.04  2021   585.204       Adulto\n",
       "\n",
       "[100 rows x 6 columns]"
      ]
     },
     "execution_count": 56,
     "metadata": {},
     "output_type": "execute_result"
    }
   ],
   "source": [
    "def faixa(idade):\n",
    "    if idade < 30:\n",
    "        return 'Jovem'\n",
    "    else:\n",
    "        return 'Adulto'\n",
    "df['Faixa Etária'] = df['Idade'].apply(faixa)\n",
    "df"
   ]
  },
  {
   "cell_type": "markdown",
   "id": "2a401fce",
   "metadata": {},
   "source": [
    "7 – Agrupe o df pela Faixa Etária e calcule a média do salário."
   ]
  },
  {
   "cell_type": "code",
   "execution_count": 57,
   "id": "a6a56284",
   "metadata": {},
   "outputs": [
    {
     "data": {
      "text/html": [
       "<div>\n",
       "<style scoped>\n",
       "    .dataframe tbody tr th:only-of-type {\n",
       "        vertical-align: middle;\n",
       "    }\n",
       "\n",
       "    .dataframe tbody tr th {\n",
       "        vertical-align: top;\n",
       "    }\n",
       "\n",
       "    .dataframe thead th {\n",
       "        text-align: right;\n",
       "    }\n",
       "</style>\n",
       "<table border=\"1\" class=\"dataframe\">\n",
       "  <thead>\n",
       "    <tr style=\"text-align: right;\">\n",
       "      <th></th>\n",
       "      <th>Faixa Etária</th>\n",
       "      <th>Salário</th>\n",
       "    </tr>\n",
       "  </thead>\n",
       "  <tbody>\n",
       "    <tr>\n",
       "      <th>0</th>\n",
       "      <td>Adulto</td>\n",
       "      <td>6310.863425</td>\n",
       "    </tr>\n",
       "    <tr>\n",
       "      <th>1</th>\n",
       "      <td>Jovem</td>\n",
       "      <td>5366.619259</td>\n",
       "    </tr>\n",
       "  </tbody>\n",
       "</table>\n",
       "</div>"
      ],
      "text/plain": [
       "  Faixa Etária      Salário\n",
       "0       Adulto  6310.863425\n",
       "1        Jovem  5366.619259"
      ]
     },
     "execution_count": 57,
     "metadata": {},
     "output_type": "execute_result"
    }
   ],
   "source": [
    "mediaPorIdade = df.groupby('Faixa Etária')['Salário'].mean().reset_index()\n",
    "mediaPorIdade"
   ]
  },
  {
   "cell_type": "markdown",
   "id": "a59fa47c",
   "metadata": {},
   "source": [
    "8 – Crie um gráfico de barras mostrando a média de salário por faixa etária."
   ]
  },
  {
   "cell_type": "code",
   "execution_count": 58,
   "id": "fdfb6ed0",
   "metadata": {},
   "outputs": [
    {
     "data": {
      "text/plain": [
       "<Axes: title={'center': 'Média do Salário'}, xlabel='Faixa Etária'>"
      ]
     },
     "execution_count": 58,
     "metadata": {},
     "output_type": "execute_result"
    },
    {
     "data": {
      "image/png": "[encoded data removed]",
      "text/plain": [
       "<Figure size 640x480 with 1 Axes>"
      ]
     },
     "metadata": {},
     "output_type": "display_data"
    }
   ],
   "source": [
    "mediaPorIdade.plot(kind='bar', x='Faixa Etária', y='Salário', title='Média do Salário', color=['DarkGreen'])"
   ]
  }
 ],
 "metadata": {
  "kernelspec": {
   "display_name": "Python 3",
   "language": "python",
   "name": "python3"
  },
  "language_info": {
   "codemirror_mode": {
    "name": "ipython",
    "version": 3
   },
   "file_extension": ".py",
   "mimetype": "text/x-python",
   "name": "python",
   "nbconvert_exporter": "python",
   "pygments_lexer": "ipython3",
   "version": "3.10.12"
  }
 },
 "nbformat": 4,
 "nbformat_minor": 5
}
