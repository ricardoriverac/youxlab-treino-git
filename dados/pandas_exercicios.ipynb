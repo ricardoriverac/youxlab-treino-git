{
  "cells": [
    {
      "cell_type": "code",
      "execution_count": 4,
      "metadata": {
        "id": "X1Q0xVaxVr9V"
      },
      "outputs": [],
      "source": [
        "# Importe o pandas\n",
        "import pandas as pd"
      ]
    },
    {
      "cell_type": "code",
      "execution_count": 5,
      "metadata": {
        "id": "rlErNlrPWo_7"
      },
      "outputs": [],
      "source": [
        "# Crie uma Série com 3 estados diferentes\n",
        "estados = pd.Series(['MG', 'SP', 'RJ'])"
      ]
    },
    {
      "cell_type": "code",
      "execution_count": 6,
      "metadata": {
        "id": "FhyqncTiWuxA"
      },
      "outputs": [
        {
          "data": {
            "text/plain": [
              "0    MG\n",
              "1    SP\n",
              "2    RJ\n",
              "dtype: object"
            ]
          },
          "execution_count": 6,
          "metadata": {},
          "output_type": "execute_result"
        }
      ],
      "source": [
        "# Visualize os dados criados na Série\n",
        "estados"
      ]
    },
    {
      "cell_type": "code",
      "execution_count": 7,
      "metadata": {
        "id": "IH4Tb4fhW2VB"
      },
      "outputs": [],
      "source": [
        "# Crie uma Série com 3 tipos de fabricantes de carro\n",
        "fabricantes = pd.Series(['Toyota', 'Chevrolet', 'Volkswagen'])"
      ]
    },
    {
      "cell_type": "code",
      "execution_count": 8,
      "metadata": {
        "id": "YAugkW1EW9EI"
      },
      "outputs": [],
      "source": [
        "# Crie um DataFrame combinando as duas Séries\n",
        "carros = pd.DataFrame({\n",
        "    'ESTADOS' : [estados],\n",
        "    'FABRICANTES' : [fabricantes]\n",
        "})"
      ]
    },
    {
      "cell_type": "code",
      "execution_count": 9,
      "metadata": {
        "id": "GvlkmBi3XGi1"
      },
      "outputs": [],
      "source": [
        "# Importe o csv \"venda-de-carros.csv\" em visualize o DataFrame\n",
        "carros = pd.read_csv('/home/youx/projeto-git/youxlab-treino-git/dados/datasets/venda-de-carros.csv')"
      ]
    },
    {
      "cell_type": "code",
      "execution_count": 10,
      "metadata": {
        "id": "rI5eHevAXTUB"
      },
      "outputs": [
        {
          "data": {
            "text/html": [
              "<div>\n",
              "<style scoped>\n",
              "    .dataframe tbody tr th:only-of-type {\n",
              "        vertical-align: middle;\n",
              "    }\n",
              "\n",
              "    .dataframe tbody tr th {\n",
              "        vertical-align: top;\n",
              "    }\n",
              "\n",
              "    .dataframe thead th {\n",
              "        text-align: right;\n",
              "    }\n",
              "</style>\n",
              "<table border=\"1\" class=\"dataframe\">\n",
              "  <thead>\n",
              "    <tr style=\"text-align: right;\">\n",
              "      <th></th>\n",
              "      <th>Fabricante</th>\n",
              "      <th>Cor</th>\n",
              "      <th>Quilometragem</th>\n",
              "      <th>Portas</th>\n",
              "      <th>Preco</th>\n",
              "    </tr>\n",
              "  </thead>\n",
              "  <tbody>\n",
              "    <tr>\n",
              "      <th>0</th>\n",
              "      <td>Toyota</td>\n",
              "      <td>Branco</td>\n",
              "      <td>150043</td>\n",
              "      <td>4</td>\n",
              "      <td>R$ 24,000.00</td>\n",
              "    </tr>\n",
              "    <tr>\n",
              "      <th>1</th>\n",
              "      <td>Honda</td>\n",
              "      <td>Vermelho</td>\n",
              "      <td>87899</td>\n",
              "      <td>4</td>\n",
              "      <td>R$ 25,000.00</td>\n",
              "    </tr>\n",
              "    <tr>\n",
              "      <th>2</th>\n",
              "      <td>Toyota</td>\n",
              "      <td>Azul</td>\n",
              "      <td>32549</td>\n",
              "      <td>3</td>\n",
              "      <td>R$ 27,000.00</td>\n",
              "    </tr>\n",
              "    <tr>\n",
              "      <th>3</th>\n",
              "      <td>BMW</td>\n",
              "      <td>Preto</td>\n",
              "      <td>11179</td>\n",
              "      <td>5</td>\n",
              "      <td>R$ 122,000.00</td>\n",
              "    </tr>\n",
              "    <tr>\n",
              "      <th>4</th>\n",
              "      <td>Nissan</td>\n",
              "      <td>Branco</td>\n",
              "      <td>213095</td>\n",
              "      <td>4</td>\n",
              "      <td>R$ 13,500.00</td>\n",
              "    </tr>\n",
              "    <tr>\n",
              "      <th>5</th>\n",
              "      <td>Toyota</td>\n",
              "      <td>Verde</td>\n",
              "      <td>99213</td>\n",
              "      <td>4</td>\n",
              "      <td>R$ 14,500.00</td>\n",
              "    </tr>\n",
              "    <tr>\n",
              "      <th>6</th>\n",
              "      <td>Honda</td>\n",
              "      <td>Azul</td>\n",
              "      <td>45698</td>\n",
              "      <td>4</td>\n",
              "      <td>R$ 17,500.00</td>\n",
              "    </tr>\n",
              "    <tr>\n",
              "      <th>7</th>\n",
              "      <td>Honda</td>\n",
              "      <td>Azul</td>\n",
              "      <td>54738</td>\n",
              "      <td>4</td>\n",
              "      <td>R$ 27,000.00</td>\n",
              "    </tr>\n",
              "    <tr>\n",
              "      <th>8</th>\n",
              "      <td>Toyota</td>\n",
              "      <td>Branco</td>\n",
              "      <td>60000</td>\n",
              "      <td>4</td>\n",
              "      <td>R$ 26,250.00</td>\n",
              "    </tr>\n",
              "    <tr>\n",
              "      <th>9</th>\n",
              "      <td>Nissan</td>\n",
              "      <td>Branco</td>\n",
              "      <td>31600</td>\n",
              "      <td>4</td>\n",
              "      <td>R$ 19,700.00</td>\n",
              "    </tr>\n",
              "  </tbody>\n",
              "</table>\n",
              "</div>"
            ],
            "text/plain": [
              "  Fabricante       Cor  Quilometragem  Portas          Preco\n",
              "0     Toyota    Branco         150043       4   R$ 24,000.00\n",
              "1      Honda  Vermelho          87899       4   R$ 25,000.00\n",
              "2     Toyota      Azul          32549       3   R$ 27,000.00\n",
              "3        BMW     Preto          11179       5  R$ 122,000.00\n",
              "4     Nissan    Branco         213095       4   R$ 13,500.00\n",
              "5     Toyota     Verde          99213       4   R$ 14,500.00\n",
              "6      Honda      Azul          45698       4   R$ 17,500.00\n",
              "7      Honda      Azul          54738       4   R$ 27,000.00\n",
              "8     Toyota    Branco          60000       4   R$ 26,250.00\n",
              "9     Nissan    Branco          31600       4   R$ 19,700.00"
            ]
          },
          "execution_count": 10,
          "metadata": {},
          "output_type": "execute_result"
        }
      ],
      "source": [
        "# Verifique os diferentes tipos de dados do DataFrame\n",
        "carros"
      ]
    },
    {
      "cell_type": "code",
      "execution_count": 11,
      "metadata": {
        "id": "OE_yasEoXb17"
      },
      "outputs": [
        {
          "data": {
            "text/html": [
              "<div>\n",
              "<style scoped>\n",
              "    .dataframe tbody tr th:only-of-type {\n",
              "        vertical-align: middle;\n",
              "    }\n",
              "\n",
              "    .dataframe tbody tr th {\n",
              "        vertical-align: top;\n",
              "    }\n",
              "\n",
              "    .dataframe thead th {\n",
              "        text-align: right;\n",
              "    }\n",
              "</style>\n",
              "<table border=\"1\" class=\"dataframe\">\n",
              "  <thead>\n",
              "    <tr style=\"text-align: right;\">\n",
              "      <th></th>\n",
              "      <th>Quilometragem</th>\n",
              "      <th>Portas</th>\n",
              "    </tr>\n",
              "  </thead>\n",
              "  <tbody>\n",
              "    <tr>\n",
              "      <th>count</th>\n",
              "      <td>10.000000</td>\n",
              "      <td>10.000000</td>\n",
              "    </tr>\n",
              "    <tr>\n",
              "      <th>mean</th>\n",
              "      <td>78601.400000</td>\n",
              "      <td>4.000000</td>\n",
              "    </tr>\n",
              "    <tr>\n",
              "      <th>std</th>\n",
              "      <td>61983.471735</td>\n",
              "      <td>0.471405</td>\n",
              "    </tr>\n",
              "    <tr>\n",
              "      <th>min</th>\n",
              "      <td>11179.000000</td>\n",
              "      <td>3.000000</td>\n",
              "    </tr>\n",
              "    <tr>\n",
              "      <th>25%</th>\n",
              "      <td>35836.250000</td>\n",
              "      <td>4.000000</td>\n",
              "    </tr>\n",
              "    <tr>\n",
              "      <th>50%</th>\n",
              "      <td>57369.000000</td>\n",
              "      <td>4.000000</td>\n",
              "    </tr>\n",
              "    <tr>\n",
              "      <th>75%</th>\n",
              "      <td>96384.500000</td>\n",
              "      <td>4.000000</td>\n",
              "    </tr>\n",
              "    <tr>\n",
              "      <th>max</th>\n",
              "      <td>213095.000000</td>\n",
              "      <td>5.000000</td>\n",
              "    </tr>\n",
              "  </tbody>\n",
              "</table>\n",
              "</div>"
            ],
            "text/plain": [
              "       Quilometragem     Portas\n",
              "count      10.000000  10.000000\n",
              "mean    78601.400000   4.000000\n",
              "std     61983.471735   0.471405\n",
              "min     11179.000000   3.000000\n",
              "25%     35836.250000   4.000000\n",
              "50%     57369.000000   4.000000\n",
              "75%     96384.500000   4.000000\n",
              "max    213095.000000   5.000000"
            ]
          },
          "execution_count": 11,
          "metadata": {},
          "output_type": "execute_result"
        }
      ],
      "source": [
        "# Verifique as informações estatísticas do DataFrame usando .describe()\n",
        "carros.describe()"
      ]
    },
    {
      "cell_type": "code",
      "execution_count": 12,
      "metadata": {
        "id": "L0aaQ8IFXqWL"
      },
      "outputs": [
        {
          "name": "stdout",
          "output_type": "stream",
          "text": [
            "<class 'pandas.core.frame.DataFrame'>\n",
            "RangeIndex: 10 entries, 0 to 9\n",
            "Data columns (total 5 columns):\n",
            " #   Column         Non-Null Count  Dtype \n",
            "---  ------         --------------  ----- \n",
            " 0   Fabricante     10 non-null     object\n",
            " 1   Cor            10 non-null     object\n",
            " 2   Quilometragem  10 non-null     int64 \n",
            " 3   Portas         10 non-null     int64 \n",
            " 4   Preco          10 non-null     object\n",
            "dtypes: int64(2), object(3)\n",
            "memory usage: 528.0+ bytes\n"
          ]
        }
      ],
      "source": [
        "# Liste mais informações sobre o DataFrame usando a função info()\n",
        "carros.info()"
      ]
    },
    {
      "cell_type": "code",
      "execution_count": 13,
      "metadata": {
        "id": "khmCWEnFYHyN"
      },
      "outputs": [
        {
          "data": {
            "text/plain": [
              "Index(['Fabricante', 'Cor', 'Quilometragem', 'Portas', 'Preco'], dtype='object')"
            ]
          },
          "execution_count": 13,
          "metadata": {},
          "output_type": "execute_result"
        }
      ],
      "source": [
        "# Liste o nome de todas as colunas do DataFrame\n",
        "carros.columns"
      ]
    },
    {
      "cell_type": "code",
      "execution_count": 14,
      "metadata": {
        "id": "JxAGoawHYM3w"
      },
      "outputs": [
        {
          "data": {
            "text/html": [
              "<div>\n",
              "<style scoped>\n",
              "    .dataframe tbody tr th:only-of-type {\n",
              "        vertical-align: middle;\n",
              "    }\n",
              "\n",
              "    .dataframe tbody tr th {\n",
              "        vertical-align: top;\n",
              "    }\n",
              "\n",
              "    .dataframe thead th {\n",
              "        text-align: right;\n",
              "    }\n",
              "</style>\n",
              "<table border=\"1\" class=\"dataframe\">\n",
              "  <thead>\n",
              "    <tr style=\"text-align: right;\">\n",
              "      <th></th>\n",
              "      <th>Fabricante</th>\n",
              "      <th>Cor</th>\n",
              "      <th>Quilometragem</th>\n",
              "      <th>Portas</th>\n",
              "      <th>Preco</th>\n",
              "    </tr>\n",
              "  </thead>\n",
              "  <tbody>\n",
              "    <tr>\n",
              "      <th>0</th>\n",
              "      <td>Toyota</td>\n",
              "      <td>Branco</td>\n",
              "      <td>150043</td>\n",
              "      <td>4</td>\n",
              "      <td>R$ 24,000.00</td>\n",
              "    </tr>\n",
              "    <tr>\n",
              "      <th>1</th>\n",
              "      <td>Honda</td>\n",
              "      <td>Vermelho</td>\n",
              "      <td>87899</td>\n",
              "      <td>4</td>\n",
              "      <td>R$ 25,000.00</td>\n",
              "    </tr>\n",
              "    <tr>\n",
              "      <th>2</th>\n",
              "      <td>Toyota</td>\n",
              "      <td>Azul</td>\n",
              "      <td>32549</td>\n",
              "      <td>3</td>\n",
              "      <td>R$ 27,000.00</td>\n",
              "    </tr>\n",
              "    <tr>\n",
              "      <th>3</th>\n",
              "      <td>BMW</td>\n",
              "      <td>Preto</td>\n",
              "      <td>11179</td>\n",
              "      <td>5</td>\n",
              "      <td>R$ 122,000.00</td>\n",
              "    </tr>\n",
              "    <tr>\n",
              "      <th>4</th>\n",
              "      <td>Nissan</td>\n",
              "      <td>Branco</td>\n",
              "      <td>213095</td>\n",
              "      <td>4</td>\n",
              "      <td>R$ 13,500.00</td>\n",
              "    </tr>\n",
              "  </tbody>\n",
              "</table>\n",
              "</div>"
            ],
            "text/plain": [
              "  Fabricante       Cor  Quilometragem  Portas          Preco\n",
              "0     Toyota    Branco         150043       4   R$ 24,000.00\n",
              "1      Honda  Vermelho          87899       4   R$ 25,000.00\n",
              "2     Toyota      Azul          32549       3   R$ 27,000.00\n",
              "3        BMW     Preto          11179       5  R$ 122,000.00\n",
              "4     Nissan    Branco         213095       4   R$ 13,500.00"
            ]
          },
          "execution_count": 14,
          "metadata": {},
          "output_type": "execute_result"
        }
      ],
      "source": [
        "# Exiba apenas as 5 primeiras linhas do DataFrame\n",
        "carros.head()"
      ]
    },
    {
      "cell_type": "code",
      "execution_count": 15,
      "metadata": {
        "id": "yBfoLbgJYUr_"
      },
      "outputs": [
        {
          "data": {
            "text/html": [
              "<div>\n",
              "<style scoped>\n",
              "    .dataframe tbody tr th:only-of-type {\n",
              "        vertical-align: middle;\n",
              "    }\n",
              "\n",
              "    .dataframe tbody tr th {\n",
              "        vertical-align: top;\n",
              "    }\n",
              "\n",
              "    .dataframe thead th {\n",
              "        text-align: right;\n",
              "    }\n",
              "</style>\n",
              "<table border=\"1\" class=\"dataframe\">\n",
              "  <thead>\n",
              "    <tr style=\"text-align: right;\">\n",
              "      <th></th>\n",
              "      <th>Fabricante</th>\n",
              "      <th>Cor</th>\n",
              "      <th>Quilometragem</th>\n",
              "      <th>Portas</th>\n",
              "      <th>Preco</th>\n",
              "    </tr>\n",
              "  </thead>\n",
              "  <tbody>\n",
              "    <tr>\n",
              "      <th>5</th>\n",
              "      <td>Toyota</td>\n",
              "      <td>Verde</td>\n",
              "      <td>99213</td>\n",
              "      <td>4</td>\n",
              "      <td>R$ 14,500.00</td>\n",
              "    </tr>\n",
              "    <tr>\n",
              "      <th>6</th>\n",
              "      <td>Honda</td>\n",
              "      <td>Azul</td>\n",
              "      <td>45698</td>\n",
              "      <td>4</td>\n",
              "      <td>R$ 17,500.00</td>\n",
              "    </tr>\n",
              "    <tr>\n",
              "      <th>7</th>\n",
              "      <td>Honda</td>\n",
              "      <td>Azul</td>\n",
              "      <td>54738</td>\n",
              "      <td>4</td>\n",
              "      <td>R$ 27,000.00</td>\n",
              "    </tr>\n",
              "    <tr>\n",
              "      <th>8</th>\n",
              "      <td>Toyota</td>\n",
              "      <td>Branco</td>\n",
              "      <td>60000</td>\n",
              "      <td>4</td>\n",
              "      <td>R$ 26,250.00</td>\n",
              "    </tr>\n",
              "    <tr>\n",
              "      <th>9</th>\n",
              "      <td>Nissan</td>\n",
              "      <td>Branco</td>\n",
              "      <td>31600</td>\n",
              "      <td>4</td>\n",
              "      <td>R$ 19,700.00</td>\n",
              "    </tr>\n",
              "  </tbody>\n",
              "</table>\n",
              "</div>"
            ],
            "text/plain": [
              "  Fabricante     Cor  Quilometragem  Portas         Preco\n",
              "5     Toyota   Verde          99213       4  R$ 14,500.00\n",
              "6      Honda    Azul          45698       4  R$ 17,500.00\n",
              "7      Honda    Azul          54738       4  R$ 27,000.00\n",
              "8     Toyota  Branco          60000       4  R$ 26,250.00\n",
              "9     Nissan  Branco          31600       4  R$ 19,700.00"
            ]
          },
          "execution_count": 15,
          "metadata": {},
          "output_type": "execute_result"
        }
      ],
      "source": [
        "# Exiba as 5 últimas linhas do DataFrame\n",
        "carros.tail()"
      ]
    },
    {
      "cell_type": "code",
      "execution_count": 16,
      "metadata": {
        "id": "dUS_98yBYXo8"
      },
      "outputs": [
        {
          "data": {
            "text/plain": [
              "Fabricante                 BMW\n",
              "Cor                      Preto\n",
              "Quilometragem            11179\n",
              "Portas                       5\n",
              "Preco            R$ 122,000.00\n",
              "Name: 3, dtype: object"
            ]
          },
          "execution_count": 16,
          "metadata": {},
          "output_type": "execute_result"
        }
      ],
      "source": [
        "# Utilize .loc para selecionar os dados da linha de índice 3 do DataFrame\n",
        "carros.loc[3]"
      ]
    },
    {
      "cell_type": "code",
      "execution_count": 17,
      "metadata": {
        "id": "rSTtiZZMYiKx"
      },
      "outputs": [
        {
          "data": {
            "text/plain": [
              "Fabricante             Nissan\n",
              "Cor                    Branco\n",
              "Quilometragem          213095\n",
              "Portas                      4\n",
              "Preco            R$ 13,500.00\n",
              "Name: 4, dtype: object"
            ]
          },
          "execution_count": 17,
          "metadata": {},
          "output_type": "execute_result"
        }
      ],
      "source": [
        "# Utilize .iloc para exibir os dados que estão na 5° posição do DataFrame\n",
        "carros.iloc[4]"
      ]
    },
    {
      "cell_type": "code",
      "execution_count": 23,
      "metadata": {
        "id": "GqvHWQgKYs8T"
      },
      "outputs": [
        {
          "data": {
            "text/plain": [
              "0    150043\n",
              "1     87899\n",
              "2     32549\n",
              "3     11179\n",
              "4    213095\n",
              "5     99213\n",
              "6     45698\n",
              "7     54738\n",
              "8     60000\n",
              "9     31600\n",
              "Name: Quilometragem, dtype: int64"
            ]
          },
          "execution_count": 23,
          "metadata": {},
          "output_type": "execute_result"
        }
      ],
      "source": [
        "# Selecione a coluna Quilometragem\n",
        "carros[\"Quilometragem\"]"
      ]
    },
    {
      "cell_type": "code",
      "execution_count": 25,
      "metadata": {
        "id": "v2hf7yI0ZB-s"
      },
      "outputs": [
        {
          "data": {
            "text/html": [
              "<div>\n",
              "<style scoped>\n",
              "    .dataframe tbody tr th:only-of-type {\n",
              "        vertical-align: middle;\n",
              "    }\n",
              "\n",
              "    .dataframe tbody tr th {\n",
              "        vertical-align: top;\n",
              "    }\n",
              "\n",
              "    .dataframe thead th {\n",
              "        text-align: right;\n",
              "    }\n",
              "</style>\n",
              "<table border=\"1\" class=\"dataframe\">\n",
              "  <thead>\n",
              "    <tr style=\"text-align: right;\">\n",
              "      <th></th>\n",
              "      <th>Fabricante</th>\n",
              "      <th>Cor</th>\n",
              "      <th>Quilometragem</th>\n",
              "      <th>Portas</th>\n",
              "      <th>Preco</th>\n",
              "    </tr>\n",
              "  </thead>\n",
              "  <tbody>\n",
              "    <tr>\n",
              "      <th>0</th>\n",
              "      <td>Toyota</td>\n",
              "      <td>Branco</td>\n",
              "      <td>150043</td>\n",
              "      <td>4</td>\n",
              "      <td>R$ 24,000.00</td>\n",
              "    </tr>\n",
              "    <tr>\n",
              "      <th>4</th>\n",
              "      <td>Nissan</td>\n",
              "      <td>Branco</td>\n",
              "      <td>213095</td>\n",
              "      <td>4</td>\n",
              "      <td>R$ 13,500.00</td>\n",
              "    </tr>\n",
              "  </tbody>\n",
              "</table>\n",
              "</div>"
            ],
            "text/plain": [
              "  Fabricante     Cor  Quilometragem  Portas         Preco\n",
              "0     Toyota  Branco         150043       4  R$ 24,000.00\n",
              "4     Nissan  Branco         213095       4  R$ 13,500.00"
            ]
          },
          "execution_count": 25,
          "metadata": {},
          "output_type": "execute_result"
        }
      ],
      "source": [
        "# Liste os carros que possuem uma quilometragem maior que 100.000\n",
        "quilometragemFiltrada = carros[carros[\"Quilometragem\"] > 100000]\n",
        "quilometragemFiltrada"
      ]
    },
    {
      "cell_type": "code",
      "execution_count": null,
      "metadata": {
        "id": "EACSY4tJZJx-"
      },
      "outputs": [],
      "source": [
        "# Agrupe as colunas pelo fabricante e calcule a média das outras colunas\n"
      ]
    },
    {
      "cell_type": "code",
      "execution_count": 22,
      "metadata": {
        "id": "EPj07W4bZSIt"
      },
      "outputs": [],
      "source": [
        "# Converta a coluna Preco para dados numéricos \"float64\""
      ]
    }
  ],
  "metadata": {
    "colab": {
      "name": "pandas-exercicios",
      "provenance": []
    },
    "kernelspec": {
      "display_name": "Python 3",
      "name": "python3"
    },
    "language_info": {
      "codemirror_mode": {
        "name": "ipython",
        "version": 3
      },
      "file_extension": ".py",
      "mimetype": "text/x-python",
      "name": "python",
      "nbconvert_exporter": "python",
      "pygments_lexer": "ipython3",
      "version": "3.10.12"
    }
  },
  "nbformat": 4,
  "nbformat_minor": 0
}
