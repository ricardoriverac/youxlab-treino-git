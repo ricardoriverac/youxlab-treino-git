{
  "cells": [
    {
      "cell_type": "code",
      "execution_count": 5,
      "metadata": {
        "id": "X1Q0xVaxVr9V"
      },
      "outputs": [
        {
          "data": {
            "text/html": [
              "<div>\n",
              "<style scoped>\n",
              "    .dataframe tbody tr th:only-of-type {\n",
              "        vertical-align: middle;\n",
              "    }\n",
              "\n",
              "    .dataframe tbody tr th {\n",
              "        vertical-align: top;\n",
              "    }\n",
              "\n",
              "    .dataframe thead th {\n",
              "        text-align: right;\n",
              "    }\n",
              "</style>\n",
              "<table border=\"1\" class=\"dataframe\">\n",
              "  <thead>\n",
              "    <tr style=\"text-align: right;\">\n",
              "      <th></th>\n",
              "      <th>Fabricante</th>\n",
              "      <th>Cor</th>\n",
              "      <th>Quilometragem</th>\n",
              "      <th>Portas</th>\n",
              "      <th>Preco</th>\n",
              "    </tr>\n",
              "  </thead>\n",
              "  <tbody>\n",
              "    <tr>\n",
              "      <th>0</th>\n",
              "      <td>Toyota</td>\n",
              "      <td>Branco</td>\n",
              "      <td>150043</td>\n",
              "      <td>4</td>\n",
              "      <td>R$ 24,000.00</td>\n",
              "    </tr>\n",
              "    <tr>\n",
              "      <th>1</th>\n",
              "      <td>Honda</td>\n",
              "      <td>Vermelho</td>\n",
              "      <td>87899</td>\n",
              "      <td>4</td>\n",
              "      <td>R$ 25,000.00</td>\n",
              "    </tr>\n",
              "    <tr>\n",
              "      <th>2</th>\n",
              "      <td>Toyota</td>\n",
              "      <td>Azul</td>\n",
              "      <td>32549</td>\n",
              "      <td>3</td>\n",
              "      <td>R$ 27,000.00</td>\n",
              "    </tr>\n",
              "    <tr>\n",
              "      <th>3</th>\n",
              "      <td>BMW</td>\n",
              "      <td>Preto</td>\n",
              "      <td>11179</td>\n",
              "      <td>5</td>\n",
              "      <td>R$ 122,000.00</td>\n",
              "    </tr>\n",
              "    <tr>\n",
              "      <th>4</th>\n",
              "      <td>Nissan</td>\n",
              "      <td>Branco</td>\n",
              "      <td>213095</td>\n",
              "      <td>4</td>\n",
              "      <td>R$ 13,500.00</td>\n",
              "    </tr>\n",
              "    <tr>\n",
              "      <th>5</th>\n",
              "      <td>Toyota</td>\n",
              "      <td>Verde</td>\n",
              "      <td>99213</td>\n",
              "      <td>4</td>\n",
              "      <td>R$ 14,500.00</td>\n",
              "    </tr>\n",
              "    <tr>\n",
              "      <th>6</th>\n",
              "      <td>Honda</td>\n",
              "      <td>Azul</td>\n",
              "      <td>45698</td>\n",
              "      <td>4</td>\n",
              "      <td>R$ 17,500.00</td>\n",
              "    </tr>\n",
              "    <tr>\n",
              "      <th>7</th>\n",
              "      <td>Honda</td>\n",
              "      <td>Azul</td>\n",
              "      <td>54738</td>\n",
              "      <td>4</td>\n",
              "      <td>R$ 27,000.00</td>\n",
              "    </tr>\n",
              "    <tr>\n",
              "      <th>8</th>\n",
              "      <td>Toyota</td>\n",
              "      <td>Branco</td>\n",
              "      <td>60000</td>\n",
              "      <td>4</td>\n",
              "      <td>R$ 26,250.00</td>\n",
              "    </tr>\n",
              "    <tr>\n",
              "      <th>9</th>\n",
              "      <td>Nissan</td>\n",
              "      <td>Branco</td>\n",
              "      <td>31600</td>\n",
              "      <td>4</td>\n",
              "      <td>R$ 19,700.00</td>\n",
              "    </tr>\n",
              "  </tbody>\n",
              "</table>\n",
              "</div>"
            ],
            "text/plain": [
              "  Fabricante       Cor  Quilometragem  Portas          Preco\n",
              "0     Toyota    Branco         150043       4   R$ 24,000.00\n",
              "1      Honda  Vermelho          87899       4   R$ 25,000.00\n",
              "2     Toyota      Azul          32549       3   R$ 27,000.00\n",
              "3        BMW     Preto          11179       5  R$ 122,000.00\n",
              "4     Nissan    Branco         213095       4   R$ 13,500.00\n",
              "5     Toyota     Verde          99213       4   R$ 14,500.00\n",
              "6      Honda      Azul          45698       4   R$ 17,500.00\n",
              "7      Honda      Azul          54738       4   R$ 27,000.00\n",
              "8     Toyota    Branco          60000       4   R$ 26,250.00\n",
              "9     Nissan    Branco          31600       4   R$ 19,700.00"
            ]
          },
          "execution_count": 5,
          "metadata": {},
          "output_type": "execute_result"
        }
      ],
      "source": [
        "import pandas as pd\n",
        "dados = pd.read_csv('/home/youx/youxlab-treino-git/aula.ipynb/venda-de-carros (1).csv')\n",
        "dados"
      ]
    },
    {
      "cell_type": "code",
      "execution_count": 6,
      "metadata": {
        "id": "rlErNlrPWo_7"
      },
      "outputs": [],
      "source": [
        "# Crie uma Série com 3 estados diferentes\n",
        "series1 = pd.Series(['Rio de Janeiro', 'Minas Gerais', 'Paraná'])\n"
      ]
    },
    {
      "cell_type": "code",
      "execution_count": 8,
      "metadata": {
        "id": "FhyqncTiWuxA"
      },
      "outputs": [
        {
          "data": {
            "text/plain": [
              "0    Rio de Janeiro\n",
              "1      Minas Gerais\n",
              "2            Paraná\n",
              "dtype: object"
            ]
          },
          "execution_count": 8,
          "metadata": {},
          "output_type": "execute_result"
        }
      ],
      "source": [
        "# Visualize os dados criados na Série\n",
        "series1 "
      ]
    },
    {
      "cell_type": "code",
      "execution_count": 9,
      "metadata": {
        "id": "IH4Tb4fhW2VB"
      },
      "outputs": [],
      "source": [
        "# Crie uma Série com 3 tipos de fabricantes de carro\n",
        "series2 = pd.Series(['Mercedes', 'Bugatti', 'Ferrari'])"
      ]
    },
    {
      "cell_type": "code",
      "execution_count": 14,
      "metadata": {
        "id": "YAugkW1EW9EI"
      },
      "outputs": [
        {
          "data": {
            "text/html": [
              "<div>\n",
              "<style scoped>\n",
              "    .dataframe tbody tr th:only-of-type {\n",
              "        vertical-align: middle;\n",
              "    }\n",
              "\n",
              "    .dataframe tbody tr th {\n",
              "        vertical-align: top;\n",
              "    }\n",
              "\n",
              "    .dataframe thead th {\n",
              "        text-align: right;\n",
              "    }\n",
              "</style>\n",
              "<table border=\"1\" class=\"dataframe\">\n",
              "  <thead>\n",
              "    <tr style=\"text-align: right;\">\n",
              "      <th></th>\n",
              "      <th>Estados do Brasil</th>\n",
              "      <th>Marcas de Carro</th>\n",
              "    </tr>\n",
              "  </thead>\n",
              "  <tbody>\n",
              "    <tr>\n",
              "      <th>Estado 1</th>\n",
              "      <td>Rio de Janeiro</td>\n",
              "      <td>NaN</td>\n",
              "    </tr>\n",
              "    <tr>\n",
              "      <th>Estado 2</th>\n",
              "      <td>Minas Gerais</td>\n",
              "      <td>NaN</td>\n",
              "    </tr>\n",
              "    <tr>\n",
              "      <th>Estado 3</th>\n",
              "      <td>Paraná</td>\n",
              "      <td>NaN</td>\n",
              "    </tr>\n",
              "    <tr>\n",
              "      <th>Carro 1</th>\n",
              "      <td>NaN</td>\n",
              "      <td>Mercedes</td>\n",
              "    </tr>\n",
              "    <tr>\n",
              "      <th>Carro 2</th>\n",
              "      <td>NaN</td>\n",
              "      <td>Bugatti</td>\n",
              "    </tr>\n",
              "    <tr>\n",
              "      <th>Carro 3</th>\n",
              "      <td>NaN</td>\n",
              "      <td>Ferrari</td>\n",
              "    </tr>\n",
              "  </tbody>\n",
              "</table>\n",
              "</div>"
            ],
            "text/plain": [
              "         Estados do Brasil Marcas de Carro\n",
              "Estado 1    Rio de Janeiro             NaN\n",
              "Estado 2      Minas Gerais             NaN\n",
              "Estado 3            Paraná             NaN\n",
              "Carro 1                NaN        Mercedes\n",
              "Carro 2                NaN         Bugatti\n",
              "Carro 3                NaN         Ferrari"
            ]
          },
          "execution_count": 14,
          "metadata": {},
          "output_type": "execute_result"
        }
      ],
      "source": [
        "# Crie um DataFrame combinando as duas Séries\n",
        "series1 = pd.Series(['Rio de Janeiro', 'Minas Gerais', 'Paraná'], index=['Estado 1', 'Estado 2', 'Estado 3'], name = 'Estados do Brasil')\n",
        "series2 = pd.Series(['Mercedes', 'Bugatti', 'Ferrari'], index=['Carro 1', 'Carro 2', 'Carro 3'], name = 'Marcas de Carro')\n",
        "\n",
        "dados_series = pd.concat([series1, series2], axis=1)\n",
        "dados_series"
      ]
    },
    {
      "cell_type": "code",
      "execution_count": 21,
      "metadata": {
        "id": "GvlkmBi3XGi1"
      },
      "outputs": [
        {
          "data": {
            "text/plain": [
              "pandas.core.frame.DataFrame"
            ]
          },
          "execution_count": 21,
          "metadata": {},
          "output_type": "execute_result"
        }
      ],
      "source": [
        "# Importe o csv \"venda-de-carros.csv\" em visualize o DataFrame\n",
        "dados = pd.read_csv('/home/youx/youxlab-treino-git/aula.ipynb/venda-de-carros (1).csv')\n"
      ]
    },
    {
      "cell_type": "code",
      "execution_count": 22,
      "metadata": {
        "id": "rI5eHevAXTUB"
      },
      "outputs": [
        {
          "data": {
            "text/plain": [
              "pandas.core.frame.DataFrame"
            ]
          },
          "execution_count": 22,
          "metadata": {},
          "output_type": "execute_result"
        }
      ],
      "source": [
        "# Verifique os diferentes tipos de dados do DataFrame\n",
        "dados = pd.read_csv('/home/youx/youxlab-treino-git/aula.ipynb/venda-de-carros (1).csv')\n",
        "type(dados)\n"
      ]
    },
    {
      "cell_type": "code",
      "execution_count": 27,
      "metadata": {
        "id": "OE_yasEoXb17"
      },
      "outputs": [
        {
          "data": {
            "text/html": [
              "<div>\n",
              "<style scoped>\n",
              "    .dataframe tbody tr th:only-of-type {\n",
              "        vertical-align: middle;\n",
              "    }\n",
              "\n",
              "    .dataframe tbody tr th {\n",
              "        vertical-align: top;\n",
              "    }\n",
              "\n",
              "    .dataframe thead th {\n",
              "        text-align: right;\n",
              "    }\n",
              "</style>\n",
              "<table border=\"1\" class=\"dataframe\">\n",
              "  <thead>\n",
              "    <tr style=\"text-align: right;\">\n",
              "      <th></th>\n",
              "      <th>Quilometragem</th>\n",
              "      <th>Portas</th>\n",
              "    </tr>\n",
              "  </thead>\n",
              "  <tbody>\n",
              "    <tr>\n",
              "      <th>count</th>\n",
              "      <td>10.000000</td>\n",
              "      <td>10.000000</td>\n",
              "    </tr>\n",
              "    <tr>\n",
              "      <th>mean</th>\n",
              "      <td>78601.400000</td>\n",
              "      <td>4.000000</td>\n",
              "    </tr>\n",
              "    <tr>\n",
              "      <th>std</th>\n",
              "      <td>61983.471735</td>\n",
              "      <td>0.471405</td>\n",
              "    </tr>\n",
              "    <tr>\n",
              "      <th>min</th>\n",
              "      <td>11179.000000</td>\n",
              "      <td>3.000000</td>\n",
              "    </tr>\n",
              "    <tr>\n",
              "      <th>25%</th>\n",
              "      <td>35836.250000</td>\n",
              "      <td>4.000000</td>\n",
              "    </tr>\n",
              "    <tr>\n",
              "      <th>50%</th>\n",
              "      <td>57369.000000</td>\n",
              "      <td>4.000000</td>\n",
              "    </tr>\n",
              "    <tr>\n",
              "      <th>75%</th>\n",
              "      <td>96384.500000</td>\n",
              "      <td>4.000000</td>\n",
              "    </tr>\n",
              "    <tr>\n",
              "      <th>max</th>\n",
              "      <td>213095.000000</td>\n",
              "      <td>5.000000</td>\n",
              "    </tr>\n",
              "  </tbody>\n",
              "</table>\n",
              "</div>"
            ],
            "text/plain": [
              "       Quilometragem     Portas\n",
              "count      10.000000  10.000000\n",
              "mean    78601.400000   4.000000\n",
              "std     61983.471735   0.471405\n",
              "min     11179.000000   3.000000\n",
              "25%     35836.250000   4.000000\n",
              "50%     57369.000000   4.000000\n",
              "75%     96384.500000   4.000000\n",
              "max    213095.000000   5.000000"
            ]
          },
          "execution_count": 27,
          "metadata": {},
          "output_type": "execute_result"
        }
      ],
      "source": [
        "# Verifique as informações estatísticas do DataFrame usando .describe()\n",
        "dados = pd.read_csv('/home/youx/youxlab-treino-git/aula.ipynb/venda-de-carros (1).csv').describe()\n",
        "dados"
      ]
    },
    {
      "cell_type": "code",
      "execution_count": 28,
      "metadata": {
        "id": "L0aaQ8IFXqWL"
      },
      "outputs": [
        {
          "name": "stdout",
          "output_type": "stream",
          "text": [
            "<class 'pandas.core.frame.DataFrame'>\n",
            "RangeIndex: 10 entries, 0 to 9\n",
            "Data columns (total 5 columns):\n",
            " #   Column         Non-Null Count  Dtype \n",
            "---  ------         --------------  ----- \n",
            " 0   Fabricante     10 non-null     object\n",
            " 1   Cor            10 non-null     object\n",
            " 2   Quilometragem  10 non-null     int64 \n",
            " 3   Portas         10 non-null     int64 \n",
            " 4   Preco          10 non-null     object\n",
            "dtypes: int64(2), object(3)\n",
            "memory usage: 528.0+ bytes\n"
          ]
        }
      ],
      "source": [
        "# Liste mais informações sobre o DataFrame usando a função info()\n",
        "dados = pd.read_csv('/home/youx/youxlab-treino-git/aula.ipynb/venda-de-carros (1).csv').info()\n",
        "dados"
      ]
    },
    {
      "cell_type": "code",
      "execution_count": 30,
      "metadata": {
        "id": "khmCWEnFYHyN"
      },
      "outputs": [
        {
          "data": {
            "text/plain": [
              "Index(['Fabricante', 'Cor', 'Quilometragem', 'Portas', 'Preco'], dtype='object')"
            ]
          },
          "execution_count": 30,
          "metadata": {},
          "output_type": "execute_result"
        }
      ],
      "source": [
        "# Liste o nome de todas as colunas do DataFrame\n",
        "dados = pd.read_csv('/home/youx/youxlab-treino-git/aula.ipynb/venda-de-carros (1).csv').columns\n",
        "dados"
      ]
    },
    {
      "cell_type": "code",
      "execution_count": 44,
      "metadata": {
        "id": "JxAGoawHYM3w"
      },
      "outputs": [
        {
          "data": {
            "text/html": [
              "<div>\n",
              "<style scoped>\n",
              "    .dataframe tbody tr th:only-of-type {\n",
              "        vertical-align: middle;\n",
              "    }\n",
              "\n",
              "    .dataframe tbody tr th {\n",
              "        vertical-align: top;\n",
              "    }\n",
              "\n",
              "    .dataframe thead th {\n",
              "        text-align: right;\n",
              "    }\n",
              "</style>\n",
              "<table border=\"1\" class=\"dataframe\">\n",
              "  <thead>\n",
              "    <tr style=\"text-align: right;\">\n",
              "      <th></th>\n",
              "      <th>Fabricante</th>\n",
              "      <th>Cor</th>\n",
              "      <th>Quilometragem</th>\n",
              "      <th>Portas</th>\n",
              "      <th>Preco</th>\n",
              "    </tr>\n",
              "  </thead>\n",
              "  <tbody>\n",
              "    <tr>\n",
              "      <th>0</th>\n",
              "      <td>Toyota</td>\n",
              "      <td>Branco</td>\n",
              "      <td>150043</td>\n",
              "      <td>4</td>\n",
              "      <td>R$ 24,000.00</td>\n",
              "    </tr>\n",
              "    <tr>\n",
              "      <th>1</th>\n",
              "      <td>Honda</td>\n",
              "      <td>Vermelho</td>\n",
              "      <td>87899</td>\n",
              "      <td>4</td>\n",
              "      <td>R$ 25,000.00</td>\n",
              "    </tr>\n",
              "    <tr>\n",
              "      <th>2</th>\n",
              "      <td>Toyota</td>\n",
              "      <td>Azul</td>\n",
              "      <td>32549</td>\n",
              "      <td>3</td>\n",
              "      <td>R$ 27,000.00</td>\n",
              "    </tr>\n",
              "    <tr>\n",
              "      <th>3</th>\n",
              "      <td>BMW</td>\n",
              "      <td>Preto</td>\n",
              "      <td>11179</td>\n",
              "      <td>5</td>\n",
              "      <td>R$ 122,000.00</td>\n",
              "    </tr>\n",
              "    <tr>\n",
              "      <th>4</th>\n",
              "      <td>Nissan</td>\n",
              "      <td>Branco</td>\n",
              "      <td>213095</td>\n",
              "      <td>4</td>\n",
              "      <td>R$ 13,500.00</td>\n",
              "    </tr>\n",
              "  </tbody>\n",
              "</table>\n",
              "</div>"
            ],
            "text/plain": [
              "  Fabricante       Cor  Quilometragem  Portas          Preco\n",
              "0     Toyota    Branco         150043       4   R$ 24,000.00\n",
              "1      Honda  Vermelho          87899       4   R$ 25,000.00\n",
              "2     Toyota      Azul          32549       3   R$ 27,000.00\n",
              "3        BMW     Preto          11179       5  R$ 122,000.00\n",
              "4     Nissan    Branco         213095       4   R$ 13,500.00"
            ]
          },
          "execution_count": 44,
          "metadata": {},
          "output_type": "execute_result"
        }
      ],
      "source": [
        "# Exiba apenas as 5 primeiras linhas do DataFrame\n",
        "dados = pd.read_csv('/home/youx/youxlab-treino-git/aula.ipynb/venda-de-carros (1).csv')\n",
        "dados.head()"
      ]
    },
    {
      "cell_type": "code",
      "execution_count": 40,
      "metadata": {
        "id": "yBfoLbgJYUr_"
      },
      "outputs": [
        {
          "data": {
            "text/html": [
              "<div>\n",
              "<style scoped>\n",
              "    .dataframe tbody tr th:only-of-type {\n",
              "        vertical-align: middle;\n",
              "    }\n",
              "\n",
              "    .dataframe tbody tr th {\n",
              "        vertical-align: top;\n",
              "    }\n",
              "\n",
              "    .dataframe thead th {\n",
              "        text-align: right;\n",
              "    }\n",
              "</style>\n",
              "<table border=\"1\" class=\"dataframe\">\n",
              "  <thead>\n",
              "    <tr style=\"text-align: right;\">\n",
              "      <th></th>\n",
              "      <th>Fabricante</th>\n",
              "      <th>Cor</th>\n",
              "      <th>Quilometragem</th>\n",
              "      <th>Portas</th>\n",
              "      <th>Preco</th>\n",
              "    </tr>\n",
              "  </thead>\n",
              "  <tbody>\n",
              "    <tr>\n",
              "      <th>5</th>\n",
              "      <td>Toyota</td>\n",
              "      <td>Verde</td>\n",
              "      <td>99213</td>\n",
              "      <td>4</td>\n",
              "      <td>R$ 14,500.00</td>\n",
              "    </tr>\n",
              "    <tr>\n",
              "      <th>6</th>\n",
              "      <td>Honda</td>\n",
              "      <td>Azul</td>\n",
              "      <td>45698</td>\n",
              "      <td>4</td>\n",
              "      <td>R$ 17,500.00</td>\n",
              "    </tr>\n",
              "    <tr>\n",
              "      <th>7</th>\n",
              "      <td>Honda</td>\n",
              "      <td>Azul</td>\n",
              "      <td>54738</td>\n",
              "      <td>4</td>\n",
              "      <td>R$ 27,000.00</td>\n",
              "    </tr>\n",
              "    <tr>\n",
              "      <th>8</th>\n",
              "      <td>Toyota</td>\n",
              "      <td>Branco</td>\n",
              "      <td>60000</td>\n",
              "      <td>4</td>\n",
              "      <td>R$ 26,250.00</td>\n",
              "    </tr>\n",
              "    <tr>\n",
              "      <th>9</th>\n",
              "      <td>Nissan</td>\n",
              "      <td>Branco</td>\n",
              "      <td>31600</td>\n",
              "      <td>4</td>\n",
              "      <td>R$ 19,700.00</td>\n",
              "    </tr>\n",
              "  </tbody>\n",
              "</table>\n",
              "</div>"
            ],
            "text/plain": [
              "  Fabricante     Cor  Quilometragem  Portas         Preco\n",
              "5     Toyota   Verde          99213       4  R$ 14,500.00\n",
              "6      Honda    Azul          45698       4  R$ 17,500.00\n",
              "7      Honda    Azul          54738       4  R$ 27,000.00\n",
              "8     Toyota  Branco          60000       4  R$ 26,250.00\n",
              "9     Nissan  Branco          31600       4  R$ 19,700.00"
            ]
          },
          "execution_count": 40,
          "metadata": {},
          "output_type": "execute_result"
        }
      ],
      "source": [
        "# Exiba as 5 últimas linhas do DataFrame\n",
        "dados = pd.read_csv('/home/youx/youxlab-treino-git/aula.ipynb/venda-de-carros (1).csv')\n",
        "dados.tail(5)"
      ]
    },
    {
      "cell_type": "code",
      "execution_count": 50,
      "metadata": {
        "id": "dUS_98yBYXo8"
      },
      "outputs": [
        {
          "data": {
            "text/plain": [
              "Fabricante                 BMW\n",
              "Cor                      Preto\n",
              "Quilometragem            11179\n",
              "Portas                       5\n",
              "Preco            R$ 122,000.00\n",
              "Name: 3, dtype: object"
            ]
          },
          "execution_count": 50,
          "metadata": {},
          "output_type": "execute_result"
        }
      ],
      "source": [
        "# Utilize .loc para selecionar os dados da linha de índice 3 do DataFrame\n",
        "dados = pd.read_csv('/home/youx/youxlab-treino-git/aula.ipynb/venda-de-carros (1).csv').loc[3]\n",
        "dados"
      ]
    },
    {
      "cell_type": "code",
      "execution_count": 52,
      "metadata": {
        "id": "rSTtiZZMYiKx"
      },
      "outputs": [
        {
          "data": {
            "text/plain": [
              "Fabricante             Toyota\n",
              "Cor                     Verde\n",
              "Quilometragem           99213\n",
              "Portas                      4\n",
              "Preco            R$ 14,500.00\n",
              "Name: 5, dtype: object"
            ]
          },
          "execution_count": 52,
          "metadata": {},
          "output_type": "execute_result"
        }
      ],
      "source": [
        "# Utilize .iloc para exibir os dados que estão na 5° posição do DataFrame\n",
        "dados = pd.read_csv('/home/youx/youxlab-treino-git/aula.ipynb/venda-de-carros (1).csv').loc[5]\n",
        "dados"
      ]
    },
    {
      "cell_type": "code",
      "execution_count": 54,
      "metadata": {
        "id": "GqvHWQgKYs8T"
      },
      "outputs": [
        {
          "data": {
            "text/plain": [
              "0    150043\n",
              "1     87899\n",
              "2     32549\n",
              "3     11179\n",
              "4    213095\n",
              "5     99213\n",
              "6     45698\n",
              "7     54738\n",
              "8     60000\n",
              "9     31600\n",
              "Name: Quilometragem, dtype: int64"
            ]
          },
          "execution_count": 54,
          "metadata": {},
          "output_type": "execute_result"
        }
      ],
      "source": [
        "# Selecione a coluna Quilometragem\n",
        "dados ['Quilometragem']\n",
        "\n"
      ]
    },
    {
      "cell_type": "code",
      "execution_count": 9,
      "metadata": {
        "id": "ZY07R0fXY5PY"
      },
      "outputs": [
        {
          "name": "stdout",
          "output_type": "stream",
          "text": [
            "78601.4\n"
          ]
        }
      ],
      "source": [
        "# Calcule a média da coluna Quilometragem\n",
        "print(dados ['Quilometragem'].mean())\n"
      ]
    },
    {
      "cell_type": "code",
      "execution_count": 7,
      "metadata": {
        "id": "v2hf7yI0ZB-s"
      },
      "outputs": [
        {
          "name": "stdout",
          "output_type": "stream",
          "text": [
            "  Fabricante     Cor  Quilometragem  Portas         Preco\n",
            "0     Toyota  Branco         150043       4  R$ 24,000.00\n",
            "4     Nissan  Branco         213095       4  R$ 13,500.00\n"
          ]
        }
      ],
      "source": [
        "# Liste os carros que possuem uma quilometragem maior que 100.000\n",
        "carros_acima_100k = dados[dados['Quilometragem'] > 100000]\n",
        "\n",
        "print(carros_acima_100k)"
      ]
    },
    {
      "cell_type": "code",
      "execution_count": 63,
      "metadata": {
        "id": "EACSY4tJZJx-"
      },
      "outputs": [
        {
          "name": "stdout",
          "output_type": "stream",
          "text": [
            "            Quilometragem  Portas\n",
            "Fabricante                       \n",
            "BMW          11179.000000    5.00\n",
            "Honda        62778.333333    4.00\n",
            "Nissan      122347.500000    4.00\n",
            "Toyota       85451.250000    3.75\n"
          ]
        }
      ],
      "source": [
        "# Agrupe as colunas pelo fabricante e calcule a média das outras colunas\n",
        "media_por_fabricante = dados.groupby('Fabricante').mean(numeric_only=True)\n",
        "\n",
        "print(media_por_fabricante)"
      ]
    }
  ],
  "metadata": {
    "colab": {
      "name": "pandas-exercicios",
      "provenance": []
    },
    "kernelspec": {
      "display_name": "Python 3",
      "name": "python3"
    },
    "language_info": {
      "codemirror_mode": {
        "name": "ipython",
        "version": 3
      },
      "file_extension": ".py",
      "mimetype": "text/x-python",
      "name": "python",
      "nbconvert_exporter": "python",
      "pygments_lexer": "ipython3",
      "version": "3.10.12"
    }
  },
  "nbformat": 4,
  "nbformat_minor": 0
}
