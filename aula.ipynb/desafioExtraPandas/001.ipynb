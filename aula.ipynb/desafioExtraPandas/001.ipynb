{
 "cells": [
  {
   "cell_type": "code",
   "execution_count": 1,
   "id": "5fece894",
   "metadata": {},
   "outputs": [],
   "source": [
    "import pandas as pd"
   ]
  },
  {
   "cell_type": "code",
   "execution_count": 9,
   "id": "92ddaa45",
   "metadata": {},
   "outputs": [],
   "source": [
    "livros = pd.DataFrame({\n",
    "    'nome do livro' : ['Diário de um banana 9', 'Caraval', 'A Seleção'],\n",
    "    'Autor' : ['Jeff Kinney', 'Stephanie Garber', 'Kiera Cass'],\n",
    "    'Editora': ['VR Editora; 1ª edição (25 março 2015)', ' Gutenberg', 'Seguinte; 1ª edição (17 setembro 2012)'],\n",
    "    'Data de lançamento': ['23 de maio 2023', '29 de setembro de 2016', '14 de abril de 2012'],\n",
    "    'ISBN' : ['9788576838265', '9781250095251', '9780062059932']\n",
    "})\n",
    "estoque = pd.DataFrame({\n",
    "    'ISBN' : ['9788576838265', '9781250095251', '9780062059932'],\n",
    "    'Quantidade' : ['12', '20', '9'],\n",
    "    'Data de chegada' : ['2023-09-02', '2015-02-23', '2024-07-30'],\n",
    "    'Nome do computador' : ['Biblioteca Central', 'Secretaria da Cultura', 'Biblioteca Central']\n",
    "})"
   ]
  },
  {
   "cell_type": "code",
   "execution_count": 16,
   "id": "ba0c4df4",
   "metadata": {},
   "outputs": [
    {
     "data": {
      "text/html": [
       "<div>\n",
       "<style scoped>\n",
       "    .dataframe tbody tr th:only-of-type {\n",
       "        vertical-align: middle;\n",
       "    }\n",
       "\n",
       "    .dataframe tbody tr th {\n",
       "        vertical-align: top;\n",
       "    }\n",
       "\n",
       "    .dataframe thead th {\n",
       "        text-align: right;\n",
       "    }\n",
       "</style>\n",
       "<table border=\"1\" class=\"dataframe\">\n",
       "  <thead>\n",
       "    <tr style=\"text-align: right;\">\n",
       "      <th></th>\n",
       "      <th>nome do livro</th>\n",
       "      <th>Autor</th>\n",
       "      <th>Editora</th>\n",
       "      <th>Data de lançamento</th>\n",
       "      <th>ISBN</th>\n",
       "      <th>Quantidade</th>\n",
       "      <th>Data de chegada</th>\n",
       "      <th>Nome do computador</th>\n",
       "    </tr>\n",
       "  </thead>\n",
       "  <tbody>\n",
       "    <tr>\n",
       "      <th>0</th>\n",
       "      <td>Diário de um banana 9</td>\n",
       "      <td>Jeff Kinney</td>\n",
       "      <td>VR Editora; 1ª edição (25 março 2015)</td>\n",
       "      <td>23 de maio 2023</td>\n",
       "      <td>9788576838265</td>\n",
       "      <td>12</td>\n",
       "      <td>2023-09-02</td>\n",
       "      <td>Biblioteca Central</td>\n",
       "    </tr>\n",
       "    <tr>\n",
       "      <th>1</th>\n",
       "      <td>Caraval</td>\n",
       "      <td>Stephanie Garber</td>\n",
       "      <td>Gutenberg</td>\n",
       "      <td>29 de setembro de 2016</td>\n",
       "      <td>9781250095251</td>\n",
       "      <td>20</td>\n",
       "      <td>2015-02-23</td>\n",
       "      <td>Secretaria da Cultura</td>\n",
       "    </tr>\n",
       "    <tr>\n",
       "      <th>2</th>\n",
       "      <td>A Seleção</td>\n",
       "      <td>Kiera Cass</td>\n",
       "      <td>Seguinte; 1ª edição (17 setembro 2012)</td>\n",
       "      <td>14 de abril de 2012</td>\n",
       "      <td>9780062059932</td>\n",
       "      <td>9</td>\n",
       "      <td>2024-07-30</td>\n",
       "      <td>Biblioteca Central</td>\n",
       "    </tr>\n",
       "  </tbody>\n",
       "</table>\n",
       "</div>"
      ],
      "text/plain": [
       "           nome do livro             Autor  \\\n",
       "0  Diário de um banana 9       Jeff Kinney   \n",
       "1                Caraval  Stephanie Garber   \n",
       "2              A Seleção        Kiera Cass   \n",
       "\n",
       "                                  Editora      Data de lançamento  \\\n",
       "0   VR Editora; 1ª edição (25 março 2015)         23 de maio 2023   \n",
       "1                               Gutenberg  29 de setembro de 2016   \n",
       "2  Seguinte; 1ª edição (17 setembro 2012)     14 de abril de 2012   \n",
       "\n",
       "            ISBN Quantidade Data de chegada     Nome do computador  \n",
       "0  9788576838265         12      2023-09-02     Biblioteca Central  \n",
       "1  9781250095251         20      2015-02-23  Secretaria da Cultura  \n",
       "2  9780062059932          9      2024-07-30     Biblioteca Central  "
      ]
     },
     "execution_count": 16,
     "metadata": {},
     "output_type": "execute_result"
    }
   ],
   "source": [
    "estoque_livros = pd.merge(livros, estoque, on='ISBN')\n",
    "estoque_livros\n"
   ]
  },
  {
   "cell_type": "code",
   "execution_count": null,
   "id": "59a0d6aa",
   "metadata": {},
   "outputs": [],
   "source": [
    "estoque_livros.to_csv('relatorio_estoque.csv', index=False)"
   ]
  }
 ],
 "metadata": {
  "kernelspec": {
   "display_name": "Python 3",
   "language": "python",
   "name": "python3"
  },
  "language_info": {
   "codemirror_mode": {
    "name": "ipython",
    "version": 3
   },
   "file_extension": ".py",
   "mimetype": "text/x-python",
   "name": "python",
   "nbconvert_exporter": "python",
   "pygments_lexer": "ipython3",
   "version": "3.10.12"
  }
 },
 "nbformat": 4,
 "nbformat_minor": 5
}
