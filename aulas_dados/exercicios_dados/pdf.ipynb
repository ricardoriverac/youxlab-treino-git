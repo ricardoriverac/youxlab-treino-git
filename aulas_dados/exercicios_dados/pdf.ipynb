{
 "cells": [
  {
   "cell_type": "code",
   "execution_count": 227,
   "metadata": {},
   "outputs": [],
   "source": [
    "#Comando para importar, substitua caminho da sua base de dados pelo caminho abaixo.\n",
    "import pandas as pd\n",
    "dados = pd.read_csv(r\"/home/youx/youxlab-treino-git/aulas_dados/datasets/venda-de-carros.csv\")"
   ]
  },
  {
   "cell_type": "code",
   "execution_count": 228,
   "metadata": {},
   "outputs": [
    {
     "data": {
      "text/html": [
       "<div>\n",
       "<style scoped>\n",
       "    .dataframe tbody tr th:only-of-type {\n",
       "        vertical-align: middle;\n",
       "    }\n",
       "\n",
       "    .dataframe tbody tr th {\n",
       "        vertical-align: top;\n",
       "    }\n",
       "\n",
       "    .dataframe thead th {\n",
       "        text-align: right;\n",
       "    }\n",
       "</style>\n",
       "<table border=\"1\" class=\"dataframe\">\n",
       "  <thead>\n",
       "    <tr style=\"text-align: right;\">\n",
       "      <th></th>\n",
       "      <th>Fabricante</th>\n",
       "      <th>Cor</th>\n",
       "      <th>Quilometragem</th>\n",
       "      <th>Portas</th>\n",
       "      <th>Preco</th>\n",
       "    </tr>\n",
       "  </thead>\n",
       "  <tbody>\n",
       "    <tr>\n",
       "      <th>0</th>\n",
       "      <td>Toyota</td>\n",
       "      <td>Branco</td>\n",
       "      <td>150043</td>\n",
       "      <td>4</td>\n",
       "      <td>R$ 24,000.00</td>\n",
       "    </tr>\n",
       "    <tr>\n",
       "      <th>1</th>\n",
       "      <td>Honda</td>\n",
       "      <td>Vermelho</td>\n",
       "      <td>87899</td>\n",
       "      <td>4</td>\n",
       "      <td>R$ 25,000.00</td>\n",
       "    </tr>\n",
       "    <tr>\n",
       "      <th>2</th>\n",
       "      <td>Toyota</td>\n",
       "      <td>Azul</td>\n",
       "      <td>32549</td>\n",
       "      <td>3</td>\n",
       "      <td>R$ 27,000.00</td>\n",
       "    </tr>\n",
       "    <tr>\n",
       "      <th>3</th>\n",
       "      <td>BMW</td>\n",
       "      <td>Preto</td>\n",
       "      <td>11179</td>\n",
       "      <td>5</td>\n",
       "      <td>R$ 122,000.00</td>\n",
       "    </tr>\n",
       "    <tr>\n",
       "      <th>4</th>\n",
       "      <td>Nissan</td>\n",
       "      <td>Branco</td>\n",
       "      <td>213095</td>\n",
       "      <td>4</td>\n",
       "      <td>R$ 13,500.00</td>\n",
       "    </tr>\n",
       "    <tr>\n",
       "      <th>5</th>\n",
       "      <td>Toyota</td>\n",
       "      <td>Verde</td>\n",
       "      <td>99213</td>\n",
       "      <td>4</td>\n",
       "      <td>R$ 14,500.00</td>\n",
       "    </tr>\n",
       "    <tr>\n",
       "      <th>6</th>\n",
       "      <td>Honda</td>\n",
       "      <td>Azul</td>\n",
       "      <td>45698</td>\n",
       "      <td>4</td>\n",
       "      <td>R$ 17,500.00</td>\n",
       "    </tr>\n",
       "    <tr>\n",
       "      <th>7</th>\n",
       "      <td>Honda</td>\n",
       "      <td>Azul</td>\n",
       "      <td>54738</td>\n",
       "      <td>4</td>\n",
       "      <td>R$ 27,000.00</td>\n",
       "    </tr>\n",
       "    <tr>\n",
       "      <th>8</th>\n",
       "      <td>Toyota</td>\n",
       "      <td>Branco</td>\n",
       "      <td>60000</td>\n",
       "      <td>4</td>\n",
       "      <td>R$ 26,250.00</td>\n",
       "    </tr>\n",
       "    <tr>\n",
       "      <th>9</th>\n",
       "      <td>Nissan</td>\n",
       "      <td>Branco</td>\n",
       "      <td>31600</td>\n",
       "      <td>4</td>\n",
       "      <td>R$ 19,700.00</td>\n",
       "    </tr>\n",
       "  </tbody>\n",
       "</table>\n",
       "</div>"
      ],
      "text/plain": [
       "  Fabricante       Cor  Quilometragem  Portas          Preco\n",
       "0     Toyota    Branco         150043       4   R$ 24,000.00\n",
       "1      Honda  Vermelho          87899       4   R$ 25,000.00\n",
       "2     Toyota      Azul          32549       3   R$ 27,000.00\n",
       "3        BMW     Preto          11179       5  R$ 122,000.00\n",
       "4     Nissan    Branco         213095       4   R$ 13,500.00\n",
       "5     Toyota     Verde          99213       4   R$ 14,500.00\n",
       "6      Honda      Azul          45698       4   R$ 17,500.00\n",
       "7      Honda      Azul          54738       4   R$ 27,000.00\n",
       "8     Toyota    Branco          60000       4   R$ 26,250.00\n",
       "9     Nissan    Branco          31600       4   R$ 19,700.00"
      ]
     },
     "execution_count": 228,
     "metadata": {},
     "output_type": "execute_result"
    }
   ],
   "source": [
    "#Após colocar o caminho, para exigir a base de dados importada basta escrever o nome dela abaixo (aqui funciona como um print):\n",
    "import pandas as pd\n",
    "dados = pd.read_csv(r\"/home/youx/youxlab-treino-git/aulas_dados/datasets/venda-de-carros.csv\")\n",
    "dados"
   ]
  },
  {
   "cell_type": "code",
   "execution_count": 229,
   "metadata": {},
   "outputs": [
    {
     "data": {
      "text/html": [
       "<div>\n",
       "<style scoped>\n",
       "    .dataframe tbody tr th:only-of-type {\n",
       "        vertical-align: middle;\n",
       "    }\n",
       "\n",
       "    .dataframe tbody tr th {\n",
       "        vertical-align: top;\n",
       "    }\n",
       "\n",
       "    .dataframe thead th {\n",
       "        text-align: right;\n",
       "    }\n",
       "</style>\n",
       "<table border=\"1\" class=\"dataframe\">\n",
       "  <thead>\n",
       "    <tr style=\"text-align: right;\">\n",
       "      <th></th>\n",
       "      <th>Fabricante</th>\n",
       "      <th>Cor</th>\n",
       "      <th>Quilometragem</th>\n",
       "      <th>Portas</th>\n",
       "      <th>Preco</th>\n",
       "    </tr>\n",
       "  </thead>\n",
       "  <tbody>\n",
       "    <tr>\n",
       "      <th>0</th>\n",
       "      <td>Toyota</td>\n",
       "      <td>Branco</td>\n",
       "      <td>150043</td>\n",
       "      <td>4</td>\n",
       "      <td>R$ 24,000.00</td>\n",
       "    </tr>\n",
       "    <tr>\n",
       "      <th>1</th>\n",
       "      <td>Honda</td>\n",
       "      <td>Vermelho</td>\n",
       "      <td>87899</td>\n",
       "      <td>4</td>\n",
       "      <td>R$ 25,000.00</td>\n",
       "    </tr>\n",
       "    <tr>\n",
       "      <th>2</th>\n",
       "      <td>Toyota</td>\n",
       "      <td>Azul</td>\n",
       "      <td>32549</td>\n",
       "      <td>3</td>\n",
       "      <td>R$ 27,000.00</td>\n",
       "    </tr>\n",
       "    <tr>\n",
       "      <th>3</th>\n",
       "      <td>BMW</td>\n",
       "      <td>Preto</td>\n",
       "      <td>11179</td>\n",
       "      <td>5</td>\n",
       "      <td>R$ 122,000.00</td>\n",
       "    </tr>\n",
       "    <tr>\n",
       "      <th>4</th>\n",
       "      <td>Nissan</td>\n",
       "      <td>Branco</td>\n",
       "      <td>213095</td>\n",
       "      <td>4</td>\n",
       "      <td>R$ 13,500.00</td>\n",
       "    </tr>\n",
       "  </tbody>\n",
       "</table>\n",
       "</div>"
      ],
      "text/plain": [
       "  Fabricante       Cor  Quilometragem  Portas          Preco\n",
       "0     Toyota    Branco         150043       4   R$ 24,000.00\n",
       "1      Honda  Vermelho          87899       4   R$ 25,000.00\n",
       "2     Toyota      Azul          32549       3   R$ 27,000.00\n",
       "3        BMW     Preto          11179       5  R$ 122,000.00\n",
       "4     Nissan    Branco         213095       4   R$ 13,500.00"
      ]
     },
     "execution_count": 229,
     "metadata": {},
     "output_type": "execute_result"
    }
   ],
   "source": [
    "#Método .head() exibe as 5 primeiras linhas da base de dados por padrão, ou quantas linhas eu quiser passando o valor dentro do head:\n",
    "dados.head()"
   ]
  },
  {
   "cell_type": "code",
   "execution_count": 230,
   "metadata": {},
   "outputs": [
    {
     "data": {
      "text/html": [
       "<div>\n",
       "<style scoped>\n",
       "    .dataframe tbody tr th:only-of-type {\n",
       "        vertical-align: middle;\n",
       "    }\n",
       "\n",
       "    .dataframe tbody tr th {\n",
       "        vertical-align: top;\n",
       "    }\n",
       "\n",
       "    .dataframe thead th {\n",
       "        text-align: right;\n",
       "    }\n",
       "</style>\n",
       "<table border=\"1\" class=\"dataframe\">\n",
       "  <thead>\n",
       "    <tr style=\"text-align: right;\">\n",
       "      <th></th>\n",
       "      <th>Fabricante</th>\n",
       "      <th>Cor</th>\n",
       "      <th>Quilometragem</th>\n",
       "      <th>Portas</th>\n",
       "      <th>Preco</th>\n",
       "    </tr>\n",
       "  </thead>\n",
       "  <tbody>\n",
       "    <tr>\n",
       "      <th>0</th>\n",
       "      <td>Toyota</td>\n",
       "      <td>Branco</td>\n",
       "      <td>150043</td>\n",
       "      <td>4</td>\n",
       "      <td>R$ 24,000.00</td>\n",
       "    </tr>\n",
       "    <tr>\n",
       "      <th>1</th>\n",
       "      <td>Honda</td>\n",
       "      <td>Vermelho</td>\n",
       "      <td>87899</td>\n",
       "      <td>4</td>\n",
       "      <td>R$ 25,000.00</td>\n",
       "    </tr>\n",
       "    <tr>\n",
       "      <th>2</th>\n",
       "      <td>Toyota</td>\n",
       "      <td>Azul</td>\n",
       "      <td>32549</td>\n",
       "      <td>3</td>\n",
       "      <td>R$ 27,000.00</td>\n",
       "    </tr>\n",
       "    <tr>\n",
       "      <th>3</th>\n",
       "      <td>BMW</td>\n",
       "      <td>Preto</td>\n",
       "      <td>11179</td>\n",
       "      <td>5</td>\n",
       "      <td>R$ 122,000.00</td>\n",
       "    </tr>\n",
       "    <tr>\n",
       "      <th>4</th>\n",
       "      <td>Nissan</td>\n",
       "      <td>Branco</td>\n",
       "      <td>213095</td>\n",
       "      <td>4</td>\n",
       "      <td>R$ 13,500.00</td>\n",
       "    </tr>\n",
       "    <tr>\n",
       "      <th>5</th>\n",
       "      <td>Toyota</td>\n",
       "      <td>Verde</td>\n",
       "      <td>99213</td>\n",
       "      <td>4</td>\n",
       "      <td>R$ 14,500.00</td>\n",
       "    </tr>\n",
       "  </tbody>\n",
       "</table>\n",
       "</div>"
      ],
      "text/plain": [
       "  Fabricante       Cor  Quilometragem  Portas          Preco\n",
       "0     Toyota    Branco         150043       4   R$ 24,000.00\n",
       "1      Honda  Vermelho          87899       4   R$ 25,000.00\n",
       "2     Toyota      Azul          32549       3   R$ 27,000.00\n",
       "3        BMW     Preto          11179       5  R$ 122,000.00\n",
       "4     Nissan    Branco         213095       4   R$ 13,500.00\n",
       "5     Toyota     Verde          99213       4   R$ 14,500.00"
      ]
     },
     "execution_count": 230,
     "metadata": {},
     "output_type": "execute_result"
    }
   ],
   "source": [
    "dados.head(6)"
   ]
  },
  {
   "cell_type": "code",
   "execution_count": 231,
   "metadata": {},
   "outputs": [
    {
     "name": "stdout",
     "output_type": "stream",
     "text": [
      "<class 'pandas.core.frame.DataFrame'>\n",
      "RangeIndex: 10 entries, 0 to 9\n",
      "Data columns (total 5 columns):\n",
      " #   Column         Non-Null Count  Dtype \n",
      "---  ------         --------------  ----- \n",
      " 0   Fabricante     10 non-null     object\n",
      " 1   Cor            10 non-null     object\n",
      " 2   Quilometragem  10 non-null     int64 \n",
      " 3   Portas         10 non-null     int64 \n",
      " 4   Preco          10 non-null     object\n",
      "dtypes: int64(2), object(3)\n",
      "memory usage: 528.0+ bytes\n"
     ]
    }
   ],
   "source": [
    "#Método .info() exibe as informações da base\n",
    "dados.info()"
   ]
  },
  {
   "cell_type": "code",
   "execution_count": 232,
   "metadata": {},
   "outputs": [
    {
     "data": {
      "text/plain": [
       "pandas.core.frame.DataFrame"
      ]
     },
     "execution_count": 232,
     "metadata": {},
     "output_type": "execute_result"
    }
   ],
   "source": [
    "#Toda base de dados importada pro python, é um DataFrame (tabela bi-dimensional)\n",
    "#Função type() mostra o tipo:\n",
    "type(dados)"
   ]
  },
  {
   "cell_type": "code",
   "execution_count": 233,
   "metadata": {},
   "outputs": [
    {
     "data": {
      "text/plain": [
       "(10, 5)"
      ]
     },
     "execution_count": 233,
     "metadata": {},
     "output_type": "execute_result"
    }
   ],
   "source": [
    "#O atributo .shape retorna quantas linhas e colunas tem no DataFrame:\n",
    "dados.shape"
   ]
  },
  {
   "cell_type": "code",
   "execution_count": 234,
   "metadata": {},
   "outputs": [
    {
     "data": {
      "text/html": [
       "<div>\n",
       "<style scoped>\n",
       "    .dataframe tbody tr th:only-of-type {\n",
       "        vertical-align: middle;\n",
       "    }\n",
       "\n",
       "    .dataframe tbody tr th {\n",
       "        vertical-align: top;\n",
       "    }\n",
       "\n",
       "    .dataframe thead th {\n",
       "        text-align: right;\n",
       "    }\n",
       "</style>\n",
       "<table border=\"1\" class=\"dataframe\">\n",
       "  <thead>\n",
       "    <tr style=\"text-align: right;\">\n",
       "      <th></th>\n",
       "      <th>nome</th>\n",
       "      <th>idade</th>\n",
       "      <th>peso</th>\n",
       "      <th>eh jedi</th>\n",
       "    </tr>\n",
       "  </thead>\n",
       "  <tbody>\n",
       "    <tr>\n",
       "      <th>0</th>\n",
       "      <td>Luke Skywalker</td>\n",
       "      <td>16</td>\n",
       "      <td>70.5</td>\n",
       "      <td>True</td>\n",
       "    </tr>\n",
       "    <tr>\n",
       "      <th>1</th>\n",
       "      <td>Yoda</td>\n",
       "      <td>1000</td>\n",
       "      <td>15.2</td>\n",
       "      <td>True</td>\n",
       "    </tr>\n",
       "    <tr>\n",
       "      <th>2</th>\n",
       "      <td>Palpatine</td>\n",
       "      <td>70</td>\n",
       "      <td>60.1</td>\n",
       "      <td>False</td>\n",
       "    </tr>\n",
       "  </tbody>\n",
       "</table>\n",
       "</div>"
      ],
      "text/plain": [
       "             nome  idade  peso  eh jedi\n",
       "0  Luke Skywalker     16  70.5     True\n",
       "1            Yoda   1000  15.2     True\n",
       "2       Palpatine     70  60.1    False"
      ]
     },
     "execution_count": 234,
     "metadata": {},
     "output_type": "execute_result"
    }
   ],
   "source": [
    "#Função .DataFrame() do pandas cria um DataFrame, podemos passar um dicionário para criar:\n",
    "import pandas as pd\n",
    "personagens_df = pd.DataFrame({\n",
    "    'nome': ['Luke Skywalker', 'Yoda', 'Palpatine'],\n",
    "    'idade': [16, 1000, 70],\n",
    "    'peso': [70.5, 15.2, 60.1],\n",
    "    'eh jedi': [True, True, False]\n",
    "})\n",
    "personagens_df"
   ]
  },
  {
   "cell_type": "code",
   "execution_count": 235,
   "metadata": {},
   "outputs": [
    {
     "data": {
      "text/plain": [
       "['nome', 'idade', 'peso', 'eh jedi']"
      ]
     },
     "execution_count": 235,
     "metadata": {},
     "output_type": "execute_result"
    }
   ],
   "source": [
    "#Atributo .columns retorna uma “lista” com nome de todas as colunas.\n",
    "personagens_df.columns\n",
    "#Também é possível armazenar em uma lista:\n",
    "listaPersonagens = list(personagens_df.columns)\n",
    "listaPersonagens\n"
   ]
  },
  {
   "cell_type": "code",
   "execution_count": 236,
   "metadata": {},
   "outputs": [
    {
     "data": {
      "text/html": [
       "<div>\n",
       "<style scoped>\n",
       "    .dataframe tbody tr th:only-of-type {\n",
       "        vertical-align: middle;\n",
       "    }\n",
       "\n",
       "    .dataframe tbody tr th {\n",
       "        vertical-align: top;\n",
       "    }\n",
       "\n",
       "    .dataframe thead th {\n",
       "        text-align: right;\n",
       "    }\n",
       "</style>\n",
       "<table border=\"1\" class=\"dataframe\">\n",
       "  <thead>\n",
       "    <tr style=\"text-align: right;\">\n",
       "      <th></th>\n",
       "      <th>Nome Completo</th>\n",
       "      <th>Idade</th>\n",
       "      <th>peso</th>\n",
       "      <th>eh jedi</th>\n",
       "    </tr>\n",
       "  </thead>\n",
       "  <tbody>\n",
       "    <tr>\n",
       "      <th>0</th>\n",
       "      <td>Luke Skywalker</td>\n",
       "      <td>16</td>\n",
       "      <td>70.5</td>\n",
       "      <td>True</td>\n",
       "    </tr>\n",
       "    <tr>\n",
       "      <th>1</th>\n",
       "      <td>Yoda</td>\n",
       "      <td>1000</td>\n",
       "      <td>15.2</td>\n",
       "      <td>True</td>\n",
       "    </tr>\n",
       "    <tr>\n",
       "      <th>2</th>\n",
       "      <td>Palpatine</td>\n",
       "      <td>70</td>\n",
       "      <td>60.1</td>\n",
       "      <td>False</td>\n",
       "    </tr>\n",
       "  </tbody>\n",
       "</table>\n",
       "</div>"
      ],
      "text/plain": [
       "    Nome Completo  Idade  peso  eh jedi\n",
       "0  Luke Skywalker     16  70.5     True\n",
       "1            Yoda   1000  15.2     True\n",
       "2       Palpatine     70  60.1    False"
      ]
     },
     "execution_count": 236,
     "metadata": {},
     "output_type": "execute_result"
    }
   ],
   "source": [
    "#O método .rename() serve para renomear as colunas passando um dicionário, no exemplo abaixo estamos criando um novo DataFrame com as colunas renomeadas:\n",
    "#gera uma copia\n",
    "personagens_df_renomeado = personagens_df.rename(columns={\n",
    "    'nome': 'Nome Completo', \n",
    "    'idade': 'Idade'\n",
    "})\n",
    "personagens_df_renomeado"
   ]
  },
  {
   "cell_type": "code",
   "execution_count": 237,
   "metadata": {},
   "outputs": [
    {
     "data": {
      "text/html": [
       "<div>\n",
       "<style scoped>\n",
       "    .dataframe tbody tr th:only-of-type {\n",
       "        vertical-align: middle;\n",
       "    }\n",
       "\n",
       "    .dataframe tbody tr th {\n",
       "        vertical-align: top;\n",
       "    }\n",
       "\n",
       "    .dataframe thead th {\n",
       "        text-align: right;\n",
       "    }\n",
       "</style>\n",
       "<table border=\"1\" class=\"dataframe\">\n",
       "  <thead>\n",
       "    <tr style=\"text-align: right;\">\n",
       "      <th></th>\n",
       "      <th>Nome Completo</th>\n",
       "      <th>Idade</th>\n",
       "      <th>peso</th>\n",
       "      <th>eh jedi</th>\n",
       "    </tr>\n",
       "  </thead>\n",
       "  <tbody>\n",
       "    <tr>\n",
       "      <th>0</th>\n",
       "      <td>Luke Skywalker</td>\n",
       "      <td>16</td>\n",
       "      <td>70.5</td>\n",
       "      <td>True</td>\n",
       "    </tr>\n",
       "    <tr>\n",
       "      <th>1</th>\n",
       "      <td>Yoda</td>\n",
       "      <td>1000</td>\n",
       "      <td>15.2</td>\n",
       "      <td>True</td>\n",
       "    </tr>\n",
       "    <tr>\n",
       "      <th>2</th>\n",
       "      <td>Palpatine</td>\n",
       "      <td>70</td>\n",
       "      <td>60.1</td>\n",
       "      <td>False</td>\n",
       "    </tr>\n",
       "  </tbody>\n",
       "</table>\n",
       "</div>"
      ],
      "text/plain": [
       "    Nome Completo  Idade  peso  eh jedi\n",
       "0  Luke Skywalker     16  70.5     True\n",
       "1            Yoda   1000  15.2     True\n",
       "2       Palpatine     70  60.1    False"
      ]
     },
     "execution_count": 237,
     "metadata": {},
     "output_type": "execute_result"
    }
   ],
   "source": [
    "#É possível também renomear o DataFrame original, nesse caso personagens_df, e continuar utilizando-o, basta colocar inplace = True, veja o exemplo:\n",
    "#troca no original\n",
    "personagens_df.rename(columns={'nome': 'Nome Completo', 'idade': 'Idade'}, inplace=True)\n",
    "personagens_df"
   ]
  },
  {
   "cell_type": "code",
   "execution_count": 238,
   "metadata": {},
   "outputs": [
    {
     "data": {
      "text/html": [
       "<div>\n",
       "<style scoped>\n",
       "    .dataframe tbody tr th:only-of-type {\n",
       "        vertical-align: middle;\n",
       "    }\n",
       "\n",
       "    .dataframe tbody tr th {\n",
       "        vertical-align: top;\n",
       "    }\n",
       "\n",
       "    .dataframe thead th {\n",
       "        text-align: right;\n",
       "    }\n",
       "</style>\n",
       "<table border=\"1\" class=\"dataframe\">\n",
       "  <thead>\n",
       "    <tr style=\"text-align: right;\">\n",
       "      <th></th>\n",
       "      <th>NOME</th>\n",
       "      <th>IDADE</th>\n",
       "      <th>PESO</th>\n",
       "      <th>EH_JEDI</th>\n",
       "    </tr>\n",
       "  </thead>\n",
       "  <tbody>\n",
       "    <tr>\n",
       "      <th>0</th>\n",
       "      <td>Luke Skywalker</td>\n",
       "      <td>16</td>\n",
       "      <td>70.5</td>\n",
       "      <td>True</td>\n",
       "    </tr>\n",
       "    <tr>\n",
       "      <th>1</th>\n",
       "      <td>Yoda</td>\n",
       "      <td>1000</td>\n",
       "      <td>15.2</td>\n",
       "      <td>True</td>\n",
       "    </tr>\n",
       "    <tr>\n",
       "      <th>2</th>\n",
       "      <td>Palpatine</td>\n",
       "      <td>70</td>\n",
       "      <td>60.1</td>\n",
       "      <td>False</td>\n",
       "    </tr>\n",
       "  </tbody>\n",
       "</table>\n",
       "</div>"
      ],
      "text/plain": [
       "             NOME  IDADE  PESO  EH_JEDI\n",
       "0  Luke Skywalker     16  70.5     True\n",
       "1            Yoda   1000  15.2     True\n",
       "2       Palpatine     70  60.1    False"
      ]
     },
     "execution_count": 238,
     "metadata": {},
     "output_type": "execute_result"
    }
   ],
   "source": [
    "#Outra forma de renomear é utilizando .columns e passando uma lista com os novos nomes:\n",
    "personagens_df.columns = ['NOME', 'IDADE', 'PESO', 'EH_JEDI']\n",
    "personagens_df"
   ]
  },
  {
   "cell_type": "code",
   "execution_count": 239,
   "metadata": {},
   "outputs": [
    {
     "data": {
      "text/plain": [
       "0    5.5\n",
       "1    6.0\n",
       "2    9.5\n",
       "dtype: float64"
      ]
     },
     "execution_count": 239,
     "metadata": {},
     "output_type": "execute_result"
    }
   ],
   "source": [
    "#O método .Series() cria uma series, basta passar uma lista, ex:\n",
    "series1 = pd.Series([5.5, 6.0, 9.5])\n",
    "series1"
   ]
  },
  {
   "cell_type": "code",
   "execution_count": 240,
   "metadata": {},
   "outputs": [
    {
     "data": {
      "text/plain": [
       "prova1     5.5\n",
       "prova2     6.0\n",
       "projeto    9.5\n",
       "Name: Notas dos luke, dtype: float64"
      ]
     },
     "execution_count": 240,
     "metadata": {},
     "output_type": "execute_result"
    }
   ],
   "source": [
    "# Também é possível modificar o index e o nome:\n",
    "series1 = pd.Series([5.5, 6.0, 9.5], index=['prova1', 'prova2', 'projeto'], name='Notas dos luke')\n",
    "series1"
   ]
  },
  {
   "cell_type": "code",
   "execution_count": 241,
   "metadata": {},
   "outputs": [
    {
     "data": {
      "text/plain": [
       "<bound method NDFrame.copy of 0      Branco\n",
       "1    Vermelho\n",
       "2        Azul\n",
       "3       Preto\n",
       "4      Branco\n",
       "5       Verde\n",
       "6        Azul\n",
       "7        Azul\n",
       "8      Branco\n",
       "9      Branco\n",
       "Name: Cor, dtype: object>"
      ]
     },
     "execution_count": 241,
     "metadata": {},
     "output_type": "execute_result"
    }
   ],
   "source": [
    "# Para criar uma cópia, precisamos utilizar o .copy()\n",
    "cor_copia = dados['Cor'].copy\n",
    "cor_copia"
   ]
  },
  {
   "cell_type": "code",
   "execution_count": 242,
   "metadata": {},
   "outputs": [
    {
     "data": {
      "text/html": [
       "<div>\n",
       "<style scoped>\n",
       "    .dataframe tbody tr th:only-of-type {\n",
       "        vertical-align: middle;\n",
       "    }\n",
       "\n",
       "    .dataframe tbody tr th {\n",
       "        vertical-align: top;\n",
       "    }\n",
       "\n",
       "    .dataframe thead th {\n",
       "        text-align: right;\n",
       "    }\n",
       "</style>\n",
       "<table border=\"1\" class=\"dataframe\">\n",
       "  <thead>\n",
       "    <tr style=\"text-align: right;\">\n",
       "      <th></th>\n",
       "      <th>Notas dos luke</th>\n",
       "      <th>Notas dos lakers</th>\n",
       "    </tr>\n",
       "  </thead>\n",
       "  <tbody>\n",
       "    <tr>\n",
       "      <th>prova1</th>\n",
       "      <td>5.5</td>\n",
       "      <td>8.2</td>\n",
       "    </tr>\n",
       "    <tr>\n",
       "      <th>prova2</th>\n",
       "      <td>6.0</td>\n",
       "      <td>6.5</td>\n",
       "    </tr>\n",
       "    <tr>\n",
       "      <th>projeto</th>\n",
       "      <td>9.5</td>\n",
       "      <td>12.5</td>\n",
       "    </tr>\n",
       "  </tbody>\n",
       "</table>\n",
       "</div>"
      ],
      "text/plain": [
       "         Notas dos luke  Notas dos lakers\n",
       "prova1              5.5               8.2\n",
       "prova2              6.0               6.5\n",
       "projeto             9.5              12.5"
      ]
     },
     "execution_count": 242,
     "metadata": {},
     "output_type": "execute_result"
    }
   ],
   "source": [
    "# Para gerar DataFrame a partir de series, podemos usar o .concat():\n",
    "series1 = pd.Series([5.5, 6.0, 9.5], index=['prova1', 'prova2', 'projeto'], name='Notas dos luke')\n",
    "series2 = pd.Series([8.2, 6.5, 12.5], index=['prova1', 'prova2', 'projeto'], name='Notas dos lakers')\n",
    "dados_series = pd.concat([series1, series2], axis=1)\n",
    "dados_series\n"
   ]
  },
  {
   "cell_type": "code",
   "execution_count": 243,
   "metadata": {},
   "outputs": [
    {
     "data": {
      "text/html": [
       "<div>\n",
       "<style scoped>\n",
       "    .dataframe tbody tr th:only-of-type {\n",
       "        vertical-align: middle;\n",
       "    }\n",
       "\n",
       "    .dataframe tbody tr th {\n",
       "        vertical-align: top;\n",
       "    }\n",
       "\n",
       "    .dataframe thead th {\n",
       "        text-align: right;\n",
       "    }\n",
       "</style>\n",
       "<table border=\"1\" class=\"dataframe\">\n",
       "  <thead>\n",
       "    <tr style=\"text-align: right;\">\n",
       "      <th></th>\n",
       "      <th>Fabricante</th>\n",
       "      <th>Cor</th>\n",
       "      <th>Quilometragem</th>\n",
       "      <th>Portas</th>\n",
       "      <th>Preco</th>\n",
       "      <th>Nova coluna</th>\n",
       "    </tr>\n",
       "  </thead>\n",
       "  <tbody>\n",
       "    <tr>\n",
       "      <th>0</th>\n",
       "      <td>Toyota</td>\n",
       "      <td>Branco</td>\n",
       "      <td>150043</td>\n",
       "      <td>4</td>\n",
       "      <td>R$ 24,000.00</td>\n",
       "      <td>Testando</td>\n",
       "    </tr>\n",
       "    <tr>\n",
       "      <th>1</th>\n",
       "      <td>Honda</td>\n",
       "      <td>Vermelho</td>\n",
       "      <td>87899</td>\n",
       "      <td>4</td>\n",
       "      <td>R$ 25,000.00</td>\n",
       "      <td>Testando</td>\n",
       "    </tr>\n",
       "    <tr>\n",
       "      <th>2</th>\n",
       "      <td>Toyota</td>\n",
       "      <td>Azul</td>\n",
       "      <td>32549</td>\n",
       "      <td>3</td>\n",
       "      <td>R$ 27,000.00</td>\n",
       "      <td>Testando</td>\n",
       "    </tr>\n",
       "    <tr>\n",
       "      <th>3</th>\n",
       "      <td>BMW</td>\n",
       "      <td>Preto</td>\n",
       "      <td>11179</td>\n",
       "      <td>5</td>\n",
       "      <td>R$ 122,000.00</td>\n",
       "      <td>Testando</td>\n",
       "    </tr>\n",
       "    <tr>\n",
       "      <th>4</th>\n",
       "      <td>Nissan</td>\n",
       "      <td>Branco</td>\n",
       "      <td>213095</td>\n",
       "      <td>4</td>\n",
       "      <td>R$ 13,500.00</td>\n",
       "      <td>Testando</td>\n",
       "    </tr>\n",
       "    <tr>\n",
       "      <th>5</th>\n",
       "      <td>Toyota</td>\n",
       "      <td>Verde</td>\n",
       "      <td>99213</td>\n",
       "      <td>4</td>\n",
       "      <td>R$ 14,500.00</td>\n",
       "      <td>Testando</td>\n",
       "    </tr>\n",
       "    <tr>\n",
       "      <th>6</th>\n",
       "      <td>Honda</td>\n",
       "      <td>Azul</td>\n",
       "      <td>45698</td>\n",
       "      <td>4</td>\n",
       "      <td>R$ 17,500.00</td>\n",
       "      <td>Testando</td>\n",
       "    </tr>\n",
       "    <tr>\n",
       "      <th>7</th>\n",
       "      <td>Honda</td>\n",
       "      <td>Azul</td>\n",
       "      <td>54738</td>\n",
       "      <td>4</td>\n",
       "      <td>R$ 27,000.00</td>\n",
       "      <td>Testando</td>\n",
       "    </tr>\n",
       "    <tr>\n",
       "      <th>8</th>\n",
       "      <td>Toyota</td>\n",
       "      <td>Branco</td>\n",
       "      <td>60000</td>\n",
       "      <td>4</td>\n",
       "      <td>R$ 26,250.00</td>\n",
       "      <td>Testando</td>\n",
       "    </tr>\n",
       "    <tr>\n",
       "      <th>9</th>\n",
       "      <td>Nissan</td>\n",
       "      <td>Branco</td>\n",
       "      <td>31600</td>\n",
       "      <td>4</td>\n",
       "      <td>R$ 19,700.00</td>\n",
       "      <td>Testando</td>\n",
       "    </tr>\n",
       "  </tbody>\n",
       "</table>\n",
       "</div>"
      ],
      "text/plain": [
       "  Fabricante       Cor  Quilometragem  Portas          Preco Nova coluna\n",
       "0     Toyota    Branco         150043       4   R$ 24,000.00    Testando\n",
       "1      Honda  Vermelho          87899       4   R$ 25,000.00    Testando\n",
       "2     Toyota      Azul          32549       3   R$ 27,000.00    Testando\n",
       "3        BMW     Preto          11179       5  R$ 122,000.00    Testando\n",
       "4     Nissan    Branco         213095       4   R$ 13,500.00    Testando\n",
       "5     Toyota     Verde          99213       4   R$ 14,500.00    Testando\n",
       "6      Honda      Azul          45698       4   R$ 17,500.00    Testando\n",
       "7      Honda      Azul          54738       4   R$ 27,000.00    Testando\n",
       "8     Toyota    Branco          60000       4   R$ 26,250.00    Testando\n",
       "9     Nissan    Branco          31600       4   R$ 19,700.00    Testando"
      ]
     },
     "execution_count": 243,
     "metadata": {},
     "output_type": "execute_result"
    }
   ],
   "source": [
    "# Podemos criar uma nova coluna a nossa base passando o nome dela, e o que queremos para ela, ex:\n",
    "dados['Nova coluna'] = 'Testando'\n",
    "dados\n"
   ]
  },
  {
   "cell_type": "code",
   "execution_count": 244,
   "metadata": {},
   "outputs": [
    {
     "data": {
      "text/html": [
       "<div>\n",
       "<style scoped>\n",
       "    .dataframe tbody tr th:only-of-type {\n",
       "        vertical-align: middle;\n",
       "    }\n",
       "\n",
       "    .dataframe tbody tr th {\n",
       "        vertical-align: top;\n",
       "    }\n",
       "\n",
       "    .dataframe thead th {\n",
       "        text-align: right;\n",
       "    }\n",
       "</style>\n",
       "<table border=\"1\" class=\"dataframe\">\n",
       "  <thead>\n",
       "    <tr style=\"text-align: right;\">\n",
       "      <th></th>\n",
       "      <th>Fabricante</th>\n",
       "      <th>Cor</th>\n",
       "      <th>Quilometragem</th>\n",
       "      <th>Portas</th>\n",
       "      <th>Preco</th>\n",
       "      <th>Nova coluna</th>\n",
       "    </tr>\n",
       "  </thead>\n",
       "  <tbody>\n",
       "    <tr>\n",
       "      <th>0</th>\n",
       "      <td>Toyota</td>\n",
       "      <td>Branco</td>\n",
       "      <td>300086</td>\n",
       "      <td>4</td>\n",
       "      <td>R$ 24,000.00</td>\n",
       "      <td>Testando</td>\n",
       "    </tr>\n",
       "    <tr>\n",
       "      <th>1</th>\n",
       "      <td>Honda</td>\n",
       "      <td>Vermelho</td>\n",
       "      <td>175798</td>\n",
       "      <td>4</td>\n",
       "      <td>R$ 25,000.00</td>\n",
       "      <td>Testando</td>\n",
       "    </tr>\n",
       "    <tr>\n",
       "      <th>2</th>\n",
       "      <td>Toyota</td>\n",
       "      <td>Azul</td>\n",
       "      <td>65098</td>\n",
       "      <td>3</td>\n",
       "      <td>R$ 27,000.00</td>\n",
       "      <td>Testando</td>\n",
       "    </tr>\n",
       "    <tr>\n",
       "      <th>3</th>\n",
       "      <td>BMW</td>\n",
       "      <td>Preto</td>\n",
       "      <td>22358</td>\n",
       "      <td>5</td>\n",
       "      <td>R$ 122,000.00</td>\n",
       "      <td>Testando</td>\n",
       "    </tr>\n",
       "    <tr>\n",
       "      <th>4</th>\n",
       "      <td>Nissan</td>\n",
       "      <td>Branco</td>\n",
       "      <td>426190</td>\n",
       "      <td>4</td>\n",
       "      <td>R$ 13,500.00</td>\n",
       "      <td>Testando</td>\n",
       "    </tr>\n",
       "    <tr>\n",
       "      <th>5</th>\n",
       "      <td>Toyota</td>\n",
       "      <td>Verde</td>\n",
       "      <td>198426</td>\n",
       "      <td>4</td>\n",
       "      <td>R$ 14,500.00</td>\n",
       "      <td>Testando</td>\n",
       "    </tr>\n",
       "    <tr>\n",
       "      <th>6</th>\n",
       "      <td>Honda</td>\n",
       "      <td>Azul</td>\n",
       "      <td>91396</td>\n",
       "      <td>4</td>\n",
       "      <td>R$ 17,500.00</td>\n",
       "      <td>Testando</td>\n",
       "    </tr>\n",
       "    <tr>\n",
       "      <th>7</th>\n",
       "      <td>Honda</td>\n",
       "      <td>Azul</td>\n",
       "      <td>109476</td>\n",
       "      <td>4</td>\n",
       "      <td>R$ 27,000.00</td>\n",
       "      <td>Testando</td>\n",
       "    </tr>\n",
       "    <tr>\n",
       "      <th>8</th>\n",
       "      <td>Toyota</td>\n",
       "      <td>Branco</td>\n",
       "      <td>120000</td>\n",
       "      <td>4</td>\n",
       "      <td>R$ 26,250.00</td>\n",
       "      <td>Testando</td>\n",
       "    </tr>\n",
       "    <tr>\n",
       "      <th>9</th>\n",
       "      <td>Nissan</td>\n",
       "      <td>Branco</td>\n",
       "      <td>63200</td>\n",
       "      <td>4</td>\n",
       "      <td>R$ 19,700.00</td>\n",
       "      <td>Testando</td>\n",
       "    </tr>\n",
       "  </tbody>\n",
       "</table>\n",
       "</div>"
      ],
      "text/plain": [
       "  Fabricante       Cor  Quilometragem  Portas          Preco Nova coluna\n",
       "0     Toyota    Branco         300086       4   R$ 24,000.00    Testando\n",
       "1      Honda  Vermelho         175798       4   R$ 25,000.00    Testando\n",
       "2     Toyota      Azul          65098       3   R$ 27,000.00    Testando\n",
       "3        BMW     Preto          22358       5  R$ 122,000.00    Testando\n",
       "4     Nissan    Branco         426190       4   R$ 13,500.00    Testando\n",
       "5     Toyota     Verde         198426       4   R$ 14,500.00    Testando\n",
       "6      Honda      Azul          91396       4   R$ 17,500.00    Testando\n",
       "7      Honda      Azul         109476       4   R$ 27,000.00    Testando\n",
       "8     Toyota    Branco         120000       4   R$ 26,250.00    Testando\n",
       "9     Nissan    Branco          63200       4   R$ 19,700.00    Testando"
      ]
     },
     "execution_count": 244,
     "metadata": {},
     "output_type": "execute_result"
    }
   ],
   "source": [
    "# Podemos criar também utilizando outra coluna, como por exemplo, criar uma coluna multiplicando a Quilometragem por 2:\n",
    "dados['Quilometragem'] = dados['Quilometragem'] * 2\n",
    "dados"
   ]
  },
  {
   "cell_type": "code",
   "execution_count": 245,
   "metadata": {},
   "outputs": [
    {
     "name": "stdout",
     "output_type": "stream",
     "text": [
      "Fabricante              Honda\n",
      "Cor                  Vermelho\n",
      "Quilometragem          175798\n",
      "Portas                      4\n",
      "Preco            R$ 25,000.00\n",
      "Nova coluna          Testando\n",
      "Name: 1, dtype: object\n"
     ]
    }
   ],
   "source": [
    "# O .iloc[] retorna todas as observações indexadas na posição (posição começa do 0) que escolher, ex:\n",
    "print(dados.iloc[1])"
   ]
  },
  {
   "cell_type": "code",
   "execution_count": 246,
   "metadata": {},
   "outputs": [
    {
     "name": "stdout",
     "output_type": "stream",
     "text": [
      "  Fabricante     Cor  Quilometragem  Portas         Preco Nova coluna\n",
      "4     Nissan  Branco         426190       4  R$ 13,500.00    Testando\n",
      "5     Toyota   Verde         198426       4  R$ 14,500.00    Testando\n"
     ]
    }
   ],
   "source": [
    "print(dados.iloc[4:6])"
   ]
  },
  {
   "cell_type": "code",
   "execution_count": 247,
   "metadata": {},
   "outputs": [
    {
     "name": "stdout",
     "output_type": "stream",
     "text": [
      "4    426190\n",
      "5    198426\n",
      "Name: Quilometragem, dtype: int64\n"
     ]
    }
   ],
   "source": [
    "# Também é possível acessar linhas e colunas, colocando uma vírgula:\n",
    "print(dados.iloc[4:6, 2])"
   ]
  },
  {
   "cell_type": "code",
   "execution_count": 248,
   "metadata": {},
   "outputs": [
    {
     "data": {
      "text/plain": [
       "Fabricante             Nissan\n",
       "Cor                    Branco\n",
       "Quilometragem          426190\n",
       "Portas                      4\n",
       "Preco            R$ 13,500.00\n",
       "Nova coluna          Testando\n",
       "Name: 4, dtype: object"
      ]
     },
     "execution_count": 248,
     "metadata": {},
     "output_type": "execute_result"
    }
   ],
   "source": [
    "# O .loc[] faz o index acessa os rótulos dos index, se eu acessar o rótulo 4 do index:\n",
    "dados.loc[4]"
   ]
  },
  {
   "cell_type": "code",
   "execution_count": 249,
   "metadata": {},
   "outputs": [
    {
     "data": {
      "text/plain": [
       "4    426190\n",
       "5    198426\n",
       "6     91396\n",
       "Name: Quilometragem, dtype: int64"
      ]
     },
     "execution_count": 249,
     "metadata": {},
     "output_type": "execute_result"
    }
   ],
   "source": [
    "# O .loc[] faz o index acessa os rótulos dos index, se eu acessar o rótulo 4 do index:  \n",
    "dados.loc[4:6, 'Quilometragem']"
   ]
  },
  {
   "cell_type": "code",
   "execution_count": 250,
   "metadata": {},
   "outputs": [
    {
     "data": {
      "text/html": [
       "<div>\n",
       "<style scoped>\n",
       "    .dataframe tbody tr th:only-of-type {\n",
       "        vertical-align: middle;\n",
       "    }\n",
       "\n",
       "    .dataframe tbody tr th {\n",
       "        vertical-align: top;\n",
       "    }\n",
       "\n",
       "    .dataframe thead th {\n",
       "        text-align: right;\n",
       "    }\n",
       "</style>\n",
       "<table border=\"1\" class=\"dataframe\">\n",
       "  <thead>\n",
       "    <tr style=\"text-align: right;\">\n",
       "      <th></th>\n",
       "      <th>Fabricante</th>\n",
       "      <th>Cor</th>\n",
       "      <th>Portas</th>\n",
       "    </tr>\n",
       "  </thead>\n",
       "  <tbody>\n",
       "    <tr>\n",
       "      <th>0</th>\n",
       "      <td>Toyota</td>\n",
       "      <td>Branco</td>\n",
       "      <td>4</td>\n",
       "    </tr>\n",
       "    <tr>\n",
       "      <th>1</th>\n",
       "      <td>Honda</td>\n",
       "      <td>Vermelho</td>\n",
       "      <td>4</td>\n",
       "    </tr>\n",
       "    <tr>\n",
       "      <th>2</th>\n",
       "      <td>Toyota</td>\n",
       "      <td>Azul</td>\n",
       "      <td>3</td>\n",
       "    </tr>\n",
       "    <tr>\n",
       "      <th>3</th>\n",
       "      <td>BMW</td>\n",
       "      <td>Preto</td>\n",
       "      <td>5</td>\n",
       "    </tr>\n",
       "    <tr>\n",
       "      <th>4</th>\n",
       "      <td>Nissan</td>\n",
       "      <td>Branco</td>\n",
       "      <td>4</td>\n",
       "    </tr>\n",
       "    <tr>\n",
       "      <th>5</th>\n",
       "      <td>Toyota</td>\n",
       "      <td>Verde</td>\n",
       "      <td>4</td>\n",
       "    </tr>\n",
       "    <tr>\n",
       "      <th>6</th>\n",
       "      <td>Honda</td>\n",
       "      <td>Azul</td>\n",
       "      <td>4</td>\n",
       "    </tr>\n",
       "    <tr>\n",
       "      <th>7</th>\n",
       "      <td>Honda</td>\n",
       "      <td>Azul</td>\n",
       "      <td>4</td>\n",
       "    </tr>\n",
       "    <tr>\n",
       "      <th>8</th>\n",
       "      <td>Toyota</td>\n",
       "      <td>Branco</td>\n",
       "      <td>4</td>\n",
       "    </tr>\n",
       "    <tr>\n",
       "      <th>9</th>\n",
       "      <td>Nissan</td>\n",
       "      <td>Branco</td>\n",
       "      <td>4</td>\n",
       "    </tr>\n",
       "  </tbody>\n",
       "</table>\n",
       "</div>"
      ],
      "text/plain": [
       "  Fabricante       Cor  Portas\n",
       "0     Toyota    Branco       4\n",
       "1      Honda  Vermelho       4\n",
       "2     Toyota      Azul       3\n",
       "3        BMW     Preto       5\n",
       "4     Nissan    Branco       4\n",
       "5     Toyota     Verde       4\n",
       "6      Honda      Azul       4\n",
       "7      Honda      Azul       4\n",
       "8     Toyota    Branco       4\n",
       "9     Nissan    Branco       4"
      ]
     },
     "execution_count": 250,
     "metadata": {},
     "output_type": "execute_result"
    }
   ],
   "source": [
    "# Seleção de múltiplas colunas:\n",
    "dados[['Fabricante', 'Cor', 'Portas']]"
   ]
  },
  {
   "cell_type": "code",
   "execution_count": 251,
   "metadata": {},
   "outputs": [
    {
     "ename": "KeyError",
     "evalue": "'Quilometragem2'",
     "output_type": "error",
     "traceback": [
      "\u001b[0;31m---------------------------------------------------------------------------\u001b[0m",
      "\u001b[0;31mKeyError\u001b[0m                                  Traceback (most recent call last)",
      "File \u001b[0;32m~/.local/lib/python3.10/site-packages/pandas/core/indexes/base.py:3805\u001b[0m, in \u001b[0;36mIndex.get_loc\u001b[0;34m(self, key)\u001b[0m\n\u001b[1;32m   3804\u001b[0m \u001b[38;5;28;01mtry\u001b[39;00m:\n\u001b[0;32m-> 3805\u001b[0m     \u001b[38;5;28;01mreturn\u001b[39;00m \u001b[38;5;28;43mself\u001b[39;49m\u001b[38;5;241;43m.\u001b[39;49m\u001b[43m_engine\u001b[49m\u001b[38;5;241;43m.\u001b[39;49m\u001b[43mget_loc\u001b[49m\u001b[43m(\u001b[49m\u001b[43mcasted_key\u001b[49m\u001b[43m)\u001b[49m\n\u001b[1;32m   3806\u001b[0m \u001b[38;5;28;01mexcept\u001b[39;00m \u001b[38;5;167;01mKeyError\u001b[39;00m \u001b[38;5;28;01mas\u001b[39;00m err:\n",
      "File \u001b[0;32mindex.pyx:167\u001b[0m, in \u001b[0;36mpandas._libs.index.IndexEngine.get_loc\u001b[0;34m()\u001b[0m\n",
      "File \u001b[0;32mindex.pyx:196\u001b[0m, in \u001b[0;36mpandas._libs.index.IndexEngine.get_loc\u001b[0;34m()\u001b[0m\n",
      "File \u001b[0;32mpandas/_libs/hashtable_class_helper.pxi:7081\u001b[0m, in \u001b[0;36mpandas._libs.hashtable.PyObjectHashTable.get_item\u001b[0;34m()\u001b[0m\n",
      "File \u001b[0;32mpandas/_libs/hashtable_class_helper.pxi:7089\u001b[0m, in \u001b[0;36mpandas._libs.hashtable.PyObjectHashTable.get_item\u001b[0;34m()\u001b[0m\n",
      "\u001b[0;31mKeyError\u001b[0m: 'Quilometragem2'",
      "\nThe above exception was the direct cause of the following exception:\n",
      "\u001b[0;31mKeyError\u001b[0m                                  Traceback (most recent call last)",
      "Cell \u001b[0;32mIn[251], line 2\u001b[0m\n\u001b[1;32m      1\u001b[0m \u001b[38;5;66;03m# Para deletar uma coluna use o del, veja o ex:\u001b[39;00m\n\u001b[0;32m----> 2\u001b[0m \u001b[38;5;28;01mdel\u001b[39;00m dados[\u001b[38;5;124m'\u001b[39m\u001b[38;5;124mQuilometragem2\u001b[39m\u001b[38;5;124m'\u001b[39m]\n\u001b[1;32m      3\u001b[0m dados\n",
      "File \u001b[0;32m~/.local/lib/python3.10/site-packages/pandas/core/generic.py:4506\u001b[0m, in \u001b[0;36mNDFrame.__delitem__\u001b[0;34m(self, key)\u001b[0m\n\u001b[1;32m   4501\u001b[0m             deleted \u001b[38;5;241m=\u001b[39m \u001b[38;5;28;01mTrue\u001b[39;00m\n\u001b[1;32m   4502\u001b[0m \u001b[38;5;28;01mif\u001b[39;00m \u001b[38;5;129;01mnot\u001b[39;00m deleted:\n\u001b[1;32m   4503\u001b[0m     \u001b[38;5;66;03m# If the above loop ran and didn't delete anything because\u001b[39;00m\n\u001b[1;32m   4504\u001b[0m     \u001b[38;5;66;03m# there was no match, this call should raise the appropriate\u001b[39;00m\n\u001b[1;32m   4505\u001b[0m     \u001b[38;5;66;03m# exception:\u001b[39;00m\n\u001b[0;32m-> 4506\u001b[0m     loc \u001b[38;5;241m=\u001b[39m \u001b[38;5;28;43mself\u001b[39;49m\u001b[38;5;241;43m.\u001b[39;49m\u001b[43maxes\u001b[49m\u001b[43m[\u001b[49m\u001b[38;5;241;43m-\u001b[39;49m\u001b[38;5;241;43m1\u001b[39;49m\u001b[43m]\u001b[49m\u001b[38;5;241;43m.\u001b[39;49m\u001b[43mget_loc\u001b[49m\u001b[43m(\u001b[49m\u001b[43mkey\u001b[49m\u001b[43m)\u001b[49m\n\u001b[1;32m   4507\u001b[0m     \u001b[38;5;28mself\u001b[39m\u001b[38;5;241m.\u001b[39m_mgr \u001b[38;5;241m=\u001b[39m \u001b[38;5;28mself\u001b[39m\u001b[38;5;241m.\u001b[39m_mgr\u001b[38;5;241m.\u001b[39midelete(loc)\n\u001b[1;32m   4509\u001b[0m \u001b[38;5;66;03m# delete from the caches\u001b[39;00m\n",
      "File \u001b[0;32m~/.local/lib/python3.10/site-packages/pandas/core/indexes/base.py:3812\u001b[0m, in \u001b[0;36mIndex.get_loc\u001b[0;34m(self, key)\u001b[0m\n\u001b[1;32m   3807\u001b[0m     \u001b[38;5;28;01mif\u001b[39;00m \u001b[38;5;28misinstance\u001b[39m(casted_key, \u001b[38;5;28mslice\u001b[39m) \u001b[38;5;129;01mor\u001b[39;00m (\n\u001b[1;32m   3808\u001b[0m         \u001b[38;5;28misinstance\u001b[39m(casted_key, abc\u001b[38;5;241m.\u001b[39mIterable)\n\u001b[1;32m   3809\u001b[0m         \u001b[38;5;129;01mand\u001b[39;00m \u001b[38;5;28many\u001b[39m(\u001b[38;5;28misinstance\u001b[39m(x, \u001b[38;5;28mslice\u001b[39m) \u001b[38;5;28;01mfor\u001b[39;00m x \u001b[38;5;129;01min\u001b[39;00m casted_key)\n\u001b[1;32m   3810\u001b[0m     ):\n\u001b[1;32m   3811\u001b[0m         \u001b[38;5;28;01mraise\u001b[39;00m InvalidIndexError(key)\n\u001b[0;32m-> 3812\u001b[0m     \u001b[38;5;28;01mraise\u001b[39;00m \u001b[38;5;167;01mKeyError\u001b[39;00m(key) \u001b[38;5;28;01mfrom\u001b[39;00m\u001b[38;5;250m \u001b[39m\u001b[38;5;21;01merr\u001b[39;00m\n\u001b[1;32m   3813\u001b[0m \u001b[38;5;28;01mexcept\u001b[39;00m \u001b[38;5;167;01mTypeError\u001b[39;00m:\n\u001b[1;32m   3814\u001b[0m     \u001b[38;5;66;03m# If we have a listlike key, _check_indexing_error will raise\u001b[39;00m\n\u001b[1;32m   3815\u001b[0m     \u001b[38;5;66;03m#  InvalidIndexError. Otherwise we fall through and re-raise\u001b[39;00m\n\u001b[1;32m   3816\u001b[0m     \u001b[38;5;66;03m#  the TypeError.\u001b[39;00m\n\u001b[1;32m   3817\u001b[0m     \u001b[38;5;28mself\u001b[39m\u001b[38;5;241m.\u001b[39m_check_indexing_error(key)\n",
      "\u001b[0;31mKeyError\u001b[0m: 'Quilometragem2'"
     ]
    }
   ],
   "source": [
    "# Para deletar uma coluna use o del, veja o ex:\n",
    "del dados['Quilometragem2']\n",
    "dados"
   ]
  },
  {
   "cell_type": "code",
   "execution_count": null,
   "metadata": {},
   "outputs": [],
   "source": [
    "# O .unique() retorna os dados únicos de uma coluna:\n",
    "dados['Fabricante'].unique()\n"
   ]
  },
  {
   "cell_type": "code",
   "execution_count": null,
   "metadata": {},
   "outputs": [],
   "source": [
    "# Para filtrar por condições, utilizamos .query() e no final do filtro usamos .reset_index() para os dados filtrados voltarem o index começando do 0.\n",
    "dados_filtrados = dados.query('Fabricante == \"Honda\"').reset_index()\n",
    "dados_filtrados"
   ]
  },
  {
   "cell_type": "code",
   "execution_count": null,
   "metadata": {},
   "outputs": [
    {
     "data": {
      "text/html": [
       "<div>\n",
       "<style scoped>\n",
       "    .dataframe tbody tr th:only-of-type {\n",
       "        vertical-align: middle;\n",
       "    }\n",
       "\n",
       "    .dataframe tbody tr th {\n",
       "        vertical-align: top;\n",
       "    }\n",
       "\n",
       "    .dataframe thead th {\n",
       "        text-align: right;\n",
       "    }\n",
       "</style>\n",
       "<table border=\"1\" class=\"dataframe\">\n",
       "  <thead>\n",
       "    <tr style=\"text-align: right;\">\n",
       "      <th></th>\n",
       "      <th>index</th>\n",
       "      <th>Fabricante</th>\n",
       "      <th>Cor</th>\n",
       "      <th>Quilometragem</th>\n",
       "      <th>Portas</th>\n",
       "      <th>Preco</th>\n",
       "      <th>Nova coluna</th>\n",
       "    </tr>\n",
       "  </thead>\n",
       "  <tbody>\n",
       "    <tr>\n",
       "      <th>0</th>\n",
       "      <td>6</td>\n",
       "      <td>Honda</td>\n",
       "      <td>Azul</td>\n",
       "      <td>91396</td>\n",
       "      <td>4</td>\n",
       "      <td>R$ 17,500.00</td>\n",
       "      <td>Testando</td>\n",
       "    </tr>\n",
       "    <tr>\n",
       "      <th>1</th>\n",
       "      <td>7</td>\n",
       "      <td>Honda</td>\n",
       "      <td>Azul</td>\n",
       "      <td>109476</td>\n",
       "      <td>4</td>\n",
       "      <td>R$ 27,000.00</td>\n",
       "      <td>Testando</td>\n",
       "    </tr>\n",
       "  </tbody>\n",
       "</table>\n",
       "</div>"
      ],
      "text/plain": [
       "   index Fabricante   Cor  Quilometragem  Portas         Preco Nova coluna\n",
       "0      6      Honda  Azul          91396       4  R$ 17,500.00    Testando\n",
       "1      7      Honda  Azul         109476       4  R$ 27,000.00    Testando"
      ]
     },
     "execution_count": 119,
     "metadata": {},
     "output_type": "execute_result"
    }
   ],
   "source": [
    "dados_filtrados2 = dados.query('Fabricante == \"Honda\" and Cor == \"Azul\"').reset_index()\n",
    "dados_filtrados2"
   ]
  }
 ],
 "metadata": {
  "kernelspec": {
   "display_name": "Python 3",
   "language": "python",
   "name": "python3"
  },
  "language_info": {
   "codemirror_mode": {
    "name": "ipython",
    "version": 3
   },
   "file_extension": ".py",
   "mimetype": "text/x-python",
   "name": "python",
   "nbconvert_exporter": "python",
   "pygments_lexer": "ipython3",
   "version": "3.10.12"
  }
 },
 "nbformat": 4,
 "nbformat_minor": 2
}
