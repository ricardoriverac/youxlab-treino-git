{
 "cells": [
  {
   "cell_type": "code",
   "execution_count": 2,
   "id": "71a0c4f5",
   "metadata": {},
   "outputs": [],
   "source": [
    "import pandas as pd"
   ]
  },
  {
   "cell_type": "code",
   "execution_count": 41,
   "id": "18ff875e",
   "metadata": {},
   "outputs": [
    {
     "data": {
      "text/html": [
       "<div>\n",
       "<style scoped>\n",
       "    .dataframe tbody tr th:only-of-type {\n",
       "        vertical-align: middle;\n",
       "    }\n",
       "\n",
       "    .dataframe tbody tr th {\n",
       "        vertical-align: top;\n",
       "    }\n",
       "\n",
       "    .dataframe thead th {\n",
       "        text-align: right;\n",
       "    }\n",
       "</style>\n",
       "<table border=\"1\" class=\"dataframe\">\n",
       "  <thead>\n",
       "    <tr style=\"text-align: right;\">\n",
       "      <th></th>\n",
       "      <th>ISBN</th>\n",
       "      <th>Quantidade</th>\n",
       "      <th>Data de Chegada</th>\n",
       "      <th>Nome do Comprador</th>\n",
       "    </tr>\n",
       "  </thead>\n",
       "  <tbody>\n",
       "    <tr>\n",
       "      <th>0</th>\n",
       "      <td>9781408857878</td>\n",
       "      <td>10</td>\n",
       "      <td>2023-09-17</td>\n",
       "      <td>Biblioteca Central</td>\n",
       "    </tr>\n",
       "    <tr>\n",
       "      <th>1</th>\n",
       "      <td>9788711982457</td>\n",
       "      <td>5</td>\n",
       "      <td>2023-10-02</td>\n",
       "      <td>Secretaria de Cultura</td>\n",
       "    </tr>\n",
       "    <tr>\n",
       "      <th>2</th>\n",
       "      <td>9786559571284</td>\n",
       "      <td>8</td>\n",
       "      <td>2023-11-08</td>\n",
       "      <td>Biblioteca Central</td>\n",
       "    </tr>\n",
       "  </tbody>\n",
       "</table>\n",
       "</div>"
      ],
      "text/plain": [
       "            ISBN Quantidade Data de Chegada      Nome do Comprador\n",
       "0  9781408857878         10      2023-09-17     Biblioteca Central\n",
       "1  9788711982457          5      2023-10-02  Secretaria de Cultura\n",
       "2  9786559571284          8      2023-11-08     Biblioteca Central"
      ]
     },
     "execution_count": 41,
     "metadata": {},
     "output_type": "execute_result"
    }
   ],
   "source": [
    "livros = pd.DataFrame({\n",
    "    'Nome do Livro': ['Corte de Espinhos e Rosas', 'O príncipe cruel', 'Imperfeitos'],\n",
    "    'Autor': ['Sarah J. Maas', 'Holly Black', 'Christina Lauren'],\n",
    "    'Editora': ['Galera', 'Galera', 'Faro Editorial'],\n",
    "    'Data de Lançamento': ['2015-05-05', '2018-01-02', '2022-03-10'],\n",
    "    'ISBN': ['9781408857878', '9788711982457', '9786559571284']\n",
    "})\n",
    "tabela = pd.DataFrame({\n",
    "    'ISBN': ['9781408857878', '9788711982457', '9786559571284'],\n",
    "    'Quantidade': ['10', '5', '8'],\n",
    "    'Data de Chegada': ['2023-09-17', '2023-10-02', '2023-11-08'],\n",
    "    'Nome do Comprador': ['Biblioteca Central', 'Secretaria de Cultura', 'Biblioteca Central']\n",
    "    })\n",
    "tabela\n"
   ]
  },
  {
   "cell_type": "code",
   "execution_count": 42,
   "id": "17800663",
   "metadata": {},
   "outputs": [
    {
     "data": {
      "text/html": [
       "<div>\n",
       "<style scoped>\n",
       "    .dataframe tbody tr th:only-of-type {\n",
       "        vertical-align: middle;\n",
       "    }\n",
       "\n",
       "    .dataframe tbody tr th {\n",
       "        vertical-align: top;\n",
       "    }\n",
       "\n",
       "    .dataframe thead th {\n",
       "        text-align: right;\n",
       "    }\n",
       "</style>\n",
       "<table border=\"1\" class=\"dataframe\">\n",
       "  <thead>\n",
       "    <tr style=\"text-align: right;\">\n",
       "      <th></th>\n",
       "      <th>Nome do Livro</th>\n",
       "      <th>Autor</th>\n",
       "      <th>Editora</th>\n",
       "      <th>Data de Lançamento</th>\n",
       "      <th>ISBN</th>\n",
       "      <th>Quantidade</th>\n",
       "      <th>Data de Chegada</th>\n",
       "      <th>Nome do Comprador</th>\n",
       "    </tr>\n",
       "  </thead>\n",
       "  <tbody>\n",
       "    <tr>\n",
       "      <th>0</th>\n",
       "      <td>Corte de Espinhos e Rosas</td>\n",
       "      <td>Sarah J. Maas</td>\n",
       "      <td>Galera</td>\n",
       "      <td>2015-05-05</td>\n",
       "      <td>9781408857878</td>\n",
       "      <td>10</td>\n",
       "      <td>2023-09-17</td>\n",
       "      <td>Biblioteca Central</td>\n",
       "    </tr>\n",
       "    <tr>\n",
       "      <th>1</th>\n",
       "      <td>O príncipe cruel</td>\n",
       "      <td>Holly Black</td>\n",
       "      <td>Galera</td>\n",
       "      <td>2018-01-02</td>\n",
       "      <td>9788711982457</td>\n",
       "      <td>5</td>\n",
       "      <td>2023-10-02</td>\n",
       "      <td>Secretaria de Cultura</td>\n",
       "    </tr>\n",
       "    <tr>\n",
       "      <th>2</th>\n",
       "      <td>Imperfeitos</td>\n",
       "      <td>Christina Lauren</td>\n",
       "      <td>Faro Editorial</td>\n",
       "      <td>2022-03-10</td>\n",
       "      <td>9786559571284</td>\n",
       "      <td>8</td>\n",
       "      <td>2023-11-08</td>\n",
       "      <td>Biblioteca Central</td>\n",
       "    </tr>\n",
       "  </tbody>\n",
       "</table>\n",
       "</div>"
      ],
      "text/plain": [
       "               Nome do Livro             Autor         Editora  \\\n",
       "0  Corte de Espinhos e Rosas     Sarah J. Maas          Galera   \n",
       "1           O príncipe cruel       Holly Black          Galera   \n",
       "2                Imperfeitos  Christina Lauren  Faro Editorial   \n",
       "\n",
       "  Data de Lançamento           ISBN Quantidade Data de Chegada  \\\n",
       "0         2015-05-05  9781408857878         10      2023-09-17   \n",
       "1         2018-01-02  9788711982457          5      2023-10-02   \n",
       "2         2022-03-10  9786559571284          8      2023-11-08   \n",
       "\n",
       "       Nome do Comprador  \n",
       "0     Biblioteca Central  \n",
       "1  Secretaria de Cultura  \n",
       "2     Biblioteca Central  "
      ]
     },
     "execution_count": 42,
     "metadata": {},
     "output_type": "execute_result"
    }
   ],
   "source": [
    "livro = livros.merge(tabela)\n",
    "livro"
   ]
  },
  {
   "cell_type": "code",
   "execution_count": 43,
   "id": "7533b2e0",
   "metadata": {},
   "outputs": [],
   "source": [
    "livro.to_csv('relatorio_estoque.csv')"
   ]
  }
 ],
 "metadata": {
  "kernelspec": {
   "display_name": "Python 3",
   "language": "python",
   "name": "python3"
  },
  "language_info": {
   "codemirror_mode": {
    "name": "ipython",
    "version": 3
   },
   "file_extension": ".py",
   "mimetype": "text/x-python",
   "name": "python",
   "nbconvert_exporter": "python",
   "pygments_lexer": "ipython3",
   "version": "3.10.12"
  }
 },
 "nbformat": 4,
 "nbformat_minor": 5
}
