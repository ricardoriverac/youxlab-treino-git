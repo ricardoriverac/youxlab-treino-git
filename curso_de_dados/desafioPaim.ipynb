{
 "cells": [
  {
   "cell_type": "code",
   "execution_count": 1,
   "id": "927afe15",
   "metadata": {},
   "outputs": [],
   "source": [
    "import pandas as pd"
   ]
  },
  {
   "cell_type": "code",
   "execution_count": null,
   "id": "50864aac",
   "metadata": {},
   "outputs": [
    {
     "data": {
      "text/html": [
       "<div>\n",
       "<style scoped>\n",
       "    .dataframe tbody tr th:only-of-type {\n",
       "        vertical-align: middle;\n",
       "    }\n",
       "\n",
       "    .dataframe tbody tr th {\n",
       "        vertical-align: top;\n",
       "    }\n",
       "\n",
       "    .dataframe thead th {\n",
       "        text-align: right;\n",
       "    }\n",
       "</style>\n",
       "<table border=\"1\" class=\"dataframe\">\n",
       "  <thead>\n",
       "    <tr style=\"text-align: right;\">\n",
       "      <th></th>\n",
       "      <th>Cem anos de solidão</th>\n",
       "      <th>Gabriel garcia marquez</th>\n",
       "      <th>Record</th>\n",
       "      <th>1967-05-30</th>\n",
       "      <th>9788535914849</th>\n",
       "    </tr>\n",
       "  </thead>\n",
       "  <tbody>\n",
       "    <tr>\n",
       "      <th>0</th>\n",
       "      <td>dom casmurro</td>\n",
       "      <td>machado de assis</td>\n",
       "      <td>Atica</td>\n",
       "      <td>1899-01-01</td>\n",
       "      <td>9788508108512</td>\n",
       "    </tr>\n",
       "    <tr>\n",
       "      <th>1</th>\n",
       "      <td>A revolução dos bichos</td>\n",
       "      <td>george orwel</td>\n",
       "      <td>Campanhia das letras</td>\n",
       "      <td>1945-08-17</td>\n",
       "      <td>9788535914840</td>\n",
       "    </tr>\n",
       "  </tbody>\n",
       "</table>\n",
       "</div>"
      ],
      "text/plain": [
       "      Cem anos de solidão Gabriel garcia marquez                 Record  \\\n",
       "0            dom casmurro       machado de assis                  Atica   \n",
       "1  A revolução dos bichos           george orwel  Campanhia das letras    \n",
       "\n",
       "   1967-05-30  9788535914849  \n",
       "0  1899-01-01  9788508108512  \n",
       "1  1945-08-17  9788535914840  "
      ]
     },
     "execution_count": 2,
     "metadata": {},
     "output_type": "execute_result"
    }
   ],
   "source": [
    "data = pd.DataFrame({\n",
    "    'Nome do livro': ['Cem Anos de Solidão', 'Dom casmurro', 'A revolução dos bichos'],\n",
    "    'Autor': ['Gabriel García Márquez', 'Machado de assis', 'George Owell'],\n",
    "    'Editora': ['Record', 'Ática', 'Companhia das Letras'],\n",
    "    'Data de Lançamento': ['1967-05-30', '1899-01-01', '1945-08-17 '],\n",
    "    'ISBN': ['9788535914849', '']\n",
    "})"
   ]
  }
 ],
 "metadata": {
  "kernelspec": {
   "display_name": "Python 3",
   "language": "python",
   "name": "python3"
  },
  "language_info": {
   "codemirror_mode": {
    "name": "ipython",
    "version": 3
   },
   "file_extension": ".py",
   "mimetype": "text/x-python",
   "name": "python",
   "nbconvert_exporter": "python",
   "pygments_lexer": "ipython3",
   "version": "3.10.12"
  }
 },
 "nbformat": 4,
 "nbformat_minor": 5
}
