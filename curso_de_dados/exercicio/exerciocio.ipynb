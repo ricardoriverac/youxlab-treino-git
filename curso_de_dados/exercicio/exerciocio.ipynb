{
 "cells": [
  {
   "cell_type": "code",
   "execution_count": 6,
   "id": "69e0415d",
   "metadata": {},
   "outputs": [],
   "source": [
    "import pandas as pd"
   ]
  },
  {
   "cell_type": "code",
   "execution_count": 7,
   "id": "5edca7f3",
   "metadata": {},
   "outputs": [
    {
     "name": "stdout",
     "output_type": "stream",
     "text": [
      "             Estados fabricantes\n",
      "0          São Paulo     Toyotta\n",
      "1       Minas Gerais      Nissan\n",
      "2  Rio Grande Do Sul        Ford\n"
     ]
    }
   ],
   "source": [
    "estados = pd.Series(['São Paulo', 'Minas Gerais', 'Rio Grande Do Sul'], name='estados')\n",
    "\n",
    "fabricantes = pd.Series(['Toyotta', 'Nissan', 'Ford'], name='fabricantes')\n",
    "\n",
    "df = pd.DataFrame({\n",
    "    'Estados': estados,\n",
    "    'fabricantes': fabricantes\n",
    "})\n",
    "print(df)"
   ]
  },
  {
   "cell_type": "code",
   "execution_count": 8,
   "id": "7b5f66b4",
   "metadata": {},
   "outputs": [
    {
     "data": {
      "text/html": [
       "<div>\n",
       "<style scoped>\n",
       "    .dataframe tbody tr th:only-of-type {\n",
       "        vertical-align: middle;\n",
       "    }\n",
       "\n",
       "    .dataframe tbody tr th {\n",
       "        vertical-align: top;\n",
       "    }\n",
       "\n",
       "    .dataframe thead th {\n",
       "        text-align: right;\n",
       "    }\n",
       "</style>\n",
       "<table border=\"1\" class=\"dataframe\">\n",
       "  <thead>\n",
       "    <tr style=\"text-align: right;\">\n",
       "      <th></th>\n",
       "      <th>Estados</th>\n",
       "      <th>fabricantes</th>\n",
       "    </tr>\n",
       "  </thead>\n",
       "  <tbody>\n",
       "    <tr>\n",
       "      <th>0</th>\n",
       "      <td>São Paulo</td>\n",
       "      <td>Toyotta</td>\n",
       "    </tr>\n",
       "    <tr>\n",
       "      <th>1</th>\n",
       "      <td>Minas Gerais</td>\n",
       "      <td>Nissan</td>\n",
       "    </tr>\n",
       "    <tr>\n",
       "      <th>2</th>\n",
       "      <td>Rio Grande Do Sul</td>\n",
       "      <td>Ford</td>\n",
       "    </tr>\n",
       "  </tbody>\n",
       "</table>\n",
       "</div>"
      ],
      "text/plain": [
       "             Estados fabricantes\n",
       "0          São Paulo     Toyotta\n",
       "1       Minas Gerais      Nissan\n",
       "2  Rio Grande Do Sul        Ford"
      ]
     },
     "execution_count": 8,
     "metadata": {},
     "output_type": "execute_result"
    }
   ],
   "source": [
    "df"
   ]
  },
  {
   "cell_type": "code",
   "execution_count": 9,
   "id": "6c8e2cde",
   "metadata": {},
   "outputs": [
    {
     "name": "stdout",
     "output_type": "stream",
     "text": [
      "<class 'pandas.core.frame.DataFrame'>\n",
      "RangeIndex: 3 entries, 0 to 2\n",
      "Data columns (total 2 columns):\n",
      " #   Column       Non-Null Count  Dtype \n",
      "---  ------       --------------  ----- \n",
      " 0   Estados      3 non-null      object\n",
      " 1   fabricantes  3 non-null      object\n",
      "dtypes: object(2)\n",
      "memory usage: 176.0+ bytes\n"
     ]
    }
   ],
   "source": [
    "df.info()"
   ]
  },
  {
   "cell_type": "code",
   "execution_count": 10,
   "id": "dbf21b3d",
   "metadata": {},
   "outputs": [
    {
     "data": {
      "text/html": [
       "<div>\n",
       "<style scoped>\n",
       "    .dataframe tbody tr th:only-of-type {\n",
       "        vertical-align: middle;\n",
       "    }\n",
       "\n",
       "    .dataframe tbody tr th {\n",
       "        vertical-align: top;\n",
       "    }\n",
       "\n",
       "    .dataframe thead th {\n",
       "        text-align: right;\n",
       "    }\n",
       "</style>\n",
       "<table border=\"1\" class=\"dataframe\">\n",
       "  <thead>\n",
       "    <tr style=\"text-align: right;\">\n",
       "      <th></th>\n",
       "      <th>Fabricante</th>\n",
       "      <th>Cor</th>\n",
       "      <th>Quilometragem</th>\n",
       "      <th>Portas</th>\n",
       "      <th>Preco</th>\n",
       "    </tr>\n",
       "  </thead>\n",
       "  <tbody>\n",
       "    <tr>\n",
       "      <th>0</th>\n",
       "      <td>Toyota</td>\n",
       "      <td>Branco</td>\n",
       "      <td>150043</td>\n",
       "      <td>4</td>\n",
       "      <td>R$ 24,000.00</td>\n",
       "    </tr>\n",
       "    <tr>\n",
       "      <th>1</th>\n",
       "      <td>Honda</td>\n",
       "      <td>Vermelho</td>\n",
       "      <td>87899</td>\n",
       "      <td>4</td>\n",
       "      <td>R$ 25,000.00</td>\n",
       "    </tr>\n",
       "    <tr>\n",
       "      <th>2</th>\n",
       "      <td>Toyota</td>\n",
       "      <td>Azul</td>\n",
       "      <td>32549</td>\n",
       "      <td>3</td>\n",
       "      <td>R$ 27,000.00</td>\n",
       "    </tr>\n",
       "    <tr>\n",
       "      <th>3</th>\n",
       "      <td>BMW</td>\n",
       "      <td>Preto</td>\n",
       "      <td>11179</td>\n",
       "      <td>5</td>\n",
       "      <td>R$ 122,000.00</td>\n",
       "    </tr>\n",
       "    <tr>\n",
       "      <th>4</th>\n",
       "      <td>Nissan</td>\n",
       "      <td>Branco</td>\n",
       "      <td>213095</td>\n",
       "      <td>4</td>\n",
       "      <td>R$ 13,500.00</td>\n",
       "    </tr>\n",
       "    <tr>\n",
       "      <th>5</th>\n",
       "      <td>Toyota</td>\n",
       "      <td>Verde</td>\n",
       "      <td>99213</td>\n",
       "      <td>4</td>\n",
       "      <td>R$ 14,500.00</td>\n",
       "    </tr>\n",
       "    <tr>\n",
       "      <th>6</th>\n",
       "      <td>Honda</td>\n",
       "      <td>Azul</td>\n",
       "      <td>45698</td>\n",
       "      <td>4</td>\n",
       "      <td>R$ 17,500.00</td>\n",
       "    </tr>\n",
       "    <tr>\n",
       "      <th>7</th>\n",
       "      <td>Honda</td>\n",
       "      <td>Azul</td>\n",
       "      <td>54738</td>\n",
       "      <td>4</td>\n",
       "      <td>R$ 27,000.00</td>\n",
       "    </tr>\n",
       "    <tr>\n",
       "      <th>8</th>\n",
       "      <td>Toyota</td>\n",
       "      <td>Branco</td>\n",
       "      <td>60000</td>\n",
       "      <td>4</td>\n",
       "      <td>R$ 26,250.00</td>\n",
       "    </tr>\n",
       "    <tr>\n",
       "      <th>9</th>\n",
       "      <td>Nissan</td>\n",
       "      <td>Branco</td>\n",
       "      <td>31600</td>\n",
       "      <td>4</td>\n",
       "      <td>R$ 19,700.00</td>\n",
       "    </tr>\n",
       "  </tbody>\n",
       "</table>\n",
       "</div>"
      ],
      "text/plain": [
       "  Fabricante       Cor  Quilometragem  Portas          Preco\n",
       "0     Toyota    Branco         150043       4   R$ 24,000.00\n",
       "1      Honda  Vermelho          87899       4   R$ 25,000.00\n",
       "2     Toyota      Azul          32549       3   R$ 27,000.00\n",
       "3        BMW     Preto          11179       5  R$ 122,000.00\n",
       "4     Nissan    Branco         213095       4   R$ 13,500.00\n",
       "5     Toyota     Verde          99213       4   R$ 14,500.00\n",
       "6      Honda      Azul          45698       4   R$ 17,500.00\n",
       "7      Honda      Azul          54738       4   R$ 27,000.00\n",
       "8     Toyota    Branco          60000       4   R$ 26,250.00\n",
       "9     Nissan    Branco          31600       4   R$ 19,700.00"
      ]
     },
     "execution_count": 10,
     "metadata": {},
     "output_type": "execute_result"
    }
   ],
   "source": [
    "data = pd.read_csv('/home/youx/projeto-git-lab/youxlab-treino-git/curso_de_dados/exercicio/venda-de-carros.csv')\n",
    "data\n"
   ]
  },
  {
   "cell_type": "code",
   "execution_count": 11,
   "id": "d6490bf9",
   "metadata": {},
   "outputs": [
    {
     "name": "stdout",
     "output_type": "stream",
     "text": [
      "<class 'pandas.core.frame.DataFrame'>\n",
      "RangeIndex: 10 entries, 0 to 9\n",
      "Data columns (total 5 columns):\n",
      " #   Column         Non-Null Count  Dtype \n",
      "---  ------         --------------  ----- \n",
      " 0   Fabricante     10 non-null     object\n",
      " 1   Cor            10 non-null     object\n",
      " 2   Quilometragem  10 non-null     int64 \n",
      " 3   Portas         10 non-null     int64 \n",
      " 4   Preco          10 non-null     object\n",
      "dtypes: int64(2), object(3)\n",
      "memory usage: 528.0+ bytes\n"
     ]
    }
   ],
   "source": [
    "data.info(\n",
    ")"
   ]
  },
  {
   "cell_type": "code",
   "execution_count": 12,
   "id": "a05a2767",
   "metadata": {},
   "outputs": [
    {
     "data": {
      "text/html": [
       "<div>\n",
       "<style scoped>\n",
       "    .dataframe tbody tr th:only-of-type {\n",
       "        vertical-align: middle;\n",
       "    }\n",
       "\n",
       "    .dataframe tbody tr th {\n",
       "        vertical-align: top;\n",
       "    }\n",
       "\n",
       "    .dataframe thead th {\n",
       "        text-align: right;\n",
       "    }\n",
       "</style>\n",
       "<table border=\"1\" class=\"dataframe\">\n",
       "  <thead>\n",
       "    <tr style=\"text-align: right;\">\n",
       "      <th></th>\n",
       "      <th>Quilometragem</th>\n",
       "      <th>Portas</th>\n",
       "    </tr>\n",
       "  </thead>\n",
       "  <tbody>\n",
       "    <tr>\n",
       "      <th>count</th>\n",
       "      <td>10.000000</td>\n",
       "      <td>10.000000</td>\n",
       "    </tr>\n",
       "    <tr>\n",
       "      <th>mean</th>\n",
       "      <td>78601.400000</td>\n",
       "      <td>4.000000</td>\n",
       "    </tr>\n",
       "    <tr>\n",
       "      <th>std</th>\n",
       "      <td>61983.471735</td>\n",
       "      <td>0.471405</td>\n",
       "    </tr>\n",
       "    <tr>\n",
       "      <th>min</th>\n",
       "      <td>11179.000000</td>\n",
       "      <td>3.000000</td>\n",
       "    </tr>\n",
       "    <tr>\n",
       "      <th>25%</th>\n",
       "      <td>35836.250000</td>\n",
       "      <td>4.000000</td>\n",
       "    </tr>\n",
       "    <tr>\n",
       "      <th>50%</th>\n",
       "      <td>57369.000000</td>\n",
       "      <td>4.000000</td>\n",
       "    </tr>\n",
       "    <tr>\n",
       "      <th>75%</th>\n",
       "      <td>96384.500000</td>\n",
       "      <td>4.000000</td>\n",
       "    </tr>\n",
       "    <tr>\n",
       "      <th>max</th>\n",
       "      <td>213095.000000</td>\n",
       "      <td>5.000000</td>\n",
       "    </tr>\n",
       "  </tbody>\n",
       "</table>\n",
       "</div>"
      ],
      "text/plain": [
       "       Quilometragem     Portas\n",
       "count      10.000000  10.000000\n",
       "mean    78601.400000   4.000000\n",
       "std     61983.471735   0.471405\n",
       "min     11179.000000   3.000000\n",
       "25%     35836.250000   4.000000\n",
       "50%     57369.000000   4.000000\n",
       "75%     96384.500000   4.000000\n",
       "max    213095.000000   5.000000"
      ]
     },
     "execution_count": 12,
     "metadata": {},
     "output_type": "execute_result"
    }
   ],
   "source": [
    "data.describe()"
   ]
  },
  {
   "cell_type": "code",
   "execution_count": 13,
   "id": "738cd748",
   "metadata": {},
   "outputs": [
    {
     "name": "stdout",
     "output_type": "stream",
     "text": [
      "Index(['Fabricante', 'Cor', 'Quilometragem', 'Portas', 'Preco'], dtype='object')\n"
     ]
    }
   ],
   "source": [
    "print(data.columns)"
   ]
  },
  {
   "cell_type": "code",
   "execution_count": 14,
   "id": "fb75595d",
   "metadata": {},
   "outputs": [
    {
     "data": {
      "text/html": [
       "<div>\n",
       "<style scoped>\n",
       "    .dataframe tbody tr th:only-of-type {\n",
       "        vertical-align: middle;\n",
       "    }\n",
       "\n",
       "    .dataframe tbody tr th {\n",
       "        vertical-align: top;\n",
       "    }\n",
       "\n",
       "    .dataframe thead th {\n",
       "        text-align: right;\n",
       "    }\n",
       "</style>\n",
       "<table border=\"1\" class=\"dataframe\">\n",
       "  <thead>\n",
       "    <tr style=\"text-align: right;\">\n",
       "      <th></th>\n",
       "      <th>Fabricante</th>\n",
       "      <th>Cor</th>\n",
       "      <th>Quilometragem</th>\n",
       "      <th>Portas</th>\n",
       "      <th>Preco</th>\n",
       "    </tr>\n",
       "  </thead>\n",
       "  <tbody>\n",
       "    <tr>\n",
       "      <th>0</th>\n",
       "      <td>Toyota</td>\n",
       "      <td>Branco</td>\n",
       "      <td>150043</td>\n",
       "      <td>4</td>\n",
       "      <td>R$ 24,000.00</td>\n",
       "    </tr>\n",
       "    <tr>\n",
       "      <th>1</th>\n",
       "      <td>Honda</td>\n",
       "      <td>Vermelho</td>\n",
       "      <td>87899</td>\n",
       "      <td>4</td>\n",
       "      <td>R$ 25,000.00</td>\n",
       "    </tr>\n",
       "    <tr>\n",
       "      <th>2</th>\n",
       "      <td>Toyota</td>\n",
       "      <td>Azul</td>\n",
       "      <td>32549</td>\n",
       "      <td>3</td>\n",
       "      <td>R$ 27,000.00</td>\n",
       "    </tr>\n",
       "    <tr>\n",
       "      <th>3</th>\n",
       "      <td>BMW</td>\n",
       "      <td>Preto</td>\n",
       "      <td>11179</td>\n",
       "      <td>5</td>\n",
       "      <td>R$ 122,000.00</td>\n",
       "    </tr>\n",
       "    <tr>\n",
       "      <th>4</th>\n",
       "      <td>Nissan</td>\n",
       "      <td>Branco</td>\n",
       "      <td>213095</td>\n",
       "      <td>4</td>\n",
       "      <td>R$ 13,500.00</td>\n",
       "    </tr>\n",
       "  </tbody>\n",
       "</table>\n",
       "</div>"
      ],
      "text/plain": [
       "  Fabricante       Cor  Quilometragem  Portas          Preco\n",
       "0     Toyota    Branco         150043       4   R$ 24,000.00\n",
       "1      Honda  Vermelho          87899       4   R$ 25,000.00\n",
       "2     Toyota      Azul          32549       3   R$ 27,000.00\n",
       "3        BMW     Preto          11179       5  R$ 122,000.00\n",
       "4     Nissan    Branco         213095       4   R$ 13,500.00"
      ]
     },
     "execution_count": 14,
     "metadata": {},
     "output_type": "execute_result"
    }
   ],
   "source": [
    "data.head(5)"
   ]
  },
  {
   "cell_type": "code",
   "execution_count": 15,
   "id": "419c82a2",
   "metadata": {},
   "outputs": [
    {
     "data": {
      "text/plain": [
       "Fabricante                 BMW\n",
       "Cor                      Preto\n",
       "Quilometragem            11179\n",
       "Portas                       5\n",
       "Preco            R$ 122,000.00\n",
       "Name: 3, dtype: object"
      ]
     },
     "execution_count": 15,
     "metadata": {},
     "output_type": "execute_result"
    }
   ],
   "source": [
    "data.loc[3]"
   ]
  },
  {
   "cell_type": "code",
   "execution_count": 16,
   "id": "cea25542",
   "metadata": {},
   "outputs": [
    {
     "data": {
      "text/plain": [
       "Fabricante             Toyota\n",
       "Cor                     Verde\n",
       "Quilometragem           99213\n",
       "Portas                      4\n",
       "Preco            R$ 14,500.00\n",
       "Name: 5, dtype: object"
      ]
     },
     "execution_count": 16,
     "metadata": {},
     "output_type": "execute_result"
    }
   ],
   "source": [
    "data.iloc[5]"
   ]
  },
  {
   "cell_type": "code",
   "execution_count": 17,
   "id": "f5c65a4e",
   "metadata": {},
   "outputs": [
    {
     "name": "stdout",
     "output_type": "stream",
     "text": [
      "786014\n",
      "A média da coluna quilometragem é 78601.4\n"
     ]
    }
   ],
   "source": [
    "somaKm = 0\n",
    "soma = []\n",
    "\n",
    "for quilometro in data.Quilometragem:\n",
    "    somaKm += quilometro\n",
    "    soma.append(quilometro)\n",
    "\n",
    "print(somaKm)\n",
    "media = somaKm / len(data.Quilometragem)\n",
    "print(f'A média da coluna quilometragem é {media}')\n",
    "    \n",
    "    "
   ]
  },
  {
   "cell_type": "code",
   "execution_count": 18,
   "id": "635159bf",
   "metadata": {},
   "outputs": [
    {
     "name": "stdout",
     "output_type": "stream",
     "text": [
      "<class 'pandas.core.frame.DataFrame'>\n",
      "RangeIndex: 10 entries, 0 to 9\n",
      "Data columns (total 5 columns):\n",
      " #   Column         Non-Null Count  Dtype \n",
      "---  ------         --------------  ----- \n",
      " 0   Fabricante     10 non-null     object\n",
      " 1   Cor            10 non-null     object\n",
      " 2   Quilometragem  10 non-null     int64 \n",
      " 3   Portas         10 non-null     int64 \n",
      " 4   Preco          10 non-null     object\n",
      "dtypes: int64(2), object(3)\n",
      "memory usage: 528.0+ bytes\n"
     ]
    }
   ],
   "source": [
    "data.info(\n",
    ")"
   ]
  },
  {
   "cell_type": "code",
   "execution_count": 19,
   "id": "7db94e8c",
   "metadata": {},
   "outputs": [
    {
     "name": "stdout",
     "output_type": "stream",
     "text": [
      "10\n"
     ]
    }
   ],
   "source": [
    "print(len(data.Quilometragem))"
   ]
  },
  {
   "cell_type": "code",
   "execution_count": 20,
   "id": "dfdd5ee5",
   "metadata": {},
   "outputs": [
    {
     "name": "stdout",
     "output_type": "stream",
     "text": [
      "  Fabricante       Cor  Quilometragem  Portas         Preco\n",
      "0     Toyota    Branco         150043       4  R$ 19.700.00\n",
      "1      Honda  Vermelho          87899       4  R$ 19.700.00\n",
      "2     Toyota      Azul          32549       3  R$ 19.700.00\n",
      "3        BMW     Preto          11179       5  R$ 19.700.00\n",
      "4     Nissan    Branco         213095       4  R$ 19.700.00\n",
      "5     Toyota     Verde          99213       4  R$ 19.700.00\n",
      "6      Honda      Azul          45698       4  R$ 19.700.00\n",
      "7      Honda      Azul          54738       4  R$ 19.700.00\n",
      "8     Toyota    Branco          60000       4  R$ 19.700.00\n",
      "9     Nissan    Branco          31600       4  R$ 19.700.00\n"
     ]
    }
   ],
   "source": [
    "for valor in data['Preco']:\n",
    "    valor = valor.replace(',', '.')\n",
    "    data['Preco'] = valor\n",
    "print(data)"
   ]
  },
  {
   "cell_type": "code",
   "execution_count": 21,
   "id": "a93be504",
   "metadata": {},
   "outputs": [
    {
     "name": "stdout",
     "output_type": "stream",
     "text": [
      "0.0\n",
      "0.0\n",
      "0.0\n",
      "0.0\n",
      "0.0\n",
      "0.0\n",
      "0.0\n",
      "0.0\n",
      "0.0\n",
      "0.0\n"
     ]
    }
   ],
   "source": [
    "data.loc[:, 'Preco']\n",
    "for v in data['Preco']:\n",
    "    v = float()\n",
    "    print(v)"
   ]
  },
  {
   "cell_type": "code",
   "execution_count": 22,
   "id": "5e4bfd1c",
   "metadata": {},
   "outputs": [
    {
     "data": {
      "text/html": [
       "<div>\n",
       "<style scoped>\n",
       "    .dataframe tbody tr th:only-of-type {\n",
       "        vertical-align: middle;\n",
       "    }\n",
       "\n",
       "    .dataframe tbody tr th {\n",
       "        vertical-align: top;\n",
       "    }\n",
       "\n",
       "    .dataframe thead th {\n",
       "        text-align: right;\n",
       "    }\n",
       "</style>\n",
       "<table border=\"1\" class=\"dataframe\">\n",
       "  <thead>\n",
       "    <tr style=\"text-align: right;\">\n",
       "      <th></th>\n",
       "      <th>Fabricante</th>\n",
       "      <th>Cor</th>\n",
       "      <th>Quilometragem</th>\n",
       "      <th>Portas</th>\n",
       "      <th>Preco</th>\n",
       "    </tr>\n",
       "  </thead>\n",
       "  <tbody>\n",
       "    <tr>\n",
       "      <th>0</th>\n",
       "      <td>Toyota</td>\n",
       "      <td>Branco</td>\n",
       "      <td>150043</td>\n",
       "      <td>4</td>\n",
       "      <td>R$ 24,000.00</td>\n",
       "    </tr>\n",
       "    <tr>\n",
       "      <th>1</th>\n",
       "      <td>Honda</td>\n",
       "      <td>Vermelho</td>\n",
       "      <td>87899</td>\n",
       "      <td>4</td>\n",
       "      <td>R$ 25,000.00</td>\n",
       "    </tr>\n",
       "    <tr>\n",
       "      <th>2</th>\n",
       "      <td>Toyota</td>\n",
       "      <td>Azul</td>\n",
       "      <td>32549</td>\n",
       "      <td>3</td>\n",
       "      <td>R$ 27,000.00</td>\n",
       "    </tr>\n",
       "    <tr>\n",
       "      <th>3</th>\n",
       "      <td>BMW</td>\n",
       "      <td>Preto</td>\n",
       "      <td>11179</td>\n",
       "      <td>5</td>\n",
       "      <td>R$ 122,000.00</td>\n",
       "    </tr>\n",
       "    <tr>\n",
       "      <th>4</th>\n",
       "      <td>Nissan</td>\n",
       "      <td>Branco</td>\n",
       "      <td>213095</td>\n",
       "      <td>4</td>\n",
       "      <td>R$ 13,500.00</td>\n",
       "    </tr>\n",
       "    <tr>\n",
       "      <th>5</th>\n",
       "      <td>Toyota</td>\n",
       "      <td>Verde</td>\n",
       "      <td>99213</td>\n",
       "      <td>4</td>\n",
       "      <td>R$ 14,500.00</td>\n",
       "    </tr>\n",
       "    <tr>\n",
       "      <th>6</th>\n",
       "      <td>Honda</td>\n",
       "      <td>Azul</td>\n",
       "      <td>45698</td>\n",
       "      <td>4</td>\n",
       "      <td>R$ 17,500.00</td>\n",
       "    </tr>\n",
       "    <tr>\n",
       "      <th>7</th>\n",
       "      <td>Honda</td>\n",
       "      <td>Azul</td>\n",
       "      <td>54738</td>\n",
       "      <td>4</td>\n",
       "      <td>R$ 27,000.00</td>\n",
       "    </tr>\n",
       "    <tr>\n",
       "      <th>8</th>\n",
       "      <td>Toyota</td>\n",
       "      <td>Branco</td>\n",
       "      <td>60000</td>\n",
       "      <td>4</td>\n",
       "      <td>R$ 26,250.00</td>\n",
       "    </tr>\n",
       "    <tr>\n",
       "      <th>9</th>\n",
       "      <td>Nissan</td>\n",
       "      <td>Branco</td>\n",
       "      <td>31600</td>\n",
       "      <td>4</td>\n",
       "      <td>R$ 19,700.00</td>\n",
       "    </tr>\n",
       "  </tbody>\n",
       "</table>\n",
       "</div>"
      ],
      "text/plain": [
       "  Fabricante       Cor  Quilometragem  Portas          Preco\n",
       "0     Toyota    Branco         150043       4   R$ 24,000.00\n",
       "1      Honda  Vermelho          87899       4   R$ 25,000.00\n",
       "2     Toyota      Azul          32549       3   R$ 27,000.00\n",
       "3        BMW     Preto          11179       5  R$ 122,000.00\n",
       "4     Nissan    Branco         213095       4   R$ 13,500.00\n",
       "5     Toyota     Verde          99213       4   R$ 14,500.00\n",
       "6      Honda      Azul          45698       4   R$ 17,500.00\n",
       "7      Honda      Azul          54738       4   R$ 27,000.00\n",
       "8     Toyota    Branco          60000       4   R$ 26,250.00\n",
       "9     Nissan    Branco          31600       4   R$ 19,700.00"
      ]
     },
     "execution_count": 22,
     "metadata": {},
     "output_type": "execute_result"
    }
   ],
   "source": [
    "data = pd.read_csv('/home/youx/projeto-git-lab/youxlab-treino-git/curso_de_dados/exercicio/venda-de-carros.csv')\n",
    "data"
   ]
  },
  {
   "cell_type": "code",
   "execution_count": 26,
   "id": "49177f97",
   "metadata": {},
   "outputs": [
    {
     "name": "stdout",
     "output_type": "stream",
     "text": [
      "78601.4\n"
     ]
    }
   ],
   "source": [
    "lista = []\n",
    "for km in data['Quilometragem']:\n",
    "    lista.append(km)\n",
    "media = sum(lista) / len(lista)\n",
    "print(media)"
   ]
  },
  {
   "cell_type": "code",
   "execution_count": 28,
   "id": "23d17a63",
   "metadata": {},
   "outputs": [
    {
     "data": {
      "text/html": [
       "<div>\n",
       "<style scoped>\n",
       "    .dataframe tbody tr th:only-of-type {\n",
       "        vertical-align: middle;\n",
       "    }\n",
       "\n",
       "    .dataframe tbody tr th {\n",
       "        vertical-align: top;\n",
       "    }\n",
       "\n",
       "    .dataframe thead th {\n",
       "        text-align: right;\n",
       "    }\n",
       "</style>\n",
       "<table border=\"1\" class=\"dataframe\">\n",
       "  <thead>\n",
       "    <tr style=\"text-align: right;\">\n",
       "      <th></th>\n",
       "      <th>Fabricante</th>\n",
       "      <th>Cor</th>\n",
       "      <th>Quilometragem</th>\n",
       "      <th>Portas</th>\n",
       "      <th>Preco</th>\n",
       "    </tr>\n",
       "  </thead>\n",
       "  <tbody>\n",
       "    <tr>\n",
       "      <th>0</th>\n",
       "      <td>Toyota</td>\n",
       "      <td>Branco</td>\n",
       "      <td>150043</td>\n",
       "      <td>4</td>\n",
       "      <td>R$ 24,000.00</td>\n",
       "    </tr>\n",
       "    <tr>\n",
       "      <th>4</th>\n",
       "      <td>Nissan</td>\n",
       "      <td>Branco</td>\n",
       "      <td>213095</td>\n",
       "      <td>4</td>\n",
       "      <td>R$ 13,500.00</td>\n",
       "    </tr>\n",
       "  </tbody>\n",
       "</table>\n",
       "</div>"
      ],
      "text/plain": [
       "  Fabricante     Cor  Quilometragem  Portas         Preco\n",
       "0     Toyota  Branco         150043       4  R$ 24,000.00\n",
       "4     Nissan  Branco         213095       4  R$ 13,500.00"
      ]
     },
     "execution_count": 28,
     "metadata": {},
     "output_type": "execute_result"
    }
   ],
   "source": [
    "selecaom = data['Quilometragem'] > 100000\n",
    "data[selecaom]\n",
    "\n"
   ]
  },
  {
   "cell_type": "code",
   "execution_count": 29,
   "id": "ae7b857b",
   "metadata": {},
   "outputs": [
    {
     "data": {
      "text/html": [
       "<div>\n",
       "<style scoped>\n",
       "    .dataframe tbody tr th:only-of-type {\n",
       "        vertical-align: middle;\n",
       "    }\n",
       "\n",
       "    .dataframe tbody tr th {\n",
       "        vertical-align: top;\n",
       "    }\n",
       "\n",
       "    .dataframe thead th {\n",
       "        text-align: right;\n",
       "    }\n",
       "</style>\n",
       "<table border=\"1\" class=\"dataframe\">\n",
       "  <thead>\n",
       "    <tr style=\"text-align: right;\">\n",
       "      <th></th>\n",
       "      <th>Fabricante</th>\n",
       "      <th>Cor</th>\n",
       "      <th>Quilometragem</th>\n",
       "      <th>Portas</th>\n",
       "      <th>Preco</th>\n",
       "    </tr>\n",
       "  </thead>\n",
       "  <tbody>\n",
       "    <tr>\n",
       "      <th>0</th>\n",
       "      <td>Toyota</td>\n",
       "      <td>Branco</td>\n",
       "      <td>150043</td>\n",
       "      <td>4</td>\n",
       "      <td>R$ 24,000.00</td>\n",
       "    </tr>\n",
       "    <tr>\n",
       "      <th>1</th>\n",
       "      <td>Honda</td>\n",
       "      <td>Vermelho</td>\n",
       "      <td>87899</td>\n",
       "      <td>4</td>\n",
       "      <td>R$ 25,000.00</td>\n",
       "    </tr>\n",
       "    <tr>\n",
       "      <th>2</th>\n",
       "      <td>Toyota</td>\n",
       "      <td>Azul</td>\n",
       "      <td>32549</td>\n",
       "      <td>3</td>\n",
       "      <td>R$ 27,000.00</td>\n",
       "    </tr>\n",
       "    <tr>\n",
       "      <th>3</th>\n",
       "      <td>BMW</td>\n",
       "      <td>Preto</td>\n",
       "      <td>11179</td>\n",
       "      <td>5</td>\n",
       "      <td>R$ 122,000.00</td>\n",
       "    </tr>\n",
       "    <tr>\n",
       "      <th>4</th>\n",
       "      <td>Nissan</td>\n",
       "      <td>Branco</td>\n",
       "      <td>213095</td>\n",
       "      <td>4</td>\n",
       "      <td>R$ 13,500.00</td>\n",
       "    </tr>\n",
       "    <tr>\n",
       "      <th>5</th>\n",
       "      <td>Toyota</td>\n",
       "      <td>Verde</td>\n",
       "      <td>99213</td>\n",
       "      <td>4</td>\n",
       "      <td>R$ 14,500.00</td>\n",
       "    </tr>\n",
       "    <tr>\n",
       "      <th>6</th>\n",
       "      <td>Honda</td>\n",
       "      <td>Azul</td>\n",
       "      <td>45698</td>\n",
       "      <td>4</td>\n",
       "      <td>R$ 17,500.00</td>\n",
       "    </tr>\n",
       "    <tr>\n",
       "      <th>7</th>\n",
       "      <td>Honda</td>\n",
       "      <td>Azul</td>\n",
       "      <td>54738</td>\n",
       "      <td>4</td>\n",
       "      <td>R$ 27,000.00</td>\n",
       "    </tr>\n",
       "    <tr>\n",
       "      <th>8</th>\n",
       "      <td>Toyota</td>\n",
       "      <td>Branco</td>\n",
       "      <td>60000</td>\n",
       "      <td>4</td>\n",
       "      <td>R$ 26,250.00</td>\n",
       "    </tr>\n",
       "    <tr>\n",
       "      <th>9</th>\n",
       "      <td>Nissan</td>\n",
       "      <td>Branco</td>\n",
       "      <td>31600</td>\n",
       "      <td>4</td>\n",
       "      <td>R$ 19,700.00</td>\n",
       "    </tr>\n",
       "  </tbody>\n",
       "</table>\n",
       "</div>"
      ],
      "text/plain": [
       "  Fabricante       Cor  Quilometragem  Portas          Preco\n",
       "0     Toyota    Branco         150043       4   R$ 24,000.00\n",
       "1      Honda  Vermelho          87899       4   R$ 25,000.00\n",
       "2     Toyota      Azul          32549       3   R$ 27,000.00\n",
       "3        BMW     Preto          11179       5  R$ 122,000.00\n",
       "4     Nissan    Branco         213095       4   R$ 13,500.00\n",
       "5     Toyota     Verde          99213       4   R$ 14,500.00\n",
       "6      Honda      Azul          45698       4   R$ 17,500.00\n",
       "7      Honda      Azul          54738       4   R$ 27,000.00\n",
       "8     Toyota    Branco          60000       4   R$ 26,250.00\n",
       "9     Nissan    Branco          31600       4   R$ 19,700.00"
      ]
     },
     "execution_count": 29,
     "metadata": {},
     "output_type": "execute_result"
    }
   ],
   "source": [
    "data"
   ]
  },
  {
   "cell_type": "code",
   "execution_count": 32,
   "id": "7c71180d",
   "metadata": {},
   "outputs": [
    {
     "name": "stdout",
     "output_type": "stream",
     "text": [
      "  Fabricante       Cor  Quilometragem  Portas         Preco\n",
      "0     Toyota    Branco         150043       4  R$ 19.700.00\n",
      "1      Honda  Vermelho          87899       4  R$ 19.700.00\n",
      "2     Toyota      Azul          32549       3  R$ 19.700.00\n",
      "3        BMW     Preto          11179       5  R$ 19.700.00\n",
      "4     Nissan    Branco         213095       4  R$ 19.700.00\n",
      "5     Toyota     Verde          99213       4  R$ 19.700.00\n",
      "6      Honda      Azul          45698       4  R$ 19.700.00\n",
      "7      Honda      Azul          54738       4  R$ 19.700.00\n",
      "8     Toyota    Branco          60000       4  R$ 19.700.00\n",
      "9     Nissan    Branco          31600       4  R$ 19.700.00\n"
     ]
    }
   ],
   "source": [
    "for pre in data['Preco']:\n",
    "    vv = pre.replace(',', '.')\n",
    "print(data)\n"
   ]
  },
  {
   "cell_type": "code",
   "execution_count": 33,
   "id": "32164e9c",
   "metadata": {},
   "outputs": [
    {
     "data": {
      "text/html": [
       "<div>\n",
       "<style scoped>\n",
       "    .dataframe tbody tr th:only-of-type {\n",
       "        vertical-align: middle;\n",
       "    }\n",
       "\n",
       "    .dataframe tbody tr th {\n",
       "        vertical-align: top;\n",
       "    }\n",
       "\n",
       "    .dataframe thead th {\n",
       "        text-align: right;\n",
       "    }\n",
       "</style>\n",
       "<table border=\"1\" class=\"dataframe\">\n",
       "  <thead>\n",
       "    <tr style=\"text-align: right;\">\n",
       "      <th></th>\n",
       "      <th>Fabricante</th>\n",
       "      <th>Cor</th>\n",
       "      <th>Quilometragem</th>\n",
       "      <th>Portas</th>\n",
       "      <th>Preco</th>\n",
       "    </tr>\n",
       "  </thead>\n",
       "  <tbody>\n",
       "    <tr>\n",
       "      <th>0</th>\n",
       "      <td>Toyota</td>\n",
       "      <td>Branco</td>\n",
       "      <td>150043</td>\n",
       "      <td>4</td>\n",
       "      <td>R$ 24,000.00</td>\n",
       "    </tr>\n",
       "    <tr>\n",
       "      <th>1</th>\n",
       "      <td>Honda</td>\n",
       "      <td>Vermelho</td>\n",
       "      <td>87899</td>\n",
       "      <td>4</td>\n",
       "      <td>R$ 25,000.00</td>\n",
       "    </tr>\n",
       "    <tr>\n",
       "      <th>2</th>\n",
       "      <td>Toyota</td>\n",
       "      <td>Azul</td>\n",
       "      <td>32549</td>\n",
       "      <td>3</td>\n",
       "      <td>R$ 27,000.00</td>\n",
       "    </tr>\n",
       "    <tr>\n",
       "      <th>3</th>\n",
       "      <td>BMW</td>\n",
       "      <td>Preto</td>\n",
       "      <td>11179</td>\n",
       "      <td>5</td>\n",
       "      <td>R$ 122,000.00</td>\n",
       "    </tr>\n",
       "    <tr>\n",
       "      <th>4</th>\n",
       "      <td>Nissan</td>\n",
       "      <td>Branco</td>\n",
       "      <td>213095</td>\n",
       "      <td>4</td>\n",
       "      <td>R$ 13,500.00</td>\n",
       "    </tr>\n",
       "    <tr>\n",
       "      <th>5</th>\n",
       "      <td>Toyota</td>\n",
       "      <td>Verde</td>\n",
       "      <td>99213</td>\n",
       "      <td>4</td>\n",
       "      <td>R$ 14,500.00</td>\n",
       "    </tr>\n",
       "    <tr>\n",
       "      <th>6</th>\n",
       "      <td>Honda</td>\n",
       "      <td>Azul</td>\n",
       "      <td>45698</td>\n",
       "      <td>4</td>\n",
       "      <td>R$ 17,500.00</td>\n",
       "    </tr>\n",
       "    <tr>\n",
       "      <th>7</th>\n",
       "      <td>Honda</td>\n",
       "      <td>Azul</td>\n",
       "      <td>54738</td>\n",
       "      <td>4</td>\n",
       "      <td>R$ 27,000.00</td>\n",
       "    </tr>\n",
       "    <tr>\n",
       "      <th>8</th>\n",
       "      <td>Toyota</td>\n",
       "      <td>Branco</td>\n",
       "      <td>60000</td>\n",
       "      <td>4</td>\n",
       "      <td>R$ 26,250.00</td>\n",
       "    </tr>\n",
       "    <tr>\n",
       "      <th>9</th>\n",
       "      <td>Nissan</td>\n",
       "      <td>Branco</td>\n",
       "      <td>31600</td>\n",
       "      <td>4</td>\n",
       "      <td>R$ 19,700.00</td>\n",
       "    </tr>\n",
       "  </tbody>\n",
       "</table>\n",
       "</div>"
      ],
      "text/plain": [
       "  Fabricante       Cor  Quilometragem  Portas          Preco\n",
       "0     Toyota    Branco         150043       4   R$ 24,000.00\n",
       "1      Honda  Vermelho          87899       4   R$ 25,000.00\n",
       "2     Toyota      Azul          32549       3   R$ 27,000.00\n",
       "3        BMW     Preto          11179       5  R$ 122,000.00\n",
       "4     Nissan    Branco         213095       4   R$ 13,500.00\n",
       "5     Toyota     Verde          99213       4   R$ 14,500.00\n",
       "6      Honda      Azul          45698       4   R$ 17,500.00\n",
       "7      Honda      Azul          54738       4   R$ 27,000.00\n",
       "8     Toyota    Branco          60000       4   R$ 26,250.00\n",
       "9     Nissan    Branco          31600       4   R$ 19,700.00"
      ]
     },
     "execution_count": 33,
     "metadata": {},
     "output_type": "execute_result"
    }
   ],
   "source": [
    "data = pd.read_csv('/home/youx/projeto-git-lab/youxlab-treino-git/curso_de_dados/exercicio/venda-de-carros.csv')\n",
    "data"
   ]
  },
  {
   "cell_type": "code",
   "execution_count": null,
   "id": "e457f07a",
   "metadata": {},
   "outputs": [],
   "source": [
    "fabricantess = []\n",
    "for fab in data['Fabricante']:\n",
    "    if fab not in fabricantess:\n",
    "        fabricantess.append(fab)\n",
    "fabricantess\n"
   ]
  },
  {
   "cell_type": "code",
   "execution_count": 85,
   "id": "900c175d",
   "metadata": {},
   "outputs": [
    {
     "data": {
      "text/plain": [
       "3164500.0"
      ]
     },
     "execution_count": 85,
     "metadata": {},
     "output_type": "execute_result"
    }
   ],
   "source": [
    "dataP = data['Preco']\n",
    "lista = []\n",
    "for va in dataP:\n",
    "    lista.append(va)\n",
    "lista\n",
    "listaSem = []\n",
    "for value in lista:\n",
    "    listaSe = value.replace('R$', ' ')\n",
    "    listaSem.append(listaSe)\n",
    "outra = []\n",
    "for v in listaSem:\n",
    "    va = v.replace(',', '.').strip()\n",
    "    outra.append(va)\n",
    "aa = []\n",
    "for l in outra:\n",
    "    l = l.replace('.', '').strip()\n",
    "    l = int(l)\n",
    "    aa.append(l)\n",
    "media = sum(aa) / len(aa)\n",
    "media\n",
    "    \n",
    "    \n",
    "    "
   ]
  },
  {
   "cell_type": "code",
   "execution_count": 72,
   "id": "75ce3959",
   "metadata": {},
   "outputs": [
    {
     "data": {
      "text/html": [
       "<div>\n",
       "<style scoped>\n",
       "    .dataframe tbody tr th:only-of-type {\n",
       "        vertical-align: middle;\n",
       "    }\n",
       "\n",
       "    .dataframe tbody tr th {\n",
       "        vertical-align: top;\n",
       "    }\n",
       "\n",
       "    .dataframe thead th {\n",
       "        text-align: right;\n",
       "    }\n",
       "</style>\n",
       "<table border=\"1\" class=\"dataframe\">\n",
       "  <thead>\n",
       "    <tr style=\"text-align: right;\">\n",
       "      <th></th>\n",
       "      <th>Fabricante</th>\n",
       "      <th>count</th>\n",
       "    </tr>\n",
       "  </thead>\n",
       "  <tbody>\n",
       "    <tr>\n",
       "      <th>0</th>\n",
       "      <td>Toyota</td>\n",
       "      <td>4</td>\n",
       "    </tr>\n",
       "    <tr>\n",
       "      <th>1</th>\n",
       "      <td>Honda</td>\n",
       "      <td>3</td>\n",
       "    </tr>\n",
       "    <tr>\n",
       "      <th>2</th>\n",
       "      <td>Nissan</td>\n",
       "      <td>2</td>\n",
       "    </tr>\n",
       "    <tr>\n",
       "      <th>3</th>\n",
       "      <td>BMW</td>\n",
       "      <td>1</td>\n",
       "    </tr>\n",
       "  </tbody>\n",
       "</table>\n",
       "</div>"
      ],
      "text/plain": [
       "  Fabricante  count\n",
       "0     Toyota      4\n",
       "1      Honda      3\n",
       "2     Nissan      2\n",
       "3        BMW      1"
      ]
     },
     "execution_count": 72,
     "metadata": {},
     "output_type": "execute_result"
    }
   ],
   "source": [
    "dadosFabri = data['Fabricante'].value_counts().to_frame().reset_index()\n",
    "dadosFabri"
   ]
  },
  {
   "cell_type": "code",
   "execution_count": 88,
   "id": "d211e016",
   "metadata": {},
   "outputs": [
    {
     "data": {
      "text/plain": [
       "Fabricante\n",
       "BMW        11179.000000\n",
       "Honda      62778.333333\n",
       "Nissan    122347.500000\n",
       "Toyota     85451.250000\n",
       "Name: Quilometragem, dtype: float64"
      ]
     },
     "execution_count": 88,
     "metadata": {},
     "output_type": "execute_result"
    }
   ],
   "source": [
    "media_colunas = data.groupby('Fabricante')['Quilometragem'].mean()\n",
    "media_colunas"
   ]
  },
  {
   "cell_type": "code",
   "execution_count": null,
   "id": "bf496107",
   "metadata": {},
   "outputs": [],
   "source": []
  }
 ],
 "metadata": {
  "kernelspec": {
   "display_name": "Python 3",
   "language": "python",
   "name": "python3"
  },
  "language_info": {
   "codemirror_mode": {
    "name": "ipython",
    "version": 3
   },
   "file_extension": ".py",
   "mimetype": "text/x-python",
   "name": "python",
   "nbconvert_exporter": "python",
   "pygments_lexer": "ipython3",
   "version": "3.10.12"
  }
 },
 "nbformat": 4,
 "nbformat_minor": 5
}
