{
 "cells": [
  {
   "cell_type": "markdown",
   "id": "4704d791",
   "metadata": {},
   "source": [
    "# COMEÇANDO A TRILHA DE DADOS\n",
    "COM O BANCO DE DADOS DO RODRIGÃO"
   ]
  },
  {
   "cell_type": "code",
   "execution_count": 2,
   "id": "251ab0ee",
   "metadata": {},
   "outputs": [],
   "source": [
    "#importando a biblioteca pandas\n",
    "import pandas as pd"
   ]
  },
  {
   "cell_type": "markdown",
   "id": "87a866af",
   "metadata": {},
   "source": [
    "## 03 Importando um base de dados"
   ]
  },
  {
   "cell_type": "code",
   "execution_count": 3,
   "id": "a9f47642",
   "metadata": {},
   "outputs": [],
   "source": [
    "#importando o dataframe do rodrigao\n",
    "dados = pd.read_csv(r\"./datasets/venda-de-carros.csv\")"
   ]
  },
  {
   "cell_type": "code",
   "execution_count": 4,
   "id": "464ea8c7",
   "metadata": {},
   "outputs": [
    {
     "name": "stdout",
     "output_type": "stream",
     "text": [
      "  Fabricante       Cor  Quilometragem  Portas          Preco\n",
      "0     Toyota    Branco         150043       4   R$ 24,000.00\n",
      "1      Honda  Vermelho          87899       4   R$ 25,000.00\n",
      "2     Toyota      Azul          32549       3   R$ 27,000.00\n",
      "3        BMW     Preto          11179       5  R$ 122,000.00\n",
      "4     Nissan    Branco         213095       4   R$ 13,500.00\n",
      "5     Toyota     Verde          99213       4   R$ 14,500.00\n",
      "6      Honda      Azul          45698       4   R$ 17,500.00\n",
      "7      Honda      Azul          54738       4   R$ 27,000.00\n",
      "8     Toyota    Branco          60000       4   R$ 26,250.00\n",
      "9     Nissan    Branco          31600       4   R$ 19,700.00\n"
     ]
    }
   ],
   "source": [
    "# imprimindo os dados do dataframe\n",
    "print(dados)"
   ]
  },
  {
   "cell_type": "code",
   "execution_count": 5,
   "id": "3b31d2d4",
   "metadata": {},
   "outputs": [
    {
     "data": {
      "text/html": [
       "<div>\n",
       "<style scoped>\n",
       "    .dataframe tbody tr th:only-of-type {\n",
       "        vertical-align: middle;\n",
       "    }\n",
       "\n",
       "    .dataframe tbody tr th {\n",
       "        vertical-align: top;\n",
       "    }\n",
       "\n",
       "    .dataframe thead th {\n",
       "        text-align: right;\n",
       "    }\n",
       "</style>\n",
       "<table border=\"1\" class=\"dataframe\">\n",
       "  <thead>\n",
       "    <tr style=\"text-align: right;\">\n",
       "      <th></th>\n",
       "      <th>Fabricante</th>\n",
       "      <th>Cor</th>\n",
       "      <th>Quilometragem</th>\n",
       "      <th>Portas</th>\n",
       "      <th>Preco</th>\n",
       "    </tr>\n",
       "  </thead>\n",
       "  <tbody>\n",
       "    <tr>\n",
       "      <th>0</th>\n",
       "      <td>Toyota</td>\n",
       "      <td>Branco</td>\n",
       "      <td>150043</td>\n",
       "      <td>4</td>\n",
       "      <td>R$ 24,000.00</td>\n",
       "    </tr>\n",
       "    <tr>\n",
       "      <th>1</th>\n",
       "      <td>Honda</td>\n",
       "      <td>Vermelho</td>\n",
       "      <td>87899</td>\n",
       "      <td>4</td>\n",
       "      <td>R$ 25,000.00</td>\n",
       "    </tr>\n",
       "    <tr>\n",
       "      <th>2</th>\n",
       "      <td>Toyota</td>\n",
       "      <td>Azul</td>\n",
       "      <td>32549</td>\n",
       "      <td>3</td>\n",
       "      <td>R$ 27,000.00</td>\n",
       "    </tr>\n",
       "    <tr>\n",
       "      <th>3</th>\n",
       "      <td>BMW</td>\n",
       "      <td>Preto</td>\n",
       "      <td>11179</td>\n",
       "      <td>5</td>\n",
       "      <td>R$ 122,000.00</td>\n",
       "    </tr>\n",
       "    <tr>\n",
       "      <th>4</th>\n",
       "      <td>Nissan</td>\n",
       "      <td>Branco</td>\n",
       "      <td>213095</td>\n",
       "      <td>4</td>\n",
       "      <td>R$ 13,500.00</td>\n",
       "    </tr>\n",
       "  </tbody>\n",
       "</table>\n",
       "</div>"
      ],
      "text/plain": [
       "  Fabricante       Cor  Quilometragem  Portas          Preco\n",
       "0     Toyota    Branco         150043       4   R$ 24,000.00\n",
       "1      Honda  Vermelho          87899       4   R$ 25,000.00\n",
       "2     Toyota      Azul          32549       3   R$ 27,000.00\n",
       "3        BMW     Preto          11179       5  R$ 122,000.00\n",
       "4     Nissan    Branco         213095       4   R$ 13,500.00"
      ]
     },
     "execution_count": 5,
     "metadata": {},
     "output_type": "execute_result"
    }
   ],
   "source": [
    "# Método .head() exibe as 5 primeiras linhas da base de dados por padrão, ou quantas linhas eu\n",
    "# quiser passando o valor dentro do head\n",
    "dados.head()"
   ]
  },
  {
   "cell_type": "code",
   "execution_count": 6,
   "id": "ca366d1a",
   "metadata": {},
   "outputs": [
    {
     "data": {
      "text/html": [
       "<div>\n",
       "<style scoped>\n",
       "    .dataframe tbody tr th:only-of-type {\n",
       "        vertical-align: middle;\n",
       "    }\n",
       "\n",
       "    .dataframe tbody tr th {\n",
       "        vertical-align: top;\n",
       "    }\n",
       "\n",
       "    .dataframe thead th {\n",
       "        text-align: right;\n",
       "    }\n",
       "</style>\n",
       "<table border=\"1\" class=\"dataframe\">\n",
       "  <thead>\n",
       "    <tr style=\"text-align: right;\">\n",
       "      <th></th>\n",
       "      <th>Fabricante</th>\n",
       "      <th>Cor</th>\n",
       "      <th>Quilometragem</th>\n",
       "      <th>Portas</th>\n",
       "      <th>Preco</th>\n",
       "    </tr>\n",
       "  </thead>\n",
       "  <tbody>\n",
       "    <tr>\n",
       "      <th>0</th>\n",
       "      <td>Toyota</td>\n",
       "      <td>Branco</td>\n",
       "      <td>150043</td>\n",
       "      <td>4</td>\n",
       "      <td>R$ 24,000.00</td>\n",
       "    </tr>\n",
       "    <tr>\n",
       "      <th>1</th>\n",
       "      <td>Honda</td>\n",
       "      <td>Vermelho</td>\n",
       "      <td>87899</td>\n",
       "      <td>4</td>\n",
       "      <td>R$ 25,000.00</td>\n",
       "    </tr>\n",
       "    <tr>\n",
       "      <th>2</th>\n",
       "      <td>Toyota</td>\n",
       "      <td>Azul</td>\n",
       "      <td>32549</td>\n",
       "      <td>3</td>\n",
       "      <td>R$ 27,000.00</td>\n",
       "    </tr>\n",
       "    <tr>\n",
       "      <th>3</th>\n",
       "      <td>BMW</td>\n",
       "      <td>Preto</td>\n",
       "      <td>11179</td>\n",
       "      <td>5</td>\n",
       "      <td>R$ 122,000.00</td>\n",
       "    </tr>\n",
       "    <tr>\n",
       "      <th>4</th>\n",
       "      <td>Nissan</td>\n",
       "      <td>Branco</td>\n",
       "      <td>213095</td>\n",
       "      <td>4</td>\n",
       "      <td>R$ 13,500.00</td>\n",
       "    </tr>\n",
       "    <tr>\n",
       "      <th>5</th>\n",
       "      <td>Toyota</td>\n",
       "      <td>Verde</td>\n",
       "      <td>99213</td>\n",
       "      <td>4</td>\n",
       "      <td>R$ 14,500.00</td>\n",
       "    </tr>\n",
       "    <tr>\n",
       "      <th>6</th>\n",
       "      <td>Honda</td>\n",
       "      <td>Azul</td>\n",
       "      <td>45698</td>\n",
       "      <td>4</td>\n",
       "      <td>R$ 17,500.00</td>\n",
       "    </tr>\n",
       "    <tr>\n",
       "      <th>7</th>\n",
       "      <td>Honda</td>\n",
       "      <td>Azul</td>\n",
       "      <td>54738</td>\n",
       "      <td>4</td>\n",
       "      <td>R$ 27,000.00</td>\n",
       "    </tr>\n",
       "  </tbody>\n",
       "</table>\n",
       "</div>"
      ],
      "text/plain": [
       "  Fabricante       Cor  Quilometragem  Portas          Preco\n",
       "0     Toyota    Branco         150043       4   R$ 24,000.00\n",
       "1      Honda  Vermelho          87899       4   R$ 25,000.00\n",
       "2     Toyota      Azul          32549       3   R$ 27,000.00\n",
       "3        BMW     Preto          11179       5  R$ 122,000.00\n",
       "4     Nissan    Branco         213095       4   R$ 13,500.00\n",
       "5     Toyota     Verde          99213       4   R$ 14,500.00\n",
       "6      Honda      Azul          45698       4   R$ 17,500.00\n",
       "7      Honda      Azul          54738       4   R$ 27,000.00"
      ]
     },
     "execution_count": 6,
     "metadata": {},
     "output_type": "execute_result"
    }
   ],
   "source": [
    "# exibindo 8 linhas\n",
    "dados.head(8)"
   ]
  },
  {
   "cell_type": "code",
   "execution_count": 7,
   "id": "fd1d2487",
   "metadata": {},
   "outputs": [
    {
     "data": {
      "text/html": [
       "<div>\n",
       "<style scoped>\n",
       "    .dataframe tbody tr th:only-of-type {\n",
       "        vertical-align: middle;\n",
       "    }\n",
       "\n",
       "    .dataframe tbody tr th {\n",
       "        vertical-align: top;\n",
       "    }\n",
       "\n",
       "    .dataframe thead th {\n",
       "        text-align: right;\n",
       "    }\n",
       "</style>\n",
       "<table border=\"1\" class=\"dataframe\">\n",
       "  <thead>\n",
       "    <tr style=\"text-align: right;\">\n",
       "      <th></th>\n",
       "      <th>Fabricante</th>\n",
       "      <th>Cor</th>\n",
       "      <th>Quilometragem</th>\n",
       "      <th>Portas</th>\n",
       "      <th>Preco</th>\n",
       "    </tr>\n",
       "  </thead>\n",
       "  <tbody>\n",
       "    <tr>\n",
       "      <th>0</th>\n",
       "      <td>Toyota</td>\n",
       "      <td>Branco</td>\n",
       "      <td>150043</td>\n",
       "      <td>4</td>\n",
       "      <td>R$ 24,000.00</td>\n",
       "    </tr>\n",
       "    <tr>\n",
       "      <th>1</th>\n",
       "      <td>Honda</td>\n",
       "      <td>Vermelho</td>\n",
       "      <td>87899</td>\n",
       "      <td>4</td>\n",
       "      <td>R$ 25,000.00</td>\n",
       "    </tr>\n",
       "    <tr>\n",
       "      <th>2</th>\n",
       "      <td>Toyota</td>\n",
       "      <td>Azul</td>\n",
       "      <td>32549</td>\n",
       "      <td>3</td>\n",
       "      <td>R$ 27,000.00</td>\n",
       "    </tr>\n",
       "    <tr>\n",
       "      <th>3</th>\n",
       "      <td>BMW</td>\n",
       "      <td>Preto</td>\n",
       "      <td>11179</td>\n",
       "      <td>5</td>\n",
       "      <td>R$ 122,000.00</td>\n",
       "    </tr>\n",
       "    <tr>\n",
       "      <th>4</th>\n",
       "      <td>Nissan</td>\n",
       "      <td>Branco</td>\n",
       "      <td>213095</td>\n",
       "      <td>4</td>\n",
       "      <td>R$ 13,500.00</td>\n",
       "    </tr>\n",
       "    <tr>\n",
       "      <th>5</th>\n",
       "      <td>Toyota</td>\n",
       "      <td>Verde</td>\n",
       "      <td>99213</td>\n",
       "      <td>4</td>\n",
       "      <td>R$ 14,500.00</td>\n",
       "    </tr>\n",
       "    <tr>\n",
       "      <th>6</th>\n",
       "      <td>Honda</td>\n",
       "      <td>Azul</td>\n",
       "      <td>45698</td>\n",
       "      <td>4</td>\n",
       "      <td>R$ 17,500.00</td>\n",
       "    </tr>\n",
       "    <tr>\n",
       "      <th>7</th>\n",
       "      <td>Honda</td>\n",
       "      <td>Azul</td>\n",
       "      <td>54738</td>\n",
       "      <td>4</td>\n",
       "      <td>R$ 27,000.00</td>\n",
       "    </tr>\n",
       "    <tr>\n",
       "      <th>8</th>\n",
       "      <td>Toyota</td>\n",
       "      <td>Branco</td>\n",
       "      <td>60000</td>\n",
       "      <td>4</td>\n",
       "      <td>R$ 26,250.00</td>\n",
       "    </tr>\n",
       "    <tr>\n",
       "      <th>9</th>\n",
       "      <td>Nissan</td>\n",
       "      <td>Branco</td>\n",
       "      <td>31600</td>\n",
       "      <td>4</td>\n",
       "      <td>R$ 19,700.00</td>\n",
       "    </tr>\n",
       "  </tbody>\n",
       "</table>\n",
       "</div>"
      ],
      "text/plain": [
       "  Fabricante       Cor  Quilometragem  Portas          Preco\n",
       "0     Toyota    Branco         150043       4   R$ 24,000.00\n",
       "1      Honda  Vermelho          87899       4   R$ 25,000.00\n",
       "2     Toyota      Azul          32549       3   R$ 27,000.00\n",
       "3        BMW     Preto          11179       5  R$ 122,000.00\n",
       "4     Nissan    Branco         213095       4   R$ 13,500.00\n",
       "5     Toyota     Verde          99213       4   R$ 14,500.00\n",
       "6      Honda      Azul          45698       4   R$ 17,500.00\n",
       "7      Honda      Azul          54738       4   R$ 27,000.00\n",
       "8     Toyota    Branco          60000       4   R$ 26,250.00\n",
       "9     Nissan    Branco          31600       4   R$ 19,700.00"
      ]
     },
     "execution_count": 7,
     "metadata": {},
     "output_type": "execute_result"
    }
   ],
   "source": [
    "dados.head(10)"
   ]
  },
  {
   "cell_type": "markdown",
   "id": "ade9e7f8",
   "metadata": {},
   "source": [
    "## 04 Informações da base de dados"
   ]
  },
  {
   "cell_type": "code",
   "execution_count": 8,
   "id": "bf6a57b0",
   "metadata": {},
   "outputs": [
    {
     "name": "stdout",
     "output_type": "stream",
     "text": [
      "<class 'pandas.core.frame.DataFrame'>\n",
      "RangeIndex: 10 entries, 0 to 9\n",
      "Data columns (total 5 columns):\n",
      " #   Column         Non-Null Count  Dtype \n",
      "---  ------         --------------  ----- \n",
      " 0   Fabricante     10 non-null     object\n",
      " 1   Cor            10 non-null     object\n",
      " 2   Quilometragem  10 non-null     int64 \n",
      " 3   Portas         10 non-null     int64 \n",
      " 4   Preco          10 non-null     object\n",
      "dtypes: int64(2), object(3)\n",
      "memory usage: 528.0+ bytes\n"
     ]
    }
   ],
   "source": [
    "#4 Informações da base de dados\n",
    "dados.info()\n",
    "#Método .info() exibe as informações da base:"
   ]
  },
  {
   "cell_type": "markdown",
   "id": "14e04ffb",
   "metadata": {},
   "source": [
    "**<class 'pandas.core.frame.DataFrame'>** informa que a base é um DataFrame (formato de base de\n",
    "dados no python). </br>\n",
    "**RangeIndex: 10 entries, 0 to 9: informa que tem 10 linhas, e o index vai de 0 até 9.** </br>\n",
    "Non-Null Count: informa se possui valores nulos em cada coluna. </br>\n",
    "Dtype: informa o tipo de dado de cada coluna."
   ]
  },
  {
   "cell_type": "markdown",
   "id": "e400d417",
   "metadata": {},
   "source": [
    "## 05 DataFrame"
   ]
  },
  {
   "cell_type": "code",
   "execution_count": 9,
   "id": "8210d418",
   "metadata": {},
   "outputs": [
    {
     "data": {
      "text/plain": [
       "pandas.core.frame.DataFrame"
      ]
     },
     "execution_count": 9,
     "metadata": {},
     "output_type": "execute_result"
    }
   ],
   "source": [
    "type(dados)"
   ]
  },
  {
   "cell_type": "code",
   "execution_count": 10,
   "id": "34948ef0",
   "metadata": {},
   "outputs": [
    {
     "data": {
      "text/plain": [
       "(10, 5)"
      ]
     },
     "execution_count": 10,
     "metadata": {},
     "output_type": "execute_result"
    }
   ],
   "source": [
    "dados.shape\n",
    "#O atributo .shape retorna quantas linhas e colunas tem no DataFrame:"
   ]
  },
  {
   "cell_type": "code",
   "execution_count": 11,
   "id": "7a0f6cd7",
   "metadata": {},
   "outputs": [],
   "source": [
    "# Criando um DataFrame:\n",
    "# Função .DataFrame() do pandas cria um DataFrame, podemos passar um dicionário para criar:\n",
    "pessoasDeUmaEmpresa = pd.DataFrame({\n",
    "    \"nome\": [\"Lucas Marcelo\", \"Richard Ribeiro\", \"Fabio Henrique\"],\n",
    "    \"idade\": [41 ,19 , 27],\n",
    "    \"peso\": [81.5, 65.2, 70]\n",
    "})"
   ]
  },
  {
   "cell_type": "code",
   "execution_count": 12,
   "id": "f3a1870f",
   "metadata": {},
   "outputs": [
    {
     "name": "stdout",
     "output_type": "stream",
     "text": [
      "              nome  idade  peso\n",
      "0    Lucas Marcelo     41  81.5\n",
      "1  Richard Ribeiro     19  65.2\n",
      "2   Fabio Henrique     27  70.0\n"
     ]
    }
   ],
   "source": [
    "# exibindo o valor de um dataframe criado acima\n",
    "print(pessoasDeUmaEmpresa)"
   ]
  },
  {
   "cell_type": "code",
   "execution_count": 13,
   "id": "a605cec2",
   "metadata": {},
   "outputs": [
    {
     "data": {
      "text/html": [
       "<div>\n",
       "<style scoped>\n",
       "    .dataframe tbody tr th:only-of-type {\n",
       "        vertical-align: middle;\n",
       "    }\n",
       "\n",
       "    .dataframe tbody tr th {\n",
       "        vertical-align: top;\n",
       "    }\n",
       "\n",
       "    .dataframe thead th {\n",
       "        text-align: right;\n",
       "    }\n",
       "</style>\n",
       "<table border=\"1\" class=\"dataframe\">\n",
       "  <thead>\n",
       "    <tr style=\"text-align: right;\">\n",
       "      <th></th>\n",
       "      <th>nome</th>\n",
       "      <th>idade</th>\n",
       "      <th>peso</th>\n",
       "    </tr>\n",
       "  </thead>\n",
       "  <tbody>\n",
       "    <tr>\n",
       "      <th>0</th>\n",
       "      <td>Lucas Marcelo</td>\n",
       "      <td>41</td>\n",
       "      <td>81.5</td>\n",
       "    </tr>\n",
       "    <tr>\n",
       "      <th>1</th>\n",
       "      <td>Richard Ribeiro</td>\n",
       "      <td>19</td>\n",
       "      <td>65.2</td>\n",
       "    </tr>\n",
       "    <tr>\n",
       "      <th>2</th>\n",
       "      <td>Fabio Henrique</td>\n",
       "      <td>27</td>\n",
       "      <td>70.0</td>\n",
       "    </tr>\n",
       "  </tbody>\n",
       "</table>\n",
       "</div>"
      ],
      "text/plain": [
       "              nome  idade  peso\n",
       "0    Lucas Marcelo     41  81.5\n",
       "1  Richard Ribeiro     19  65.2\n",
       "2   Fabio Henrique     27  70.0"
      ]
     },
     "execution_count": 13,
     "metadata": {},
     "output_type": "execute_result"
    }
   ],
   "source": [
    "# exibindo o valor do dataframe\n",
    "pessoasDeUmaEmpresa.head(3)"
   ]
  },
  {
   "cell_type": "code",
   "execution_count": 14,
   "id": "14ee0ace",
   "metadata": {},
   "outputs": [
    {
     "name": "stdout",
     "output_type": "stream",
     "text": [
      "<class 'pandas.core.frame.DataFrame'>\n",
      "RangeIndex: 3 entries, 0 to 2\n",
      "Data columns (total 3 columns):\n",
      " #   Column  Non-Null Count  Dtype  \n",
      "---  ------  --------------  -----  \n",
      " 0   nome    3 non-null      object \n",
      " 1   idade   3 non-null      int64  \n",
      " 2   peso    3 non-null      float64\n",
      "dtypes: float64(1), int64(1), object(1)\n",
      "memory usage: 200.0+ bytes\n"
     ]
    }
   ],
   "source": [
    "# exibindo as informações do dataframe\n",
    "pessoasDeUmaEmpresa.info()"
   ]
  },
  {
   "cell_type": "markdown",
   "id": "acb60bf5",
   "metadata": {},
   "source": [
    "### ✏️ Renomeando Colunas em um DataFrame (`pandas`)\n",
    "\n",
    "Existem duas formas comuns de renomear colunas em um DataFrame:\n",
    "\n",
    "---\n",
    "\n",
    "#### ✅ 1. Usando o método `.rename()`:\n",
    "\n",
    "```python\n",
    "df.rename(columns={\"coluna_antiga\": \"coluna_nova\"}, inplace=True)\n"
   ]
  },
  {
   "cell_type": "markdown",
   "id": "d0e57fa1",
   "metadata": {},
   "source": [
    "Atributo **.columns** retorna uma “lista” com nome de todas as colunas, também é possível\n",
    "armazenar em uma lista:"
   ]
  },
  {
   "cell_type": "code",
   "execution_count": 15,
   "id": "20bcbdbd",
   "metadata": {},
   "outputs": [
    {
     "data": {
      "text/plain": [
       "Index(['nome', 'idade', 'peso'], dtype='object')"
      ]
     },
     "execution_count": 15,
     "metadata": {},
     "output_type": "execute_result"
    }
   ],
   "source": [
    "# exibindo uma \"lista\" com nome de todas as colunas\n",
    "pessoasDeUmaEmpresa.columns"
   ]
  },
  {
   "cell_type": "code",
   "execution_count": 16,
   "id": "fc941532",
   "metadata": {},
   "outputs": [],
   "source": [
    "# armazenando as colunas em uma lista\n",
    "# pessoasDeUmaEmpresa = list(pessoasDeUmaEmpresa.columns)\n",
    "# print(pessoasDeUmaEmpresa)"
   ]
  },
  {
   "cell_type": "markdown",
   "id": "60dec594",
   "metadata": {},
   "source": [
    "O método **.rename()** serve para renomear as colunas passando um dicionário, no exemplo abaixo </br>\n",
    "estamos criando um novo DataFrame com as colunas renomeadas:"
   ]
  },
  {
   "cell_type": "code",
   "execution_count": 17,
   "id": "3eb64917",
   "metadata": {},
   "outputs": [
    {
     "name": "stdout",
     "output_type": "stream",
     "text": [
      "     Nome Completo  Idade  peso\n",
      "0    Lucas Marcelo     41  81.5\n",
      "1  Richard Ribeiro     19  65.2\n",
      "2   Fabio Henrique     27  70.0\n"
     ]
    }
   ],
   "source": [
    "pessoasDeUmaEmpresaRenomeando = pessoasDeUmaEmpresa.rename(columns = {\n",
    "    \"nome\": \"Nome Completo\", # renomeia a coluna de nome \"nome\" para \"Nome Completo\"\n",
    "    \"idade\": \"Idade\" # renomeia a coluna de nome \"idade\" para \"Idade\"\n",
    "})\n",
    "\n",
    "print(pessoasDeUmaEmpresaRenomeando)"
   ]
  },
  {
   "cell_type": "markdown",
   "id": "cb99210d",
   "metadata": {},
   "source": [
    "É possível também renomear o DataFrame original, nesse caso pessoasDeUmaEmpresa, e continuar </br>\n",
    "utilizando-o, basta colocar **inplace = True**, veja o exemplo:"
   ]
  },
  {
   "cell_type": "code",
   "execution_count": 18,
   "id": "0182303c",
   "metadata": {},
   "outputs": [
    {
     "name": "stdout",
     "output_type": "stream",
     "text": [
      "     Nome Completo  Idade  peso\n",
      "0    Lucas Marcelo     41  81.5\n",
      "1  Richard Ribeiro     19  65.2\n",
      "2   Fabio Henrique     27  70.0\n"
     ]
    }
   ],
   "source": [
    "pessoasDeUmaEmpresa.rename(columns = {\n",
    "    \"nome\": \"Nome Completo\", # renomeia a coluna de nome \"nome\" para \"Nome Completo\"\n",
    "    \"idade\": \"Idade\", # renomeia a coluna de nome \"idade\" para \"Idade\"\n",
    "},\n",
    "    inplace=True\n",
    ")\n",
    "\n",
    "print(pessoasDeUmaEmpresa)"
   ]
  },
  {
   "cell_type": "markdown",
   "id": "9e50358c",
   "metadata": {},
   "source": [
    "Outra forma de renomear é utilizando **.columns** e passando uma lista com os novos nomes:"
   ]
  },
  {
   "cell_type": "code",
   "execution_count": 19,
   "id": "a4e8dea2",
   "metadata": {},
   "outputs": [
    {
     "name": "stdout",
     "output_type": "stream",
     "text": [
      "              NOME  IDADE  PESO\n",
      "0    Lucas Marcelo     41  81.5\n",
      "1  Richard Ribeiro     19  65.2\n",
      "2   Fabio Henrique     27  70.0\n"
     ]
    }
   ],
   "source": [
    "pessoasDeUmaEmpresa.columns = [\"NOME\", \"IDADE\", \"PESO\"]\n",
    "\n",
    "print(pessoasDeUmaEmpresa)"
   ]
  },
  {
   "cell_type": "markdown",
   "id": "de62807c",
   "metadata": {},
   "source": [
    "### 06 Series"
   ]
  },
  {
   "cell_type": "markdown",
   "id": "60d0411d",
   "metadata": {},
   "source": [
    "### 📊 Resumo sobre `pandas.Series` (Python)\n",
    "\n",
    "- Uma `Series` é uma estrutura **unidimensional** do `pandas`, parecida com uma **coluna de uma planilha**.\n",
    "- Armazena **valores** com **índices** associados (automáticos ou personalizados).\n",
    "- Cada coluna de um `DataFrame` é, na verdade, uma `Series`.\n",
    "\n",
    "#### ✅ Como criar uma `Series`:\n",
    "```python\n",
    "import pandas as pd\n",
    "\n",
    "# Com lista\n",
    "serie = pd.Series([10, 20, 30])\n",
    "\n",
    "# Com índice personalizado\n",
    "serie = pd.Series([10, 20, 30], index=['a', 'b', 'c'])\n"
   ]
  },
  {
   "cell_type": "code",
   "execution_count": 27,
   "id": "9037e6a4",
   "metadata": {},
   "outputs": [
    {
     "name": "stdout",
     "output_type": "stream",
     "text": [
      "0    Toyota\n",
      "1     Honda\n",
      "2    Toyota\n",
      "3       BMW\n",
      "4    Nissan\n",
      "5    Toyota\n",
      "6     Honda\n",
      "7     Honda\n",
      "8    Toyota\n",
      "9    Nissan\n",
      "Name: Fabricante, dtype: object\n",
      "\n",
      "\n",
      "Exibindo apenas os valores\n",
      "['Toyota' 'Honda' 'Toyota' 'BMW' 'Nissan' 'Toyota' 'Honda' 'Honda'\n",
      " 'Toyota' 'Nissan']\n"
     ]
    }
   ],
   "source": [
    "# exibi apenas os valores da coluna \"Fabricante\"\n",
    "print(dados[\"Fabricante\"])\n",
    "\n",
    "print(\"\\n\")\n",
    "# mostra o tipo da coluna \"Fabricante\", resulta em object(\"string\")\n",
    "type(dados[\"Fabricante\"])\n",
    "\n",
    "# mostra apenas os valores(sem os indices), Retorna um Array tipo NumPy\n",
    "print(\"Exibindo apenas os valores\")\n",
    "print(dados[\"Fabricante\"].values)"
   ]
  },
  {
   "cell_type": "markdown",
   "id": "b9be8522",
   "metadata": {},
   "source": [
    "Criando uma Series: </br>\n",
    "O método **.Series()** cria uma series, basta passar uma lista, ex:"
   ]
  },
  {
   "cell_type": "code",
   "execution_count": 21,
   "id": "5600b5d3",
   "metadata": {},
   "outputs": [
    {
     "name": "stdout",
     "output_type": "stream",
     "text": [
      "0    5.5\n",
      "1    6.0\n",
      "2    9.5\n",
      "dtype: float64\n"
     ]
    }
   ],
   "source": [
    "series1 = pd.Series([5.5, 6.0, 9.5])\n",
    "print(series1)"
   ]
  }
 ],
 "metadata": {
  "kernelspec": {
   "display_name": "Python 3",
   "language": "python",
   "name": "python3"
  },
  "language_info": {
   "codemirror_mode": {
    "name": "ipython",
    "version": 3
   },
   "file_extension": ".py",
   "mimetype": "text/x-python",
   "name": "python",
   "nbconvert_exporter": "python",
   "pygments_lexer": "ipython3",
   "version": "3.10.12"
  }
 },
 "nbformat": 4,
 "nbformat_minor": 5
}
