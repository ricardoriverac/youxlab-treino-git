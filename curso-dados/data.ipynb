{
 "cells": [
  {
   "cell_type": "markdown",
   "id": "4704d791",
   "metadata": {},
   "source": [
    "# COMEÇANDO A TRILHA DE DADOS\n",
    "COM O BANCO DE DADOS DO RODRIGÃO"
   ]
  },
  {
   "cell_type": "code",
   "execution_count": 211,
   "id": "251ab0ee",
   "metadata": {},
   "outputs": [],
   "source": [
    "#importando a biblioteca pandas\n",
    "import pandas as pd"
   ]
  },
  {
   "cell_type": "markdown",
   "id": "87a866af",
   "metadata": {},
   "source": [
    "## 03 Importando um base de dados"
   ]
  },
  {
   "cell_type": "code",
   "execution_count": 212,
   "id": "a9f47642",
   "metadata": {},
   "outputs": [],
   "source": [
    "#importando o dataframe do rodrigao\n",
    "dados = pd.read_csv(r\"./datasets/venda-de-carros.csv\")"
   ]
  },
  {
   "cell_type": "code",
   "execution_count": 213,
   "id": "464ea8c7",
   "metadata": {},
   "outputs": [
    {
     "name": "stdout",
     "output_type": "stream",
     "text": [
      "  Fabricante       Cor  Quilometragem  Portas          Preco\n",
      "0     Toyota    Branco         150043       4   R$ 24,000.00\n",
      "1      Honda  Vermelho          87899       4   R$ 25,000.00\n",
      "2     Toyota      Azul          32549       3   R$ 27,000.00\n",
      "3        BMW     Preto          11179       5  R$ 122,000.00\n",
      "4     Nissan    Branco         213095       4   R$ 13,500.00\n",
      "5     Toyota     Verde          99213       4   R$ 14,500.00\n",
      "6      Honda      Azul          45698       4   R$ 17,500.00\n",
      "7      Honda      Azul          54738       4   R$ 27,000.00\n",
      "8     Toyota    Branco          60000       4   R$ 26,250.00\n",
      "9     Nissan    Branco          31600       4   R$ 19,700.00\n"
     ]
    }
   ],
   "source": [
    "# imprimindo os dados do dataframe\n",
    "print(dados)"
   ]
  },
  {
   "cell_type": "code",
   "execution_count": 214,
   "id": "3b31d2d4",
   "metadata": {},
   "outputs": [
    {
     "data": {
      "text/html": [
       "<div>\n",
       "<style scoped>\n",
       "    .dataframe tbody tr th:only-of-type {\n",
       "        vertical-align: middle;\n",
       "    }\n",
       "\n",
       "    .dataframe tbody tr th {\n",
       "        vertical-align: top;\n",
       "    }\n",
       "\n",
       "    .dataframe thead th {\n",
       "        text-align: right;\n",
       "    }\n",
       "</style>\n",
       "<table border=\"1\" class=\"dataframe\">\n",
       "  <thead>\n",
       "    <tr style=\"text-align: right;\">\n",
       "      <th></th>\n",
       "      <th>Fabricante</th>\n",
       "      <th>Cor</th>\n",
       "      <th>Quilometragem</th>\n",
       "      <th>Portas</th>\n",
       "      <th>Preco</th>\n",
       "    </tr>\n",
       "  </thead>\n",
       "  <tbody>\n",
       "    <tr>\n",
       "      <th>0</th>\n",
       "      <td>Toyota</td>\n",
       "      <td>Branco</td>\n",
       "      <td>150043</td>\n",
       "      <td>4</td>\n",
       "      <td>R$ 24,000.00</td>\n",
       "    </tr>\n",
       "    <tr>\n",
       "      <th>1</th>\n",
       "      <td>Honda</td>\n",
       "      <td>Vermelho</td>\n",
       "      <td>87899</td>\n",
       "      <td>4</td>\n",
       "      <td>R$ 25,000.00</td>\n",
       "    </tr>\n",
       "    <tr>\n",
       "      <th>2</th>\n",
       "      <td>Toyota</td>\n",
       "      <td>Azul</td>\n",
       "      <td>32549</td>\n",
       "      <td>3</td>\n",
       "      <td>R$ 27,000.00</td>\n",
       "    </tr>\n",
       "    <tr>\n",
       "      <th>3</th>\n",
       "      <td>BMW</td>\n",
       "      <td>Preto</td>\n",
       "      <td>11179</td>\n",
       "      <td>5</td>\n",
       "      <td>R$ 122,000.00</td>\n",
       "    </tr>\n",
       "    <tr>\n",
       "      <th>4</th>\n",
       "      <td>Nissan</td>\n",
       "      <td>Branco</td>\n",
       "      <td>213095</td>\n",
       "      <td>4</td>\n",
       "      <td>R$ 13,500.00</td>\n",
       "    </tr>\n",
       "  </tbody>\n",
       "</table>\n",
       "</div>"
      ],
      "text/plain": [
       "  Fabricante       Cor  Quilometragem  Portas          Preco\n",
       "0     Toyota    Branco         150043       4   R$ 24,000.00\n",
       "1      Honda  Vermelho          87899       4   R$ 25,000.00\n",
       "2     Toyota      Azul          32549       3   R$ 27,000.00\n",
       "3        BMW     Preto          11179       5  R$ 122,000.00\n",
       "4     Nissan    Branco         213095       4   R$ 13,500.00"
      ]
     },
     "execution_count": 214,
     "metadata": {},
     "output_type": "execute_result"
    }
   ],
   "source": [
    "# Método .head() exibe as 5 primeiras linhas da base de dados por padrão, ou quantas linhas eu\n",
    "# quiser passando o valor dentro do head\n",
    "dados.head()"
   ]
  },
  {
   "cell_type": "code",
   "execution_count": 215,
   "id": "ca366d1a",
   "metadata": {},
   "outputs": [
    {
     "data": {
      "text/html": [
       "<div>\n",
       "<style scoped>\n",
       "    .dataframe tbody tr th:only-of-type {\n",
       "        vertical-align: middle;\n",
       "    }\n",
       "\n",
       "    .dataframe tbody tr th {\n",
       "        vertical-align: top;\n",
       "    }\n",
       "\n",
       "    .dataframe thead th {\n",
       "        text-align: right;\n",
       "    }\n",
       "</style>\n",
       "<table border=\"1\" class=\"dataframe\">\n",
       "  <thead>\n",
       "    <tr style=\"text-align: right;\">\n",
       "      <th></th>\n",
       "      <th>Fabricante</th>\n",
       "      <th>Cor</th>\n",
       "      <th>Quilometragem</th>\n",
       "      <th>Portas</th>\n",
       "      <th>Preco</th>\n",
       "    </tr>\n",
       "  </thead>\n",
       "  <tbody>\n",
       "    <tr>\n",
       "      <th>0</th>\n",
       "      <td>Toyota</td>\n",
       "      <td>Branco</td>\n",
       "      <td>150043</td>\n",
       "      <td>4</td>\n",
       "      <td>R$ 24,000.00</td>\n",
       "    </tr>\n",
       "    <tr>\n",
       "      <th>1</th>\n",
       "      <td>Honda</td>\n",
       "      <td>Vermelho</td>\n",
       "      <td>87899</td>\n",
       "      <td>4</td>\n",
       "      <td>R$ 25,000.00</td>\n",
       "    </tr>\n",
       "    <tr>\n",
       "      <th>2</th>\n",
       "      <td>Toyota</td>\n",
       "      <td>Azul</td>\n",
       "      <td>32549</td>\n",
       "      <td>3</td>\n",
       "      <td>R$ 27,000.00</td>\n",
       "    </tr>\n",
       "    <tr>\n",
       "      <th>3</th>\n",
       "      <td>BMW</td>\n",
       "      <td>Preto</td>\n",
       "      <td>11179</td>\n",
       "      <td>5</td>\n",
       "      <td>R$ 122,000.00</td>\n",
       "    </tr>\n",
       "    <tr>\n",
       "      <th>4</th>\n",
       "      <td>Nissan</td>\n",
       "      <td>Branco</td>\n",
       "      <td>213095</td>\n",
       "      <td>4</td>\n",
       "      <td>R$ 13,500.00</td>\n",
       "    </tr>\n",
       "    <tr>\n",
       "      <th>5</th>\n",
       "      <td>Toyota</td>\n",
       "      <td>Verde</td>\n",
       "      <td>99213</td>\n",
       "      <td>4</td>\n",
       "      <td>R$ 14,500.00</td>\n",
       "    </tr>\n",
       "    <tr>\n",
       "      <th>6</th>\n",
       "      <td>Honda</td>\n",
       "      <td>Azul</td>\n",
       "      <td>45698</td>\n",
       "      <td>4</td>\n",
       "      <td>R$ 17,500.00</td>\n",
       "    </tr>\n",
       "    <tr>\n",
       "      <th>7</th>\n",
       "      <td>Honda</td>\n",
       "      <td>Azul</td>\n",
       "      <td>54738</td>\n",
       "      <td>4</td>\n",
       "      <td>R$ 27,000.00</td>\n",
       "    </tr>\n",
       "  </tbody>\n",
       "</table>\n",
       "</div>"
      ],
      "text/plain": [
       "  Fabricante       Cor  Quilometragem  Portas          Preco\n",
       "0     Toyota    Branco         150043       4   R$ 24,000.00\n",
       "1      Honda  Vermelho          87899       4   R$ 25,000.00\n",
       "2     Toyota      Azul          32549       3   R$ 27,000.00\n",
       "3        BMW     Preto          11179       5  R$ 122,000.00\n",
       "4     Nissan    Branco         213095       4   R$ 13,500.00\n",
       "5     Toyota     Verde          99213       4   R$ 14,500.00\n",
       "6      Honda      Azul          45698       4   R$ 17,500.00\n",
       "7      Honda      Azul          54738       4   R$ 27,000.00"
      ]
     },
     "execution_count": 215,
     "metadata": {},
     "output_type": "execute_result"
    }
   ],
   "source": [
    "# exibindo 8 linhas\n",
    "dados.head(8)"
   ]
  },
  {
   "cell_type": "code",
   "execution_count": 216,
   "id": "fd1d2487",
   "metadata": {},
   "outputs": [
    {
     "data": {
      "text/html": [
       "<div>\n",
       "<style scoped>\n",
       "    .dataframe tbody tr th:only-of-type {\n",
       "        vertical-align: middle;\n",
       "    }\n",
       "\n",
       "    .dataframe tbody tr th {\n",
       "        vertical-align: top;\n",
       "    }\n",
       "\n",
       "    .dataframe thead th {\n",
       "        text-align: right;\n",
       "    }\n",
       "</style>\n",
       "<table border=\"1\" class=\"dataframe\">\n",
       "  <thead>\n",
       "    <tr style=\"text-align: right;\">\n",
       "      <th></th>\n",
       "      <th>Fabricante</th>\n",
       "      <th>Cor</th>\n",
       "      <th>Quilometragem</th>\n",
       "      <th>Portas</th>\n",
       "      <th>Preco</th>\n",
       "    </tr>\n",
       "  </thead>\n",
       "  <tbody>\n",
       "    <tr>\n",
       "      <th>0</th>\n",
       "      <td>Toyota</td>\n",
       "      <td>Branco</td>\n",
       "      <td>150043</td>\n",
       "      <td>4</td>\n",
       "      <td>R$ 24,000.00</td>\n",
       "    </tr>\n",
       "    <tr>\n",
       "      <th>1</th>\n",
       "      <td>Honda</td>\n",
       "      <td>Vermelho</td>\n",
       "      <td>87899</td>\n",
       "      <td>4</td>\n",
       "      <td>R$ 25,000.00</td>\n",
       "    </tr>\n",
       "    <tr>\n",
       "      <th>2</th>\n",
       "      <td>Toyota</td>\n",
       "      <td>Azul</td>\n",
       "      <td>32549</td>\n",
       "      <td>3</td>\n",
       "      <td>R$ 27,000.00</td>\n",
       "    </tr>\n",
       "    <tr>\n",
       "      <th>3</th>\n",
       "      <td>BMW</td>\n",
       "      <td>Preto</td>\n",
       "      <td>11179</td>\n",
       "      <td>5</td>\n",
       "      <td>R$ 122,000.00</td>\n",
       "    </tr>\n",
       "    <tr>\n",
       "      <th>4</th>\n",
       "      <td>Nissan</td>\n",
       "      <td>Branco</td>\n",
       "      <td>213095</td>\n",
       "      <td>4</td>\n",
       "      <td>R$ 13,500.00</td>\n",
       "    </tr>\n",
       "    <tr>\n",
       "      <th>5</th>\n",
       "      <td>Toyota</td>\n",
       "      <td>Verde</td>\n",
       "      <td>99213</td>\n",
       "      <td>4</td>\n",
       "      <td>R$ 14,500.00</td>\n",
       "    </tr>\n",
       "    <tr>\n",
       "      <th>6</th>\n",
       "      <td>Honda</td>\n",
       "      <td>Azul</td>\n",
       "      <td>45698</td>\n",
       "      <td>4</td>\n",
       "      <td>R$ 17,500.00</td>\n",
       "    </tr>\n",
       "    <tr>\n",
       "      <th>7</th>\n",
       "      <td>Honda</td>\n",
       "      <td>Azul</td>\n",
       "      <td>54738</td>\n",
       "      <td>4</td>\n",
       "      <td>R$ 27,000.00</td>\n",
       "    </tr>\n",
       "    <tr>\n",
       "      <th>8</th>\n",
       "      <td>Toyota</td>\n",
       "      <td>Branco</td>\n",
       "      <td>60000</td>\n",
       "      <td>4</td>\n",
       "      <td>R$ 26,250.00</td>\n",
       "    </tr>\n",
       "    <tr>\n",
       "      <th>9</th>\n",
       "      <td>Nissan</td>\n",
       "      <td>Branco</td>\n",
       "      <td>31600</td>\n",
       "      <td>4</td>\n",
       "      <td>R$ 19,700.00</td>\n",
       "    </tr>\n",
       "  </tbody>\n",
       "</table>\n",
       "</div>"
      ],
      "text/plain": [
       "  Fabricante       Cor  Quilometragem  Portas          Preco\n",
       "0     Toyota    Branco         150043       4   R$ 24,000.00\n",
       "1      Honda  Vermelho          87899       4   R$ 25,000.00\n",
       "2     Toyota      Azul          32549       3   R$ 27,000.00\n",
       "3        BMW     Preto          11179       5  R$ 122,000.00\n",
       "4     Nissan    Branco         213095       4   R$ 13,500.00\n",
       "5     Toyota     Verde          99213       4   R$ 14,500.00\n",
       "6      Honda      Azul          45698       4   R$ 17,500.00\n",
       "7      Honda      Azul          54738       4   R$ 27,000.00\n",
       "8     Toyota    Branco          60000       4   R$ 26,250.00\n",
       "9     Nissan    Branco          31600       4   R$ 19,700.00"
      ]
     },
     "execution_count": 216,
     "metadata": {},
     "output_type": "execute_result"
    }
   ],
   "source": [
    "dados.head(10)"
   ]
  },
  {
   "cell_type": "markdown",
   "id": "ade9e7f8",
   "metadata": {},
   "source": [
    "## 04 Informações da base de dados"
   ]
  },
  {
   "cell_type": "code",
   "execution_count": 217,
   "id": "bf6a57b0",
   "metadata": {},
   "outputs": [
    {
     "name": "stdout",
     "output_type": "stream",
     "text": [
      "<class 'pandas.core.frame.DataFrame'>\n",
      "RangeIndex: 10 entries, 0 to 9\n",
      "Data columns (total 5 columns):\n",
      " #   Column         Non-Null Count  Dtype \n",
      "---  ------         --------------  ----- \n",
      " 0   Fabricante     10 non-null     object\n",
      " 1   Cor            10 non-null     object\n",
      " 2   Quilometragem  10 non-null     int64 \n",
      " 3   Portas         10 non-null     int64 \n",
      " 4   Preco          10 non-null     object\n",
      "dtypes: int64(2), object(3)\n",
      "memory usage: 528.0+ bytes\n"
     ]
    }
   ],
   "source": [
    "#4 Informações da base de dados\n",
    "dados.info()\n",
    "#Método .info() exibe as informações da base:"
   ]
  },
  {
   "cell_type": "markdown",
   "id": "14e04ffb",
   "metadata": {},
   "source": [
    "**<class 'pandas.core.frame.DataFrame'>** informa que a base é um DataFrame (formato de base de\n",
    "dados no python). </br>\n",
    "**RangeIndex: 10 entries, 0 to 9: informa que tem 10 linhas, e o index vai de 0 até 9.** </br>\n",
    "Non-Null Count: informa se possui valores nulos em cada coluna. </br>\n",
    "Dtype: informa o tipo de dado de cada coluna."
   ]
  },
  {
   "cell_type": "markdown",
   "id": "e400d417",
   "metadata": {},
   "source": [
    "## 05 DataFrame"
   ]
  },
  {
   "cell_type": "code",
   "execution_count": 218,
   "id": "8210d418",
   "metadata": {},
   "outputs": [
    {
     "data": {
      "text/plain": [
       "pandas.core.frame.DataFrame"
      ]
     },
     "execution_count": 218,
     "metadata": {},
     "output_type": "execute_result"
    }
   ],
   "source": [
    "type(dados)"
   ]
  },
  {
   "cell_type": "code",
   "execution_count": 219,
   "id": "34948ef0",
   "metadata": {},
   "outputs": [
    {
     "data": {
      "text/plain": [
       "(10, 5)"
      ]
     },
     "execution_count": 219,
     "metadata": {},
     "output_type": "execute_result"
    }
   ],
   "source": [
    "dados.shape\n",
    "#O atributo .shape retorna quantas linhas e colunas tem no DataFrame:"
   ]
  },
  {
   "cell_type": "code",
   "execution_count": 220,
   "id": "7a0f6cd7",
   "metadata": {},
   "outputs": [],
   "source": [
    "# Criando um DataFrame:\n",
    "# Função .DataFrame() do pandas cria um DataFrame, podemos passar um dicionário para criar:\n",
    "pessoasDeUmaEmpresa = pd.DataFrame({\n",
    "    \"nome\": [\"Lucas Marcelo\", \"Richard Ribeiro\", \"Fabio Henrique\"],\n",
    "    \"idade\": [41 ,19 , 27],\n",
    "    \"peso\": [81.5, 65.2, 70]\n",
    "})"
   ]
  },
  {
   "cell_type": "code",
   "execution_count": 221,
   "id": "f3a1870f",
   "metadata": {},
   "outputs": [
    {
     "name": "stdout",
     "output_type": "stream",
     "text": [
      "              nome  idade  peso\n",
      "0    Lucas Marcelo     41  81.5\n",
      "1  Richard Ribeiro     19  65.2\n",
      "2   Fabio Henrique     27  70.0\n"
     ]
    }
   ],
   "source": [
    "# exibindo o valor de um dataframe criado acima\n",
    "print(pessoasDeUmaEmpresa)"
   ]
  },
  {
   "cell_type": "code",
   "execution_count": 222,
   "id": "a605cec2",
   "metadata": {},
   "outputs": [
    {
     "data": {
      "text/html": [
       "<div>\n",
       "<style scoped>\n",
       "    .dataframe tbody tr th:only-of-type {\n",
       "        vertical-align: middle;\n",
       "    }\n",
       "\n",
       "    .dataframe tbody tr th {\n",
       "        vertical-align: top;\n",
       "    }\n",
       "\n",
       "    .dataframe thead th {\n",
       "        text-align: right;\n",
       "    }\n",
       "</style>\n",
       "<table border=\"1\" class=\"dataframe\">\n",
       "  <thead>\n",
       "    <tr style=\"text-align: right;\">\n",
       "      <th></th>\n",
       "      <th>nome</th>\n",
       "      <th>idade</th>\n",
       "      <th>peso</th>\n",
       "    </tr>\n",
       "  </thead>\n",
       "  <tbody>\n",
       "    <tr>\n",
       "      <th>0</th>\n",
       "      <td>Lucas Marcelo</td>\n",
       "      <td>41</td>\n",
       "      <td>81.5</td>\n",
       "    </tr>\n",
       "    <tr>\n",
       "      <th>1</th>\n",
       "      <td>Richard Ribeiro</td>\n",
       "      <td>19</td>\n",
       "      <td>65.2</td>\n",
       "    </tr>\n",
       "    <tr>\n",
       "      <th>2</th>\n",
       "      <td>Fabio Henrique</td>\n",
       "      <td>27</td>\n",
       "      <td>70.0</td>\n",
       "    </tr>\n",
       "  </tbody>\n",
       "</table>\n",
       "</div>"
      ],
      "text/plain": [
       "              nome  idade  peso\n",
       "0    Lucas Marcelo     41  81.5\n",
       "1  Richard Ribeiro     19  65.2\n",
       "2   Fabio Henrique     27  70.0"
      ]
     },
     "execution_count": 222,
     "metadata": {},
     "output_type": "execute_result"
    }
   ],
   "source": [
    "# exibindo o valor do dataframe\n",
    "pessoasDeUmaEmpresa.head(3)"
   ]
  },
  {
   "cell_type": "code",
   "execution_count": 223,
   "id": "14ee0ace",
   "metadata": {},
   "outputs": [
    {
     "name": "stdout",
     "output_type": "stream",
     "text": [
      "<class 'pandas.core.frame.DataFrame'>\n",
      "RangeIndex: 3 entries, 0 to 2\n",
      "Data columns (total 3 columns):\n",
      " #   Column  Non-Null Count  Dtype  \n",
      "---  ------  --------------  -----  \n",
      " 0   nome    3 non-null      object \n",
      " 1   idade   3 non-null      int64  \n",
      " 2   peso    3 non-null      float64\n",
      "dtypes: float64(1), int64(1), object(1)\n",
      "memory usage: 200.0+ bytes\n"
     ]
    }
   ],
   "source": [
    "# exibindo as informações do dataframe\n",
    "pessoasDeUmaEmpresa.info()"
   ]
  },
  {
   "cell_type": "markdown",
   "id": "acb60bf5",
   "metadata": {},
   "source": [
    "### ✏️ Renomeando Colunas em um DataFrame (`pandas`)\n",
    "\n",
    "Existem duas formas comuns de renomear colunas em um DataFrame:\n",
    "\n",
    "---\n",
    "\n",
    "#### ✅ 1. Usando o método `.rename()`:\n",
    "\n",
    "```python\n",
    "df.rename(columns={\"coluna_antiga\": \"coluna_nova\"}, inplace=True)\n"
   ]
  },
  {
   "cell_type": "markdown",
   "id": "d0e57fa1",
   "metadata": {},
   "source": [
    "Atributo **.columns** retorna uma “lista” com nome de todas as colunas, também é possível\n",
    "armazenar em uma lista:"
   ]
  },
  {
   "cell_type": "code",
   "execution_count": 224,
   "id": "20bcbdbd",
   "metadata": {},
   "outputs": [
    {
     "data": {
      "text/plain": [
       "Index(['nome', 'idade', 'peso'], dtype='object')"
      ]
     },
     "execution_count": 224,
     "metadata": {},
     "output_type": "execute_result"
    }
   ],
   "source": [
    "# exibindo uma \"lista\" com nome de todas as colunas\n",
    "pessoasDeUmaEmpresa.columns"
   ]
  },
  {
   "cell_type": "code",
   "execution_count": 225,
   "id": "fc941532",
   "metadata": {},
   "outputs": [],
   "source": [
    "# armazenando as colunas em uma lista\n",
    "# pessoasDeUmaEmpresa = list(pessoasDeUmaEmpresa.columns)\n",
    "# print(pessoasDeUmaEmpresa)"
   ]
  },
  {
   "cell_type": "markdown",
   "id": "60dec594",
   "metadata": {},
   "source": [
    "O método **.rename()** serve para renomear as colunas passando um dicionário, no exemplo abaixo </br>\n",
    "estamos criando um novo DataFrame com as colunas renomeadas:"
   ]
  },
  {
   "cell_type": "code",
   "execution_count": 226,
   "id": "3eb64917",
   "metadata": {},
   "outputs": [
    {
     "name": "stdout",
     "output_type": "stream",
     "text": [
      "     Nome Completo  Idade  peso\n",
      "0    Lucas Marcelo     41  81.5\n",
      "1  Richard Ribeiro     19  65.2\n",
      "2   Fabio Henrique     27  70.0\n"
     ]
    }
   ],
   "source": [
    "pessoasDeUmaEmpresaRenomeando = pessoasDeUmaEmpresa.rename(columns = {\n",
    "    \"nome\": \"Nome Completo\", # renomeia a coluna de nome \"nome\" para \"Nome Completo\"\n",
    "    \"idade\": \"Idade\" # renomeia a coluna de nome \"idade\" para \"Idade\"\n",
    "})\n",
    "\n",
    "print(pessoasDeUmaEmpresaRenomeando)"
   ]
  },
  {
   "cell_type": "markdown",
   "id": "cb99210d",
   "metadata": {},
   "source": [
    "É possível também renomear o DataFrame original, nesse caso pessoasDeUmaEmpresa, e continuar </br>\n",
    "utilizando-o, basta colocar **inplace = True**, veja o exemplo:"
   ]
  },
  {
   "cell_type": "code",
   "execution_count": 227,
   "id": "0182303c",
   "metadata": {},
   "outputs": [
    {
     "name": "stdout",
     "output_type": "stream",
     "text": [
      "     Nome Completo  Idade  peso\n",
      "0    Lucas Marcelo     41  81.5\n",
      "1  Richard Ribeiro     19  65.2\n",
      "2   Fabio Henrique     27  70.0\n"
     ]
    }
   ],
   "source": [
    "pessoasDeUmaEmpresa.rename(columns = {\n",
    "    \"nome\": \"Nome Completo\", # renomeia a coluna de nome \"nome\" para \"Nome Completo\"\n",
    "    \"idade\": \"Idade\", # renomeia a coluna de nome \"idade\" para \"Idade\"\n",
    "},\n",
    "    inplace=True\n",
    ")\n",
    "\n",
    "print(pessoasDeUmaEmpresa)"
   ]
  },
  {
   "cell_type": "markdown",
   "id": "9e50358c",
   "metadata": {},
   "source": [
    "Outra forma de renomear é utilizando **.columns** e passando uma lista com os novos nomes:"
   ]
  },
  {
   "cell_type": "code",
   "execution_count": 228,
   "id": "a4e8dea2",
   "metadata": {},
   "outputs": [
    {
     "name": "stdout",
     "output_type": "stream",
     "text": [
      "              NOME  IDADE  PESO\n",
      "0    Lucas Marcelo     41  81.5\n",
      "1  Richard Ribeiro     19  65.2\n",
      "2   Fabio Henrique     27  70.0\n"
     ]
    }
   ],
   "source": [
    "pessoasDeUmaEmpresa.columns = [\"NOME\", \"IDADE\", \"PESO\"]\n",
    "\n",
    "print(pessoasDeUmaEmpresa)"
   ]
  },
  {
   "cell_type": "markdown",
   "id": "de62807c",
   "metadata": {},
   "source": [
    "### 06 Series"
   ]
  },
  {
   "cell_type": "markdown",
   "id": "60d0411d",
   "metadata": {},
   "source": [
    "### 📊 Resumo sobre `pandas.Series` (Python)\n",
    "\n",
    "- Uma `Series` é uma estrutura **unidimensional** do `pandas`, parecida com uma **coluna de uma planilha**.\n",
    "- Armazena **valores** com **índices** associados (automáticos ou personalizados).\n",
    "- Cada coluna de um `DataFrame` é, na verdade, uma `Series`.\n",
    "\n",
    "#### ✅ Como criar uma `Series`:\n",
    "```python\n",
    "import pandas as pd\n",
    "\n",
    "# Com lista\n",
    "serie = pd.Series([10, 20, 30])\n",
    "\n",
    "# Com índice personalizado\n",
    "serie = pd.Series([10, 20, 30], index=['a', 'b', 'c'])\n"
   ]
  },
  {
   "cell_type": "code",
   "execution_count": 229,
   "id": "9037e6a4",
   "metadata": {},
   "outputs": [
    {
     "name": "stdout",
     "output_type": "stream",
     "text": [
      "0    Toyota\n",
      "1     Honda\n",
      "2    Toyota\n",
      "3       BMW\n",
      "4    Nissan\n",
      "5    Toyota\n",
      "6     Honda\n",
      "7     Honda\n",
      "8    Toyota\n",
      "9    Nissan\n",
      "Name: Fabricante, dtype: object\n",
      "\n",
      "\n",
      "Exibindo apenas os valores\n",
      "['Toyota' 'Honda' 'Toyota' 'BMW' 'Nissan' 'Toyota' 'Honda' 'Honda'\n",
      " 'Toyota' 'Nissan']\n"
     ]
    }
   ],
   "source": [
    "# exibi apenas os valores da coluna \"Fabricante\"\n",
    "print(dados[\"Fabricante\"])\n",
    "\n",
    "print(\"\\n\")\n",
    "# mostra o tipo da coluna \"Fabricante\", resulta em object(\"string\")\n",
    "type(dados[\"Fabricante\"])\n",
    "\n",
    "# mostra apenas os valores(sem os indices), Retorna um Array tipo NumPy\n",
    "print(\"Exibindo apenas os valores\")\n",
    "print(dados[\"Fabricante\"].values)"
   ]
  },
  {
   "cell_type": "markdown",
   "id": "b9be8522",
   "metadata": {},
   "source": [
    "Criando uma Series: </br>\n",
    "O método **.Series()** cria uma series, basta passar uma lista, ex:"
   ]
  },
  {
   "cell_type": "code",
   "execution_count": 230,
   "id": "5600b5d3",
   "metadata": {},
   "outputs": [
    {
     "name": "stdout",
     "output_type": "stream",
     "text": [
      "0    5.5\n",
      "1    6.0\n",
      "2    9.5\n",
      "dtype: float64\n"
     ]
    }
   ],
   "source": [
    "series1 = pd.Series([5.5, 6.0, 9.5])\n",
    "print(series1)"
   ]
  },
  {
   "cell_type": "markdown",
   "id": "e33ce3b7",
   "metadata": {},
   "source": [
    "Também é possível modificar o index e o nome:"
   ]
  },
  {
   "cell_type": "code",
   "execution_count": 231,
   "id": "587d0dc7",
   "metadata": {},
   "outputs": [
    {
     "name": "stdout",
     "output_type": "stream",
     "text": [
      "prova 1    5.5\n",
      "prova 2    6.0\n",
      "projeto    9.5\n",
      "Name: Notas dos alunos, dtype: float64\n"
     ]
    }
   ],
   "source": [
    "series1 = pd.Series([5.5, 6.0, 9.5], index=[\"prova 1\", \"prova 2\", \"projeto\"], name = \"Notas dos alunos\")\n",
    "print(series1)"
   ]
  },
  {
   "cell_type": "markdown",
   "id": "c07363ad",
   "metadata": {},
   "source": [
    "Para criar uma cópia, precisamos utilizar o **.copy()**"
   ]
  },
  {
   "cell_type": "code",
   "execution_count": 232,
   "id": "686c30c5",
   "metadata": {},
   "outputs": [
    {
     "name": "stdout",
     "output_type": "stream",
     "text": [
      "<bound method NDFrame.copy of 0      Branco\n",
      "1    Vermelho\n",
      "2        Azul\n",
      "3       Preto\n",
      "4      Branco\n",
      "5       Verde\n",
      "6        Azul\n",
      "7        Azul\n",
      "8      Branco\n",
      "9      Branco\n",
      "Name: Cor, dtype: object>\n"
     ]
    }
   ],
   "source": [
    "cor_copia = dados[\"Cor\"].copy\n",
    "print(cor_copia)"
   ]
  },
  {
   "cell_type": "markdown",
   "id": "7461801a",
   "metadata": {},
   "source": [
    "Para gerar DataFrame a partir de series, podemos usar o **.concat():**\n"
   ]
  },
  {
   "cell_type": "code",
   "execution_count": 233,
   "id": "7c82724b",
   "metadata": {},
   "outputs": [
    {
     "name": "stdout",
     "output_type": "stream",
     "text": [
      "         Notas dos alunos  Notas dos alunos2\n",
      "prova 1               5.5                4.5\n",
      "prova 2               6.0                7.0\n",
      "projeto               9.5                2.5\n"
     ]
    }
   ],
   "source": [
    "series1 = pd.Series([5.5, 6.0, 9.5], index=[\"prova 1\", \"prova 2\", \"projeto\"], name = \"Notas dos alunos\")\n",
    "series2 = pd.Series([4.5, 7.0, 2.5], index=[\"prova 1\", \"prova 2\", \"projeto\"], name = \"Notas dos alunos2\")\n",
    "\n",
    "dados_series = pd.concat([series1, series2], axis=1)\n",
    "print(dados_series)"
   ]
  },
  {
   "cell_type": "markdown",
   "id": "faa20ae3",
   "metadata": {},
   "source": [
    "# 🧩 Aula #08 - Criando Colunas em Python (Pandas)\n",
    "\n",
    "Nesta aula aprendemos como adicionar novas colunas em um DataFrame usando `pandas`, algo essencial para enriquecer e transformar nossos dados 📊.\n",
    "\n",
    "---\n",
    "\n",
    "## ✍️ Formas de criar colunas:\n",
    "\n",
    "🔹 **Atribuição direta**  \n",
    "```python\n",
    "df['nova_coluna'] = [1, 2, 3]\n",
    "df['fixo'] = 0"
   ]
  },
  {
   "cell_type": "markdown",
   "id": "8bffa40a",
   "metadata": {},
   "source": [
    "Podemos criar uma nova coluna a nossa base passando o nome dela, e o que queremos para\n",
    "ela, ex:"
   ]
  },
  {
   "cell_type": "code",
   "execution_count": 234,
   "id": "77099d2b",
   "metadata": {},
   "outputs": [],
   "source": [
    "#dados[\"Nova coluna\"] = \"Testando\"\n",
    "#print(dados)"
   ]
  },
  {
   "cell_type": "markdown",
   "id": "1e073d7f",
   "metadata": {},
   "source": [
    "Podemos criar também utilizando outra coluna, como por exemplo, criar uma coluna multiplicando </br>\n",
    "a Quilometragem por 2:\n"
   ]
  },
  {
   "cell_type": "code",
   "execution_count": 235,
   "id": "deea1637",
   "metadata": {},
   "outputs": [
    {
     "name": "stdout",
     "output_type": "stream",
     "text": [
      "  Fabricante       Cor  Quilometragem  Portas          Preco  Quilometragem2\n",
      "0     Toyota    Branco         150043       4   R$ 24,000.00          300086\n",
      "1      Honda  Vermelho          87899       4   R$ 25,000.00          175798\n",
      "2     Toyota      Azul          32549       3   R$ 27,000.00           65098\n",
      "3        BMW     Preto          11179       5  R$ 122,000.00           22358\n",
      "4     Nissan    Branco         213095       4   R$ 13,500.00          426190\n",
      "5     Toyota     Verde          99213       4   R$ 14,500.00          198426\n",
      "6      Honda      Azul          45698       4   R$ 17,500.00           91396\n",
      "7      Honda      Azul          54738       4   R$ 27,000.00          109476\n",
      "8     Toyota    Branco          60000       4   R$ 26,250.00          120000\n",
      "9     Nissan    Branco          31600       4   R$ 19,700.00           63200\n"
     ]
    }
   ],
   "source": [
    "dados[\"Quilometragem2\"] = dados[\"Quilometragem\"] * 2\n",
    "print(dados)"
   ]
  },
  {
   "cell_type": "markdown",
   "id": "76dddeb6",
   "metadata": {},
   "source": [
    "# 🔢 Aula #10 - Seleção por Índices em Python (Pandas)\n",
    "\n",
    "Nesta aula aprendemos como selecionar dados em um DataFrame usando **índices**. Isso é super útil para acessar linhas e colunas específicas de forma rápida e eficiente!\n",
    "\n",
    "---\n",
    "\n",
    "## 🧭 Tipos de seleção por índice:\n",
    "\n",
    "### 🔹 `loc[]` → Seleção por **rótulo** (nome das linhas/colunas)\n",
    "Usado quando queremos acessar dados pelo nome da linha ou coluna:\n",
    "```python\n",
    "df.loc[0]  # Acessa a linha com índice 0\n",
    "df.loc[0, 'nome']  # Acessa o valor da coluna 'nome' na linha 0\n"
   ]
  },
  {
   "cell_type": "markdown",
   "id": "08a874ec",
   "metadata": {},
   "source": [
    "O **.iloc[]** retorna todas as observações indexadas na posição (posição começa do 0) que\n",
    "escolher, ex:"
   ]
  },
  {
   "cell_type": "code",
   "execution_count": 236,
   "id": "eab5fe3c",
   "metadata": {},
   "outputs": [
    {
     "name": "stdout",
     "output_type": "stream",
     "text": [
      "  Fabricante       Cor  Quilometragem  Portas          Preco  Quilometragem2\n",
      "0     Toyota    Branco         150043       4   R$ 24,000.00          300086\n",
      "1      Honda  Vermelho          87899       4   R$ 25,000.00          175798\n",
      "2     Toyota      Azul          32549       3   R$ 27,000.00           65098\n",
      "3        BMW     Preto          11179       5  R$ 122,000.00           22358\n",
      "4     Nissan    Branco         213095       4   R$ 13,500.00          426190\n",
      "5     Toyota     Verde          99213       4   R$ 14,500.00          198426\n",
      "6      Honda      Azul          45698       4   R$ 17,500.00           91396\n",
      "7      Honda      Azul          54738       4   R$ 27,000.00          109476\n",
      "8     Toyota    Branco          60000       4   R$ 26,250.00          120000\n",
      "9     Nissan    Branco          31600       4   R$ 19,700.00           63200\n"
     ]
    },
    {
     "data": {
      "text/plain": [
       "Fabricante               Honda\n",
       "Cor                   Vermelho\n",
       "Quilometragem            87899\n",
       "Portas                       4\n",
       "Preco             R$ 25,000.00\n",
       "Quilometragem2          175798\n",
       "Name: 1, dtype: object"
      ]
     },
     "execution_count": 236,
     "metadata": {},
     "output_type": "execute_result"
    }
   ],
   "source": [
    "print(dados)\n",
    "dados.iloc[1]"
   ]
  },
  {
   "cell_type": "markdown",
   "id": "bf109349",
   "metadata": {},
   "source": [
    "Também é possível acessar linhas e colunas, colocando uma vírgula:"
   ]
  },
  {
   "cell_type": "code",
   "execution_count": 237,
   "id": "1b580318",
   "metadata": {},
   "outputs": [
    {
     "name": "stdout",
     "output_type": "stream",
     "text": [
      "  Fabricante       Cor  Quilometragem  Portas          Preco  Quilometragem2\n",
      "0     Toyota    Branco         150043       4   R$ 24,000.00          300086\n",
      "1      Honda  Vermelho          87899       4   R$ 25,000.00          175798\n",
      "2     Toyota      Azul          32549       3   R$ 27,000.00           65098\n",
      "3        BMW     Preto          11179       5  R$ 122,000.00           22358\n",
      "4     Nissan    Branco         213095       4   R$ 13,500.00          426190\n",
      "5     Toyota     Verde          99213       4   R$ 14,500.00          198426\n",
      "6      Honda      Azul          45698       4   R$ 17,500.00           91396\n",
      "7      Honda      Azul          54738       4   R$ 27,000.00          109476\n",
      "8     Toyota    Branco          60000       4   R$ 26,250.00          120000\n",
      "9     Nissan    Branco          31600       4   R$ 19,700.00           63200\n"
     ]
    },
    {
     "data": {
      "text/plain": [
       "4    213095\n",
       "5     99213\n",
       "Name: Quilometragem, dtype: int64"
      ]
     },
     "execution_count": 237,
     "metadata": {},
     "output_type": "execute_result"
    }
   ],
   "source": [
    "print(dados)\n",
    "dados.iloc[4:6, 2]"
   ]
  },
  {
   "cell_type": "markdown",
   "id": "511b4b9a",
   "metadata": {},
   "source": [
    "O **.loc[]** faz o index acessa os rótulos dos index, se eu acessar o rótulo 4 do index:"
   ]
  },
  {
   "cell_type": "code",
   "execution_count": 238,
   "id": "cac960ad",
   "metadata": {},
   "outputs": [
    {
     "name": "stdout",
     "output_type": "stream",
     "text": [
      "  Fabricante       Cor  Quilometragem  Portas          Preco  Quilometragem2\n",
      "0     Toyota    Branco         150043       4   R$ 24,000.00          300086\n",
      "1      Honda  Vermelho          87899       4   R$ 25,000.00          175798\n",
      "2     Toyota      Azul          32549       3   R$ 27,000.00           65098\n",
      "3        BMW     Preto          11179       5  R$ 122,000.00           22358\n",
      "4     Nissan    Branco         213095       4   R$ 13,500.00          426190\n",
      "5     Toyota     Verde          99213       4   R$ 14,500.00          198426\n",
      "6      Honda      Azul          45698       4   R$ 17,500.00           91396\n",
      "7      Honda      Azul          54738       4   R$ 27,000.00          109476\n",
      "8     Toyota    Branco          60000       4   R$ 26,250.00          120000\n",
      "9     Nissan    Branco          31600       4   R$ 19,700.00           63200\n"
     ]
    },
    {
     "data": {
      "text/plain": [
       "Fabricante              Nissan\n",
       "Cor                     Branco\n",
       "Quilometragem           213095\n",
       "Portas                       4\n",
       "Preco             R$ 13,500.00\n",
       "Quilometragem2          426190\n",
       "Name: 4, dtype: object"
      ]
     },
     "execution_count": 238,
     "metadata": {},
     "output_type": "execute_result"
    }
   ],
   "source": [
    "print(dados)\n",
    "dados.loc[4]"
   ]
  },
  {
   "cell_type": "code",
   "execution_count": 239,
   "id": "2cf9cfad",
   "metadata": {},
   "outputs": [
    {
     "name": "stdout",
     "output_type": "stream",
     "text": [
      "  Fabricante       Cor  Quilometragem  Portas          Preco  Quilometragem2\n",
      "0     Toyota    Branco         150043       4   R$ 24,000.00          300086\n",
      "1      Honda  Vermelho          87899       4   R$ 25,000.00          175798\n",
      "2     Toyota      Azul          32549       3   R$ 27,000.00           65098\n",
      "3        BMW     Preto          11179       5  R$ 122,000.00           22358\n",
      "4     Nissan    Branco         213095       4   R$ 13,500.00          426190\n",
      "5     Toyota     Verde          99213       4   R$ 14,500.00          198426\n",
      "6      Honda      Azul          45698       4   R$ 17,500.00           91396\n",
      "7      Honda      Azul          54738       4   R$ 27,000.00          109476\n",
      "8     Toyota    Branco          60000       4   R$ 26,250.00          120000\n",
      "9     Nissan    Branco          31600       4   R$ 19,700.00           63200\n"
     ]
    },
    {
     "data": {
      "text/html": [
       "<div>\n",
       "<style scoped>\n",
       "    .dataframe tbody tr th:only-of-type {\n",
       "        vertical-align: middle;\n",
       "    }\n",
       "\n",
       "    .dataframe tbody tr th {\n",
       "        vertical-align: top;\n",
       "    }\n",
       "\n",
       "    .dataframe thead th {\n",
       "        text-align: right;\n",
       "    }\n",
       "</style>\n",
       "<table border=\"1\" class=\"dataframe\">\n",
       "  <thead>\n",
       "    <tr style=\"text-align: right;\">\n",
       "      <th></th>\n",
       "      <th>Fabricante</th>\n",
       "      <th>Cor</th>\n",
       "      <th>Quilometragem</th>\n",
       "      <th>Portas</th>\n",
       "      <th>Preco</th>\n",
       "      <th>Quilometragem2</th>\n",
       "    </tr>\n",
       "  </thead>\n",
       "  <tbody>\n",
       "    <tr>\n",
       "      <th>4</th>\n",
       "      <td>Nissan</td>\n",
       "      <td>Branco</td>\n",
       "      <td>213095</td>\n",
       "      <td>4</td>\n",
       "      <td>R$ 13,500.00</td>\n",
       "      <td>426190</td>\n",
       "    </tr>\n",
       "    <tr>\n",
       "      <th>5</th>\n",
       "      <td>Toyota</td>\n",
       "      <td>Verde</td>\n",
       "      <td>99213</td>\n",
       "      <td>4</td>\n",
       "      <td>R$ 14,500.00</td>\n",
       "      <td>198426</td>\n",
       "    </tr>\n",
       "    <tr>\n",
       "      <th>6</th>\n",
       "      <td>Honda</td>\n",
       "      <td>Azul</td>\n",
       "      <td>45698</td>\n",
       "      <td>4</td>\n",
       "      <td>R$ 17,500.00</td>\n",
       "      <td>91396</td>\n",
       "    </tr>\n",
       "  </tbody>\n",
       "</table>\n",
       "</div>"
      ],
      "text/plain": [
       "  Fabricante     Cor  Quilometragem  Portas         Preco  Quilometragem2\n",
       "4     Nissan  Branco         213095       4  R$ 13,500.00          426190\n",
       "5     Toyota   Verde          99213       4  R$ 14,500.00          198426\n",
       "6      Honda    Azul          45698       4  R$ 17,500.00           91396"
      ]
     },
     "execution_count": 239,
     "metadata": {},
     "output_type": "execute_result"
    }
   ],
   "source": [
    "print(dados)\n",
    "dados.loc[4:6]"
   ]
  },
  {
   "cell_type": "markdown",
   "id": "63b26e0b",
   "metadata": {},
   "source": [
    "Também é possível acessar linhas e colunas, colocando uma vírgula:"
   ]
  },
  {
   "cell_type": "code",
   "execution_count": 240,
   "id": "4e61f533",
   "metadata": {},
   "outputs": [
    {
     "name": "stdout",
     "output_type": "stream",
     "text": [
      "  Fabricante       Cor  Quilometragem  Portas          Preco  Quilometragem2\n",
      "0     Toyota    Branco         150043       4   R$ 24,000.00          300086\n",
      "1      Honda  Vermelho          87899       4   R$ 25,000.00          175798\n",
      "2     Toyota      Azul          32549       3   R$ 27,000.00           65098\n",
      "3        BMW     Preto          11179       5  R$ 122,000.00           22358\n",
      "4     Nissan    Branco         213095       4   R$ 13,500.00          426190\n",
      "5     Toyota     Verde          99213       4   R$ 14,500.00          198426\n",
      "6      Honda      Azul          45698       4   R$ 17,500.00           91396\n",
      "7      Honda      Azul          54738       4   R$ 27,000.00          109476\n",
      "8     Toyota    Branco          60000       4   R$ 26,250.00          120000\n",
      "9     Nissan    Branco          31600       4   R$ 19,700.00           63200\n"
     ]
    },
    {
     "data": {
      "text/plain": [
       "4    213095\n",
       "5     99213\n",
       "6     45698\n",
       "Name: Quilometragem, dtype: int64"
      ]
     },
     "execution_count": 240,
     "metadata": {},
     "output_type": "execute_result"
    }
   ],
   "source": [
    "print(dados)\n",
    "dados.loc[4:6, \"Quilometragem\"]"
   ]
  },
  {
   "cell_type": "markdown",
   "id": "4970d81b",
   "metadata": {},
   "source": [
    "Seleção de múltiplas colunas:"
   ]
  },
  {
   "cell_type": "code",
   "execution_count": 241,
   "id": "15e209b3",
   "metadata": {},
   "outputs": [
    {
     "data": {
      "text/html": [
       "<div>\n",
       "<style scoped>\n",
       "    .dataframe tbody tr th:only-of-type {\n",
       "        vertical-align: middle;\n",
       "    }\n",
       "\n",
       "    .dataframe tbody tr th {\n",
       "        vertical-align: top;\n",
       "    }\n",
       "\n",
       "    .dataframe thead th {\n",
       "        text-align: right;\n",
       "    }\n",
       "</style>\n",
       "<table border=\"1\" class=\"dataframe\">\n",
       "  <thead>\n",
       "    <tr style=\"text-align: right;\">\n",
       "      <th></th>\n",
       "      <th>Fabricante</th>\n",
       "      <th>Cor</th>\n",
       "      <th>Portas</th>\n",
       "    </tr>\n",
       "  </thead>\n",
       "  <tbody>\n",
       "    <tr>\n",
       "      <th>0</th>\n",
       "      <td>Toyota</td>\n",
       "      <td>Branco</td>\n",
       "      <td>4</td>\n",
       "    </tr>\n",
       "    <tr>\n",
       "      <th>1</th>\n",
       "      <td>Honda</td>\n",
       "      <td>Vermelho</td>\n",
       "      <td>4</td>\n",
       "    </tr>\n",
       "    <tr>\n",
       "      <th>2</th>\n",
       "      <td>Toyota</td>\n",
       "      <td>Azul</td>\n",
       "      <td>3</td>\n",
       "    </tr>\n",
       "    <tr>\n",
       "      <th>3</th>\n",
       "      <td>BMW</td>\n",
       "      <td>Preto</td>\n",
       "      <td>5</td>\n",
       "    </tr>\n",
       "    <tr>\n",
       "      <th>4</th>\n",
       "      <td>Nissan</td>\n",
       "      <td>Branco</td>\n",
       "      <td>4</td>\n",
       "    </tr>\n",
       "    <tr>\n",
       "      <th>5</th>\n",
       "      <td>Toyota</td>\n",
       "      <td>Verde</td>\n",
       "      <td>4</td>\n",
       "    </tr>\n",
       "    <tr>\n",
       "      <th>6</th>\n",
       "      <td>Honda</td>\n",
       "      <td>Azul</td>\n",
       "      <td>4</td>\n",
       "    </tr>\n",
       "    <tr>\n",
       "      <th>7</th>\n",
       "      <td>Honda</td>\n",
       "      <td>Azul</td>\n",
       "      <td>4</td>\n",
       "    </tr>\n",
       "    <tr>\n",
       "      <th>8</th>\n",
       "      <td>Toyota</td>\n",
       "      <td>Branco</td>\n",
       "      <td>4</td>\n",
       "    </tr>\n",
       "    <tr>\n",
       "      <th>9</th>\n",
       "      <td>Nissan</td>\n",
       "      <td>Branco</td>\n",
       "      <td>4</td>\n",
       "    </tr>\n",
       "  </tbody>\n",
       "</table>\n",
       "</div>"
      ],
      "text/plain": [
       "  Fabricante       Cor  Portas\n",
       "0     Toyota    Branco       4\n",
       "1      Honda  Vermelho       4\n",
       "2     Toyota      Azul       3\n",
       "3        BMW     Preto       5\n",
       "4     Nissan    Branco       4\n",
       "5     Toyota     Verde       4\n",
       "6      Honda      Azul       4\n",
       "7      Honda      Azul       4\n",
       "8     Toyota    Branco       4\n",
       "9     Nissan    Branco       4"
      ]
     },
     "execution_count": 241,
     "metadata": {},
     "output_type": "execute_result"
    }
   ],
   "source": [
    "dados[[\"Fabricante\", \"Cor\", \"Portas\"]]"
   ]
  },
  {
   "cell_type": "markdown",
   "id": "a23197c1",
   "metadata": {},
   "source": [
    "Para deletar uma coluna use o **del**, veja o ex:"
   ]
  },
  {
   "cell_type": "code",
   "execution_count": 242,
   "id": "521a81dc",
   "metadata": {},
   "outputs": [
    {
     "name": "stdout",
     "output_type": "stream",
     "text": [
      "  Fabricante       Cor  Quilometragem  Portas          Preco  Quilometragem2\n",
      "0     Toyota    Branco         150043       4   R$ 24,000.00          300086\n",
      "1      Honda  Vermelho          87899       4   R$ 25,000.00          175798\n",
      "2     Toyota      Azul          32549       3   R$ 27,000.00           65098\n",
      "3        BMW     Preto          11179       5  R$ 122,000.00           22358\n",
      "4     Nissan    Branco         213095       4   R$ 13,500.00          426190\n",
      "5     Toyota     Verde          99213       4   R$ 14,500.00          198426\n",
      "6      Honda      Azul          45698       4   R$ 17,500.00           91396\n",
      "7      Honda      Azul          54738       4   R$ 27,000.00          109476\n",
      "8     Toyota    Branco          60000       4   R$ 26,250.00          120000\n",
      "9     Nissan    Branco          31600       4   R$ 19,700.00           63200\n",
      "\n",
      "\n",
      "  Fabricante       Cor  Quilometragem  Portas          Preco\n",
      "0     Toyota    Branco         150043       4   R$ 24,000.00\n",
      "1      Honda  Vermelho          87899       4   R$ 25,000.00\n",
      "2     Toyota      Azul          32549       3   R$ 27,000.00\n",
      "3        BMW     Preto          11179       5  R$ 122,000.00\n",
      "4     Nissan    Branco         213095       4   R$ 13,500.00\n",
      "5     Toyota     Verde          99213       4   R$ 14,500.00\n",
      "6      Honda      Azul          45698       4   R$ 17,500.00\n",
      "7      Honda      Azul          54738       4   R$ 27,000.00\n",
      "8     Toyota    Branco          60000       4   R$ 26,250.00\n",
      "9     Nissan    Branco          31600       4   R$ 19,700.00\n"
     ]
    }
   ],
   "source": [
    "print(dados)\n",
    "del dados[\"Quilometragem2\"]\n",
    "print(\"\\n\")\n",
    "print(dados)"
   ]
  },
  {
   "cell_type": "markdown",
   "id": "7dfa442c",
   "metadata": {},
   "source": [
    "# 🧹 Aulas #14, #15, #16, #17 – Filtragem de Dados em Python (Pandas)\n",
    "\n",
    "Nessas aulas aprendemos como **filtrar dados** de um DataFrame, ou seja, **selecionar linhas específicas** com base em condições lógicas 🕵️‍♀️.\n",
    "\n",
    "---\n",
    "\n",
    "## 🔍 Filtrando com condições simples\n",
    "\n",
    "```python\n",
    "df[df['idade'] > 18]  # Filtra somente maiores de 18\n",
    "df[df['sexo'] == 'F']  # Filtra somente onde o sexo é feminino\n"
   ]
  },
  {
   "cell_type": "markdown",
   "id": "f72812bf",
   "metadata": {},
   "source": [
    "O **.unique()** retorna os dados únicos de uma coluna:\n"
   ]
  },
  {
   "cell_type": "code",
   "execution_count": 243,
   "id": "d9d55ebe",
   "metadata": {},
   "outputs": [
    {
     "data": {
      "text/plain": [
       "array(['Toyota', 'Honda', 'BMW', 'Nissan'], dtype=object)"
      ]
     },
     "execution_count": 243,
     "metadata": {},
     "output_type": "execute_result"
    }
   ],
   "source": [
    "dados[\"Fabricante\"].unique()"
   ]
  },
  {
   "cell_type": "markdown",
   "id": "f054e74e",
   "metadata": {},
   "source": [
    "Para filtrar por condições, utilizamos **.query()** e no final do filtro usamos **.reset_index()**</br> para os\n",
    "dados filtrados voltarem o index começando do 0."
   ]
  },
  {
   "cell_type": "code",
   "execution_count": 244,
   "id": "71e64385",
   "metadata": {},
   "outputs": [
    {
     "name": "stdout",
     "output_type": "stream",
     "text": [
      "   index Fabricante       Cor  Quilometragem  Portas         Preco\n",
      "0      1      Honda  Vermelho          87899       4  R$ 25,000.00\n",
      "1      6      Honda      Azul          45698       4  R$ 17,500.00\n",
      "2      7      Honda      Azul          54738       4  R$ 27,000.00\n"
     ]
    }
   ],
   "source": [
    "dados_filtrados = dados.query(\"Fabricante == 'Honda' \").reset_index()\n",
    "print(dados_filtrados)"
   ]
  },
  {
   "cell_type": "code",
   "execution_count": 245,
   "id": "6dcdeeeb",
   "metadata": {},
   "outputs": [
    {
     "name": "stdout",
     "output_type": "stream",
     "text": [
      "   index Fabricante   Cor  Quilometragem  Portas         Preco\n",
      "0      6      Honda  Azul          45698       4  R$ 17,500.00\n",
      "1      7      Honda  Azul          54738       4  R$ 27,000.00\n"
     ]
    }
   ],
   "source": [
    "dados_filtrados2 = dados.query(\"Fabricante == 'Honda' and Cor == 'Azul' \").reset_index()\n",
    "print(dados_filtrados2)"
   ]
  },
  {
   "cell_type": "markdown",
   "id": "4894fd96",
   "metadata": {},
   "source": [
    "Outra forma de filtrar\n"
   ]
  },
  {
   "cell_type": "code",
   "execution_count": 246,
   "id": "39a3e36a",
   "metadata": {},
   "outputs": [
    {
     "name": "stdout",
     "output_type": "stream",
     "text": [
      "  Fabricante       Cor  Quilometragem  Portas         Preco\n",
      "1      Honda  Vermelho          87899       4  R$ 25,000.00\n",
      "6      Honda      Azul          45698       4  R$ 17,500.00\n",
      "7      Honda      Azul          54738       4  R$ 27,000.00\n"
     ]
    }
   ],
   "source": [
    "dados_filtrados3 = dados[dados[\"Fabricante\"] == \"Honda\"]\n",
    "print(dados_filtrados3)"
   ]
  },
  {
   "cell_type": "code",
   "execution_count": 247,
   "id": "6a1946ac",
   "metadata": {},
   "outputs": [
    {
     "name": "stdout",
     "output_type": "stream",
     "text": [
      "  Fabricante   Cor  Quilometragem  Portas         Preco\n",
      "6      Honda  Azul          45698       4  R$ 17,500.00\n",
      "7      Honda  Azul          54738       4  R$ 27,000.00\n"
     ]
    }
   ],
   "source": [
    "dados_filtrados4 = dados[(dados[\"Fabricante\"] == \"Honda\") & (dados[\"Cor\"] == \"Azul\")]\n",
    "print(dados_filtrados4)"
   ]
  },
  {
   "cell_type": "markdown",
   "id": "537388af",
   "metadata": {},
   "source": [
    "Filtrando a partir de uma lista:"
   ]
  },
  {
   "cell_type": "code",
   "execution_count": 248,
   "id": "80b1481e",
   "metadata": {},
   "outputs": [
    {
     "name": "stdout",
     "output_type": "stream",
     "text": [
      "  Fabricante       Cor  Quilometragem  Portas         Preco\n",
      "1      Honda  Vermelho          87899       4  R$ 25,000.00\n",
      "2     Toyota      Azul          32549       3  R$ 27,000.00\n",
      "6      Honda      Azul          45698       4  R$ 17,500.00\n",
      "7      Honda      Azul          54738       4  R$ 27,000.00\n"
     ]
    }
   ],
   "source": [
    "lista_cor = [\"Azul\", \"Vermelho\"]\n",
    "dados_filtrados5 = dados.query(\"Cor in @lista_cor\")\n",
    "print(dados_filtrados5)"
   ]
  },
  {
   "cell_type": "markdown",
   "id": "a8bae01f",
   "metadata": {},
   "source": [
    "O **.dropna()** remove todas as linhas do DataFrame que são vazias. </br>\n",
    "O **.fillna()** preenche todos valores vazios de um DataFrame com 0."
   ]
  },
  {
   "cell_type": "markdown",
   "id": "73a04333",
   "metadata": {},
   "source": [
    "# 📊 Aula #21 – Estatística Descritiva com Pandas\n",
    "\n",
    "Nesta aula aprendemos como usar o `pandas` para aplicar **estatísticas descritivas** — ou seja, resumir os dados com medidas importantes como média, mediana, desvio padrão e muito mais! 🧠📈\n",
    "\n",
    "---\n",
    "\n",
    "## 📦 Métodos principais do Pandas:\n",
    "\n",
    "### 🔹 `df.describe()`\n",
    "Resumo rápido com:\n",
    "- Média (`mean`)\n",
    "- Desvio padrão (`std`)\n",
    "- Mínimo e máximo\n",
    "- Quartis (25%, 50%, 75%)\n",
    "```python\n",
    "df.describe()\n"
   ]
  },
  {
   "cell_type": "markdown",
   "id": "e69f94ba",
   "metadata": {},
   "source": [
    "O **.describle()** nos retorna a estatística descritiva como contagem, média, etc.:"
   ]
  },
  {
   "cell_type": "code",
   "execution_count": 249,
   "id": "a93e0f12",
   "metadata": {},
   "outputs": [
    {
     "data": {
      "text/plain": [
       "count        10.000000\n",
       "mean      78601.400000\n",
       "std       61983.471735\n",
       "min       11179.000000\n",
       "25%       35836.250000\n",
       "50%       57369.000000\n",
       "75%       96384.500000\n",
       "max      213095.000000\n",
       "Name: Quilometragem, dtype: float64"
      ]
     },
     "execution_count": 249,
     "metadata": {},
     "output_type": "execute_result"
    }
   ],
   "source": [
    "dados[\"Quilometragem\"].describe()"
   ]
  },
  {
   "cell_type": "markdown",
   "id": "12af002d",
   "metadata": {},
   "source": [
    "Para calcular a média, soma, desvio padrão, min, max:"
   ]
  },
  {
   "cell_type": "code",
   "execution_count": 250,
   "id": "05e43bbf",
   "metadata": {},
   "outputs": [
    {
     "name": "stdout",
     "output_type": "stream",
     "text": [
      "Média da quilometragem: 78601.4\n",
      "Soma total da quilometragem: 786014\n",
      "Desvio padrão da quilometragem: 61983.47173454119\n",
      "Valor mínimo da quilometragem: 11179\n",
      "Valor máximo da quilometragem: 213095\n"
     ]
    }
   ],
   "source": [
    "print(f\"Média da quilometragem: {dados['Quilometragem'].mean()}\")     # Média da quilometragem\n",
    "print(f\"Soma total da quilometragem: {dados['Quilometragem'].sum()}\") # Soma total da quilometragem\n",
    "print(f\"Desvio padrão da quilometragem: {dados['Quilometragem'].std()}\") # Desvio padrão (dispersão)\n",
    "print(f\"Valor mínimo da quilometragem: {dados['Quilometragem'].min()}\") # Valor mínimo da quilometragem\n",
    "print(f\"Valor máximo da quilometragem: {dados['Quilometragem'].max()}\") # Valor máximo da quilometragem"
   ]
  },
  {
   "cell_type": "markdown",
   "id": "550b5617",
   "metadata": {},
   "source": [
    "Para contagem usamos **.value_counts()**:\n"
   ]
  },
  {
   "cell_type": "code",
   "execution_count": 251,
   "id": "78e9e342",
   "metadata": {},
   "outputs": [
    {
     "data": {
      "text/plain": [
       "Fabricante\n",
       "Toyota    4\n",
       "Honda     3\n",
       "Nissan    2\n",
       "BMW       1\n",
       "Name: count, dtype: int64"
      ]
     },
     "execution_count": 251,
     "metadata": {},
     "output_type": "execute_result"
    }
   ],
   "source": [
    "dados[\"Fabricante\"].value_counts()"
   ]
  },
  {
   "cell_type": "markdown",
   "id": "986cb9b2",
   "metadata": {},
   "source": [
    "Podemos também criar um novo DataFrame usando **.to_frame():**"
   ]
  },
  {
   "cell_type": "code",
   "execution_count": 252,
   "id": "ed0b2c75",
   "metadata": {},
   "outputs": [
    {
     "name": "stdout",
     "output_type": "stream",
     "text": [
      "  Fabricante  count\n",
      "0     Toyota      4\n",
      "1      Honda      3\n",
      "2     Nissan      2\n",
      "3        BMW      1\n"
     ]
    }
   ],
   "source": [
    "dados_fabricante = dados[\"Fabricante\"].value_counts().to_frame().reset_index()\n",
    "print(dados_fabricante)"
   ]
  }
 ],
 "metadata": {
  "kernelspec": {
   "display_name": "Python 3",
   "language": "python",
   "name": "python3"
  },
  "language_info": {
   "codemirror_mode": {
    "name": "ipython",
    "version": 3
   },
   "file_extension": ".py",
   "mimetype": "text/x-python",
   "name": "python",
   "nbconvert_exporter": "python",
   "pygments_lexer": "ipython3",
   "version": "3.10.0"
  }
 },
 "nbformat": 4,
 "nbformat_minor": 5
}
