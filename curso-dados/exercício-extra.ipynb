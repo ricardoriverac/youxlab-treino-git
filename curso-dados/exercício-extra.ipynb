{
 "cells": [
  {
   "cell_type": "code",
   "execution_count": 3,
   "metadata": {},
   "outputs": [],
   "source": [
    "import pandas as pd"
   ]
  },
  {
   "cell_type": "code",
   "execution_count": null,
   "metadata": {},
   "outputs": [],
   "source": [
    "dfLivros = pd.DataFrame({\n",
    "    'Nome do Livro' : ['Cem Anos de Solidão', 'Dom Casmurro', 'A Revolução dos Bichos'],\n",
    "    'Autor' : ['Gabriel García Márquez', 'Machado de Assis', 'George Orwell'],\n",
    "    'Editora' : ['Record', 'Ática', 'Companhia das Letras'],\n",
    "    'Data de Lançamento' : ['1967-05-30 ', '1899-01-01', '1945-08-17'],\n",
    "    'ISBN' : ['9788535914849', '9788508108512', '9788535914840']\n",
    "})"
   ]
  },
  {
   "cell_type": "code",
   "execution_count": null,
   "metadata": {},
   "outputs": [],
   "source": [
    "dfEstoque = pd.DataFrame({\n",
    "    'ISBN' : ['9788535914849', '9788508108512', '9788535914840'],\n",
    "    'Quantidade' : [10, 5, 8],\n",
    "    'Data de Chegada': ['2023-03-12', '2023-04-01 ', '2023-05-15'],\n",
    "    'Nome do Comprador' : ['Biblioteca Central', 'Secretaria de Cultura', 'Biblioteca Central']\n",
    "})"
   ]
  },
  {
   "cell_type": "code",
   "execution_count": 8,
   "metadata": {},
   "outputs": [
    {
     "data": {
      "text/html": [
       "<div>\n",
       "<style scoped>\n",
       "    .dataframe tbody tr th:only-of-type {\n",
       "        vertical-align: middle;\n",
       "    }\n",
       "\n",
       "    .dataframe tbody tr th {\n",
       "        vertical-align: top;\n",
       "    }\n",
       "\n",
       "    .dataframe thead th {\n",
       "        text-align: right;\n",
       "    }\n",
       "</style>\n",
       "<table border=\"1\" class=\"dataframe\">\n",
       "  <thead>\n",
       "    <tr style=\"text-align: right;\">\n",
       "      <th></th>\n",
       "      <th>Nome do Livro</th>\n",
       "      <th>Autor</th>\n",
       "      <th>Editora</th>\n",
       "      <th>Data de Lançamento</th>\n",
       "      <th>ISBN</th>\n",
       "      <th>Quantidade</th>\n",
       "      <th>Data de Chegada</th>\n",
       "      <th>Nome do Comprador</th>\n",
       "    </tr>\n",
       "  </thead>\n",
       "  <tbody>\n",
       "    <tr>\n",
       "      <th>0</th>\n",
       "      <td>Cem Anos de Solidão</td>\n",
       "      <td>Gabriel García Márquez</td>\n",
       "      <td>Record</td>\n",
       "      <td>1967-05-30</td>\n",
       "      <td>9788535914849</td>\n",
       "      <td>10</td>\n",
       "      <td>2023-03-12</td>\n",
       "      <td>Biblioteca Central</td>\n",
       "    </tr>\n",
       "    <tr>\n",
       "      <th>1</th>\n",
       "      <td>Dom Casmurro</td>\n",
       "      <td>Machado de Assis</td>\n",
       "      <td>Ática</td>\n",
       "      <td>1899-01-01</td>\n",
       "      <td>9788508108512</td>\n",
       "      <td>5</td>\n",
       "      <td>2023-04-01</td>\n",
       "      <td>Secretaria de Cultura</td>\n",
       "    </tr>\n",
       "    <tr>\n",
       "      <th>2</th>\n",
       "      <td>A Revolução dos Bichos</td>\n",
       "      <td>George Orwell</td>\n",
       "      <td>Companhia das Letras</td>\n",
       "      <td>1945-08-17</td>\n",
       "      <td>9788535914840</td>\n",
       "      <td>8</td>\n",
       "      <td>2023-05-15</td>\n",
       "      <td>Biblioteca Central</td>\n",
       "    </tr>\n",
       "  </tbody>\n",
       "</table>\n",
       "</div>"
      ],
      "text/plain": [
       "            Nome do Livro                   Autor               Editora  \\\n",
       "0     Cem Anos de Solidão  Gabriel García Márquez                Record   \n",
       "1            Dom Casmurro        Machado de Assis                 Ática   \n",
       "2  A Revolução dos Bichos           George Orwell  Companhia das Letras   \n",
       "\n",
       "  Data de Lançamento           ISBN  Quantidade Data de Chegada  \\\n",
       "0        1967-05-30   9788535914849          10      2023-03-12   \n",
       "1         1899-01-01  9788508108512           5     2023-04-01    \n",
       "2         1945-08-17  9788535914840           8      2023-05-15   \n",
       "\n",
       "       Nome do Comprador  \n",
       "0     Biblioteca Central  \n",
       "1  Secretaria de Cultura  \n",
       "2     Biblioteca Central  "
      ]
     },
     "execution_count": 8,
     "metadata": {},
     "output_type": "execute_result"
    }
   ],
   "source": [
    "df = dfLivros.merge(dfEstoque)\n",
    "df"
   ]
  },
  {
   "cell_type": "code",
   "execution_count": 9,
   "metadata": {},
   "outputs": [
    {
     "data": {
      "text/html": [
       "<div>\n",
       "<style scoped>\n",
       "    .dataframe tbody tr th:only-of-type {\n",
       "        vertical-align: middle;\n",
       "    }\n",
       "\n",
       "    .dataframe tbody tr th {\n",
       "        vertical-align: top;\n",
       "    }\n",
       "\n",
       "    .dataframe thead th {\n",
       "        text-align: right;\n",
       "    }\n",
       "</style>\n",
       "<table border=\"1\" class=\"dataframe\">\n",
       "  <thead>\n",
       "    <tr style=\"text-align: right;\">\n",
       "      <th></th>\n",
       "      <th>Nome do Livro</th>\n",
       "      <th>Autor</th>\n",
       "      <th>Quantidade</th>\n",
       "      <th>Nome do Comprador</th>\n",
       "    </tr>\n",
       "  </thead>\n",
       "  <tbody>\n",
       "    <tr>\n",
       "      <th>0</th>\n",
       "      <td>Cem Anos de Solidão</td>\n",
       "      <td>Gabriel García Márquez</td>\n",
       "      <td>10</td>\n",
       "      <td>Biblioteca Central</td>\n",
       "    </tr>\n",
       "    <tr>\n",
       "      <th>1</th>\n",
       "      <td>Dom Casmurro</td>\n",
       "      <td>Machado de Assis</td>\n",
       "      <td>5</td>\n",
       "      <td>Secretaria de Cultura</td>\n",
       "    </tr>\n",
       "    <tr>\n",
       "      <th>2</th>\n",
       "      <td>A Revolução dos Bichos</td>\n",
       "      <td>George Orwell</td>\n",
       "      <td>8</td>\n",
       "      <td>Biblioteca Central</td>\n",
       "    </tr>\n",
       "  </tbody>\n",
       "</table>\n",
       "</div>"
      ],
      "text/plain": [
       "            Nome do Livro                   Autor  Quantidade  \\\n",
       "0     Cem Anos de Solidão  Gabriel García Márquez          10   \n",
       "1            Dom Casmurro        Machado de Assis           5   \n",
       "2  A Revolução dos Bichos           George Orwell           8   \n",
       "\n",
       "       Nome do Comprador  \n",
       "0     Biblioteca Central  \n",
       "1  Secretaria de Cultura  \n",
       "2     Biblioteca Central  "
      ]
     },
     "execution_count": 9,
     "metadata": {},
     "output_type": "execute_result"
    }
   ],
   "source": [
    "df[['Nome do Livro', 'Autor', 'Quantidade', 'Nome do Comprador']]"
   ]
  },
  {
   "cell_type": "code",
   "execution_count": 10,
   "metadata": {},
   "outputs": [],
   "source": [
    "df.to_csv('relatorio_estoque.csv')"
   ]
  }
 ],
 "metadata": {
  "kernelspec": {
   "display_name": "Python 3",
   "language": "python",
   "name": "python3"
  },
  "language_info": {
   "codemirror_mode": {
    "name": "ipython",
    "version": 3
   },
   "file_extension": ".py",
   "mimetype": "text/x-python",
   "name": "python",
   "nbconvert_exporter": "python",
   "pygments_lexer": "ipython3",
   "version": "3.10.12"
  }
 },
 "nbformat": 4,
 "nbformat_minor": 2
}
