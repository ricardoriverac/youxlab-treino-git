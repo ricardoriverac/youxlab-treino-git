{
 "cells": [
  {
   "cell_type": "code",
   "execution_count": 9,
   "metadata": {},
   "outputs": [],
   "source": [
    "#importe o pandas\n",
    "import pandas as pd"
   ]
  },
  {
   "cell_type": "code",
   "execution_count": 10,
   "metadata": {},
   "outputs": [
    {
     "data": {
      "text/plain": [
       "0    Rio Grande do Norte\n",
       "1              São Paulo\n",
       "2           Minas Gerais\n",
       "dtype: object"
      ]
     },
     "execution_count": 10,
     "metadata": {},
     "output_type": "execute_result"
    }
   ],
   "source": [
    "#crie uma série com 3 estados diferentes\n",
    "estados= pd.Series(['Rio Grande do Norte', 'São Paulo', 'Minas Gerais'])\n",
    "estados"
   ]
  },
  {
   "cell_type": "code",
   "execution_count": 11,
   "metadata": {},
   "outputs": [
    {
     "data": {
      "text/plain": [
       "0    Rio Grande do Norte\n",
       "1              São Paulo\n",
       "2           Minas Gerais\n",
       "dtype: object"
      ]
     },
     "execution_count": 11,
     "metadata": {},
     "output_type": "execute_result"
    }
   ],
   "source": [
    "# Visualize os dados criados na Série\"\n",
    "estados"
   ]
  },
  {
   "cell_type": "code",
   "execution_count": 12,
   "metadata": {},
   "outputs": [
    {
     "data": {
      "text/plain": [
       "0     Nissan\n",
       "1     Toyota\n",
       "2    Ferrari\n",
       "dtype: object"
      ]
     },
     "execution_count": 12,
     "metadata": {},
     "output_type": "execute_result"
    }
   ],
   "source": [
    "# Crie uma série com 3 tipos de fabricantes de carro\"\n",
    "carro=pd.Series(['Nissan', 'Toyota','Ferrari'])\n",
    "carro"
   ]
  },
  {
   "cell_type": "code",
   "execution_count": 13,
   "metadata": {},
   "outputs": [
    {
     "data": {
      "text/html": [
       "<div>\n",
       "<style scoped>\n",
       "    .dataframe tbody tr th:only-of-type {\n",
       "        vertical-align: middle;\n",
       "    }\n",
       "\n",
       "    .dataframe tbody tr th {\n",
       "        vertical-align: top;\n",
       "    }\n",
       "\n",
       "    .dataframe thead th {\n",
       "        text-align: right;\n",
       "    }\n",
       "</style>\n",
       "<table border=\"1\" class=\"dataframe\">\n",
       "  <thead>\n",
       "    <tr style=\"text-align: right;\">\n",
       "      <th></th>\n",
       "      <th>Estado</th>\n",
       "      <th>Carro</th>\n",
       "    </tr>\n",
       "  </thead>\n",
       "  <tbody>\n",
       "    <tr>\n",
       "      <th>0</th>\n",
       "      <td>Rio Grande do Norte</td>\n",
       "      <td>Nissan</td>\n",
       "    </tr>\n",
       "    <tr>\n",
       "      <th>1</th>\n",
       "      <td>São Paulo</td>\n",
       "      <td>Toyota</td>\n",
       "    </tr>\n",
       "    <tr>\n",
       "      <th>2</th>\n",
       "      <td>Minas Gerais</td>\n",
       "      <td>Ferrari</td>\n",
       "    </tr>\n",
       "  </tbody>\n",
       "</table>\n",
       "</div>"
      ],
      "text/plain": [
       "                Estado    Carro\n",
       "0  Rio Grande do Norte   Nissan\n",
       "1            São Paulo   Toyota\n",
       "2         Minas Gerais  Ferrari"
      ]
     },
     "execution_count": 13,
     "metadata": {},
     "output_type": "execute_result"
    }
   ],
   "source": [
    "# crie um dataframe combinando as duas séries\n",
    "serie=pd.DataFrame({'Estado': estados, 'Carro':carro})\n",
    "serie"
   ]
  },
  {
   "cell_type": "code",
   "execution_count": 14,
   "metadata": {},
   "outputs": [
    {
     "name": "stdout",
     "output_type": "stream",
     "text": [
      "  Fabricante       Cor  Quilometragem  Portas          Preco\n",
      "0     Toyota    Branco         150043       4   R$ 24,000.00\n",
      "1      Honda  Vermelho          87899       4   R$ 25,000.00\n",
      "2     Toyota      Azul          32549       3   R$ 27,000.00\n",
      "3        BMW     Preto          11179       5  R$ 122,000.00\n",
      "4     Nissan    Branco         213095       4   R$ 13,500.00\n"
     ]
    }
   ],
   "source": [
    "#importe o csv \"venda-de-carros.csv\" em visualize o dataframe'\n",
    "serie= pd.read_csv('venda-de-carros.csv')\n",
    "print(serie.head())"
   ]
  },
  {
   "cell_type": "code",
   "execution_count": 15,
   "metadata": {},
   "outputs": [
    {
     "name": "stdout",
     "output_type": "stream",
     "text": [
      "<class 'pandas.core.frame.DataFrame'>\n",
      "RangeIndex: 10 entries, 0 to 9\n",
      "Data columns (total 5 columns):\n",
      " #   Column         Non-Null Count  Dtype \n",
      "---  ------         --------------  ----- \n",
      " 0   Fabricante     10 non-null     object\n",
      " 1   Cor            10 non-null     object\n",
      " 2   Quilometragem  10 non-null     int64 \n",
      " 3   Portas         10 non-null     int64 \n",
      " 4   Preco          10 non-null     object\n",
      "dtypes: int64(2), object(3)\n",
      "memory usage: 528.0+ bytes\n"
     ]
    }
   ],
   "source": [
    "# verifique os diferentes tipos de dados do dataframe\"\n",
    "serie.info()"
   ]
  },
  {
   "cell_type": "code",
   "execution_count": 16,
   "metadata": {},
   "outputs": [
    {
     "name": "stdout",
     "output_type": "stream",
     "text": [
      "       Quilometragem     Portas\n",
      "count      10.000000  10.000000\n",
      "mean    78601.400000   4.000000\n",
      "std     61983.471735   0.471405\n",
      "min     11179.000000   3.000000\n",
      "25%     35836.250000   4.000000\n",
      "50%     57369.000000   4.000000\n",
      "75%     96384.500000   4.000000\n",
      "max    213095.000000   5.000000\n"
     ]
    }
   ],
   "source": [
    "#verifique as informações estatísticas do dataframe usando .describe()\n",
    "print(serie.describe())"
   ]
  },
  {
   "cell_type": "code",
   "execution_count": 17,
   "metadata": {},
   "outputs": [
    {
     "name": "stdout",
     "output_type": "stream",
     "text": [
      "<class 'pandas.core.frame.DataFrame'>\n",
      "RangeIndex: 10 entries, 0 to 9\n",
      "Data columns (total 5 columns):\n",
      " #   Column         Non-Null Count  Dtype \n",
      "---  ------         --------------  ----- \n",
      " 0   Fabricante     10 non-null     object\n",
      " 1   Cor            10 non-null     object\n",
      " 2   Quilometragem  10 non-null     int64 \n",
      " 3   Portas         10 non-null     int64 \n",
      " 4   Preco          10 non-null     object\n",
      "dtypes: int64(2), object(3)\n",
      "memory usage: 528.0+ bytes\n",
      "None\n"
     ]
    }
   ],
   "source": [
    "# liste mais informações sobre o dataframe usando a função info()\"\n",
    "print(serie.info())"
   ]
  },
  {
   "cell_type": "code",
   "execution_count": 18,
   "metadata": {},
   "outputs": [
    {
     "name": "stdout",
     "output_type": "stream",
     "text": [
      "<class 'pandas.core.frame.DataFrame'>\n",
      "RangeIndex: 10 entries, 0 to 9\n",
      "Data columns (total 5 columns):\n",
      " #   Column         Non-Null Count  Dtype \n",
      "---  ------         --------------  ----- \n",
      " 0   Fabricante     10 non-null     object\n",
      " 1   Cor            10 non-null     object\n",
      " 2   Quilometragem  10 non-null     int64 \n",
      " 3   Portas         10 non-null     int64 \n",
      " 4   Preco          10 non-null     object\n",
      "dtypes: int64(2), object(3)\n",
      "memory usage: 528.0+ bytes\n",
      "None\n"
     ]
    }
   ],
   "source": [
    "#liste mais informações sobre o dataframe usando a função info()\"\n",
    "print(serie.info())"
   ]
  },
  {
   "cell_type": "code",
   "execution_count": 19,
   "metadata": {},
   "outputs": [
    {
     "name": "stdout",
     "output_type": "stream",
     "text": [
      "Fabricante Cor Quilometragem Portas Preço\n",
      "Index(['Fabricante', 'Cor', 'Quilometragem', 'Portas', 'Preco'], dtype='object')\n"
     ]
    }
   ],
   "source": [
    "#liste o nome de todas as colunas do dataframe\"\n",
    "print('Fabricante','Cor', 'Quilometragem', 'Portas', 'Preço')\n",
    "print(serie.columns)"
   ]
  },
  {
   "cell_type": "code",
   "execution_count": 20,
   "metadata": {},
   "outputs": [
    {
     "name": "stdout",
     "output_type": "stream",
     "text": [
      "  Fabricante       Cor  Quilometragem  Portas          Preco\n",
      "0     Toyota    Branco         150043       4   R$ 24,000.00\n",
      "1      Honda  Vermelho          87899       4   R$ 25,000.00\n",
      "2     Toyota      Azul          32549       3   R$ 27,000.00\n",
      "3        BMW     Preto          11179       5  R$ 122,000.00\n",
      "4     Nissan    Branco         213095       4   R$ 13,500.00\n"
     ]
    }
   ],
   "source": [
    "# exiba apenas as 5 primeiras linhas do dataframe\n",
    "print(serie.head(5))"
   ]
  },
  {
   "cell_type": "code",
   "execution_count": 21,
   "metadata": {},
   "outputs": [
    {
     "name": "stdout",
     "output_type": "stream",
     "text": [
      "  Fabricante     Cor  Quilometragem  Portas         Preco\n",
      "5     Toyota   Verde          99213       4  R$ 14,500.00\n",
      "6      Honda    Azul          45698       4  R$ 17,500.00\n",
      "7      Honda    Azul          54738       4  R$ 27,000.00\n",
      "8     Toyota  Branco          60000       4  R$ 26,250.00\n",
      "9     Nissan  Branco          31600       4  R$ 19,700.00\n"
     ]
    }
   ],
   "source": [
    "#exiba as 5 últimas linhas do dataframe\"\n",
    "print(serie.tail())\n"
   ]
  },
  {
   "cell_type": "code",
   "execution_count": null,
   "metadata": {},
   "outputs": [
    {
     "name": "stdout",
     "output_type": "stream",
     "text": [
      "Fabricante                 BMW\n",
      "Cor                      Preto\n",
      "Quilometragem            11179\n",
      "Portas                       5\n",
      "Preco            R$ 122,000.00\n",
      "Name: 3, dtype: object\n"
     ]
    }
   ],
   "source": [
    "#utilize .loc para selecionar os dados da linha de índice 3 do dataframe\n",
    "print(serie.loc[3])\n"
   ]
  },
  {
   "cell_type": "code",
   "execution_count": null,
   "metadata": {},
   "outputs": [
    {
     "name": "stdout",
     "output_type": "stream",
     "text": [
      "Fabricante             Toyota\n",
      "Cor                     Verde\n",
      "Quilometragem           99213\n",
      "Portas                      4\n",
      "Preco            R$ 14,500.00\n",
      "Name: 5, dtype: object\n"
     ]
    }
   ],
   "source": [
    "#utilize .iloc para exibir os dados que estão na 5° posição do dataframe\n",
    "print(serie.iloc[5])"
   ]
  },
  {
   "cell_type": "code",
   "execution_count": null,
   "metadata": {},
   "outputs": [
    {
     "name": "stdout",
     "output_type": "stream",
     "text": [
      "0    150043\n",
      "1     87899\n",
      "2     32549\n",
      "3     11179\n",
      "4    213095\n",
      "5     99213\n",
      "6     45698\n",
      "7     54738\n",
      "8     60000\n",
      "9     31600\n",
      "Name: Quilometragem, dtype: int64\n"
     ]
    }
   ],
   "source": [
    "#selecione a coluna quilometragem\n",
    "print(serie[\"Quilometragem\"])"
   ]
  },
  {
   "cell_type": "code",
   "execution_count": null,
   "metadata": {},
   "outputs": [
    {
     "data": {
      "text/plain": [
       "np.float64(78601.4)"
      ]
     },
     "execution_count": 26,
     "metadata": {},
     "output_type": "execute_result"
    }
   ],
   "source": [
    "#calcule a media da coluna quilometragem\n",
    "media=serie['Quilometragem'].mean()\n",
    "media\n"
   ]
  },
  {
   "cell_type": "code",
   "execution_count": 29,
   "metadata": {},
   "outputs": [
    {
     "name": "stdout",
     "output_type": "stream",
     "text": [
      "  Fabricante       Cor  Quilometragem  Portas          Preco\n",
      "0     Toyota    Branco         150043       4   R$ 24,000.00\n",
      "1      Honda  Vermelho          87899       4   R$ 25,000.00\n",
      "2     Toyota      Azul          32549       3   R$ 27,000.00\n",
      "3        BMW     Preto          11179       5  R$ 122,000.00\n",
      "4     Nissan    Branco         213095       4   R$ 13,500.00\n",
      "5     Toyota     Verde          99213       4   R$ 14,500.00\n",
      "6      Honda      Azul          45698       4   R$ 17,500.00\n",
      "7      Honda      Azul          54738       4   R$ 27,000.00\n",
      "8     Toyota    Branco          60000       4   R$ 26,250.00\n",
      "9     Nissan    Branco          31600       4   R$ 19,700.00\n"
     ]
    }
   ],
   "source": [
    "#liste os carros que possuem uma quilometragem maior que 100.000\n",
    "acima100000 = serie[serie['Quilometragem']>100.000]\n",
    "print(acima100000)"
   ]
  },
  {
   "cell_type": "code",
   "execution_count": 34,
   "metadata": {},
   "outputs": [
    {
     "data": {
      "text/html": [
       "<div>\n",
       "<style scoped>\n",
       "    .dataframe tbody tr th:only-of-type {\n",
       "        vertical-align: middle;\n",
       "    }\n",
       "\n",
       "    .dataframe tbody tr th {\n",
       "        vertical-align: top;\n",
       "    }\n",
       "\n",
       "    .dataframe thead th {\n",
       "        text-align: right;\n",
       "    }\n",
       "</style>\n",
       "<table border=\"1\" class=\"dataframe\">\n",
       "  <thead>\n",
       "    <tr style=\"text-align: right;\">\n",
       "      <th></th>\n",
       "      <th>Quilometragem</th>\n",
       "      <th>Portas</th>\n",
       "    </tr>\n",
       "    <tr>\n",
       "      <th>Fabricante</th>\n",
       "      <th></th>\n",
       "      <th></th>\n",
       "    </tr>\n",
       "  </thead>\n",
       "  <tbody>\n",
       "    <tr>\n",
       "      <th>BMW</th>\n",
       "      <td>11179.000000</td>\n",
       "      <td>5.00</td>\n",
       "    </tr>\n",
       "    <tr>\n",
       "      <th>Honda</th>\n",
       "      <td>62778.333333</td>\n",
       "      <td>4.00</td>\n",
       "    </tr>\n",
       "    <tr>\n",
       "      <th>Nissan</th>\n",
       "      <td>122347.500000</td>\n",
       "      <td>4.00</td>\n",
       "    </tr>\n",
       "    <tr>\n",
       "      <th>Toyota</th>\n",
       "      <td>85451.250000</td>\n",
       "      <td>3.75</td>\n",
       "    </tr>\n",
       "  </tbody>\n",
       "</table>\n",
       "</div>"
      ],
      "text/plain": [
       "            Quilometragem  Portas\n",
       "Fabricante                       \n",
       "BMW          11179.000000    5.00\n",
       "Honda        62778.333333    4.00\n",
       "Nissan      122347.500000    4.00\n",
       "Toyota       85451.250000    3.75"
      ]
     },
     "execution_count": 34,
     "metadata": {},
     "output_type": "execute_result"
    }
   ],
   "source": [
    "#agrupe as colunas pelo fabricante e calcule a média das outras colunas\n",
    "mediafabricante= serie.groupby( 'Fabricante').mean(numeric_only=True)\n",
    "mediafabricante"
   ]
  }
 ],
 "metadata": {
  "kernelspec": {
   "display_name": "Python 3",
   "language": "python",
   "name": "python3"
  },
  "language_info": {
   "codemirror_mode": {
    "name": "ipython",
    "version": 3
   },
   "file_extension": ".py",
   "mimetype": "text/x-python",
   "name": "python",
   "nbconvert_exporter": "python",
   "pygments_lexer": "ipython3",
   "version": "3.10.12"
  }
 },
 "nbformat": 4,
 "nbformat_minor": 2
}
