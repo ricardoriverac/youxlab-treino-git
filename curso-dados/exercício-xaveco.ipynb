{
 "cells": [
  {
   "cell_type": "code",
   "execution_count": 1,
   "metadata": {},
   "outputs": [
    {
     "data": {
      "text/html": [
       "<div>\n",
       "<style scoped>\n",
       "    .dataframe tbody tr th:only-of-type {\n",
       "        vertical-align: middle;\n",
       "    }\n",
       "\n",
       "    .dataframe tbody tr th {\n",
       "        vertical-align: top;\n",
       "    }\n",
       "\n",
       "    .dataframe thead th {\n",
       "        text-align: right;\n",
       "    }\n",
       "</style>\n",
       "<table border=\"1\" class=\"dataframe\">\n",
       "  <thead>\n",
       "    <tr style=\"text-align: right;\">\n",
       "      <th></th>\n",
       "      <th>Fabricante</th>\n",
       "      <th>Cor</th>\n",
       "      <th>Quilometragem</th>\n",
       "      <th>Portas</th>\n",
       "      <th>Preco</th>\n",
       "    </tr>\n",
       "  </thead>\n",
       "  <tbody>\n",
       "    <tr>\n",
       "      <th>0</th>\n",
       "      <td>Toyota</td>\n",
       "      <td>Branco</td>\n",
       "      <td>150043</td>\n",
       "      <td>4</td>\n",
       "      <td>R$24,000.00</td>\n",
       "    </tr>\n",
       "    <tr>\n",
       "      <th>1</th>\n",
       "      <td>Honda</td>\n",
       "      <td>Vermelho</td>\n",
       "      <td>87899</td>\n",
       "      <td>4</td>\n",
       "      <td>R$25,000.00</td>\n",
       "    </tr>\n",
       "    <tr>\n",
       "      <th>2</th>\n",
       "      <td>Toyota</td>\n",
       "      <td>Azul</td>\n",
       "      <td>32549</td>\n",
       "      <td>3</td>\n",
       "      <td>R$27,000.00</td>\n",
       "    </tr>\n",
       "    <tr>\n",
       "      <th>3</th>\n",
       "      <td>BMW</td>\n",
       "      <td>Preto</td>\n",
       "      <td>11179</td>\n",
       "      <td>5</td>\n",
       "      <td>R$122,000.00</td>\n",
       "    </tr>\n",
       "    <tr>\n",
       "      <th>4</th>\n",
       "      <td>Nissan</td>\n",
       "      <td>Branco</td>\n",
       "      <td>213095</td>\n",
       "      <td>4</td>\n",
       "      <td>R$13,500.00</td>\n",
       "    </tr>\n",
       "    <tr>\n",
       "      <th>5</th>\n",
       "      <td>Toyota</td>\n",
       "      <td>Verde</td>\n",
       "      <td>99213</td>\n",
       "      <td>4</td>\n",
       "      <td>R$14,500.00</td>\n",
       "    </tr>\n",
       "    <tr>\n",
       "      <th>6</th>\n",
       "      <td>Honda</td>\n",
       "      <td>Azul</td>\n",
       "      <td>45698</td>\n",
       "      <td>4</td>\n",
       "      <td>R$17,500.00</td>\n",
       "    </tr>\n",
       "  </tbody>\n",
       "</table>\n",
       "</div>"
      ],
      "text/plain": [
       "  Fabricante       Cor Quilometragem Portas         Preco\n",
       "0     Toyota    Branco        150043      4   R$24,000.00\n",
       "1      Honda  Vermelho         87899      4   R$25,000.00\n",
       "2     Toyota      Azul         32549      3   R$27,000.00\n",
       "3        BMW     Preto         11179      5  R$122,000.00\n",
       "4     Nissan    Branco        213095      4   R$13,500.00\n",
       "5     Toyota     Verde         99213      4   R$14,500.00\n",
       "6      Honda      Azul         45698      4   R$17,500.00"
      ]
     },
     "execution_count": 1,
     "metadata": {},
     "output_type": "execute_result"
    }
   ],
   "source": [
    "import pandas as pd\n",
    "\n",
    "carros = pd.DataFrame({\n",
    "    'Fabricante' : ['Toyota', 'Honda', 'Toyota', 'BMW', 'Nissan', 'Toyota', 'Honda'],\n",
    "    'Cor' : ['Branco', 'Vermelho', 'Azul', 'Preto', 'Branco', 'Verde', 'Azul'],\n",
    "    'Quilometragem' : ['150043', '87899', '32549', '11179', '213095', '99213', '45698'], \n",
    "    'Portas' : ['4', '4', '3', '5', '4', '4', '4'],\n",
    "    'Preco' : ['R$24,000.00', 'R$25,000.00', 'R$27,000.00', 'R$122,000.00', 'R$13,500.00', 'R$14,500.00', 'R$17,500.00']\n",
    "})\n",
    "carros"
   ]
  },
  {
   "cell_type": "code",
   "execution_count": 2,
   "metadata": {},
   "outputs": [
    {
     "data": {
      "text/plain": [
       "0    Toyota\n",
       "1     Honda\n",
       "2    Toyota\n",
       "3       BMW\n",
       "4    Nissan\n",
       "5    Toyota\n",
       "6     Honda\n",
       "Name: Fabricante, dtype: object"
      ]
     },
     "execution_count": 2,
     "metadata": {},
     "output_type": "execute_result"
    }
   ],
   "source": [
    "carros['Fabricante']\n"
   ]
  },
  {
   "cell_type": "code",
   "execution_count": 4,
   "metadata": {},
   "outputs": [
    {
     "data": {
      "text/html": [
       "<div>\n",
       "<style scoped>\n",
       "    .dataframe tbody tr th:only-of-type {\n",
       "        vertical-align: middle;\n",
       "    }\n",
       "\n",
       "    .dataframe tbody tr th {\n",
       "        vertical-align: top;\n",
       "    }\n",
       "\n",
       "    .dataframe thead th {\n",
       "        text-align: right;\n",
       "    }\n",
       "</style>\n",
       "<table border=\"1\" class=\"dataframe\">\n",
       "  <thead>\n",
       "    <tr style=\"text-align: right;\">\n",
       "      <th></th>\n",
       "      <th>Fabricante</th>\n",
       "      <th>Cor</th>\n",
       "      <th>Quilometragem</th>\n",
       "      <th>Portas</th>\n",
       "      <th>Preco</th>\n",
       "    </tr>\n",
       "  </thead>\n",
       "  <tbody>\n",
       "    <tr>\n",
       "      <th>4</th>\n",
       "      <td>Nissan</td>\n",
       "      <td>Branco</td>\n",
       "      <td>213095</td>\n",
       "      <td>4</td>\n",
       "      <td>R$13,500.00</td>\n",
       "    </tr>\n",
       "  </tbody>\n",
       "</table>\n",
       "</div>"
      ],
      "text/plain": [
       "  Fabricante     Cor Quilometragem Portas        Preco\n",
       "4     Nissan  Branco        213095      4  R$13,500.00"
      ]
     },
     "execution_count": 4,
     "metadata": {},
     "output_type": "execute_result"
    }
   ],
   "source": [
    "dadosFiltrados = carros[carros[\"Fabricante\"] == \"Nissan\"]\n",
    "dadosFiltrados\n"
   ]
  },
  {
   "cell_type": "code",
   "execution_count": null,
   "metadata": {},
   "outputs": [
    {
     "data": {
      "text/html": [
       "<div>\n",
       "<style scoped>\n",
       "    .dataframe tbody tr th:only-of-type {\n",
       "        vertical-align: middle;\n",
       "    }\n",
       "\n",
       "    .dataframe tbody tr th {\n",
       "        vertical-align: top;\n",
       "    }\n",
       "\n",
       "    .dataframe thead th {\n",
       "        text-align: right;\n",
       "    }\n",
       "</style>\n",
       "<table border=\"1\" class=\"dataframe\">\n",
       "  <thead>\n",
       "    <tr style=\"text-align: right;\">\n",
       "      <th></th>\n",
       "      <th>Fabricante</th>\n",
       "      <th>Cor</th>\n",
       "      <th>Quilometragem</th>\n",
       "      <th>Portas</th>\n",
       "      <th>Preco</th>\n",
       "    </tr>\n",
       "  </thead>\n",
       "  <tbody>\n",
       "    <tr>\n",
       "      <th>3</th>\n",
       "      <td>BMW</td>\n",
       "      <td>Preto</td>\n",
       "      <td>11179</td>\n",
       "      <td>5</td>\n",
       "      <td>R$122,000.00</td>\n",
       "    </tr>\n",
       "  </tbody>\n",
       "</table>\n",
       "</div>"
      ],
      "text/plain": [
       "  Fabricante    Cor Quilometragem Portas         Preco\n",
       "3        BMW  Preto         11179      5  R$122,000.00"
      ]
     },
     "execution_count": 10,
     "metadata": {},
     "output_type": "execute_result"
    }
   ],
   "source": [
    "DadosFiltrados = carros[(carros[\"Portas\"] >= '5' ) & (carros[\"Cor\"] == \"Preto\")]\n",
    "DadosFiltrados\n"
   ]
  },
  {
   "cell_type": "code",
   "execution_count": null,
   "metadata": {},
   "outputs": [],
   "source": [
    "dadosFiltrados = carros.query(\"Portas >= '3' and Cor == 'Azul'\")\n",
    "dadosFiltrados\n"
   ]
  }
 ],
 "metadata": {
  "kernelspec": {
   "display_name": "Python 3",
   "language": "python",
   "name": "python3"
  },
  "language_info": {
   "codemirror_mode": {
    "name": "ipython",
    "version": 3
   },
   "file_extension": ".py",
   "mimetype": "text/x-python",
   "name": "python",
   "nbconvert_exporter": "python",
   "pygments_lexer": "ipython3",
   "version": "3.10.12"
  }
 },
 "nbformat": 4,
 "nbformat_minor": 2
}
