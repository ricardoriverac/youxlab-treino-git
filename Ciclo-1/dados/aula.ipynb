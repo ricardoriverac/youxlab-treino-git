{
 "cells": [
  {
   "cell_type": "code",
   "execution_count": 2,
   "id": "81278336",
   "metadata": {},
   "outputs": [
    {
     "data": {
      "text/html": [
       "<div>\n",
       "<style scoped>\n",
       "    .dataframe tbody tr th:only-of-type {\n",
       "        vertical-align: middle;\n",
       "    }\n",
       "\n",
       "    .dataframe tbody tr th {\n",
       "        vertical-align: top;\n",
       "    }\n",
       "\n",
       "    .dataframe thead th {\n",
       "        text-align: right;\n",
       "    }\n",
       "</style>\n",
       "<table border=\"1\" class=\"dataframe\">\n",
       "  <thead>\n",
       "    <tr style=\"text-align: right;\">\n",
       "      <th></th>\n",
       "      <th>Fabricante</th>\n",
       "      <th>Cor</th>\n",
       "      <th>Quilometragem</th>\n",
       "      <th>Portas</th>\n",
       "      <th>Preco</th>\n",
       "    </tr>\n",
       "  </thead>\n",
       "  <tbody>\n",
       "    <tr>\n",
       "      <th>0</th>\n",
       "      <td>Toyota</td>\n",
       "      <td>Branco</td>\n",
       "      <td>150043</td>\n",
       "      <td>4</td>\n",
       "      <td>R$ 24,000.00</td>\n",
       "    </tr>\n",
       "    <tr>\n",
       "      <th>1</th>\n",
       "      <td>Honda</td>\n",
       "      <td>Vermelho</td>\n",
       "      <td>87899</td>\n",
       "      <td>4</td>\n",
       "      <td>R$ 25,000.00</td>\n",
       "    </tr>\n",
       "    <tr>\n",
       "      <th>2</th>\n",
       "      <td>Toyota</td>\n",
       "      <td>Azul</td>\n",
       "      <td>32549</td>\n",
       "      <td>3</td>\n",
       "      <td>R$ 27,000.00</td>\n",
       "    </tr>\n",
       "    <tr>\n",
       "      <th>3</th>\n",
       "      <td>BMW</td>\n",
       "      <td>Preto</td>\n",
       "      <td>11179</td>\n",
       "      <td>5</td>\n",
       "      <td>R$ 122,000.00</td>\n",
       "    </tr>\n",
       "    <tr>\n",
       "      <th>4</th>\n",
       "      <td>Nissan</td>\n",
       "      <td>Branco</td>\n",
       "      <td>213095</td>\n",
       "      <td>4</td>\n",
       "      <td>R$ 13,500.00</td>\n",
       "    </tr>\n",
       "    <tr>\n",
       "      <th>5</th>\n",
       "      <td>Toyota</td>\n",
       "      <td>Verde</td>\n",
       "      <td>99213</td>\n",
       "      <td>4</td>\n",
       "      <td>R$ 14,500.00</td>\n",
       "    </tr>\n",
       "    <tr>\n",
       "      <th>6</th>\n",
       "      <td>Honda</td>\n",
       "      <td>Azul</td>\n",
       "      <td>45698</td>\n",
       "      <td>4</td>\n",
       "      <td>R$ 17,500.00</td>\n",
       "    </tr>\n",
       "    <tr>\n",
       "      <th>7</th>\n",
       "      <td>Honda</td>\n",
       "      <td>Azul</td>\n",
       "      <td>54738</td>\n",
       "      <td>4</td>\n",
       "      <td>R$ 27,000.00</td>\n",
       "    </tr>\n",
       "    <tr>\n",
       "      <th>8</th>\n",
       "      <td>Toyota</td>\n",
       "      <td>Branco</td>\n",
       "      <td>60000</td>\n",
       "      <td>4</td>\n",
       "      <td>R$ 26,250.00</td>\n",
       "    </tr>\n",
       "    <tr>\n",
       "      <th>9</th>\n",
       "      <td>Nissan</td>\n",
       "      <td>Branco</td>\n",
       "      <td>31600</td>\n",
       "      <td>4</td>\n",
       "      <td>R$ 19,700.00</td>\n",
       "    </tr>\n",
       "  </tbody>\n",
       "</table>\n",
       "</div>"
      ],
      "text/plain": [
       "  Fabricante       Cor  Quilometragem  Portas          Preco\n",
       "0     Toyota    Branco         150043       4   R$ 24,000.00\n",
       "1      Honda  Vermelho          87899       4   R$ 25,000.00\n",
       "2     Toyota      Azul          32549       3   R$ 27,000.00\n",
       "3        BMW     Preto          11179       5  R$ 122,000.00\n",
       "4     Nissan    Branco         213095       4   R$ 13,500.00\n",
       "5     Toyota     Verde          99213       4   R$ 14,500.00\n",
       "6      Honda      Azul          45698       4   R$ 17,500.00\n",
       "7      Honda      Azul          54738       4   R$ 27,000.00\n",
       "8     Toyota    Branco          60000       4   R$ 26,250.00\n",
       "9     Nissan    Branco          31600       4   R$ 19,700.00"
      ]
     },
     "execution_count": 2,
     "metadata": {},
     "output_type": "execute_result"
    }
   ],
   "source": [
    "import pandas as pd\n",
    "dados = pd.read_csv(r'/home/youx/youxlab-treino-git/youxlab-treino-git/dados/venda-de-carros.csv')\n",
    "dados"
   ]
  },
  {
   "cell_type": "code",
   "execution_count": 3,
   "id": "7adcc679",
   "metadata": {},
   "outputs": [
    {
     "data": {
      "text/html": [
       "<div>\n",
       "<style scoped>\n",
       "    .dataframe tbody tr th:only-of-type {\n",
       "        vertical-align: middle;\n",
       "    }\n",
       "\n",
       "    .dataframe tbody tr th {\n",
       "        vertical-align: top;\n",
       "    }\n",
       "\n",
       "    .dataframe thead th {\n",
       "        text-align: right;\n",
       "    }\n",
       "</style>\n",
       "<table border=\"1\" class=\"dataframe\">\n",
       "  <thead>\n",
       "    <tr style=\"text-align: right;\">\n",
       "      <th></th>\n",
       "      <th>Fabricante</th>\n",
       "      <th>Cor</th>\n",
       "      <th>Quilometragem</th>\n",
       "      <th>Portas</th>\n",
       "      <th>Preco</th>\n",
       "    </tr>\n",
       "  </thead>\n",
       "  <tbody>\n",
       "    <tr>\n",
       "      <th>0</th>\n",
       "      <td>Toyota</td>\n",
       "      <td>Branco</td>\n",
       "      <td>150043</td>\n",
       "      <td>4</td>\n",
       "      <td>R$ 24,000.00</td>\n",
       "    </tr>\n",
       "    <tr>\n",
       "      <th>1</th>\n",
       "      <td>Honda</td>\n",
       "      <td>Vermelho</td>\n",
       "      <td>87899</td>\n",
       "      <td>4</td>\n",
       "      <td>R$ 25,000.00</td>\n",
       "    </tr>\n",
       "    <tr>\n",
       "      <th>2</th>\n",
       "      <td>Toyota</td>\n",
       "      <td>Azul</td>\n",
       "      <td>32549</td>\n",
       "      <td>3</td>\n",
       "      <td>R$ 27,000.00</td>\n",
       "    </tr>\n",
       "    <tr>\n",
       "      <th>3</th>\n",
       "      <td>BMW</td>\n",
       "      <td>Preto</td>\n",
       "      <td>11179</td>\n",
       "      <td>5</td>\n",
       "      <td>R$ 122,000.00</td>\n",
       "    </tr>\n",
       "    <tr>\n",
       "      <th>4</th>\n",
       "      <td>Nissan</td>\n",
       "      <td>Branco</td>\n",
       "      <td>213095</td>\n",
       "      <td>4</td>\n",
       "      <td>R$ 13,500.00</td>\n",
       "    </tr>\n",
       "  </tbody>\n",
       "</table>\n",
       "</div>"
      ],
      "text/plain": [
       "  Fabricante       Cor  Quilometragem  Portas          Preco\n",
       "0     Toyota    Branco         150043       4   R$ 24,000.00\n",
       "1      Honda  Vermelho          87899       4   R$ 25,000.00\n",
       "2     Toyota      Azul          32549       3   R$ 27,000.00\n",
       "3        BMW     Preto          11179       5  R$ 122,000.00\n",
       "4     Nissan    Branco         213095       4   R$ 13,500.00"
      ]
     },
     "execution_count": 3,
     "metadata": {},
     "output_type": "execute_result"
    }
   ],
   "source": [
    "dados.head()"
   ]
  },
  {
   "cell_type": "code",
   "execution_count": 6,
   "id": "baefed2b",
   "metadata": {},
   "outputs": [
    {
     "data": {
      "text/html": [
       "<div>\n",
       "<style scoped>\n",
       "    .dataframe tbody tr th:only-of-type {\n",
       "        vertical-align: middle;\n",
       "    }\n",
       "\n",
       "    .dataframe tbody tr th {\n",
       "        vertical-align: top;\n",
       "    }\n",
       "\n",
       "    .dataframe thead th {\n",
       "        text-align: right;\n",
       "    }\n",
       "</style>\n",
       "<table border=\"1\" class=\"dataframe\">\n",
       "  <thead>\n",
       "    <tr style=\"text-align: right;\">\n",
       "      <th></th>\n",
       "      <th>Fabricante</th>\n",
       "      <th>Cor</th>\n",
       "      <th>Quilometragem</th>\n",
       "      <th>Portas</th>\n",
       "      <th>Preco</th>\n",
       "    </tr>\n",
       "  </thead>\n",
       "  <tbody>\n",
       "    <tr>\n",
       "      <th>0</th>\n",
       "      <td>Toyota</td>\n",
       "      <td>Branco</td>\n",
       "      <td>150043</td>\n",
       "      <td>4</td>\n",
       "      <td>R$ 24,000.00</td>\n",
       "    </tr>\n",
       "    <tr>\n",
       "      <th>1</th>\n",
       "      <td>Honda</td>\n",
       "      <td>Vermelho</td>\n",
       "      <td>87899</td>\n",
       "      <td>4</td>\n",
       "      <td>R$ 25,000.00</td>\n",
       "    </tr>\n",
       "  </tbody>\n",
       "</table>\n",
       "</div>"
      ],
      "text/plain": [
       "  Fabricante       Cor  Quilometragem  Portas         Preco\n",
       "0     Toyota    Branco         150043       4  R$ 24,000.00\n",
       "1      Honda  Vermelho          87899       4  R$ 25,000.00"
      ]
     },
     "execution_count": 6,
     "metadata": {},
     "output_type": "execute_result"
    }
   ],
   "source": [
    "dados.head(2)"
   ]
  },
  {
   "cell_type": "code",
   "execution_count": 7,
   "id": "0357a622",
   "metadata": {},
   "outputs": [
    {
     "name": "stdout",
     "output_type": "stream",
     "text": [
      "<class 'pandas.core.frame.DataFrame'>\n",
      "RangeIndex: 10 entries, 0 to 9\n",
      "Data columns (total 5 columns):\n",
      " #   Column         Non-Null Count  Dtype \n",
      "---  ------         --------------  ----- \n",
      " 0   Fabricante     10 non-null     object\n",
      " 1   Cor            10 non-null     object\n",
      " 2   Quilometragem  10 non-null     int64 \n",
      " 3   Portas         10 non-null     int64 \n",
      " 4   Preco          10 non-null     object\n",
      "dtypes: int64(2), object(3)\n",
      "memory usage: 528.0+ bytes\n"
     ]
    }
   ],
   "source": [
    "dados.info()"
   ]
  },
  {
   "cell_type": "code",
   "execution_count": 8,
   "id": "9af4e320",
   "metadata": {},
   "outputs": [
    {
     "data": {
      "text/plain": [
       "(10, 5)"
      ]
     },
     "execution_count": 8,
     "metadata": {},
     "output_type": "execute_result"
    }
   ],
   "source": [
    "dados.shape"
   ]
  },
  {
   "cell_type": "code",
   "execution_count": 9,
   "id": "f731d2a2",
   "metadata": {},
   "outputs": [
    {
     "data": {
      "text/plain": [
       "pandas.core.frame.DataFrame"
      ]
     },
     "execution_count": 9,
     "metadata": {},
     "output_type": "execute_result"
    }
   ],
   "source": [
    "type(dados)"
   ]
  },
  {
   "cell_type": "code",
   "execution_count": 10,
   "id": "6b9ef14d",
   "metadata": {},
   "outputs": [
    {
     "data": {
      "text/html": [
       "<div>\n",
       "<style scoped>\n",
       "    .dataframe tbody tr th:only-of-type {\n",
       "        vertical-align: middle;\n",
       "    }\n",
       "\n",
       "    .dataframe tbody tr th {\n",
       "        vertical-align: top;\n",
       "    }\n",
       "\n",
       "    .dataframe thead th {\n",
       "        text-align: right;\n",
       "    }\n",
       "</style>\n",
       "<table border=\"1\" class=\"dataframe\">\n",
       "  <thead>\n",
       "    <tr style=\"text-align: right;\">\n",
       "      <th></th>\n",
       "      <th>nome</th>\n",
       "      <th>idade</th>\n",
       "      <th>classe</th>\n",
       "    </tr>\n",
       "  </thead>\n",
       "  <tbody>\n",
       "    <tr>\n",
       "      <th>0</th>\n",
       "      <td>Yharon</td>\n",
       "      <td>100</td>\n",
       "      <td>Bersek</td>\n",
       "    </tr>\n",
       "    <tr>\n",
       "      <th>1</th>\n",
       "      <td>Calamitas</td>\n",
       "      <td>100000</td>\n",
       "      <td>Bruxa</td>\n",
       "    </tr>\n",
       "    <tr>\n",
       "      <th>2</th>\n",
       "      <td>Stark</td>\n",
       "      <td>19</td>\n",
       "      <td>Convergente</td>\n",
       "    </tr>\n",
       "  </tbody>\n",
       "</table>\n",
       "</div>"
      ],
      "text/plain": [
       "        nome   idade       classe\n",
       "0     Yharon     100       Bersek\n",
       "1  Calamitas  100000        Bruxa\n",
       "2      Stark      19  Convergente"
      ]
     },
     "execution_count": 10,
     "metadata": {},
     "output_type": "execute_result"
    }
   ],
   "source": [
    "personagem_df = pd.DataFrame ({\n",
    "    'nome' : ['Yharon','Calamitas','Stark'],\n",
    "    'idade': ['100','100000','19'],\n",
    "    'classe' : ['Bersek','Bruxa','Convergente']\n",
    "})\n",
    "personagem_df"
   ]
  },
  {
   "cell_type": "code",
   "execution_count": 11,
   "id": "092e8a58",
   "metadata": {},
   "outputs": [
    {
     "data": {
      "text/plain": [
       "Index(['nome', 'idade', 'classe'], dtype='object')"
      ]
     },
     "execution_count": 11,
     "metadata": {},
     "output_type": "execute_result"
    }
   ],
   "source": [
    "personagem_df.columns"
   ]
  },
  {
   "cell_type": "code",
   "execution_count": 12,
   "id": "e19dafbc",
   "metadata": {},
   "outputs": [
    {
     "data": {
      "text/plain": [
       "['nome', 'idade', 'classe']"
      ]
     },
     "execution_count": 12,
     "metadata": {},
     "output_type": "execute_result"
    }
   ],
   "source": [
    "lista_Personagem = list(personagem_df.columns)\n",
    "lista_Personagem"
   ]
  },
  {
   "cell_type": "code",
   "execution_count": 13,
   "id": "0b4e29d9",
   "metadata": {},
   "outputs": [
    {
     "data": {
      "text/html": [
       "<div>\n",
       "<style scoped>\n",
       "    .dataframe tbody tr th:only-of-type {\n",
       "        vertical-align: middle;\n",
       "    }\n",
       "\n",
       "    .dataframe tbody tr th {\n",
       "        vertical-align: top;\n",
       "    }\n",
       "\n",
       "    .dataframe thead th {\n",
       "        text-align: right;\n",
       "    }\n",
       "</style>\n",
       "<table border=\"1\" class=\"dataframe\">\n",
       "  <thead>\n",
       "    <tr style=\"text-align: right;\">\n",
       "      <th></th>\n",
       "      <th>Codenome</th>\n",
       "      <th>idade</th>\n",
       "      <th>classe</th>\n",
       "    </tr>\n",
       "  </thead>\n",
       "  <tbody>\n",
       "    <tr>\n",
       "      <th>0</th>\n",
       "      <td>Yharon</td>\n",
       "      <td>100</td>\n",
       "      <td>Bersek</td>\n",
       "    </tr>\n",
       "    <tr>\n",
       "      <th>1</th>\n",
       "      <td>Calamitas</td>\n",
       "      <td>100000</td>\n",
       "      <td>Bruxa</td>\n",
       "    </tr>\n",
       "    <tr>\n",
       "      <th>2</th>\n",
       "      <td>Stark</td>\n",
       "      <td>19</td>\n",
       "      <td>Convergente</td>\n",
       "    </tr>\n",
       "  </tbody>\n",
       "</table>\n",
       "</div>"
      ],
      "text/plain": [
       "    Codenome   idade       classe\n",
       "0     Yharon     100       Bersek\n",
       "1  Calamitas  100000        Bruxa\n",
       "2      Stark      19  Convergente"
      ]
     },
     "execution_count": 13,
     "metadata": {},
     "output_type": "execute_result"
    }
   ],
   "source": [
    "renoameado = personagem_df.rename(columns={\n",
    "    'nome': 'Codenome',\n",
    "})\n",
    "renoameado"
   ]
  },
  {
   "cell_type": "code",
   "execution_count": 14,
   "id": "0af93157",
   "metadata": {},
   "outputs": [
    {
     "data": {
      "text/html": [
       "<div>\n",
       "<style scoped>\n",
       "    .dataframe tbody tr th:only-of-type {\n",
       "        vertical-align: middle;\n",
       "    }\n",
       "\n",
       "    .dataframe tbody tr th {\n",
       "        vertical-align: top;\n",
       "    }\n",
       "\n",
       "    .dataframe thead th {\n",
       "        text-align: right;\n",
       "    }\n",
       "</style>\n",
       "<table border=\"1\" class=\"dataframe\">\n",
       "  <thead>\n",
       "    <tr style=\"text-align: right;\">\n",
       "      <th></th>\n",
       "      <th>codenome</th>\n",
       "      <th>idade</th>\n",
       "      <th>classe</th>\n",
       "    </tr>\n",
       "  </thead>\n",
       "  <tbody>\n",
       "    <tr>\n",
       "      <th>0</th>\n",
       "      <td>Yharon</td>\n",
       "      <td>100</td>\n",
       "      <td>Bersek</td>\n",
       "    </tr>\n",
       "    <tr>\n",
       "      <th>1</th>\n",
       "      <td>Calamitas</td>\n",
       "      <td>100000</td>\n",
       "      <td>Bruxa</td>\n",
       "    </tr>\n",
       "    <tr>\n",
       "      <th>2</th>\n",
       "      <td>Stark</td>\n",
       "      <td>19</td>\n",
       "      <td>Convergente</td>\n",
       "    </tr>\n",
       "  </tbody>\n",
       "</table>\n",
       "</div>"
      ],
      "text/plain": [
       "    codenome   idade       classe\n",
       "0     Yharon     100       Bersek\n",
       "1  Calamitas  100000        Bruxa\n",
       "2      Stark      19  Convergente"
      ]
     },
     "execution_count": 14,
     "metadata": {},
     "output_type": "execute_result"
    }
   ],
   "source": [
    "personagem_df.rename(columns={\n",
    "    'nome':'codenome',\n",
    "},inplace = True)\n",
    "personagem_df"
   ]
  },
  {
   "cell_type": "code",
   "execution_count": 15,
   "id": "4eca05ca",
   "metadata": {},
   "outputs": [
    {
     "name": "stdout",
     "output_type": "stream",
     "text": [
      "<class 'pandas.core.frame.DataFrame'>\n",
      "RangeIndex: 3 entries, 0 to 2\n",
      "Data columns (total 3 columns):\n",
      " #   Column    Non-Null Count  Dtype \n",
      "---  ------    --------------  ----- \n",
      " 0   codenome  3 non-null      object\n",
      " 1   idade     3 non-null      object\n",
      " 2   classe    3 non-null      object\n",
      "dtypes: object(3)\n",
      "memory usage: 200.0+ bytes\n"
     ]
    }
   ],
   "source": [
    "personagem_df.info()"
   ]
  },
  {
   "cell_type": "code",
   "execution_count": 26,
   "id": "9ac05b14",
   "metadata": {},
   "outputs": [
    {
     "data": {
      "text/html": [
       "<div>\n",
       "<style scoped>\n",
       "    .dataframe tbody tr th:only-of-type {\n",
       "        vertical-align: middle;\n",
       "    }\n",
       "\n",
       "    .dataframe tbody tr th {\n",
       "        vertical-align: top;\n",
       "    }\n",
       "\n",
       "    .dataframe thead th {\n",
       "        text-align: right;\n",
       "    }\n",
       "</style>\n",
       "<table border=\"1\" class=\"dataframe\">\n",
       "  <thead>\n",
       "    <tr style=\"text-align: right;\">\n",
       "      <th></th>\n",
       "      <th>rank</th>\n",
       "      <th>divida</th>\n",
       "      <th>grupo</th>\n",
       "    </tr>\n",
       "  </thead>\n",
       "  <tbody>\n",
       "    <tr>\n",
       "      <th>0</th>\n",
       "      <td>Yharon</td>\n",
       "      <td>100</td>\n",
       "      <td>Bersek</td>\n",
       "    </tr>\n",
       "    <tr>\n",
       "      <th>1</th>\n",
       "      <td>Calamitas</td>\n",
       "      <td>100000</td>\n",
       "      <td>Bruxa</td>\n",
       "    </tr>\n",
       "    <tr>\n",
       "      <th>2</th>\n",
       "      <td>Stark</td>\n",
       "      <td>19</td>\n",
       "      <td>Convergente</td>\n",
       "    </tr>\n",
       "  </tbody>\n",
       "</table>\n",
       "</div>"
      ],
      "text/plain": [
       "        rank  divida        grupo\n",
       "0     Yharon     100       Bersek\n",
       "1  Calamitas  100000        Bruxa\n",
       "2      Stark      19  Convergente"
      ]
     },
     "execution_count": 26,
     "metadata": {},
     "output_type": "execute_result"
    }
   ],
   "source": [
    "personagem_df.columns = ['rank','divida','grupo']\n",
    "personagem_df"
   ]
  },
  {
   "cell_type": "code",
   "execution_count": 27,
   "id": "a6dfea07",
   "metadata": {},
   "outputs": [
    {
     "name": "stdout",
     "output_type": "stream",
     "text": [
      "0    Toyota\n",
      "1     Honda\n",
      "2    Toyota\n",
      "3       BMW\n",
      "4    Nissan\n",
      "5    Toyota\n",
      "6     Honda\n",
      "7     Honda\n",
      "8    Toyota\n",
      "9    Nissan\n",
      "Name: Fabricante, dtype: object\n"
     ]
    },
    {
     "data": {
      "text/plain": [
       "pandas.core.series.Series"
      ]
     },
     "execution_count": 27,
     "metadata": {},
     "output_type": "execute_result"
    }
   ],
   "source": [
    "print(dados['Fabricante'])\n",
    "type(dados['Fabricante'])"
   ]
  },
  {
   "cell_type": "code",
   "execution_count": 28,
   "id": "7c2bca5c",
   "metadata": {},
   "outputs": [
    {
     "data": {
      "text/plain": [
       "0    5.0\n",
       "1    5.5\n",
       "2    9.0\n",
       "3    0.0\n",
       "dtype: float64"
      ]
     },
     "execution_count": 28,
     "metadata": {},
     "output_type": "execute_result"
    }
   ],
   "source": [
    "dado = pd.Series([5,5.5,9,0])\n",
    "dado"
   ]
  },
  {
   "cell_type": "code",
   "execution_count": 29,
   "id": "8bd76d1d",
   "metadata": {},
   "outputs": [
    {
     "data": {
      "text/plain": [
       "<bound method NDFrame.copy of 0      Branco\n",
       "1    Vermelho\n",
       "2        Azul\n",
       "3       Preto\n",
       "4      Branco\n",
       "5       Verde\n",
       "6        Azul\n",
       "7        Azul\n",
       "8      Branco\n",
       "9      Branco\n",
       "Name: Cor, dtype: object>"
      ]
     },
     "execution_count": 29,
     "metadata": {},
     "output_type": "execute_result"
    }
   ],
   "source": [
    "cor_1 = dados['Cor'].copy\n",
    "cor_1"
   ]
  },
  {
   "cell_type": "code",
   "execution_count": 30,
   "id": "482e2c92",
   "metadata": {},
   "outputs": [
    {
     "name": "stdout",
     "output_type": "stream",
     "text": [
      "  Fabricante       Cor  Quilometragem  Portas          Preco\n",
      "0     Toyota    Branco         150043       4   R$ 24,000.00\n",
      "1      Honda  Vermelho          87899       4   R$ 25,000.00\n",
      "2     Toyota      Azul          32549       3   R$ 27,000.00\n",
      "3        BMW     Preto          11179       5  R$ 122,000.00\n",
      "4     Nissan    Branco         213095       4   R$ 13,500.00\n",
      "5     Toyota     Verde          99213       4   R$ 14,500.00\n",
      "6      Honda      Azul          45698       4   R$ 17,500.00\n",
      "7      Honda      Azul          54738       4   R$ 27,000.00\n",
      "8     Toyota    Branco          60000       4   R$ 26,250.00\n",
      "9     Nissan    Branco          31600       4   R$ 19,700.00\n"
     ]
    },
    {
     "data": {
      "text/plain": [
       "Fabricante              Honda\n",
       "Cor                  Vermelho\n",
       "Quilometragem           87899\n",
       "Portas                      4\n",
       "Preco            R$ 25,000.00\n",
       "Name: 1, dtype: object"
      ]
     },
     "execution_count": 30,
     "metadata": {},
     "output_type": "execute_result"
    }
   ],
   "source": [
    "print(dados)\n",
    "dados.iloc[1]"
   ]
  },
  {
   "cell_type": "code",
   "execution_count": 31,
   "id": "c970b3fb",
   "metadata": {},
   "outputs": [
    {
     "name": "stdout",
     "output_type": "stream",
     "text": [
      "  Fabricante       Cor  Quilometragem  Portas          Preco\n",
      "0     Toyota    Branco         150043       4   R$ 24,000.00\n",
      "1      Honda  Vermelho          87899       4   R$ 25,000.00\n",
      "2     Toyota      Azul          32549       3   R$ 27,000.00\n",
      "3        BMW     Preto          11179       5  R$ 122,000.00\n",
      "4     Nissan    Branco         213095       4   R$ 13,500.00\n",
      "5     Toyota     Verde          99213       4   R$ 14,500.00\n",
      "6      Honda      Azul          45698       4   R$ 17,500.00\n",
      "7      Honda      Azul          54738       4   R$ 27,000.00\n",
      "8     Toyota    Branco          60000       4   R$ 26,250.00\n",
      "9     Nissan    Branco          31600       4   R$ 19,700.00\n"
     ]
    },
    {
     "data": {
      "text/html": [
       "<div>\n",
       "<style scoped>\n",
       "    .dataframe tbody tr th:only-of-type {\n",
       "        vertical-align: middle;\n",
       "    }\n",
       "\n",
       "    .dataframe tbody tr th {\n",
       "        vertical-align: top;\n",
       "    }\n",
       "\n",
       "    .dataframe thead th {\n",
       "        text-align: right;\n",
       "    }\n",
       "</style>\n",
       "<table border=\"1\" class=\"dataframe\">\n",
       "  <thead>\n",
       "    <tr style=\"text-align: right;\">\n",
       "      <th></th>\n",
       "      <th>Fabricante</th>\n",
       "      <th>Cor</th>\n",
       "      <th>Quilometragem</th>\n",
       "      <th>Portas</th>\n",
       "      <th>Preco</th>\n",
       "    </tr>\n",
       "  </thead>\n",
       "  <tbody>\n",
       "  </tbody>\n",
       "</table>\n",
       "</div>"
      ],
      "text/plain": [
       "Empty DataFrame\n",
       "Columns: [Fabricante, Cor, Quilometragem, Portas, Preco]\n",
       "Index: []"
      ]
     },
     "execution_count": 31,
     "metadata": {},
     "output_type": "execute_result"
    }
   ],
   "source": [
    "print(dados)\n",
    "dados.iloc[1:0]"
   ]
  },
  {
   "cell_type": "code",
   "execution_count": 32,
   "id": "eadf775d",
   "metadata": {},
   "outputs": [
    {
     "name": "stdout",
     "output_type": "stream",
     "text": [
      "  Fabricante       Cor  Quilometragem  Portas          Preco\n",
      "0     Toyota    Branco         150043       4   R$ 24,000.00\n",
      "1      Honda  Vermelho          87899       4   R$ 25,000.00\n",
      "2     Toyota      Azul          32549       3   R$ 27,000.00\n",
      "3        BMW     Preto          11179       5  R$ 122,000.00\n",
      "4     Nissan    Branco         213095       4   R$ 13,500.00\n",
      "5     Toyota     Verde          99213       4   R$ 14,500.00\n",
      "6      Honda      Azul          45698       4   R$ 17,500.00\n",
      "7      Honda      Azul          54738       4   R$ 27,000.00\n",
      "8     Toyota    Branco          60000       4   R$ 26,250.00\n",
      "9     Nissan    Branco          31600       4   R$ 19,700.00\n"
     ]
    },
    {
     "data": {
      "text/plain": [
       "1    87899\n",
       "2    32549\n",
       "Name: Quilometragem, dtype: int64"
      ]
     },
     "execution_count": 32,
     "metadata": {},
     "output_type": "execute_result"
    }
   ],
   "source": [
    "print(dados)\n",
    "dados.iloc[1:3,2]"
   ]
  },
  {
   "cell_type": "code",
   "execution_count": 33,
   "id": "4b206859",
   "metadata": {},
   "outputs": [
    {
     "data": {
      "text/html": [
       "<div>\n",
       "<style scoped>\n",
       "    .dataframe tbody tr th:only-of-type {\n",
       "        vertical-align: middle;\n",
       "    }\n",
       "\n",
       "    .dataframe tbody tr th {\n",
       "        vertical-align: top;\n",
       "    }\n",
       "\n",
       "    .dataframe thead th {\n",
       "        text-align: right;\n",
       "    }\n",
       "</style>\n",
       "<table border=\"1\" class=\"dataframe\">\n",
       "  <thead>\n",
       "    <tr style=\"text-align: right;\">\n",
       "      <th></th>\n",
       "      <th>Fabricante</th>\n",
       "      <th>Cor</th>\n",
       "      <th>Portas</th>\n",
       "      <th>Preco</th>\n",
       "    </tr>\n",
       "  </thead>\n",
       "  <tbody>\n",
       "    <tr>\n",
       "      <th>0</th>\n",
       "      <td>Toyota</td>\n",
       "      <td>Branco</td>\n",
       "      <td>4</td>\n",
       "      <td>R$ 24,000.00</td>\n",
       "    </tr>\n",
       "    <tr>\n",
       "      <th>1</th>\n",
       "      <td>Honda</td>\n",
       "      <td>Vermelho</td>\n",
       "      <td>4</td>\n",
       "      <td>R$ 25,000.00</td>\n",
       "    </tr>\n",
       "    <tr>\n",
       "      <th>2</th>\n",
       "      <td>Toyota</td>\n",
       "      <td>Azul</td>\n",
       "      <td>3</td>\n",
       "      <td>R$ 27,000.00</td>\n",
       "    </tr>\n",
       "    <tr>\n",
       "      <th>3</th>\n",
       "      <td>BMW</td>\n",
       "      <td>Preto</td>\n",
       "      <td>5</td>\n",
       "      <td>R$ 122,000.00</td>\n",
       "    </tr>\n",
       "    <tr>\n",
       "      <th>4</th>\n",
       "      <td>Nissan</td>\n",
       "      <td>Branco</td>\n",
       "      <td>4</td>\n",
       "      <td>R$ 13,500.00</td>\n",
       "    </tr>\n",
       "    <tr>\n",
       "      <th>5</th>\n",
       "      <td>Toyota</td>\n",
       "      <td>Verde</td>\n",
       "      <td>4</td>\n",
       "      <td>R$ 14,500.00</td>\n",
       "    </tr>\n",
       "    <tr>\n",
       "      <th>6</th>\n",
       "      <td>Honda</td>\n",
       "      <td>Azul</td>\n",
       "      <td>4</td>\n",
       "      <td>R$ 17,500.00</td>\n",
       "    </tr>\n",
       "    <tr>\n",
       "      <th>7</th>\n",
       "      <td>Honda</td>\n",
       "      <td>Azul</td>\n",
       "      <td>4</td>\n",
       "      <td>R$ 27,000.00</td>\n",
       "    </tr>\n",
       "    <tr>\n",
       "      <th>8</th>\n",
       "      <td>Toyota</td>\n",
       "      <td>Branco</td>\n",
       "      <td>4</td>\n",
       "      <td>R$ 26,250.00</td>\n",
       "    </tr>\n",
       "    <tr>\n",
       "      <th>9</th>\n",
       "      <td>Nissan</td>\n",
       "      <td>Branco</td>\n",
       "      <td>4</td>\n",
       "      <td>R$ 19,700.00</td>\n",
       "    </tr>\n",
       "  </tbody>\n",
       "</table>\n",
       "</div>"
      ],
      "text/plain": [
       "  Fabricante       Cor  Portas          Preco\n",
       "0     Toyota    Branco       4   R$ 24,000.00\n",
       "1      Honda  Vermelho       4   R$ 25,000.00\n",
       "2     Toyota      Azul       3   R$ 27,000.00\n",
       "3        BMW     Preto       5  R$ 122,000.00\n",
       "4     Nissan    Branco       4   R$ 13,500.00\n",
       "5     Toyota     Verde       4   R$ 14,500.00\n",
       "6      Honda      Azul       4   R$ 17,500.00\n",
       "7      Honda      Azul       4   R$ 27,000.00\n",
       "8     Toyota    Branco       4   R$ 26,250.00\n",
       "9     Nissan    Branco       4   R$ 19,700.00"
      ]
     },
     "execution_count": 33,
     "metadata": {},
     "output_type": "execute_result"
    }
   ],
   "source": [
    "del dados['Quilometragem']\n",
    "dados"
   ]
  },
  {
   "cell_type": "code",
   "execution_count": 34,
   "id": "de95c6c2",
   "metadata": {},
   "outputs": [
    {
     "data": {
      "text/plain": [
       "array(['Toyota', 'Honda', 'BMW', 'Nissan'], dtype=object)"
      ]
     },
     "execution_count": 34,
     "metadata": {},
     "output_type": "execute_result"
    }
   ],
   "source": [
    "dados['Fabricante'].unique()"
   ]
  },
  {
   "cell_type": "code",
   "execution_count": 36,
   "id": "a2354eb7",
   "metadata": {},
   "outputs": [
    {
     "data": {
      "text/html": [
       "<div>\n",
       "<style scoped>\n",
       "    .dataframe tbody tr th:only-of-type {\n",
       "        vertical-align: middle;\n",
       "    }\n",
       "\n",
       "    .dataframe tbody tr th {\n",
       "        vertical-align: top;\n",
       "    }\n",
       "\n",
       "    .dataframe thead th {\n",
       "        text-align: right;\n",
       "    }\n",
       "</style>\n",
       "<table border=\"1\" class=\"dataframe\">\n",
       "  <thead>\n",
       "    <tr style=\"text-align: right;\">\n",
       "      <th></th>\n",
       "      <th>index</th>\n",
       "      <th>Fabricante</th>\n",
       "      <th>Cor</th>\n",
       "      <th>Portas</th>\n",
       "      <th>Preco</th>\n",
       "    </tr>\n",
       "  </thead>\n",
       "  <tbody>\n",
       "    <tr>\n",
       "      <th>0</th>\n",
       "      <td>1</td>\n",
       "      <td>Honda</td>\n",
       "      <td>Vermelho</td>\n",
       "      <td>4</td>\n",
       "      <td>R$ 25,000.00</td>\n",
       "    </tr>\n",
       "    <tr>\n",
       "      <th>1</th>\n",
       "      <td>6</td>\n",
       "      <td>Honda</td>\n",
       "      <td>Azul</td>\n",
       "      <td>4</td>\n",
       "      <td>R$ 17,500.00</td>\n",
       "    </tr>\n",
       "    <tr>\n",
       "      <th>2</th>\n",
       "      <td>7</td>\n",
       "      <td>Honda</td>\n",
       "      <td>Azul</td>\n",
       "      <td>4</td>\n",
       "      <td>R$ 27,000.00</td>\n",
       "    </tr>\n",
       "  </tbody>\n",
       "</table>\n",
       "</div>"
      ],
      "text/plain": [
       "   index Fabricante       Cor  Portas         Preco\n",
       "0      1      Honda  Vermelho       4  R$ 25,000.00\n",
       "1      6      Honda      Azul       4  R$ 17,500.00\n",
       "2      7      Honda      Azul       4  R$ 27,000.00"
      ]
     },
     "execution_count": 36,
     "metadata": {},
     "output_type": "execute_result"
    }
   ],
   "source": [
    "dados_filtrados = dados.query('Fabricante == \"Honda\"').reset_index()\n",
    "dados_filtrados"
   ]
  },
  {
   "cell_type": "code",
   "execution_count": 37,
   "id": "82bd00f3",
   "metadata": {},
   "outputs": [
    {
     "data": {
      "text/html": [
       "<div>\n",
       "<style scoped>\n",
       "    .dataframe tbody tr th:only-of-type {\n",
       "        vertical-align: middle;\n",
       "    }\n",
       "\n",
       "    .dataframe tbody tr th {\n",
       "        vertical-align: top;\n",
       "    }\n",
       "\n",
       "    .dataframe thead th {\n",
       "        text-align: right;\n",
       "    }\n",
       "</style>\n",
       "<table border=\"1\" class=\"dataframe\">\n",
       "  <thead>\n",
       "    <tr style=\"text-align: right;\">\n",
       "      <th></th>\n",
       "      <th>index</th>\n",
       "      <th>Fabricante</th>\n",
       "      <th>Cor</th>\n",
       "      <th>Portas</th>\n",
       "      <th>Preco</th>\n",
       "    </tr>\n",
       "  </thead>\n",
       "  <tbody>\n",
       "    <tr>\n",
       "      <th>0</th>\n",
       "      <td>6</td>\n",
       "      <td>Honda</td>\n",
       "      <td>Azul</td>\n",
       "      <td>4</td>\n",
       "      <td>R$ 17,500.00</td>\n",
       "    </tr>\n",
       "    <tr>\n",
       "      <th>1</th>\n",
       "      <td>7</td>\n",
       "      <td>Honda</td>\n",
       "      <td>Azul</td>\n",
       "      <td>4</td>\n",
       "      <td>R$ 27,000.00</td>\n",
       "    </tr>\n",
       "  </tbody>\n",
       "</table>\n",
       "</div>"
      ],
      "text/plain": [
       "   index Fabricante   Cor  Portas         Preco\n",
       "0      6      Honda  Azul       4  R$ 17,500.00\n",
       "1      7      Honda  Azul       4  R$ 27,000.00"
      ]
     },
     "execution_count": 37,
     "metadata": {},
     "output_type": "execute_result"
    }
   ],
   "source": [
    "dados_filtrados = dados.query('Fabricante == \"Honda\" and Cor == \"Azul\"').reset_index()\n",
    "dados_filtrados"
   ]
  },
  {
   "cell_type": "code",
   "execution_count": 43,
   "id": "f9d894e7",
   "metadata": {},
   "outputs": [
    {
     "data": {
      "text/html": [
       "<div>\n",
       "<style scoped>\n",
       "    .dataframe tbody tr th:only-of-type {\n",
       "        vertical-align: middle;\n",
       "    }\n",
       "\n",
       "    .dataframe tbody tr th {\n",
       "        vertical-align: top;\n",
       "    }\n",
       "\n",
       "    .dataframe thead th {\n",
       "        text-align: right;\n",
       "    }\n",
       "</style>\n",
       "<table border=\"1\" class=\"dataframe\">\n",
       "  <thead>\n",
       "    <tr style=\"text-align: right;\">\n",
       "      <th></th>\n",
       "      <th>Fabricante</th>\n",
       "      <th>Cor</th>\n",
       "      <th>Portas</th>\n",
       "      <th>Preco</th>\n",
       "    </tr>\n",
       "  </thead>\n",
       "  <tbody>\n",
       "    <tr>\n",
       "      <th>1</th>\n",
       "      <td>Honda</td>\n",
       "      <td>Vermelho</td>\n",
       "      <td>4</td>\n",
       "      <td>R$ 25,000.00</td>\n",
       "    </tr>\n",
       "    <tr>\n",
       "      <th>2</th>\n",
       "      <td>Toyota</td>\n",
       "      <td>Azul</td>\n",
       "      <td>3</td>\n",
       "      <td>R$ 27,000.00</td>\n",
       "    </tr>\n",
       "    <tr>\n",
       "      <th>6</th>\n",
       "      <td>Honda</td>\n",
       "      <td>Azul</td>\n",
       "      <td>4</td>\n",
       "      <td>R$ 17,500.00</td>\n",
       "    </tr>\n",
       "    <tr>\n",
       "      <th>7</th>\n",
       "      <td>Honda</td>\n",
       "      <td>Azul</td>\n",
       "      <td>4</td>\n",
       "      <td>R$ 27,000.00</td>\n",
       "    </tr>\n",
       "  </tbody>\n",
       "</table>\n",
       "</div>"
      ],
      "text/plain": [
       "  Fabricante       Cor  Portas         Preco\n",
       "1      Honda  Vermelho       4  R$ 25,000.00\n",
       "2     Toyota      Azul       3  R$ 27,000.00\n",
       "6      Honda      Azul       4  R$ 17,500.00\n",
       "7      Honda      Azul       4  R$ 27,000.00"
      ]
     },
     "execution_count": 43,
     "metadata": {},
     "output_type": "execute_result"
    }
   ],
   "source": [
    "Lista_cor = ['Azul','Vermelho']\n",
    "dados_filtrados1 = dados.query('Cor in @Lista_cor')\n",
    "dados_filtrados1"
   ]
  },
  {
   "cell_type": "code",
   "execution_count": 16,
   "id": "3dd9d3b8",
   "metadata": {},
   "outputs": [
    {
     "data": {
      "text/plain": [
       "<bound method NDFrame.describe of 0     R$ 24,000.00\n",
       "1     R$ 25,000.00\n",
       "2     R$ 27,000.00\n",
       "3    R$ 122,000.00\n",
       "4     R$ 13,500.00\n",
       "5     R$ 14,500.00\n",
       "6     R$ 17,500.00\n",
       "7     R$ 27,000.00\n",
       "8     R$ 26,250.00\n",
       "9     R$ 19,700.00\n",
       "Name: Preco, dtype: object>"
      ]
     },
     "execution_count": 16,
     "metadata": {},
     "output_type": "execute_result"
    }
   ],
   "source": [
    "dados['Preco'].describe"
   ]
  },
  {
   "cell_type": "code",
   "execution_count": 19,
   "id": "3d976de5",
   "metadata": {},
   "outputs": [
    {
     "name": "stdout",
     "output_type": "stream",
     "text": [
      "213095\n",
      "11179\n",
      "786014\n",
      "61983.47173454119\n",
      "78601.4\n"
     ]
    }
   ],
   "source": [
    "print(dados['Quilometragem'].max())\n",
    "print(dados['Quilometragem'].min())\n",
    "print(dados['Quilometragem'].sum())\n",
    "print(dados['Quilometragem'].std())\n",
    "print(dados['Quilometragem'].mean())\n"
   ]
  },
  {
   "cell_type": "code",
   "execution_count": 20,
   "id": "2652890f",
   "metadata": {},
   "outputs": [
    {
     "data": {
      "text/plain": [
       "Fabricante\n",
       "Toyota    4\n",
       "Honda     3\n",
       "Nissan    2\n",
       "BMW       1\n",
       "Name: count, dtype: int64"
      ]
     },
     "execution_count": 20,
     "metadata": {},
     "output_type": "execute_result"
    }
   ],
   "source": [
    "dados['Fabricante'].value_counts()"
   ]
  },
  {
   "cell_type": "code",
   "execution_count": 22,
   "id": "d781c567",
   "metadata": {},
   "outputs": [
    {
     "data": {
      "text/html": [
       "<div>\n",
       "<style scoped>\n",
       "    .dataframe tbody tr th:only-of-type {\n",
       "        vertical-align: middle;\n",
       "    }\n",
       "\n",
       "    .dataframe tbody tr th {\n",
       "        vertical-align: top;\n",
       "    }\n",
       "\n",
       "    .dataframe thead th {\n",
       "        text-align: right;\n",
       "    }\n",
       "</style>\n",
       "<table border=\"1\" class=\"dataframe\">\n",
       "  <thead>\n",
       "    <tr style=\"text-align: right;\">\n",
       "      <th></th>\n",
       "      <th>Fabricante</th>\n",
       "      <th>count</th>\n",
       "    </tr>\n",
       "  </thead>\n",
       "  <tbody>\n",
       "    <tr>\n",
       "      <th>0</th>\n",
       "      <td>Toyota</td>\n",
       "      <td>4</td>\n",
       "    </tr>\n",
       "    <tr>\n",
       "      <th>1</th>\n",
       "      <td>Honda</td>\n",
       "      <td>3</td>\n",
       "    </tr>\n",
       "    <tr>\n",
       "      <th>2</th>\n",
       "      <td>Nissan</td>\n",
       "      <td>2</td>\n",
       "    </tr>\n",
       "    <tr>\n",
       "      <th>3</th>\n",
       "      <td>BMW</td>\n",
       "      <td>1</td>\n",
       "    </tr>\n",
       "  </tbody>\n",
       "</table>\n",
       "</div>"
      ],
      "text/plain": [
       "  Fabricante  count\n",
       "0     Toyota      4\n",
       "1      Honda      3\n",
       "2     Nissan      2\n",
       "3        BMW      1"
      ]
     },
     "execution_count": 22,
     "metadata": {},
     "output_type": "execute_result"
    }
   ],
   "source": [
    "dados_marcas = dados['Fabricante'].value_counts().to_frame().reset_index()\n",
    "dados_marcas"
   ]
  },
  {
   "cell_type": "code",
   "execution_count": null,
   "id": "e0e65c95",
   "metadata": {},
   "outputs": [],
   "source": []
  },
  {
   "cell_type": "code",
   "execution_count": null,
   "id": "0daad97e",
   "metadata": {},
   "outputs": [],
   "source": []
  },
  {
   "cell_type": "code",
   "execution_count": null,
   "id": "4c1ae035",
   "metadata": {},
   "outputs": [],
   "source": []
  },
  {
   "cell_type": "code",
   "execution_count": null,
   "id": "68b92387",
   "metadata": {},
   "outputs": [],
   "source": []
  },
  {
   "cell_type": "code",
   "execution_count": null,
   "id": "1e730582",
   "metadata": {},
   "outputs": [],
   "source": []
  },
  {
   "cell_type": "markdown",
   "id": "24eb75b9",
   "metadata": {},
   "source": []
  }
 ],
 "metadata": {
  "kernelspec": {
   "display_name": "Python 3",
   "language": "python",
   "name": "python3"
  },
  "language_info": {
   "codemirror_mode": {
    "name": "ipython",
    "version": 3
   },
   "file_extension": ".py",
   "mimetype": "text/x-python",
   "name": "python",
   "nbconvert_exporter": "python",
   "pygments_lexer": "ipython3",
   "version": "3.10.12"
  }
 },
 "nbformat": 4,
 "nbformat_minor": 5
}
