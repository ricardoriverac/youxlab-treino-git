{
 "cells": [
  {
   "cell_type": "code",
   "execution_count": 2,
   "id": "dae86e29",
   "metadata": {},
   "outputs": [],
   "source": [
    "import pandas as pd"
   ]
  },
  {
   "cell_type": "code",
   "execution_count": 3,
   "id": "2bca8dd9",
   "metadata": {},
   "outputs": [],
   "source": [
    "# index \n",
    "\n",
    "livros = pd.DataFrame({  \n",
    "    'Nome do Livro' : ['Cem Anos de Solidão','Dom Casmurro','A Revoluçãodos Bichos',] ,\n",
    "    'Autor' : ['Gabriel García Márquez','Machado deAssis','George Orwell'],\n",
    "    'Editora' : ['Record','Ática','Companhia das Letras'],\n",
    "    'Data de lançamento' : ['1967-05-30','1899-01-01','1945-08-17'],    \n",
    "    'ISBN' : [9788535914849, 9788508108512, 9788535914840],\n",
    "})"
   ]
  },
  {
   "cell_type": "code",
   "execution_count": null,
   "id": "92ae7b1d",
   "metadata": {},
   "outputs": [],
   "source": [
    "estoque = pd.DataFrame({  \n",
    "    'ISBN' : [9788535914849, 9788508108512, 9788535914840],\n",
    "    'Quantidade' : [10,5,8,] ,\n",
    "    'Data de Chegada' : ['2023-03-12','2023-04-01','2023-05-15'],    \n",
    "    'Nome do comprandor' : ['Biblioteca Central' , 'Secretaria de Cultura' , 'Biblioteca Central'],\n",
    "})"
   ]
  },
  {
   "cell_type": "code",
   "execution_count": null,
   "id": "3242ba31",
   "metadata": {},
   "outputs": [],
   "source": []
  },
  {
   "cell_type": "code",
   "execution_count": null,
   "id": "7f05b645",
   "metadata": {},
   "outputs": [],
   "source": [
    "df_merged_inner = pd.merge(estoque, livros, on='ISBN')\n",
    "df_merged_inner[['Nome do Livro' , 'Autor' , 'Quantidade' , 'Nome do comprandor']]\n",
    "df_merged_inner.to_csv('/home/youx/workspace-git/youxlab-treino-git/curso_dados/data.sets/exercicioextra/exerciciofeito.ipynb.csv')\n"
   ]
  },
  {
   "cell_type": "code",
   "execution_count": null,
   "id": "dc77d2f5",
   "metadata": {},
   "outputs": [
    {
     "data": {
      "application/vnd.microsoft.datawrangler.viewer.v0+json": {
       "columns": [
        {
         "name": "index",
         "rawType": "int64",
         "type": "integer"
        },
        {
         "name": "ISBN",
         "rawType": "int64",
         "type": "integer"
        },
        {
         "name": "Quantidade",
         "rawType": "int64",
         "type": "integer"
        },
        {
         "name": "Data de Chegada",
         "rawType": "object",
         "type": "string"
        },
        {
         "name": "Nome do comprandor",
         "rawType": "object",
         "type": "string"
        },
        {
         "name": "Nome do Livro",
         "rawType": "object",
         "type": "string"
        },
        {
         "name": "Autor",
         "rawType": "object",
         "type": "string"
        },
        {
         "name": "Editora",
         "rawType": "object",
         "type": "string"
        },
        {
         "name": "Data de lançamento",
         "rawType": "object",
         "type": "string"
        }
       ],
       "conversionMethod": "pd.DataFrame",
       "ref": "d2f1811c-fd77-4052-a1a8-7b119f958626",
       "rows": [
        [
         "0",
         "9788535914849",
         "10",
         "2023-03-12",
         "Biblioteca Central",
         "Cem Anos de Solidão",
         "Gabriel García Márquez",
         "Record",
         "1967-05-30"
        ],
        [
         "1",
         "9788508108512",
         "5",
         "2023-04-01",
         "Secretaria de Cultura",
         "Dom Casmurro",
         "Machado deAssis",
         "Ática",
         "1899-01-01"
        ],
        [
         "2",
         "9788535914840",
         "8",
         "2023-05-15",
         "Biblioteca Central",
         "A Revoluçãodos Bichos",
         "George Orwell",
         "Companhia das Letras",
         "1945-08-17"
        ]
       ],
       "shape": {
        "columns": 8,
        "rows": 3
       }
      },
      "text/html": [
       "<div>\n",
       "<style scoped>\n",
       "    .dataframe tbody tr th:only-of-type {\n",
       "        vertical-align: middle;\n",
       "    }\n",
       "\n",
       "    .dataframe tbody tr th {\n",
       "        vertical-align: top;\n",
       "    }\n",
       "\n",
       "    .dataframe thead th {\n",
       "        text-align: right;\n",
       "    }\n",
       "</style>\n",
       "<table border=\"1\" class=\"dataframe\">\n",
       "  <thead>\n",
       "    <tr style=\"text-align: right;\">\n",
       "      <th></th>\n",
       "      <th>ISBN</th>\n",
       "      <th>Quantidade</th>\n",
       "      <th>Data de Chegada</th>\n",
       "      <th>Nome do comprandor</th>\n",
       "      <th>Nome do Livro</th>\n",
       "      <th>Autor</th>\n",
       "      <th>Editora</th>\n",
       "      <th>Data de lançamento</th>\n",
       "    </tr>\n",
       "  </thead>\n",
       "  <tbody>\n",
       "    <tr>\n",
       "      <th>0</th>\n",
       "      <td>9788535914849</td>\n",
       "      <td>10</td>\n",
       "      <td>2023-03-12</td>\n",
       "      <td>Biblioteca Central</td>\n",
       "      <td>Cem Anos de Solidão</td>\n",
       "      <td>Gabriel García Márquez</td>\n",
       "      <td>Record</td>\n",
       "      <td>1967-05-30</td>\n",
       "    </tr>\n",
       "    <tr>\n",
       "      <th>1</th>\n",
       "      <td>9788508108512</td>\n",
       "      <td>5</td>\n",
       "      <td>2023-04-01</td>\n",
       "      <td>Secretaria de Cultura</td>\n",
       "      <td>Dom Casmurro</td>\n",
       "      <td>Machado deAssis</td>\n",
       "      <td>Ática</td>\n",
       "      <td>1899-01-01</td>\n",
       "    </tr>\n",
       "    <tr>\n",
       "      <th>2</th>\n",
       "      <td>9788535914840</td>\n",
       "      <td>8</td>\n",
       "      <td>2023-05-15</td>\n",
       "      <td>Biblioteca Central</td>\n",
       "      <td>A Revoluçãodos Bichos</td>\n",
       "      <td>George Orwell</td>\n",
       "      <td>Companhia das Letras</td>\n",
       "      <td>1945-08-17</td>\n",
       "    </tr>\n",
       "  </tbody>\n",
       "</table>\n",
       "</div>"
      ],
      "text/plain": [
       "            ISBN  Quantidade Data de Chegada     Nome do comprandor  \\\n",
       "0  9788535914849          10      2023-03-12     Biblioteca Central   \n",
       "1  9788508108512           5      2023-04-01  Secretaria de Cultura   \n",
       "2  9788535914840           8      2023-05-15     Biblioteca Central   \n",
       "\n",
       "           Nome do Livro                   Autor               Editora  \\\n",
       "0    Cem Anos de Solidão  Gabriel García Márquez                Record   \n",
       "1           Dom Casmurro         Machado deAssis                 Ática   \n",
       "2  A Revoluçãodos Bichos           George Orwell  Companhia das Letras   \n",
       "\n",
       "  Data de lançamento  \n",
       "0         1967-05-30  \n",
       "1         1899-01-01  \n",
       "2         1945-08-17  "
      ]
     },
     "execution_count": 39,
     "metadata": {},
     "output_type": "execute_result"
    }
   ],
   "source": [
    "data = pd.read_csv('/home/youx/workspace-git/youxlab-treino-git/curso_dados/data.sets/exercicioextra/exerciciofeito.ipynb.csv')\n",
    "del data['Unnamed: 0']\n",
    "data\n"
   ]
  },
  {
   "cell_type": "code",
   "execution_count": 46,
   "id": "6fde9ca6",
   "metadata": {},
   "outputs": [
    {
     "data": {
      "application/vnd.microsoft.datawrangler.viewer.v0+json": {
       "columns": [
        {
         "name": "index",
         "rawType": "int64",
         "type": "integer"
        },
        {
         "name": "Nome do comprandor",
         "rawType": "object",
         "type": "string"
        },
        {
         "name": "Avaliação",
         "rawType": "int64",
         "type": "integer"
        },
        {
         "name": "ISBN",
         "rawType": "int64",
         "type": "integer"
        },
        {
         "name": "Quantidade",
         "rawType": "int64",
         "type": "integer"
        },
        {
         "name": "Data de Chegada",
         "rawType": "object",
         "type": "string"
        },
        {
         "name": "Nome do Livro",
         "rawType": "object",
         "type": "string"
        },
        {
         "name": "Autor",
         "rawType": "object",
         "type": "string"
        },
        {
         "name": "Editora",
         "rawType": "object",
         "type": "string"
        },
        {
         "name": "Data de lançamento",
         "rawType": "object",
         "type": "string"
        }
       ],
       "conversionMethod": "pd.DataFrame",
       "ref": "01068e95-2e5d-4d8f-80a1-5ea2fede1629",
       "rows": [
        [
         "0",
         "Biblioteca Central",
         "10",
         "9788535914849",
         "10",
         "2023-03-12",
         "Cem Anos de Solidão",
         "Gabriel García Márquez",
         "Record",
         "1967-05-30"
        ],
        [
         "1",
         "Biblioteca Central",
         "10",
         "9788535914840",
         "8",
         "2023-05-15",
         "A Revoluçãodos Bichos",
         "George Orwell",
         "Companhia das Letras",
         "1945-08-17"
        ],
        [
         "2",
         "Secretaria de Cultura",
         "5",
         "9788508108512",
         "5",
         "2023-04-01",
         "Dom Casmurro",
         "Machado deAssis",
         "Ática",
         "1899-01-01"
        ],
        [
         "3",
         "Biblioteca Central",
         "6",
         "9788535914849",
         "10",
         "2023-03-12",
         "Cem Anos de Solidão",
         "Gabriel García Márquez",
         "Record",
         "1967-05-30"
        ],
        [
         "4",
         "Biblioteca Central",
         "6",
         "9788535914840",
         "8",
         "2023-05-15",
         "A Revoluçãodos Bichos",
         "George Orwell",
         "Companhia das Letras",
         "1945-08-17"
        ]
       ],
       "shape": {
        "columns": 9,
        "rows": 5
       }
      },
      "text/html": [
       "<div>\n",
       "<style scoped>\n",
       "    .dataframe tbody tr th:only-of-type {\n",
       "        vertical-align: middle;\n",
       "    }\n",
       "\n",
       "    .dataframe tbody tr th {\n",
       "        vertical-align: top;\n",
       "    }\n",
       "\n",
       "    .dataframe thead th {\n",
       "        text-align: right;\n",
       "    }\n",
       "</style>\n",
       "<table border=\"1\" class=\"dataframe\">\n",
       "  <thead>\n",
       "    <tr style=\"text-align: right;\">\n",
       "      <th></th>\n",
       "      <th>Nome do comprandor</th>\n",
       "      <th>Avaliação</th>\n",
       "      <th>ISBN</th>\n",
       "      <th>Quantidade</th>\n",
       "      <th>Data de Chegada</th>\n",
       "      <th>Nome do Livro</th>\n",
       "      <th>Autor</th>\n",
       "      <th>Editora</th>\n",
       "      <th>Data de lançamento</th>\n",
       "    </tr>\n",
       "  </thead>\n",
       "  <tbody>\n",
       "    <tr>\n",
       "      <th>0</th>\n",
       "      <td>Biblioteca Central</td>\n",
       "      <td>10</td>\n",
       "      <td>9788535914849</td>\n",
       "      <td>10</td>\n",
       "      <td>2023-03-12</td>\n",
       "      <td>Cem Anos de Solidão</td>\n",
       "      <td>Gabriel García Márquez</td>\n",
       "      <td>Record</td>\n",
       "      <td>1967-05-30</td>\n",
       "    </tr>\n",
       "    <tr>\n",
       "      <th>1</th>\n",
       "      <td>Biblioteca Central</td>\n",
       "      <td>10</td>\n",
       "      <td>9788535914840</td>\n",
       "      <td>8</td>\n",
       "      <td>2023-05-15</td>\n",
       "      <td>A Revoluçãodos Bichos</td>\n",
       "      <td>George Orwell</td>\n",
       "      <td>Companhia das Letras</td>\n",
       "      <td>1945-08-17</td>\n",
       "    </tr>\n",
       "    <tr>\n",
       "      <th>2</th>\n",
       "      <td>Secretaria de Cultura</td>\n",
       "      <td>5</td>\n",
       "      <td>9788508108512</td>\n",
       "      <td>5</td>\n",
       "      <td>2023-04-01</td>\n",
       "      <td>Dom Casmurro</td>\n",
       "      <td>Machado deAssis</td>\n",
       "      <td>Ática</td>\n",
       "      <td>1899-01-01</td>\n",
       "    </tr>\n",
       "    <tr>\n",
       "      <th>3</th>\n",
       "      <td>Biblioteca Central</td>\n",
       "      <td>6</td>\n",
       "      <td>9788535914849</td>\n",
       "      <td>10</td>\n",
       "      <td>2023-03-12</td>\n",
       "      <td>Cem Anos de Solidão</td>\n",
       "      <td>Gabriel García Márquez</td>\n",
       "      <td>Record</td>\n",
       "      <td>1967-05-30</td>\n",
       "    </tr>\n",
       "    <tr>\n",
       "      <th>4</th>\n",
       "      <td>Biblioteca Central</td>\n",
       "      <td>6</td>\n",
       "      <td>9788535914840</td>\n",
       "      <td>8</td>\n",
       "      <td>2023-05-15</td>\n",
       "      <td>A Revoluçãodos Bichos</td>\n",
       "      <td>George Orwell</td>\n",
       "      <td>Companhia das Letras</td>\n",
       "      <td>1945-08-17</td>\n",
       "    </tr>\n",
       "  </tbody>\n",
       "</table>\n",
       "</div>"
      ],
      "text/plain": [
       "      Nome do comprandor  Avaliação           ISBN  Quantidade  \\\n",
       "0     Biblioteca Central         10  9788535914849          10   \n",
       "1     Biblioteca Central         10  9788535914840           8   \n",
       "2  Secretaria de Cultura          5  9788508108512           5   \n",
       "3     Biblioteca Central          6  9788535914849          10   \n",
       "4     Biblioteca Central          6  9788535914840           8   \n",
       "\n",
       "  Data de Chegada          Nome do Livro                   Autor  \\\n",
       "0      2023-03-12    Cem Anos de Solidão  Gabriel García Márquez   \n",
       "1      2023-05-15  A Revoluçãodos Bichos           George Orwell   \n",
       "2      2023-04-01           Dom Casmurro         Machado deAssis   \n",
       "3      2023-03-12    Cem Anos de Solidão  Gabriel García Márquez   \n",
       "4      2023-05-15  A Revoluçãodos Bichos           George Orwell   \n",
       "\n",
       "                Editora Data de lançamento  \n",
       "0                Record         1967-05-30  \n",
       "1  Companhia das Letras         1945-08-17  \n",
       "2                 Ática         1899-01-01  \n",
       "3                Record         1967-05-30  \n",
       "4  Companhia das Letras         1945-08-17  "
      ]
     },
     "execution_count": 46,
     "metadata": {},
     "output_type": "execute_result"
    }
   ],
   "source": [
    "avaliacao = pd.DataFrame({\n",
    "    'Nome do comprandor' : ['Biblioteca Central','Secretaria de Cultura','Biblioteca Central'],\n",
    "    'Avaliação' : [10,5,6]\n",
    "})\n",
    "juncao = pd.merge(avaliacao, df_merged_inner , on='Nome do comprandor', how='left')\n",
    "juncao\n"
   ]
  }
 ],
 "metadata": {
  "kernelspec": {
   "display_name": "Python 3",
   "language": "python",
   "name": "python3"
  },
  "language_info": {
   "codemirror_mode": {
    "name": "ipython",
    "version": 3
   },
   "file_extension": ".py",
   "mimetype": "text/x-python",
   "name": "python",
   "nbconvert_exporter": "python",
   "pygments_lexer": "ipython3",
   "version": "3.10.12"
  }
 },
 "nbformat": 4,
 "nbformat_minor": 5
}
