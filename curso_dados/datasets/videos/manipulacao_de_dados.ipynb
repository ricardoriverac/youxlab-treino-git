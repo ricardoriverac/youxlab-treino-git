{
 "cells": [
  {
   "cell_type": "markdown",
   "id": "tracked-vegetation",
   "metadata": {
    "slideshow": {
     "slide_type": "fragment"
    }
   },
   "source": [
    "## **Pandas Essencial**\n",
    "**Prof. Dr. Samuel Martins (@hisamuka @xavecoding)** <br/>\n",
    "xavecoding: https://youtube.com/c/xavecoding <br/>\n",
    "\n",
    "Neste tutorial, vamos aprender o essencial da biblioteca _Pandas_ para manipulação de dados.<br/><br/>\n",
    "\n",
    "<a rel=\"license\" href=\"http://creativecommons.org/licenses/by-nc-sa/4.0/\"><img alt=\"Creative Commons License\" style=\"border-width:0\" src=\"https://i.creativecommons.org/l/by-nc-sa/4.0/88x31.png\" /></a><br />This work is licensed under a <a rel=\"license\" href=\"http://creativecommons.org/licenses/by-nc-sa/4.0/\">Creative Commons Attribution-NonCommercial-ShareAlike 4.0 International License</a>."
   ]
  },
  {
   "cell_type": "markdown",
   "id": "driving-craft",
   "metadata": {},
   "source": [
    "### Pacotes usados neste Notebook"
   ]
  },
  {
   "cell_type": "code",
   "execution_count": null,
   "id": "elder-hunger",
   "metadata": {},
   "outputs": [],
   "source": [
    "# pacotes usados neste notebook\n",
    "import pandas as pd"
   ]
  },
  {
   "cell_type": "markdown",
   "id": "expanded-momentum",
   "metadata": {},
   "source": [
    "<h1>Manipulação de Dados com Pandas</h1><hr/>"
   ]
  },
  {
   "cell_type": "markdown",
   "id": "associate-mandate",
   "metadata": {},
   "source": [
    "<h2>1. Manipulação Básica de Datasets</h2>\n",
    "<hr/>"
   ]
  },
  {
   "cell_type": "markdown",
   "id": "prerequisite-alias",
   "metadata": {},
   "source": [
    "**Dataset**: Gas Prices in Brazil: https://www.kaggle.com/matheusfreitag/gas-prices-in-brazil <br/>\n",
    "\n",
    "Este dataset contém os **registros dos preços médios semanais dos combustíveis do Brasil entre os anos de 2004 e 2019**. <br/>\n",
    "Cada *observação (registro/linha)* consiste em um registro de preço aferido para um dado tipo de combustível em uma dada localidade do Brasil. <br/>\n",
    "Alguns dos principais *atributos* (colunas) do dataset são: 'ESTADO', 'PRODUTO', 'NÚMERO DE POSTOS PESQUISADOS', 'PREÇO MÉDIO REVENDA'.\n",
    "\n",
    "\n",
    "\\* O arquivo disponibilizado no Kaggle está no formato *tsv*. Embora o _pandas_ consiga abrí-lo normalmente, convertemos tal arquivo para o formato *CSV*, que é um dos formatos mais utilizados, e mudamos seu separado para ';' apenas para mostrar algumas opções da função de carregamento."
   ]
  },
  {
   "cell_type": "markdown",
   "id": "single-drilling",
   "metadata": {},
   "source": [
    "### 1.1. Importando o Dataset\n",
    "Para carregar um dataset no formato csv, basta utilizar a função `read_csv` do pandas. Por padrão, ela considera _','_ como separador."
   ]
  },
  {
   "cell_type": "code",
   "execution_count": null,
   "id": "specific-sarah",
   "metadata": {},
   "outputs": [],
   "source": [
    "data = pd.read_csv('./GasPricesinBrazil_2004-2019.csv', sep=';')"
   ]
  },
  {
   "cell_type": "code",
   "execution_count": null,
   "id": "dying-throat",
   "metadata": {},
   "outputs": [],
   "source": [
    "data"
   ]
  },
  {
   "cell_type": "markdown",
   "id": "633b0ca2",
   "metadata": {},
   "source": []
  },
  {
   "cell_type": "markdown",
   "id": "figured-farming",
   "metadata": {},
   "source": [
    "O dataset não foi carregado corretamente pois o separador utilizado seu arquivo CSV era ';' e não a ','. <br/>\n",
    "Vamos então carregá-lo corretamente:"
   ]
  },
  {
   "cell_type": "code",
   "execution_count": null,
   "id": "bizarre-classics",
   "metadata": {},
   "outputs": [],
   "source": [
    "data = pd.read_csv('./GasPricesinBrazil_2004-2019.csv', sep=';')"
   ]
  },
  {
   "cell_type": "code",
   "execution_count": null,
   "id": "concerned-jefferson",
   "metadata": {},
   "outputs": [],
   "source": [
    "data"
   ]
  },
  {
   "cell_type": "markdown",
   "id": "liquid-converter",
   "metadata": {},
   "source": [
    "### 1.2. Exibindo as primeiras linhas do Dataset\n",
    "A função `.head()` exibe as 5 primeiras linhas do dataset/tabela/Data Frame."
   ]
  },
  {
   "cell_type": "code",
   "execution_count": null,
   "id": "dutch-martin",
   "metadata": {},
   "outputs": [],
   "source": [
    "data.head()"
   ]
  },
  {
   "cell_type": "code",
   "execution_count": null,
   "id": "minus-uniform",
   "metadata": {},
   "outputs": [],
   "source": [
    "data.head(10)"
   ]
  },
  {
   "cell_type": "markdown",
   "id": "appointed-butterfly",
   "metadata": {},
   "source": [
    "### 1.3 Informações do Dataset e Elementos Chave"
   ]
  },
  {
   "cell_type": "markdown",
   "id": "celtic-cardiff",
   "metadata": {},
   "source": [
    "### 1.3.1 Informações gerais sobre o Dataset"
   ]
  },
  {
   "cell_type": "code",
   "execution_count": null,
   "id": "sensitive-mechanics",
   "metadata": {},
   "outputs": [],
   "source": [
    "data.info()"
   ]
  },
  {
   "cell_type": "markdown",
   "id": "ready-karaoke",
   "metadata": {},
   "source": [
    "A primeira coluna da tabela, chamada _'Unnamed: 0'_, parece não significar nada. Na verdade, ela parece ser os **índices** da tabela, que foram salvos como uma _coluna_.<br/>\n",
    "Veremos jajá como **remover tal coluna**.\n",
    "\n",
    "Outro ponto é que, aparentemente, nenhum atributo/coluna possui valores nulos (_null_), uma vez que o número de registros do dataframe e os números de valores _non-null_ é de **106823**. <br/>\n",
    "Mas, veremos que não é bem assim para esse caso.\n",
    "\n",
    "Além disso, note que alguns atributos/colunas, p. ex., 'PREÇO MÉDIO DISTRIBUIÇÃO', possui tipo de dado `object` ao invés de `float`. Esse `object`, no geral, representa strings. Isso parece estranho e suspeito. Veremos se isso é problemático mais pra frente."
   ]
  },
  {
   "cell_type": "markdown",
   "id": "powered-cutting",
   "metadata": {},
   "source": [
    "### 1.3.2 Data Frame\n",
    "Todo dataset carregado (dados estruturados) é um `Data Frame`: 'Tabela' bi-dimensional, de tamanho mutável, com dados potencialmente heterogêneos. <br/>"
   ]
  },
  {
   "cell_type": "code",
   "execution_count": null,
   "id": "prescribed-desperate",
   "metadata": {},
   "outputs": [],
   "source": [
    "type(data)"
   ]
  },
  {
   "cell_type": "markdown",
   "id": "configured-gothic",
   "metadata": {},
   "source": [
    "Podemos acessar as **dimensões do Data Frame** (número de linhas x número de colunas) utilizando o atributo `.shape` do Data Frame."
   ]
  },
  {
   "cell_type": "code",
   "execution_count": null,
   "id": "emotional-emperor",
   "metadata": {},
   "outputs": [],
   "source": [
    "data.shape"
   ]
  },
  {
   "cell_type": "code",
   "execution_count": null,
   "id": "charitable-atlantic",
   "metadata": {},
   "outputs": [],
   "source": [
    "print(f'O DataFrame possui {data.shape[0]} linhas e {data.shape[1]} colunas.')"
   ]
  },
  {
   "cell_type": "markdown",
   "id": "vietnamese-diameter",
   "metadata": {},
   "source": [
    "#### **Criando um DataFrame**\n",
    "\n",
    "Podemos criar um DataFrame a partir de um _dicionário_, onde cada **chave** possui uma **lista de elementos de igual tamanho**.<br/>\n",
    "As **chaves** representam as **colunas** e **cada um dos valores de sua lista** representa o **valor da linha** correspondente para aquela coluna."
   ]
  },
  {
   "cell_type": "code",
   "execution_count": null,
   "id": "structured-appearance",
   "metadata": {},
   "outputs": [],
   "source": [
    "personagens_df = pd.DataFrame({\n",
    "    'nome': ['Goku', 'Vegeta', 'Freeza'],\n",
    "    'idade': [45, 43, 1343],\n",
    "    'peso': [90.5, 80.2, 60.1],\n",
    "    'eh jedi': [True, True, False]  # o nome das colunas podem ter espaços\n",
    "})"
   ]
  },
  {
   "cell_type": "code",
   "execution_count": null,
   "id": "arabic-healing",
   "metadata": {},
   "outputs": [],
   "source": [
    "personagens_df"
   ]
  },
  {
   "cell_type": "code",
   "execution_count": null,
   "id": "public-embassy",
   "metadata": {},
   "outputs": [],
   "source": [
    "personagens_df.info()"
   ]
  },
  {
   "cell_type": "markdown",
   "id": "soviet-appraisal",
   "metadata": {},
   "source": [
    "#### **VEJA MAIS**\n",
    "Criando um Data Frame a partir de um dicionário: https://www.geeksforgeeks.org/how-to-create-dataframe-from-dictionary-in-python-pandas/"
   ]
  },
  {
   "cell_type": "markdown",
   "id": "rising-archive",
   "metadata": {},
   "source": [
    "#### **Renomeando as colunas de um DataFrame**\n",
    "**===>** O atributo `DataFrame.columns` retorna uma \"lista\" com os **nomes de todas as colunas** do data frame."
   ]
  },
  {
   "cell_type": "code",
   "execution_count": null,
   "id": "conventional-feeling",
   "metadata": {},
   "outputs": [],
   "source": [
    "personagens_df.columns"
   ]
  },
  {
   "cell_type": "code",
   "execution_count": null,
   "id": "compressed-township",
   "metadata": {},
   "outputs": [],
   "source": [
    "type(personagens_df.columns)"
   ]
  },
  {
   "cell_type": "code",
   "execution_count": null,
   "id": "crucial-vietnamese",
   "metadata": {},
   "outputs": [],
   "source": [
    "list(personagens_df.columns)"
   ]
  },
  {
   "cell_type": "markdown",
   "id": "independent-psychiatry",
   "metadata": {},
   "source": [
    "<br/>\n",
    "\n",
    "**===>** Para **renomear colunas** do data frame, utilize o método `DataFrame.rename`, que retorna uma _cópia_ do data frame com as as colunas renomeadas:"
   ]
  },
  {
   "cell_type": "code",
   "execution_count": null,
   "id": "naughty-brother",
   "metadata": {},
   "outputs": [],
   "source": [
    "personagens_df"
   ]
  },
  {
   "cell_type": "code",
   "execution_count": null,
   "id": "regulated-bachelor",
   "metadata": {},
   "outputs": [],
   "source": [
    "personagens_df_renomeado = personagens_df.rename(columns={\n",
    "    'nome': 'Nome Do Personagem',  # renomeia a coluna de nome 'nome' para 'Nome Completo'\n",
    "    'idade': 'Idade'\n",
    "    'peso' 'Peso'  \n",
    "    })"
   ]
  },
  {
   "cell_type": "code",
   "execution_count": null,
   "id": "automatic-firewall",
   "metadata": {},
   "outputs": [],
   "source": [
    "personagens_df_renomeado = personagens_df.rename(columns={\n",
    "    'nome': 'Nome Do Personagem', \n",
    "    'idade': 'Idade',\n",
    "    'peso': 'Peso'\n",
    "})"
   ]
  },
  {
   "cell_type": "code",
   "execution_count": null,
   "id": "combined-translation",
   "metadata": {},
   "outputs": [],
   "source": [
    "personagens_df_renomeado"
   ]
  },
  {
   "cell_type": "markdown",
   "id": "classified-eight",
   "metadata": {},
   "source": [
    "Para renomear o _próprio_ data frame em questão, utilize o parâmetro `inplace=True`:"
   ]
  },
  {
   "cell_type": "code",
   "execution_count": null,
   "id": "developmental-minneapolis",
   "metadata": {},
   "outputs": [],
   "source": [
    "personagens_df.rename(columns={'nome': 'Nome personagem','idade': 'Idade'}, inplace=True)"
   ]
  },
  {
   "cell_type": "code",
   "execution_count": null,
   "id": "narrative-pregnancy",
   "metadata": {},
   "outputs": [],
   "source": [
    "personagens_df"
   ]
  },
  {
   "cell_type": "markdown",
   "id": "beautiful-switch",
   "metadata": {},
   "source": [
    "<br/>\n",
    "\n",
    "**===>** Uma outra forma de **renomear todas as colunas** de um data frame é passar uma _lista_ com os novos nomes das colunas para o atributo `DataFrame.columns`:"
   ]
  },
  {
   "cell_type": "code",
   "execution_count": null,
   "id": "compliant-productivity",
   "metadata": {},
   "outputs": [],
   "source": [
    "personagens_df.columns"
   ]
  },
  {
   "cell_type": "code",
   "execution_count": null,
   "id": "applied-religion",
   "metadata": {},
   "outputs": [],
   "source": [
    "personagens_df.columns = ['NOME', 'IDADE', 'PESO', 'EH_JEDI']"
   ]
  },
  {
   "cell_type": "code",
   "execution_count": null,
   "id": "innocent-confidentiality",
   "metadata": {},
   "outputs": [],
   "source": [
    "personagens_df"
   ]
  },
  {
   "cell_type": "markdown",
   "id": "active-boating",
   "metadata": {},
   "source": [
    "### 1.3.3 Series"
   ]
  },
  {
   "cell_type": "markdown",
   "id": "legitimate-hearing",
   "metadata": {},
   "source": [
    "Array uni-dimensional com os dados e rótulos de um eixo."
   ]
  },
  {
   "cell_type": "code",
   "execution_count": null,
   "id": "operational-rates",
   "metadata": {},
   "outputs": [],
   "source": [
    "data.head()"
   ]
  },
  {
   "cell_type": "code",
   "execution_count": null,
   "id": "potential-composite",
   "metadata": {},
   "outputs": [],
   "source": [
    "data['ESTADO']"
   ]
  },
  {
   "cell_type": "code",
   "execution_count": null,
   "id": "referenced-citation",
   "metadata": {},
   "outputs": [],
   "source": [
    "data.ESTADO"
   ]
  },
  {
   "cell_type": "code",
   "execution_count": null,
   "id": "altered-entity",
   "metadata": {},
   "outputs": [],
   "source": [
    "type(data['ESTADO'])"
   ]
  },
  {
   "cell_type": "code",
   "execution_count": null,
   "id": "false-modeling",
   "metadata": {},
   "outputs": [],
   "source": [
    "data.iloc[1]"
   ]
  },
  {
   "cell_type": "code",
   "execution_count": null,
   "id": "quick-discussion",
   "metadata": {},
   "outputs": [],
   "source": [
    "type(data.iloc[1])"
   ]
  },
  {
   "cell_type": "markdown",
   "id": "native-examination",
   "metadata": {},
   "source": [
    "#### **Criando uma Series**\n",
    "\n",
    "Podemos criar um DataFrame a partir de uma lista de elementos."
   ]
  },
  {
   "cell_type": "code",
   "execution_count": null,
   "id": "checked-airplane",
   "metadata": {},
   "outputs": [],
   "source": [
    "pd.Series([9.6, 8.0, 7.5])"
   ]
  },
  {
   "cell_type": "markdown",
   "id": "cooked-employee",
   "metadata": {},
   "source": [
    "Podemos alterar o **nome dos índices** (veremos melhor jajá) e o **nome da Series** (o que ela representa):"
   ]
  },
  {
   "cell_type": "code",
   "execution_count": null,
   "id": "regular-membrane",
   "metadata": {},
   "outputs": [],
   "source": [
    "pd.Series([9.6, 8.0, 7.5], index=['prova matemática', 'prova fisíca', 'prova português'], name='Notas de Ana Clara')"
   ]
  },
  {
   "cell_type": "markdown",
   "id": "buried-rates",
   "metadata": {},
   "source": [
    "#### **VEJA MAIS**\n",
    "https://pandas.pydata.org/pandas-docs/stable/user_guide/dsintro.html"
   ]
  },
  {
   "cell_type": "markdown",
   "id": "terminal-short",
   "metadata": {},
   "source": [
    "### 1.3.4 Atribuindo Dados"
   ]
  },
  {
   "cell_type": "code",
   "execution_count": null,
   "id": "grave-victor",
   "metadata": {},
   "outputs": [],
   "source": [
    "data.head()"
   ]
  },
  {
   "cell_type": "markdown",
   "id": "fleet-dictionary",
   "metadata": {},
   "source": [
    "#### 1.3.4.1 Atribuindo constantes"
   ]
  },
  {
   "cell_type": "code",
   "execution_count": null,
   "id": "choice-strain",
   "metadata": {},
   "outputs": [],
   "source": [
    "produto_view = data['PRODUTO']  \n",
    "produto_view"
   ]
  },
  {
   "cell_type": "code",
   "execution_count": null,
   "id": "precious-telescope",
   "metadata": {},
   "outputs": [],
   "source": [
    "produto_copy_bkp = data['PRODUTO'].copy() \n",
    "produto_copy_bkp"
   ]
  },
  {
   "cell_type": "code",
   "execution_count": null,
   "id": "satisfactory-bridal",
   "metadata": {},
   "outputs": [],
   "source": [
    "data['PRODUTO'] = 'Combustível' "
   ]
  },
  {
   "cell_type": "code",
   "execution_count": null,
   "id": "reserved-wonder",
   "metadata": {},
   "outputs": [],
   "source": [
    "data.head()"
   ]
  },
  {
   "cell_type": "code",
   "execution_count": null,
   "id": "preliminary-toyota",
   "metadata": {},
   "outputs": [],
   "source": [
    "produto_view"
   ]
  },
  {
   "cell_type": "code",
   "execution_count": null,
   "id": "exact-distributor",
   "metadata": {},
   "outputs": [],
   "source": [
    "produto_copy_bkp"
   ]
  },
  {
   "cell_type": "markdown",
   "id": "vertical-municipality",
   "metadata": {},
   "source": [
    "#### 1.3.4.2 Atribuindo listas ou series"
   ]
  },
  {
   "cell_type": "code",
   "execution_count": null,
   "id": "maritime-swift",
   "metadata": {},
   "outputs": [],
   "source": [
    "linhas, colunas= data.shape\n",
    "linhas, colunas"
   ]
  },
  {
   "cell_type": "code",
   "execution_count": null,
   "id": "brown-journey",
   "metadata": {},
   "outputs": [],
   "source": [
    "novos_produtos = [f'Produto {i}' for i in range(linhas)]\n",
    "len(novos_produtos)"
   ]
  },
  {
   "cell_type": "code",
   "execution_count": null,
   "id": "ranking-stability",
   "metadata": {},
   "outputs": [],
   "source": [
    "data['PRODUTO'] = novos_produtos"
   ]
  },
  {
   "cell_type": "code",
   "execution_count": null,
   "id": "played-latino",
   "metadata": {},
   "outputs": [],
   "source": [
    "data"
   ]
  },
  {
   "cell_type": "code",
   "execution_count": null,
   "id": "widespread-midnight",
   "metadata": {},
   "outputs": [],
   "source": [
    "print(produto_view)\n",
    "print('\\n')\n",
    "print(produto_copy_bkp)"
   ]
  },
  {
   "cell_type": "code",
   "execution_count": null,
   "id": "magnetic-photography",
   "metadata": {},
   "outputs": [],
   "source": [
    "data['PRODUTO'] = produto_copy_bkp"
   ]
  },
  {
   "cell_type": "code",
   "execution_count": null,
   "id": "copyrighted-ending",
   "metadata": {},
   "outputs": [],
   "source": [
    "data"
   ]
  },
  {
   "cell_type": "markdown",
   "id": "handled-diary",
   "metadata": {},
   "source": [
    "#### 1.3.4.3 Criando novas colunas\n",
    "Para **criar uma nova coluna** em um data frame, basta atribuirmos uma _lista/Series de valores_ ou uma constante a uma **nova 'chave'** do data frame. <br/>\n",
    "\n",
    "**PS:** A _quantidade de valores_ da lista precisa ser **igual** ao _número de linhas/registros_ do data frame."
   ]
  },
  {
   "cell_type": "code",
   "execution_count": null,
   "id": "logical-justice",
   "metadata": {},
   "outputs": [],
   "source": [
    "data['coluna nova ignorante'] = 'CHOCOLATE'\n",
    "data"
   ]
  },
  {
   "cell_type": "code",
   "execution_count": null,
   "id": "imperial-artwork",
   "metadata": {},
   "outputs": [],
   "source": [
    "data['Coluna usando listas muahaha'] = range(data.shape[0])"
   ]
  },
  {
   "cell_type": "code",
   "execution_count": null,
   "id": "interracial-modem",
   "metadata": {},
   "outputs": [],
   "source": [
    "data"
   ]
  },
  {
   "cell_type": "code",
   "execution_count": null,
   "id": "czech-dietary",
   "metadata": {},
   "outputs": [],
   "source": [
    "#nao funciona\n",
    "#data['não funciona] = [1, 2, 3]"
   ]
  },
  {
   "cell_type": "markdown",
   "id": "unavailable-english",
   "metadata": {},
   "source": [
    "<br/>\n",
    "\n",
    "Outro exemplo:"
   ]
  },
  {
   "cell_type": "code",
   "execution_count": null,
   "id": "frank-broadcasting",
   "metadata": {},
   "outputs": [],
   "source": [
    "data.head()"
   ]
  },
  {
   "cell_type": "code",
   "execution_count": null,
   "id": "composed-distance",
   "metadata": {},
   "outputs": [],
   "source": [
    "data['PREÇO MÉDIO REVENDA (dólares)'] = data['PREÇO MÉDIO REVENDA'] * 5.8"
   ]
  },
  {
   "cell_type": "code",
   "execution_count": null,
   "id": "baking-joseph",
   "metadata": {},
   "outputs": [],
   "source": [
    "data"
   ]
  },
  {
   "cell_type": "markdown",
   "id": "outer-section",
   "metadata": {},
   "source": [
    "**PS:** Obviamente, a lógica correta em converter o preço dos combustíveis em reais para dólares não é considerar uma taxa de câmbio fixa, uma vez que cada preço em real foi aferido em um momento diferente."
   ]
  },
  {
   "cell_type": "markdown",
   "id": "corporate-trauma",
   "metadata": {},
   "source": [
    "### 1.3.4 Índices"
   ]
  },
  {
   "cell_type": "markdown",
   "id": "colored-ballot",
   "metadata": {},
   "source": [
    "Todo Data Frame possui **índices**, que não são considerado colunas da tabela. Tais índices são comumente **númericos**, de 0 a num_linhas-1, mas também podem ser **textuais (rótulos/labels)**."
   ]
  },
  {
   "cell_type": "code",
   "execution_count": null,
   "id": "authentic-illustration",
   "metadata": {},
   "outputs": [],
   "source": [
    "data"
   ]
  },
  {
   "cell_type": "code",
   "execution_count": null,
   "id": "advanced-purple",
   "metadata": {},
   "outputs": [],
   "source": [
    "data.index"
   ]
  },
  {
   "cell_type": "markdown",
   "id": "super-mambo",
   "metadata": {},
   "source": [
    "Use `list(data.index)` ou `data.index.to_list()` para converter um RangeIndex para uma python list."
   ]
  },
  {
   "cell_type": "markdown",
   "id": "spare-benefit",
   "metadata": {},
   "source": [
    "#### **Exemplo de Data Frame com Índices Textuais (labels)**"
   ]
  },
  {
   "cell_type": "code",
   "execution_count": null,
   "id": "outstanding-growing",
   "metadata": {},
   "outputs": [],
   "source": [
    "pesquisa_de_satisfacao = pd.DataFrame({\n",
    "    'bom': [188, 234, 34],\n",
    "    'ruim': [67, 2, 237],\n",
    "    'pessimo': [2, 1, 23]\n",
    "}, index=['Bridgerton 1', 'Bridgerton 2', 'Bridgerton 3'])"
   ]
  },
  {
   "cell_type": "code",
   "execution_count": null,
   "id": "tired-friday",
   "metadata": {},
   "outputs": [],
   "source": [
    "pesquisa_de_satisfacao.head()"
   ]
  },
  {
   "cell_type": "code",
   "execution_count": null,
   "id": "noticed-humor",
   "metadata": {},
   "outputs": [],
   "source": [
    "pesquisa_de_satisfacao.index"
   ]
  },
  {
   "cell_type": "markdown",
   "id": "faced-fabric",
   "metadata": {},
   "source": [
    "### 1.4 Selecionando uma ou mais observações (Indexação)"
   ]
  },
  {
   "cell_type": "code",
   "execution_count": null,
   "id": "spoken-empty",
   "metadata": {},
   "outputs": [],
   "source": [
    "data.head()"
   ]
  },
  {
   "cell_type": "markdown",
   "id": "fatal-grass",
   "metadata": {},
   "source": [
    "#### **==>  Index-based selection (seleção baseada em Índices)**\n",
    "Mostrando linhas específicas de um DataFrame:\n",
    "\n",
    "`iloc`: seleciona elementos do Dataframe, baseado em seu **índice (número)** --> row-first, column-second"
   ]
  },
  {
   "cell_type": "markdown",
   "id": "animal-illinois",
   "metadata": {},
   "source": [
    "**Selecionando uma observação/linha:**"
   ]
  },
  {
   "cell_type": "code",
   "execution_count": null,
   "id": "reported-louis",
   "metadata": {},
   "outputs": [],
   "source": [
    "data.iloc[1]"
   ]
  },
  {
   "cell_type": "markdown",
   "id": "loved-hierarchy",
   "metadata": {},
   "source": [
    "**Selecionando múltiplas observações/linhas:**"
   ]
  },
  {
   "cell_type": "code",
   "execution_count": null,
   "id": "ranking-whole",
   "metadata": {},
   "outputs": [],
   "source": [
    "data.iloc[:4]"
   ]
  },
  {
   "cell_type": "code",
   "execution_count": null,
   "id": "academic-lawrence",
   "metadata": {},
   "outputs": [],
   "source": [
    "data.iloc[12:23]"
   ]
  },
  {
   "cell_type": "code",
   "execution_count": null,
   "id": "competent-devon",
   "metadata": {},
   "outputs": [],
   "source": [
    "data.iloc[[5, 9, 34, 65]]"
   ]
  },
  {
   "cell_type": "code",
   "execution_count": null,
   "id": "hearing-dancing",
   "metadata": {},
   "outputs": [],
   "source": [
    "data.iloc[[65, 34, 9, 5]]"
   ]
  },
  {
   "cell_type": "code",
   "execution_count": null,
   "id": "fifteen-wagner",
   "metadata": {},
   "outputs": [],
   "source": [
    "data.iloc[1, 4]"
   ]
  },
  {
   "cell_type": "code",
   "execution_count": null,
   "id": "biological-gibraltar",
   "metadata": {},
   "outputs": [],
   "source": [
    "# e assim por diante!"
   ]
  },
  {
   "cell_type": "markdown",
   "id": "genetic-snapshot",
   "metadata": {},
   "source": [
    "#### **==>  Label-based selection (seleção baseadas em Rótulos)**\n",
    "\n",
    "`loc`: seleciona elementos do Dataframe, baseado em seus **rótulos** --> row-first, column-second"
   ]
  },
  {
   "cell_type": "code",
   "execution_count": null,
   "id": "roman-auckland",
   "metadata": {},
   "outputs": [],
   "source": [
    "pesquisa_de_satisfacao"
   ]
  },
  {
   "cell_type": "code",
   "execution_count": null,
   "id": "colonial-creativity",
   "metadata": {},
   "outputs": [],
   "source": [
    "pesquisa_de_satisfacao.iloc[0]"
   ]
  },
  {
   "cell_type": "code",
   "execution_count": null,
   "id": "applied-pendant",
   "metadata": {},
   "outputs": [],
   "source": [
    "pesquisa_de_satisfacao.iloc[0, 1]"
   ]
  },
  {
   "cell_type": "code",
   "execution_count": null,
   "id": "controversial-arena",
   "metadata": {},
   "outputs": [],
   "source": [
    "pesquisa_de_satisfacao.loc['Bridgerton 2']"
   ]
  },
  {
   "cell_type": "code",
   "execution_count": null,
   "id": "welsh-offer",
   "metadata": {},
   "outputs": [],
   "source": [
    "pesquisa_de_satisfacao"
   ]
  },
  {
   "cell_type": "code",
   "execution_count": null,
   "id": "guided-creek",
   "metadata": {},
   "outputs": [],
   "source": [
    "pesquisa_de_satisfacao.loc['Bridgerton 3', 'pessimo']"
   ]
  },
  {
   "cell_type": "code",
   "execution_count": null,
   "id": "objective-hunger",
   "metadata": {},
   "outputs": [],
   "source": [
    "pesquisa_de_satisfacao.loc[['Bridgerton 1', 'Bridgerton 3']]"
   ]
  },
  {
   "cell_type": "code",
   "execution_count": null,
   "id": "further-brief",
   "metadata": {},
   "outputs": [],
   "source": [
    "pesquisa_de_satisfacao[['bom', 'pessimo']]"
   ]
  },
  {
   "cell_type": "code",
   "execution_count": null,
   "id": "august-kitchen",
   "metadata": {},
   "outputs": [],
   "source": [
    "pesquisa_de_satisfacao.loc[:,['bom', 'pessimo']]"
   ]
  },
  {
   "cell_type": "markdown",
   "id": "sized-forty",
   "metadata": {},
   "source": [
    "#### OBSERVAÇÃO\n",
    "**Índices Númericos**, por default, possuem **rótulos que correspondem aos seus valores númericos.**"
   ]
  },
  {
   "cell_type": "code",
   "execution_count": null,
   "id": "pointed-climb",
   "metadata": {},
   "outputs": [],
   "source": [
    "data.head()"
   ]
  },
  {
   "cell_type": "code",
   "execution_count": null,
   "id": "guided-begin",
   "metadata": {},
   "outputs": [],
   "source": [
    "data.iloc[54]"
   ]
  },
  {
   "cell_type": "code",
   "execution_count": null,
   "id": "worse-fossil",
   "metadata": {},
   "outputs": [],
   "source": [
    "data.loc[54]"
   ]
  },
  {
   "cell_type": "markdown",
   "id": "manufactured-lottery",
   "metadata": {},
   "source": [
    "### 1.5 Selecionando um ou mais atributos (colunas)"
   ]
  },
  {
   "cell_type": "code",
   "execution_count": null,
   "id": "secret-essence",
   "metadata": {},
   "outputs": [],
   "source": [
    "data.head()"
   ]
  },
  {
   "cell_type": "code",
   "execution_count": null,
   "id": "organizational-manufacturer",
   "metadata": {},
   "outputs": [],
   "source": [
    "data['ESTADO']"
   ]
  },
  {
   "cell_type": "code",
   "execution_count": null,
   "id": "facial-chapter",
   "metadata": {},
   "outputs": [],
   "source": [
    "data.ESTADO"
   ]
  },
  {
   "cell_type": "code",
   "execution_count": null,
   "id": "interior-castle",
   "metadata": {},
   "outputs": [],
   "source": [
    "data.loc[:, 'ESTADO']"
   ]
  },
  {
   "cell_type": "code",
   "execution_count": null,
   "id": "disturbed-blackberry",
   "metadata": {},
   "outputs": [],
   "source": [
    "# a forma de acesso de colunas por .NOME_DA_COLUNA só funciona se\n",
    "# NOME_DA_COLUNA não possuir caracteres inválidos (espaços, acentos, cedilha, ...)\n",
    "### não funciona\n",
    "# data.DATA INICIAL"
   ]
  },
  {
   "cell_type": "code",
   "execution_count": null,
   "id": "unexpected-incidence",
   "metadata": {},
   "outputs": [],
   "source": [
    "data['DATA INICIAL']"
   ]
  },
  {
   "cell_type": "markdown",
   "id": "bored-temple",
   "metadata": {},
   "source": [
    "Como o rótulo da coluna 'DATA INICIAL' **possui espaço**, não é possível acessá-la como método: `data.DATA INICIAL`"
   ]
  },
  {
   "cell_type": "code",
   "execution_count": null,
   "id": "accredited-verification",
   "metadata": {},
   "outputs": [],
   "source": [
    "data[['PRODUTO', 'ESTADO', 'REGIÃO']]"
   ]
  },
  {
   "cell_type": "markdown",
   "id": "union-occasion",
   "metadata": {},
   "source": [
    "### 1.6 Removendo um Atributo (Coluna) do Data Frame"
   ]
  },
  {
   "cell_type": "code",
   "execution_count": null,
   "id": "protecting-commitment",
   "metadata": {},
   "outputs": [],
   "source": [
    "data.head()"
   ]
  },
  {
   "cell_type": "markdown",
   "id": "concrete-stability",
   "metadata": {},
   "source": [
    "Como vimos anteriormente, o atributo 'Unnamed: 0' parece ser um **ruído** em nosso dataset. Desta maneira, vamos eliminá-lo,"
   ]
  },
  {
   "cell_type": "code",
   "execution_count": null,
   "id": "valuable-montgomery",
   "metadata": {},
   "outputs": [],
   "source": [
    "del data['Unnamed: 0']"
   ]
  },
  {
   "cell_type": "code",
   "execution_count": null,
   "id": "possible-promotion",
   "metadata": {},
   "outputs": [],
   "source": [
    "data"
   ]
  },
  {
   "cell_type": "markdown",
   "id": "stable-teacher",
   "metadata": {},
   "source": [
    "<br/>\n",
    "\n",
    "Vamos agora remover as colunas fictícias criadas nos vídeos para estudo."
   ]
  },
  {
   "cell_type": "code",
   "execution_count": null,
   "id": "developing-scotland",
   "metadata": {},
   "outputs": [],
   "source": [
    "del data['PREÇO MÉDIO REVENDA (dólares)']\n",
    "del data['Coluna usando listas muahaha']\n",
    "del data['coluna nova ignorante']"
   ]
  },
  {
   "cell_type": "code",
   "execution_count": null,
   "id": "smooth-senator",
   "metadata": {},
   "outputs": [],
   "source": [
    "data.head()"
   ]
  },
  {
   "cell_type": "markdown",
   "id": "metropolitan-judgment",
   "metadata": {},
   "source": [
    "### 1.7 Salvando um Data Frame"
   ]
  },
  {
   "cell_type": "markdown",
   "id": "described-laugh",
   "metadata": {},
   "source": [
    "Para salvarmos um Data Frame para um **arquivo CSV**, basta usarmos o método `.to_csv`. <br/>\n",
    "Por padrão, esse método **salva os índices da tabela como uma coluna no CSV**.<br/>\n",
    "Como no geral tais índices são números de 0 a n-1, não há necessidade para isso (veja que removemos anteriormente a coluna 'Unnamed: 0' que foi justamente esse caso).<br/>\n",
    "Desta forma, utilize o parâmetro: `index=False`.\n",
    "\n",
    "Por padrão, o método utilizará a ',' como separador das colunas. Caso queira alterá-lo, utilize o parâmetro `sep`."
   ]
  },
  {
   "cell_type": "code",
   "execution_count": null,
   "id": "activated-working",
   "metadata": {},
   "outputs": [],
   "source": [
    "data.to_csv('./GasPricesinBrazil_2004-2019_preprocessado.csv', index=False)"
   ]
  },
  {
   "cell_type": "markdown",
   "id": "mechanical-burst",
   "metadata": {},
   "source": [
    "### 1.8 Seleção Condicional: Filtrando amostras"
   ]
  },
  {
   "cell_type": "markdown",
   "id": "continent-individual",
   "metadata": {},
   "source": [
    "Durante nossas análise exploratórias, frequentemente filtraremos nossas amostras, a partir de certas **condições**, para fins de análise mais específica. <br/>\n",
    "Existem algumas maneiras de fazermos tal filtragem. Antes disso, vamos carregar nosso dataset pré-processado que salvamos no item anterior."
   ]
  },
  {
   "cell_type": "code",
   "execution_count": null,
   "id": "starting-campaign",
   "metadata": {},
   "outputs": [],
   "source": [
    "data = pd.read_csv('./GasPricesinBrazil_2004-2019_preprocessado.csv')"
   ]
  },
  {
   "cell_type": "code",
   "execution_count": null,
   "id": "successful-belly",
   "metadata": {},
   "outputs": [],
   "source": [
    "data.head()"
   ]
  },
  {
   "cell_type": "code",
   "execution_count": null,
   "id": "classified-peace",
   "metadata": {},
   "outputs": [],
   "source": [
    "data['ESTADO'].unique()"
   ]
  },
  {
   "cell_type": "markdown",
   "id": "dependent-theater",
   "metadata": {},
   "source": [
    "#### **Selecionando apenas os preços dos Postos de São Paulo**"
   ]
  },
  {
   "cell_type": "markdown",
   "id": "executive-package",
   "metadata": {},
   "source": [
    "##### **==> Alternativa 1: Seleção Condicional (Comparações diretas)**"
   ]
  },
  {
   "cell_type": "markdown",
   "id": "proprietary-basic",
   "metadata": {},
   "source": [
    "O código abaixo retorna uma ***Series ('array') de booleans***, com o número de linhas (observações) do Data Frame, que informa os registros de preços dos postos do _estado de São Paulo_ (True)."
   ]
  },
  {
   "cell_type": "code",
   "execution_count": null,
   "id": "arbitrary-community",
   "metadata": {},
   "outputs": [],
   "source": [
    "data['ESTADO'] == 'MINAS GERAIS'"
   ]
  },
  {
   "cell_type": "code",
   "execution_count": null,
   "id": "vocational-council",
   "metadata": {},
   "outputs": [],
   "source": [
    "selecao = data['ESTADO'] == 'SANTA CATARINA'"
   ]
  },
  {
   "cell_type": "code",
   "execution_count": null,
   "id": "found-commons",
   "metadata": {},
   "outputs": [],
   "source": [
    "selecao"
   ]
  },
  {
   "cell_type": "code",
   "execution_count": null,
   "id": "civil-moisture",
   "metadata": {},
   "outputs": [],
   "source": [
    "type(selecao)"
   ]
  },
  {
   "cell_type": "code",
   "execution_count": null,
   "id": "indonesian-smell",
   "metadata": {},
   "outputs": [],
   "source": [
    "selecao.shape"
   ]
  },
  {
   "cell_type": "code",
   "execution_count": null,
   "id": "herbal-hughes",
   "metadata": {},
   "outputs": [],
   "source": [
    "data.shape"
   ]
  },
  {
   "cell_type": "markdown",
   "id": "adverse-peeing",
   "metadata": {},
   "source": [
    "Para **filtrarmos** os registros de postos do estado de São Paulo:"
   ]
  },
  {
   "cell_type": "code",
   "execution_count": null,
   "id": "southern-particle",
   "metadata": {},
   "outputs": [],
   "source": [
    "data[selecao]"
   ]
  },
  {
   "cell_type": "markdown",
   "id": "hollow-perry",
   "metadata": {},
   "source": [
    "O resultado é um Data Frame com _apenas_ os registros desejados após a **filtragem**.<br/>\n",
    "Podemos ainda utilizar o método `loc` para o mesmo fim:"
   ]
  },
  {
   "cell_type": "code",
   "execution_count": null,
   "id": "enhanced-liver",
   "metadata": {},
   "outputs": [],
   "source": [
    "data.loc[selecao]"
   ]
  },
  {
   "cell_type": "markdown",
   "id": "distributed-stanford",
   "metadata": {},
   "source": [
    "##### **==> Alternativa 2: Utilizando o método `query`**"
   ]
  },
  {
   "cell_type": "markdown",
   "id": "surface-postage",
   "metadata": {},
   "source": [
    "`query` filtra linhas de um DataFrame baseado em uma **query (pergunta)**."
   ]
  },
  {
   "cell_type": "code",
   "execution_count": null,
   "id": "protective-absolute",
   "metadata": {},
   "outputs": [],
   "source": [
    "data.head()"
   ]
  },
  {
   "cell_type": "code",
   "execution_count": null,
   "id": "aggressive-girlfriend",
   "metadata": {},
   "outputs": [],
   "source": [
    "data.query('ESTADO == \"MINAS GERAIS\"')"
   ]
  },
  {
   "cell_type": "markdown",
   "id": "committed-evaluation",
   "metadata": {},
   "source": [
    "<br/>\n",
    "\n",
    "Uma boa prática é **salvar o Data Frame filtrado em uma nova variável**. Isso simplifica a complexidade do código para futuras análises feitas para os postos de São Paulo (neste caso)."
   ]
  },
  {
   "cell_type": "code",
   "execution_count": null,
   "id": "trained-spending",
   "metadata": {},
   "outputs": [],
   "source": [
    "postos_mg = data.query('ESTADO == \"MINAS GERAIS\"')"
   ]
  },
  {
   "cell_type": "code",
   "execution_count": null,
   "id": "miniature-antenna",
   "metadata": {},
   "outputs": [],
   "source": [
    "postos_mg"
   ]
  },
  {
   "cell_type": "code",
   "execution_count": null,
   "id": "minimal-affairs",
   "metadata": {},
   "outputs": [],
   "source": [
    "type(postos_mg)"
   ]
  },
  {
   "cell_type": "code",
   "execution_count": null,
   "id": "arranged-kazakhstan",
   "metadata": {},
   "outputs": [],
   "source": [
    "postos_mg.shape"
   ]
  },
  {
   "cell_type": "code",
   "execution_count": null,
   "id": "talented-ratio",
   "metadata": {},
   "outputs": [],
   "source": [
    "postos_mg"
   ]
  },
  {
   "cell_type": "markdown",
   "id": "backed-protein",
   "metadata": {},
   "source": [
    "#### Resetando os índices"
   ]
  },
  {
   "cell_type": "markdown",
   "id": "spiritual-honolulu",
   "metadata": {},
   "source": [
    "Note que os _índices das linhas/registros_ após a _filtragem_ **continuam sendo os mesmos** do DataFrame original. <br/>\n",
    "Em muitas situações, manter esta informação será importante.\n",
    "\n",
    "Mas, se você quiser **_resetar os índices_** do data frame filtrado, fazendo com que os registros começem com _índice 0 até num_linhas-1_, use o método `.reset_index`."
   ]
  },
  {
   "cell_type": "code",
   "execution_count": null,
   "id": "eight-translation",
   "metadata": {},
   "outputs": [],
   "source": [
    "postos_mg.reset_index()"
   ]
  },
  {
   "cell_type": "code",
   "execution_count": null,
   "id": "maritime-blank",
   "metadata": {},
   "outputs": [],
   "source": [
    "postos_mg.reset_index(drop=True)"
   ]
  },
  {
   "cell_type": "code",
   "execution_count": null,
   "id": "opening-september",
   "metadata": {},
   "outputs": [],
   "source": [
    "postos_mg"
   ]
  },
  {
   "cell_type": "code",
   "execution_count": null,
   "id": "cheap-tucson",
   "metadata": {},
   "outputs": [],
   "source": [
    "postos_mg.reset_index(drop=True, inplace=True)"
   ]
  },
  {
   "cell_type": "code",
   "execution_count": null,
   "id": "ecological-structure",
   "metadata": {},
   "outputs": [],
   "source": [
    "postos_mg"
   ]
  },
  {
   "cell_type": "code",
   "execution_count": null,
   "id": "smaller-shakespeare",
   "metadata": {},
   "outputs": [],
   "source": [
    "postos_mg = data.query('ESTADO == \"SAO PAULO\"').reset_index(drop=True)"
   ]
  },
  {
   "cell_type": "code",
   "execution_count": null,
   "id": "reserved-screen",
   "metadata": {},
   "outputs": [],
   "source": [
    "postos_mg"
   ]
  },
  {
   "cell_type": "markdown",
   "id": "capital-promotion",
   "metadata": {},
   "source": [
    "#### **Selecionando registros de postos do Rio de Janeiro com Preços acima de 2 reais**"
   ]
  },
  {
   "cell_type": "code",
   "execution_count": null,
   "id": "employed-ranch",
   "metadata": {},
   "outputs": [],
   "source": [
    "data.head()"
   ]
  },
  {
   "cell_type": "code",
   "execution_count": null,
   "id": "unknown-drink",
   "metadata": {},
   "outputs": [],
   "source": [
    "data['ESTADO'] == 'BAHIA'"
   ]
  },
  {
   "cell_type": "code",
   "execution_count": null,
   "id": "thrown-clinic",
   "metadata": {},
   "outputs": [],
   "source": [
    "data['PREÇO MÉDIO REVENDA'] > 2.0"
   ]
  },
  {
   "cell_type": "code",
   "execution_count": null,
   "id": "sorted-outline",
   "metadata": {},
   "outputs": [],
   "source": [
    "selecao = (data['ESTADO'] == 'BAHIA') & (data['PREÇO MÉDIO REVENDA'] > 2.0)\n",
    "selecao"
   ]
  },
  {
   "cell_type": "markdown",
   "id": "continued-barbados",
   "metadata": {},
   "source": [
    "Note que o resultado da seleção continua sendo uma _Series de booleans_ com o _mesmo número de linhas/observações do DataFrame_, de modo que cada linha possuirá um valor booleano indicando se o posto é do Rio de Janeiro **E** o preço aferido do combustível é maior que 2 reais (True) ou não.\n",
    "\n",
    "O símbolo **&** significa **AND** na comparação. Essa nomenclatura do python/pandas é diferente das nomenclaturas tradicionais (&&). <br/>\n",
    "Similarmente:\n",
    "- **|** representa o **OR** (não é ||)\n",
    "- **~** representa o **NOT** (não é !)"
   ]
  },
  {
   "cell_type": "code",
   "execution_count": null,
   "id": "growing-fundamentals",
   "metadata": {},
   "outputs": [],
   "source": [
    "data[selecao]"
   ]
  },
  {
   "cell_type": "markdown",
   "id": "suspended-atlanta",
   "metadata": {},
   "source": [
    "Alternativamente, poderíamos usar o método `query` para fazermos tal seleção. Porém, isso não é possível especificamente para esse caso, pois o rótulo da coluna 'PREÇO MÉDIO REVENDA' possui caracteres inválidos para o método (cedilha, acentos) "
   ]
  },
  {
   "cell_type": "code",
   "execution_count": null,
   "id": "certain-preview",
   "metadata": {},
   "outputs": [],
   "source": [
    "# Não funciona\n",
    "# data.query('ESTADO==\"RIO DE JANEIRO\" and PREÇO MÉDIO REVENDA > 2')"
   ]
  },
  {
   "cell_type": "code",
   "execution_count": null,
   "id": "worth-skirt",
   "metadata": {},
   "outputs": [],
   "source": [
    "data.query('ESTADO == \"RIO DE JANEIRO\" or ESTADO == \"SAO PAULO\"')"
   ]
  },
  {
   "cell_type": "markdown",
   "id": "electrical-knowing",
   "metadata": {},
   "source": [
    "**Aprofundando mais ainda**\n",
    "\n",
    "A primeira comparação `(data['ESTADO'] == 'RIO DE JANEIRO')` checa, linha a linha (observação a observação) do DataFrame, quais são aquelas cujo o estado é RIO DE JANEIRO. Nenhuma averiguação de preços é feita nesse momento. Como resultado, temos uma Series de booleans que responde **apenas** a essa \"pergunta\" feita.\n",
    "\n",
    "A segunda comparação `(data['PREÇO MÉDIO REVENDA'] > 2)` checa, linha a linha (observação a observação) do DataFrame, quais são os registros cujo preço do combustível é maior que 2 reais. Note que essa comparação checará os postos de **TODOS os estados**. Como resultado, temos uma Series de booleans que responde **apenas** a essa \"pergunta\" feita.\n",
    "\n",
    "Por fim, as duas \"perguntas\" são unidas pelo AND (&) que retorna a \"pergunta completa\" que fizemos."
   ]
  },
  {
   "cell_type": "markdown",
   "id": "favorite-given",
   "metadata": {},
   "source": [
    "Alguns podem argumentar que tal abordagem é **ineficiente**, uma vez que, para cada condição (\"pergunta\"), estamos varrendo todas as linhas do DataFrame. <br/>\n",
    "O Pandas _tenta otimizar_ isso ao máximo por de trás dos panos. Mas, de fato, se tivermos um dataset **muito grande** (centenas de milhares de linhas), tal abordagem se tornará _lenta_."
   ]
  },
  {
   "cell_type": "markdown",
   "id": "polish-subsection",
   "metadata": {},
   "source": [
    "Assim, poderíamos fazer filtragem com múltiplos condicionais em partes:"
   ]
  },
  {
   "cell_type": "code",
   "execution_count": null,
   "id": "excess-isolation",
   "metadata": {},
   "outputs": [],
   "source": [
    "selecao_1 = data['ESTADO'] == 'RIO DE JANEIRO'\n",
    "postos_rj = data[selecao_1]\n",
    "postos_rj"
   ]
  },
  {
   "cell_type": "code",
   "execution_count": null,
   "id": "olive-brunei",
   "metadata": {},
   "outputs": [],
   "source": [
    "selecao_2 = postos_rj['PREÇO MÉDIO REVENDA'] > 2\n",
    "selecao_2"
   ]
  },
  {
   "cell_type": "code",
   "execution_count": null,
   "id": "invalid-alaska",
   "metadata": {},
   "outputs": [],
   "source": [
    "postos_rj_preco_maior_que_2 = postos_rj[selecao_2]\n",
    "postos_rj_preco_maior_que_2"
   ]
  },
  {
   "cell_type": "markdown",
   "id": "ready-original",
   "metadata": {},
   "source": [
    "#### **Selecionando registros de postos de Minas Gerais ou do Espirito Santo com Gasolina Comum acima de 2 reais**"
   ]
  },
  {
   "cell_type": "markdown",
   "id": "differential-balance",
   "metadata": {},
   "source": [
    "Podemos fazer a solução do \"jeito mais lento\", percorrendo o DataFrame inteiro _múltiplas vezes_:"
   ]
  },
  {
   "cell_type": "code",
   "execution_count": null,
   "id": "scenic-strengthening",
   "metadata": {},
   "outputs": [],
   "source": [
    "data.head()"
   ]
  },
  {
   "cell_type": "code",
   "execution_count": null,
   "id": "aboriginal-rebecca",
   "metadata": {},
   "outputs": [],
   "source": [
    "selecao_1 = (data['ESTADO'] == 'MINAS GERAIS') | (data['ESTADO'] == 'ESPIRITO SANTO')\n",
    "selecao_2 = (data['PRODUTO'] == 'GASOLINA COMUM')\n",
    "selecao_3 = (data['PREÇO MÉDIO REVENDA'] > 2)\n",
    "\n",
    "selecao_final = selecao_1 & selecao_2 & selecao_3"
   ]
  },
  {
   "cell_type": "code",
   "execution_count": null,
   "id": "entire-maker",
   "metadata": {},
   "outputs": [],
   "source": [
    "selecao_final"
   ]
  },
  {
   "cell_type": "code",
   "execution_count": null,
   "id": "available-identity",
   "metadata": {},
   "outputs": [],
   "source": [
    "data_filtrado = data[selecao_final]\n",
    "data_filtrado"
   ]
  },
  {
   "cell_type": "code",
   "execution_count": null,
   "id": "southern-float",
   "metadata": {},
   "outputs": [],
   "source": [
    "print(data_filtrado['ESTADO'].unique())\n",
    "print(data_filtrado['PRODUTO'].unique())"
   ]
  },
  {
   "cell_type": "markdown",
   "id": "purple-kennedy",
   "metadata": {},
   "source": [
    "<br/>\n",
    "\n",
    "Alternativamente:"
   ]
  },
  {
   "cell_type": "code",
   "execution_count": null,
   "id": "presidential-split",
   "metadata": {},
   "outputs": [],
   "source": [
    "selecao_1 = (data['ESTADO'] == 'MINAS GERAIS') | (data['ESTADO'] == 'ESPIRITO SANTO')\n",
    "postos_mg_es = data[selecao_1]\n",
    "\n",
    "postos_mg_es"
   ]
  },
  {
   "cell_type": "code",
   "execution_count": null,
   "id": "straight-sailing",
   "metadata": {},
   "outputs": [],
   "source": [
    "selecao_2 = (postos_mg_es['PRODUTO'] == 'GASOLINA COMUM')\n",
    "postos_mg_es_gasolina = postos_mg_es[selecao_2]\n",
    "\n",
    "postos_mg_es_gasolina"
   ]
  },
  {
   "cell_type": "code",
   "execution_count": null,
   "id": "significant-potential",
   "metadata": {},
   "outputs": [],
   "source": [
    "selecao_3 = (postos_mg_es_gasolina['PREÇO MÉDIO REVENDA'] > 2)\n",
    "\n",
    "postos_sp_rj_gasolina_preco_maior_que_2 = postos_mg_es_gasolina[selecao_3]\n",
    "postos_sp_rj_gasolina_preco_maior_que_2"
   ]
  },
  {
   "cell_type": "markdown",
   "id": "spoken-facing",
   "metadata": {},
   "source": [
    "#### **Selecionando registros dos anos de 2008, 2010 e 2012**"
   ]
  },
  {
   "cell_type": "code",
   "execution_count": null,
   "id": "polyphonic-prophet",
   "metadata": {},
   "outputs": [],
   "source": [
    "data.head()"
   ]
  },
  {
   "cell_type": "markdown",
   "id": "forbidden-blast",
   "metadata": {},
   "source": [
    "**ALTERNATIVA 1**"
   ]
  },
  {
   "cell_type": "code",
   "execution_count": 370,
   "id": "dried-voluntary",
   "metadata": {},
   "outputs": [
    {
     "data": {
      "text/plain": [
       "array([2008, 2010, 2012])"
      ]
     },
     "execution_count": 370,
     "metadata": {},
     "output_type": "execute_result"
    }
   ],
   "source": [
    "selecao = (data['ANO'] == 2008) | (data['ANO'] == 2010) | (data['ANO'] == 2012)\n",
    "data[selecao]['ANO']"
   ]
  },
  {
   "cell_type": "markdown",
   "id": "written-capability",
   "metadata": {},
   "source": [
    "**ALTERNATIVA 2**"
   ]
  },
  {
   "cell_type": "code",
   "execution_count": null,
   "id": "royal-romantic",
   "metadata": {},
   "outputs": [],
   "source": [
    "lista_de_anos = [2008, 2010, 2012]"
   ]
  },
  {
   "cell_type": "code",
   "execution_count": 368,
   "id": "under-herald",
   "metadata": {},
   "outputs": [
    {
     "data": {
      "text/plain": [
       "0         False\n",
       "1         False\n",
       "2         False\n",
       "3         False\n",
       "4         False\n",
       "          ...  \n",
       "106818    False\n",
       "106819    False\n",
       "106820    False\n",
       "106821    False\n",
       "106822    False\n",
       "Name: ANO, Length: 106823, dtype: bool"
      ]
     },
     "execution_count": 368,
     "metadata": {},
     "output_type": "execute_result"
    }
   ],
   "source": [
    "selecao = data['ANO'].isin(lista_de_anos)  \n",
    "selecao"
   ]
  },
  {
   "cell_type": "markdown",
   "id": "inclusive-longitude",
   "metadata": {},
   "source": [
    "**ALTERNATIVA 3**"
   ]
  },
  {
   "cell_type": "code",
   "execution_count": null,
   "id": "cathedral-paint",
   "metadata": {},
   "outputs": [],
   "source": [
    "lista_de_anos"
   ]
  },
  {
   "cell_type": "code",
   "execution_count": null,
   "id": "patient-guarantee",
   "metadata": {},
   "outputs": [],
   "source": [
    "data.query('ANO in @lista_de_anos')"
   ]
  },
  {
   "cell_type": "markdown",
   "id": "mineral-detail",
   "metadata": {},
   "source": [
    "### **Iterando com DataFrames**"
   ]
  },
  {
   "cell_type": "markdown",
   "id": "lonely-saturn",
   "metadata": {},
   "source": [
    "#### For-each `DataFrame.iterrows()` (LENTO ==> apenas indicado para iterar pequenos conjunto de dados)"
   ]
  },
  {
   "cell_type": "code",
   "execution_count": null,
   "id": "treated-czech",
   "metadata": {},
   "outputs": [],
   "source": [
    "data.head(10)"
   ]
  },
  {
   "cell_type": "code",
   "execution_count": null,
   "id": "laden-savings",
   "metadata": {},
   "outputs": [],
   "source": [
    "for index, row in data.head(10).iterrows():\n",
    "    print(f'indice {index} ==> {row[\"ESTADO\"]}')"
   ]
  },
  {
   "cell_type": "markdown",
   "id": "laden-interval",
   "metadata": {},
   "source": [
    "<h2>2. Preparação dos dados</h2>\n",
    "<hr/>"
   ]
  },
  {
   "cell_type": "code",
   "execution_count": null,
   "id": "foster-statistics",
   "metadata": {},
   "outputs": [],
   "source": [
    "data"
   ]
  },
  {
   "cell_type": "markdown",
   "id": "departmental-adult",
   "metadata": {},
   "source": [
    "### 2.1 Tratando observações com valores vazios (null / nan) no dataset"
   ]
  },
  {
   "cell_type": "code",
   "execution_count": null,
   "id": "thorough-california",
   "metadata": {},
   "outputs": [],
   "source": [
    "data.info()"
   ]
  },
  {
   "cell_type": "markdown",
   "id": "norwegian-order",
   "metadata": {},
   "source": [
    "De um total de 106823 observações, **não há valores null / nan** para nenhum atributo. Mas, veremos que não é bem assim neste caso específico.<br/><br/>"
   ]
  },
  {
   "cell_type": "markdown",
   "id": "cathedral-symposium",
   "metadata": {},
   "source": [
    "### 2.2 Conversão de tipos de atributos"
   ]
  },
  {
   "cell_type": "markdown",
   "id": "fresh-filter",
   "metadata": {},
   "source": [
    "O pandas automaticamente reconhece os tipos de dados de cada coluna. <br/>\n",
    "Porém, existem alguns atributos que estão com seus tipos errados: P. ex., \"PREÇO MÉDIO DISTRIBUIÇÃO\" deveria ser ```float64``` e não ```object```.<br/>\n",
    "Nestes casos, muito provavelmente alguns registros têm uma string ao invés de um número para tais atributos. <br/>\n",
    "\n",
    "Os atributos *\"DATA INICIAL\"* e *\"DATA FINAL\"* deveriam ser do tipo `datetime`.\n",
    "\n",
    "Em outros casos, alguns **atributos categóricos** são ```objects```, mas poderiam ser o tipo ```category```, que é um tipo especial do pandas. <br/>\n",
    "Este tipo é necessário para se utilizar algumas funções específicas do pandas. <br/>\n",
    "**Não** converteremos para este tipo por ora."
   ]
  },
  {
   "cell_type": "code",
   "execution_count": null,
   "id": "cognitive-auditor",
   "metadata": {},
   "outputs": [],
   "source": [
    "data_pre = data.copy()"
   ]
  },
  {
   "cell_type": "markdown",
   "id": "suspected-joseph",
   "metadata": {},
   "source": [
    "#### **Datas**\n",
    "Como os atributos de data do dataset já estão em um formato de data aceitável (YYYY-MM-DD), não precisamos forçar nenhuma conversão nesse sentido."
   ]
  },
  {
   "cell_type": "code",
   "execution_count": null,
   "id": "sexual-solid",
   "metadata": {},
   "outputs": [],
   "source": [
    "data_pre['DATA INICIAL'] = pd.to_datetime(data_pre['DATA INICIAL'])\n",
    "data_pre['DATA FINAL'] = pd.to_datetime(data_pre['DATA FINAL'])"
   ]
  },
  {
   "cell_type": "code",
   "execution_count": null,
   "id": "assisted-senator",
   "metadata": {},
   "outputs": [],
   "source": [
    "data_pre.info()"
   ]
  },
  {
   "cell_type": "markdown",
   "id": "complimentary-mechanism",
   "metadata": {},
   "source": [
    "#### **Dados Numéricos**"
   ]
  },
  {
   "cell_type": "code",
   "execution_count": null,
   "id": "impaired-jones",
   "metadata": {},
   "outputs": [],
   "source": [
    "# convertendo atributos/colunas para 'numeric'\n",
    "for atributo in ['MARGEM MÉDIA REVENDA', 'PREÇO MÉDIO DISTRIBUIÇÃO', 'DESVIO PADRÃO DISTRIBUIÇÃO', 'PREÇO MÍNIMO DISTRIBUIÇÃO', 'PREÇO MÁXIMO DISTRIBUIÇÃO', 'COEF DE VARIAÇÃO DISTRIBUIÇÃO']:\n",
    "    # converte a coluna (de valores string) para um tipo numérico\n",
    "    # Em caso de erro na conversão (p. ex., uma string que não representa um número), um valor vazio (null / nan) será\n",
    "    # atribuído no lugar\n",
    "    data_pre[atributo] = pd.to_numeric(data_pre[atributo], errors='coerce')"
   ]
  },
  {
   "cell_type": "code",
   "execution_count": null,
   "id": "genetic-pendant",
   "metadata": {
    "tags": []
   },
   "outputs": [],
   "source": [
    "data_pre.info()"
   ]
  },
  {
   "cell_type": "markdown",
   "id": "faced-columbus",
   "metadata": {},
   "source": [
    "<br/>\n",
    "\n",
    "Note que temos vários valores ***null*** agora **após a *conversão de tipos***. Vamos checá-los com mais cuidado nos dados originais e preprocessados."
   ]
  },
  {
   "cell_type": "markdown",
   "id": "stainless-couple",
   "metadata": {},
   "source": [
    "### 2.3 Limpeza de dados"
   ]
  },
  {
   "cell_type": "code",
   "execution_count": null,
   "id": "unique-smooth",
   "metadata": {},
   "outputs": [],
   "source": [
    "mask = data_pre['PREÇO MÉDIO DISTRIBUIÇÃO'].isnull()"
   ]
  },
  {
   "cell_type": "code",
   "execution_count": null,
   "id": "irish-petroleum",
   "metadata": {},
   "outputs": [],
   "source": [
    "data_pre[mask]"
   ]
  },
  {
   "cell_type": "code",
   "execution_count": null,
   "id": "attended-poland",
   "metadata": {},
   "outputs": [],
   "source": [
    "# Nos dados originais, quais eram os valores do PREÇO MÉDIO DISTRIBUIÇÃO dos registros que agora possuem valores NaN \n",
    "data[mask]"
   ]
  },
  {
   "cell_type": "markdown",
   "id": "military-lounge",
   "metadata": {},
   "source": [
    "Várias amostras possuem a _string '-'_ em algumas colunas ao invés de um número de fato. Ou seja, não há aferições destes atributos para estas amostras. <br/>\n",
    "\n",
    "<br/>\n",
    "\n",
    "Poderíamos **preencher os valores NaN com um valor padrão**. Para isso, basta usar o método `.fillna`."
   ]
  },
  {
   "cell_type": "code",
   "execution_count": null,
   "id": "lovely-manufacturer",
   "metadata": {},
   "outputs": [],
   "source": [
    "# Retorna uma cópia do data fram `data_pre` com todos os valores NaN de todas as colunas agora preenchidos com 0.\n",
    "# Para alterar o próprio data frame, use o argumento `inplace=True`.\n",
    "data_pre_fill = data_pre.fillna(0)\n",
    "data_pre_fill"
   ]
  },
  {
   "cell_type": "code",
   "execution_count": null,
   "id": "under-toronto",
   "metadata": {},
   "outputs": [],
   "source": [
    "data_pre_fill[mask]  # valores que antes eram NaN, agora são 0"
   ]
  },
  {
   "cell_type": "code",
   "execution_count": null,
   "id": "fluid-adoption",
   "metadata": {},
   "outputs": [],
   "source": [
    "# retorna uma cópia do data frame `data_pre` com todos os valores NaN das colunas:\n",
    "# 'PREÇO MÉDIO DISTRIBUIÇÃO', 'DESVIO PADRÃO DISTRIBUIÇÃO', 'PREÇO MÍNIMO DISTRIBUIÇÃO' e 'PREÇO MÁXIMO DISTRIBUIÇÃO', respectivamente, com os valores: 10, 20, 30, 'vazio'.\n",
    "data_pre_fill = data_pre.fillna(value={\n",
    "    'PREÇO MÉDIO DISTRIBUIÇÃO': 10,\n",
    "    'DESVIO PADRÃO DISTRIBUIÇÃO': 20,\n",
    "    'PREÇO MÍNIMO DISTRIBUIÇÃO': 30,\n",
    "    'PREÇO MÁXIMO DISTRIBUIÇÃO': 'vazio'\n",
    "})"
   ]
  },
  {
   "cell_type": "code",
   "execution_count": null,
   "id": "horizontal-river",
   "metadata": {},
   "outputs": [],
   "source": [
    "data_pre_fill[mask]"
   ]
  },
  {
   "cell_type": "markdown",
   "id": "sound-ethnic",
   "metadata": {},
   "source": [
    "<br/>\n",
    "\n",
    "Por mais que a função `fillna` seja interessante e útil em muitos casos, no problema em questão estamos interessados em analisar precisamente, p. ex., o **'PREÇO MÉDIO DISTRIBUIÇÃO'**.<br/>\n",
    "A fim de não termos valores _sintéticos_ gerados pelo `fillna`, que possam atrapalhar nossa análise, iremos **remover (drop) todas as amostras que possuem qualquer valor NaN** para quaisquer atributos/colunas. <br/>\n",
    "\n",
    "Para isso, basta utilizarmos o método `dropna`."
   ]
  },
  {
   "cell_type": "code",
   "execution_count": null,
   "id": "hungry-equilibrium",
   "metadata": {},
   "outputs": [],
   "source": [
    "# remove, no próprio dataframe, todas as linhas/registros com valores NaN (vazios) em quaisquer colunas/atributos.\n",
    "data_pre.dropna(inplace=True)"
   ]
  },
  {
   "cell_type": "code",
   "execution_count": null,
   "id": "incorrect-telescope",
   "metadata": {},
   "outputs": [],
   "source": [
    "data_pre.info()"
   ]
  },
  {
   "cell_type": "markdown",
   "id": "announced-separate",
   "metadata": {},
   "source": [
    "Nosso data frame agora, após essa _limpeza_, ficou mais enxuto, contentdo 103392 registros frente aos 106823 registros originais. <br/>\n",
    "\n",
    "Essas são apenas algumas das possíveis _técnicas de limpeza de dados_. Outras estratégias, p. ex., **confiam na detecção de outliers**, que não veremos neste curso."
   ]
  },
  {
   "cell_type": "markdown",
   "id": "above-maria",
   "metadata": {},
   "source": [
    "#### **Salvando o Dataset Preprocessado**"
   ]
  },
  {
   "cell_type": "code",
   "execution_count": null,
   "id": "experienced-disclaimer",
   "metadata": {},
   "outputs": [],
   "source": [
    "data_pre.to_csv('./datasets/GasPricesinBrazil_2004-2019_preprocessado_final.csv', index=False)"
   ]
  },
  {
   "cell_type": "markdown",
   "id": "democratic-ebony",
   "metadata": {},
   "source": [
    "<h2>3. Estatísticas Descritivas</h2>\n",
    "<hr/>"
   ]
  },
  {
   "cell_type": "code",
   "execution_count": null,
   "id": "fixed-tablet",
   "metadata": {},
   "outputs": [],
   "source": [
    "data_final = pd.read_csv('./datasets/GasPricesinBrazil_2004-2019_preprocessado_final.csv')"
   ]
  },
  {
   "cell_type": "code",
   "execution_count": null,
   "id": "actual-closing",
   "metadata": {},
   "outputs": [],
   "source": [
    "data_final"
   ]
  },
  {
   "cell_type": "markdown",
   "id": "exempt-spine",
   "metadata": {},
   "source": [
    "O Pandas fornecem algumas funções/métodos que computam certas estatísticas descritivas."
   ]
  },
  {
   "cell_type": "markdown",
   "id": "lovely-excess",
   "metadata": {},
   "source": [
    "`describe`: exibe várias **estatísticas descritivas** para os _atributos_ de um dataframe ou para uma _Series_."
   ]
  },
  {
   "cell_type": "code",
   "execution_count": null,
   "id": "global-techno",
   "metadata": {},
   "outputs": [],
   "source": [
    "data_final.describe()"
   ]
  },
  {
   "cell_type": "code",
   "execution_count": null,
   "id": "recent-nirvana",
   "metadata": {},
   "outputs": [],
   "source": [
    "data_final['PREÇO MÉDIO REVENDA'].describe()"
   ]
  },
  {
   "cell_type": "markdown",
   "id": "subtle-luxembourg",
   "metadata": {},
   "source": [
    "<br/>\n",
    "\n",
    "Como o resultado do `describe` de um _dataframe_ é outro _dataframe_, podemos filtrar apenas algumas colunas."
   ]
  },
  {
   "cell_type": "code",
   "execution_count": null,
   "id": "champion-status",
   "metadata": {},
   "outputs": [],
   "source": [
    "data_final.describe()['PREÇO MÉDIO REVENDA']"
   ]
  },
  {
   "cell_type": "code",
   "execution_count": null,
   "id": "emerging-circus",
   "metadata": {},
   "outputs": [],
   "source": [
    "stats = data_final.describe()\n",
    "stats"
   ]
  },
  {
   "cell_type": "code",
   "execution_count": null,
   "id": "historic-keeping",
   "metadata": {},
   "outputs": [],
   "source": [
    "stats[['PREÇO MÉDIO REVENDA', 'PREÇO MÁXIMO REVENDA', 'PREÇO MÉDIO DISTRIBUIÇÃO']]"
   ]
  },
  {
   "cell_type": "code",
   "execution_count": null,
   "id": "fancy-mortality",
   "metadata": {},
   "outputs": [],
   "source": [
    "# ALTERNATIVA MAIS EFICIENTE\n",
    "# apenas computa as estatísticas descritivas para 3 atributos\n",
    "data_final[['PREÇO MÉDIO REVENDA', 'PREÇO MÁXIMO REVENDA', 'PREÇO MÉDIO DISTRIBUIÇÃO']].describe()"
   ]
  },
  {
   "cell_type": "markdown",
   "id": "divine-details",
   "metadata": {},
   "source": [
    "**Acessando apenas algumas estatísticas**"
   ]
  },
  {
   "cell_type": "code",
   "execution_count": null,
   "id": "fatty-homework",
   "metadata": {},
   "outputs": [],
   "source": [
    "stats"
   ]
  },
  {
   "cell_type": "code",
   "execution_count": null,
   "id": "complex-layer",
   "metadata": {},
   "outputs": [],
   "source": [
    "stats.loc[['min', 'max', 'mean']]"
   ]
  },
  {
   "cell_type": "code",
   "execution_count": null,
   "id": "hourly-armenia",
   "metadata": {},
   "outputs": [],
   "source": [
    "stats.loc[['min', 'max', 'mean'], 'PREÇO MÉDIO REVENDA']"
   ]
  },
  {
   "cell_type": "code",
   "execution_count": null,
   "id": "light-diesel",
   "metadata": {},
   "outputs": [],
   "source": [
    "stats.loc[['min', 'max', 'mean'], ['PREÇO MÉDIO REVENDA', 'PREÇO MÉDIO DISTRIBUIÇÃO']]"
   ]
  },
  {
   "cell_type": "markdown",
   "id": "suspended-philadelphia",
   "metadata": {},
   "source": [
    "<br/>\n",
    "\n",
    "`mean`, `std`, `min`, etc: cada uma das estatísticas do `describe` podem ser computadas individualmente:"
   ]
  },
  {
   "cell_type": "code",
   "execution_count": null,
   "id": "sunrise-background",
   "metadata": {},
   "outputs": [],
   "source": [
    "data_final.head()"
   ]
  },
  {
   "cell_type": "markdown",
   "id": "paperback-things",
   "metadata": {},
   "source": [
    "#### Qual é o menor preço mínimo de revenda?"
   ]
  },
  {
   "cell_type": "code",
   "execution_count": null,
   "id": "hearing-stress",
   "metadata": {},
   "outputs": [],
   "source": [
    "data_final['PREÇO MÍNIMO REVENDA'].min()"
   ]
  },
  {
   "cell_type": "markdown",
   "id": "wrapped-priority",
   "metadata": {},
   "source": [
    "#### Qual é a média e desvio padrão dos preços mínimos de revenda?"
   ]
  },
  {
   "cell_type": "code",
   "execution_count": null,
   "id": "expensive-prospect",
   "metadata": {},
   "outputs": [],
   "source": [
    "mean = data_final['PREÇO MÍNIMO REVENDA'].mean()\n",
    "std = data_final['PREÇO MÍNIMO REVENDA'].std()\n",
    "\n",
    "print(f'A média dos preços mínimos de revenda é {mean:.2f} +- {std:.2f}')"
   ]
  },
  {
   "cell_type": "markdown",
   "id": "exempt-furniture",
   "metadata": {},
   "source": [
    "#### Quais são os estados considerados?"
   ]
  },
  {
   "cell_type": "code",
   "execution_count": null,
   "id": "neural-greece",
   "metadata": {},
   "outputs": [],
   "source": [
    "data_final['ESTADO']"
   ]
  },
  {
   "cell_type": "code",
   "execution_count": null,
   "id": "bound-stuart",
   "metadata": {},
   "outputs": [],
   "source": [
    "data_final['ESTADO'].unique()"
   ]
  },
  {
   "cell_type": "code",
   "execution_count": null,
   "id": "organizational-fairy",
   "metadata": {},
   "outputs": [],
   "source": [
    "sorted(data_final['ESTADO'].unique())"
   ]
  },
  {
   "cell_type": "markdown",
   "id": "painful-credit",
   "metadata": {},
   "source": [
    "#### Quantos registros (aferições) cada estado possui?"
   ]
  },
  {
   "cell_type": "markdown",
   "id": "accessory-graphics",
   "metadata": {},
   "source": [
    "`.value_counts()`:  Conta a frequência dos valores de uma dada variável (de preferência, _categórica_)."
   ]
  },
  {
   "cell_type": "code",
   "execution_count": null,
   "id": "skilled-package",
   "metadata": {},
   "outputs": [],
   "source": [
    "data_final['ESTADO'].value_counts()  # retorna em ordem decrescente, a quantidade de registros/linhas para cada estado"
   ]
  },
  {
   "cell_type": "code",
   "execution_count": null,
   "id": "cutting-party",
   "metadata": {},
   "outputs": [],
   "source": [
    "data_final['ESTADO'].value_counts().to_frame()  # converte uma Series para um DataFrame"
   ]
  },
  {
   "cell_type": "markdown",
   "id": "mounted-inclusion",
   "metadata": {},
   "source": [
    "<h2>4. Executando funções para cada item de um DataFrame ou Series</h2>\n",
    "<hr/>"
   ]
  },
  {
   "cell_type": "markdown",
   "id": "intermediate-submission",
   "metadata": {},
   "source": [
    "Uma alternativa ao `for-loop` que vimos anteriormente e que é _lento_, é usarmos _funções próprias do pandas_ que **aplicam/mapeiam uma dada função a todos os elementos de um DataFrame ou Series**, retornando novos elementos \"transformados\".\n"
   ]
  },
  {
   "cell_type": "markdown",
   "id": "developing-freeze",
   "metadata": {},
   "source": [
    "<img src='./imagens/apply_map_applymap.png' width=300/>\n",
    "\n",
    "\n",
    "Fonte: https://towardsdatascience.com/introduction-to-pandas-apply-applymap-and-map-5d3e044e93ff"
   ]
  },
  {
   "cell_type": "code",
   "execution_count": null,
   "id": "standing-circulation",
   "metadata": {},
   "outputs": [],
   "source": [
    "df = pd.DataFrame({ 'A': [1, 2, 3, 4], \n",
    "                    'B': [10, 20, 30, 40],\n",
    "                    'C': [100, 200, 300, 400]}, \n",
    "                     index=['Linha 1', 'Linha 2', 'Linha 3', 'Linha 4'])"
   ]
  },
  {
   "cell_type": "code",
   "execution_count": null,
   "id": "amber-easter",
   "metadata": {},
   "outputs": [],
   "source": [
    "df"
   ]
  },
  {
   "cell_type": "markdown",
   "id": "alert-welding",
   "metadata": {},
   "source": [
    "`apply()`: usado para aplicar uma função ao longo de um eixo de um DataFrame ou em valores de uma Series."
   ]
  },
  {
   "cell_type": "markdown",
   "id": "indie-virginia",
   "metadata": {},
   "source": [
    "<img src='./imagens/pandas_axis.jpg' width=500/>\n",
    "\n",
    "Fonte: https://www.allthesnippets.com/browse/pandas/df_axis.html"
   ]
  },
  {
   "cell_type": "code",
   "execution_count": null,
   "id": "supreme-programmer",
   "metadata": {},
   "outputs": [],
   "source": [
    "def nossa_soma(series):\n",
    "    return series.sum()  # retorna a soma de todos os valores de uma series"
   ]
  },
  {
   "cell_type": "code",
   "execution_count": null,
   "id": "multiple-parcel",
   "metadata": {},
   "outputs": [],
   "source": [
    "# aplica a função soma para cada linha do dataframe\n",
    "df['SOMA(A, B, C)'] = df.apply(nossa_soma, axis=1)\n",
    "df"
   ]
  },
  {
   "cell_type": "markdown",
   "id": "demographic-lending",
   "metadata": {},
   "source": [
    "<img src='./imagens/apply_axis_1.png' width=250/>"
   ]
  },
  {
   "cell_type": "code",
   "execution_count": null,
   "id": "grave-russian",
   "metadata": {},
   "outputs": [],
   "source": [
    "# aplica a função soma para cada coluna do dataframe\n",
    "df.loc['Linha 5'] = df.apply(nossa_soma, axis=0)\n",
    "df"
   ]
  },
  {
   "cell_type": "markdown",
   "id": "coordinate-wonder",
   "metadata": {},
   "source": [
    "<img src='./imagens/apply_axis_0.png' width=250/>"
   ]
  },
  {
   "cell_type": "markdown",
   "id": "fossil-blade",
   "metadata": {},
   "source": [
    "##### Usando `lambda` functions"
   ]
  },
  {
   "cell_type": "code",
   "execution_count": null,
   "id": "little-turkey",
   "metadata": {},
   "outputs": [],
   "source": [
    "df['MEDIA(A, B, C)'] = df[['A', 'B', 'C']].apply(lambda series: series.mean(), axis=1)\n",
    "df"
   ]
  },
  {
   "cell_type": "markdown",
   "id": "conceptual-graduation",
   "metadata": {},
   "source": [
    "<img src='./imagens/apply_axis_1_mean.png' width=350/>"
   ]
  },
  {
   "cell_type": "code",
   "execution_count": null,
   "id": "demonstrated-singer",
   "metadata": {},
   "outputs": [],
   "source": [
    "# plica a lambda function abaixo para cada elemento da coluna\n",
    "df['C * 2'] = df['C'].apply(lambda x: x * 2)\n",
    "df"
   ]
  },
  {
   "cell_type": "code",
   "execution_count": null,
   "id": "perfect-finnish",
   "metadata": {},
   "outputs": [],
   "source": [
    "df['A * 2'] = df['A'] * 2\n",
    "df"
   ]
  },
  {
   "cell_type": "markdown",
   "id": "weird-exhaust",
   "metadata": {},
   "source": [
    "<br/>\n",
    "\n",
    "`applymap()`: usado para aplicar uma função para **cada elemento** (_element-wise_) de um DataFrame."
   ]
  },
  {
   "cell_type": "code",
   "execution_count": null,
   "id": "qualified-marijuana",
   "metadata": {},
   "outputs": [],
   "source": [
    "df = pd.DataFrame({ 'A': [1, 2, 3, 4], \n",
    "                    'B': [10, 20, 30, 40],\n",
    "                    'C': [100, 200, 300, 400]}, \n",
    "                     index=['Linha 1', 'Linha 2', 'Linha 3', 'Linha 4'])\n",
    "df"
   ]
  },
  {
   "cell_type": "code",
   "execution_count": null,
   "id": "higher-empty",
   "metadata": {},
   "outputs": [],
   "source": [
    "# retorna um novo dataframe com todos os elementos ao quadrado.\n",
    "# poderíamos usar uma função ao invés de uma lambda function\n",
    "df.applymap(lambda x: x ** 2)"
   ]
  },
  {
   "cell_type": "code",
   "execution_count": null,
   "id": "stylish-estate",
   "metadata": {},
   "outputs": [],
   "source": [
    "df"
   ]
  },
  {
   "cell_type": "markdown",
   "id": "hollow-manitoba",
   "metadata": {},
   "source": [
    "<br/>\n",
    "\n",
    "`map()`: usado para aplicar uma função para **cada elemento** (_element-wise_) de uma _Series_."
   ]
  },
  {
   "cell_type": "code",
   "execution_count": null,
   "id": "approximate-folder",
   "metadata": {},
   "outputs": [],
   "source": [
    "nomes = pd.Series(['João', 'Maria', 'Alice', 'Pedro'])\n",
    "nomes"
   ]
  },
  {
   "cell_type": "code",
   "execution_count": null,
   "id": "under-homeless",
   "metadata": {},
   "outputs": [],
   "source": [
    "# retorna uma nova Series com todos os nomes com letras maiuscúlas.\n",
    "# poderíamos usar uma função ao invés de uma lambda function\n",
    "nomes.map(lambda x: x.upper())"
   ]
  },
  {
   "cell_type": "code",
   "execution_count": null,
   "id": "great-favor",
   "metadata": {},
   "outputs": [],
   "source": [
    "nomes"
   ]
  },
  {
   "cell_type": "code",
   "execution_count": null,
   "id": "loved-constant",
   "metadata": {},
   "outputs": [],
   "source": [
    "# O Pandas já fornece uma série de métodos para manipulação de strings.\n",
    "# Assim, poderíamos usar o código abaixo para obter o mesmo resultado.\n",
    "nomes.str.upper()"
   ]
  },
  {
   "cell_type": "markdown",
   "id": "measured-migration",
   "metadata": {},
   "source": [
    "<h2>5. Agrupamento</h2>\n",
    "<hr/>"
   ]
  },
  {
   "cell_type": "code",
   "execution_count": null,
   "id": "afraid-limit",
   "metadata": {},
   "outputs": [],
   "source": [
    "data_final.head()"
   ]
  },
  {
   "cell_type": "markdown",
   "id": "bridal-certificate",
   "metadata": {},
   "source": [
    "`groupby`: Usado para criar **grupos de elementos** (e.x., baseado nos valores de um atributo (categórico)). <br/>\n",
    "**Funções** podem então ser aplicadas para os _elementos de cada grupo_, de modo que os **resultados de cada grupo são combinados**."
   ]
  },
  {
   "cell_type": "code",
   "execution_count": null,
   "id": "commercial-destiny",
   "metadata": {},
   "outputs": [],
   "source": [
    "# agrupa as linhas da tablea de acordo com suas respectivas regiões\n",
    "grupos = data_final.groupby('REGIÃO')\n",
    "grupos"
   ]
  },
  {
   "cell_type": "code",
   "execution_count": null,
   "id": "organized-spencer",
   "metadata": {},
   "outputs": [],
   "source": [
    "# retorna os grupos obtidos pelo groupby\n",
    "grupos.groups"
   ]
  },
  {
   "cell_type": "code",
   "execution_count": null,
   "id": "personal-leeds",
   "metadata": {},
   "outputs": [],
   "source": [
    "# retorna os índices das linhas/observações de cada grupo\n",
    "grupos.indices"
   ]
  },
  {
   "cell_type": "code",
   "execution_count": null,
   "id": "vietnamese-pressure",
   "metadata": {},
   "outputs": [],
   "source": [
    "# retorna um dataframe apenas com as observações do grupo 'CENTRO OESTE'\n",
    "grupos.get_group('CENTRO OESTE')"
   ]
  },
  {
   "cell_type": "code",
   "execution_count": null,
   "id": "grave-friendship",
   "metadata": {},
   "outputs": [],
   "source": [
    "# descreva para nós algumas estatística descritivas para as observações de cada grupo\n",
    "grupos.describe()"
   ]
  },
  {
   "cell_type": "code",
   "execution_count": null,
   "id": "saving-easter",
   "metadata": {},
   "outputs": [],
   "source": [
    "grupos.mean()"
   ]
  },
  {
   "cell_type": "code",
   "execution_count": null,
   "id": "federal-runner",
   "metadata": {},
   "outputs": [],
   "source": [
    "grupos.min()"
   ]
  },
  {
   "cell_type": "code",
   "execution_count": null,
   "id": "marine-header",
   "metadata": {},
   "outputs": [],
   "source": [
    "data_final.groupby('REGIÃO').min()"
   ]
  },
  {
   "cell_type": "markdown",
   "id": "outdoor-ladder",
   "metadata": {},
   "source": [
    "<br/>\n",
    "\n",
    "Também podemos ter agrupamentos por mais de um atributo."
   ]
  },
  {
   "cell_type": "code",
   "execution_count": null,
   "id": "administrative-reset",
   "metadata": {},
   "outputs": [],
   "source": [
    "data_final.head()"
   ]
  },
  {
   "cell_type": "markdown",
   "id": "compound-defendant",
   "metadata": {},
   "source": [
    "#### Qual é o preço médio de cada do Produto (Combustível) para cada Região?"
   ]
  },
  {
   "cell_type": "code",
   "execution_count": null,
   "id": "sophisticated-surge",
   "metadata": {},
   "outputs": [],
   "source": [
    "# Agrupa os registros do dataframe primeiramente por suas regiões.\n",
    "# Então, agrupa os registros de cada região (grupo) de acordo com seus produtos.\n",
    "grupos = data_final.groupby(['REGIÃO', 'PRODUTO'])\n",
    "grupos"
   ]
  },
  {
   "cell_type": "code",
   "execution_count": null,
   "id": "brilliant-central",
   "metadata": {},
   "outputs": [],
   "source": [
    "grupos.groups"
   ]
  },
  {
   "cell_type": "code",
   "execution_count": null,
   "id": "infrared-attention",
   "metadata": {},
   "outputs": [],
   "source": [
    "grupos.mean()"
   ]
  },
  {
   "cell_type": "code",
   "execution_count": null,
   "id": "particular-diana",
   "metadata": {},
   "outputs": [],
   "source": [
    "grupos['PREÇO MÉDIO REVENDA'].mean()"
   ]
  },
  {
   "cell_type": "code",
   "execution_count": null,
   "id": "pointed-latter",
   "metadata": {},
   "outputs": [],
   "source": [
    "grupos['PREÇO MÉDIO REVENDA'].describe()"
   ]
  },
  {
   "cell_type": "markdown",
   "id": "fifteen-values",
   "metadata": {},
   "source": [
    "<br/>\n",
    "\n",
    "`.agg`: **agrega (roda)** uma série de funções para os elementos de um dataframe ou de grupos de um dataframe."
   ]
  },
  {
   "cell_type": "code",
   "execution_count": null,
   "id": "overall-kitty",
   "metadata": {},
   "outputs": [],
   "source": [
    "df = pd.DataFrame([[1, 2, 3],\n",
    "                   [4, 5, 6],\n",
    "                   [7, 8, 9],\n",
    "                   [None, None, None]],\n",
    "                  columns=['A', 'B', 'C'])\n",
    "df"
   ]
  },
  {
   "cell_type": "code",
   "execution_count": null,
   "id": "sticky-envelope",
   "metadata": {},
   "outputs": [],
   "source": [
    "df.agg([sum, min])  # ignora o NaN"
   ]
  },
  {
   "cell_type": "code",
   "execution_count": null,
   "id": "prompt-karen",
   "metadata": {},
   "outputs": [],
   "source": [
    "grupos = data_final.groupby('REGIÃO')\n",
    "grupos"
   ]
  },
  {
   "cell_type": "code",
   "execution_count": null,
   "id": "measured-navigation",
   "metadata": {},
   "outputs": [],
   "source": [
    "# Computa o menor e maior valor do 'PREÇO MÉDIO REVENDA' para cada região (grupo)\n",
    "grupos['PREÇO MÉDIO REVENDA'].agg([min, max])"
   ]
  },
  {
   "cell_type": "markdown",
   "id": "passive-assistant",
   "metadata": {},
   "source": [
    "<h2>6. Ordenação</h2>\n",
    "<hr/>"
   ]
  },
  {
   "cell_type": "code",
   "execution_count": null,
   "id": "elegant-bathroom",
   "metadata": {},
   "outputs": [],
   "source": [
    "notas = pd.DataFrame({\n",
    "    'nome': ['João', 'Maria', 'José', 'Alice'],\n",
    "    'idade': [20, 21, 19, 20],\n",
    "    'nota_final': [5.0, 10.0, 6.0, 10.0]\n",
    "})\n",
    "notas"
   ]
  },
  {
   "cell_type": "markdown",
   "id": "palestinian-intensity",
   "metadata": {},
   "source": [
    "`.sort_values()`: ordena valores ao longo de um eixo."
   ]
  },
  {
   "cell_type": "code",
   "execution_count": null,
   "id": "waiting-theater",
   "metadata": {},
   "outputs": [],
   "source": [
    "notas.sort_values(by='nota_final')"
   ]
  },
  {
   "cell_type": "markdown",
   "id": "contrary-richards",
   "metadata": {},
   "source": [
    "Por padrão, o método retorna uma cópia dos dados ordenados em **ordem crescente (ascendente)**. Podemos alterar isso pelo argumento `ascending`."
   ]
  },
  {
   "cell_type": "code",
   "execution_count": null,
   "id": "plain-sociology",
   "metadata": {},
   "outputs": [],
   "source": [
    "notas.sort_values(by='nota_final', ascending=False)"
   ]
  },
  {
   "cell_type": "markdown",
   "id": "wicked-interference",
   "metadata": {},
   "source": [
    "<br/>\n",
    "\n",
    "Podemos ordenar a partir de **mais de uma coluna**:"
   ]
  },
  {
   "cell_type": "code",
   "execution_count": null,
   "id": "impossible-brighton",
   "metadata": {},
   "outputs": [],
   "source": [
    "notas.sort_values(by=['nota_final', 'nome'], ascending=[False, True])"
   ]
  },
  {
   "cell_type": "markdown",
   "id": "harmful-potential",
   "metadata": {},
   "source": [
    "Ordena os registros, primeiramente, pela coluna 'nota_final' em **ordem descrente**. <br/>\n",
    "Então, reordena os registros _\"empatados\"_, ou seja, com a **mesma nota final**, em _ordem alfabética_ (ordem crescente)."
   ]
  },
  {
   "cell_type": "markdown",
   "id": "palestinian-record",
   "metadata": {},
   "source": [
    "<br/>\n",
    "\n",
    "Note que o dataframe original **não foi alterado** após a ordenação."
   ]
  },
  {
   "cell_type": "code",
   "execution_count": null,
   "id": "according-assist",
   "metadata": {},
   "outputs": [],
   "source": [
    "notas"
   ]
  },
  {
   "cell_type": "markdown",
   "id": "alpine-basin",
   "metadata": {},
   "source": [
    "Para alterá-lo, use o argumento `inplace=True`:"
   ]
  },
  {
   "cell_type": "code",
   "execution_count": null,
   "id": "eight-elder",
   "metadata": {},
   "outputs": [],
   "source": [
    "notas.sort_values(by=['nota_final', 'nome'], ascending=[False, True], inplace=True)"
   ]
  },
  {
   "cell_type": "code",
   "execution_count": null,
   "id": "pressed-information",
   "metadata": {},
   "outputs": [],
   "source": [
    "notas"
   ]
  },
  {
   "cell_type": "markdown",
   "id": "vital-pocket",
   "metadata": {},
   "source": [
    "<h2>7. Exercícios</h2>\n",
    "<hr/>"
   ]
  },
  {
   "cell_type": "markdown",
   "id": "imperial-invitation",
   "metadata": {},
   "source": [
    "Vamos aplicar os conceitos que vimos em alguns exercícios. <br/>\n",
    "Para isso, utilizaremos o dataset de _preços de combustíveis no Brasil_."
   ]
  },
  {
   "cell_type": "code",
   "execution_count": null,
   "id": "pharmaceutical-loading",
   "metadata": {},
   "outputs": [],
   "source": [
    "data_final"
   ]
  },
  {
   "cell_type": "markdown",
   "id": "painted-chemistry",
   "metadata": {},
   "source": [
    "Como há apenas medições de janeiro a junho para o ano de 2019, resolvemos **remover os dados** deste ano da análise."
   ]
  },
  {
   "cell_type": "code",
   "execution_count": null,
   "id": "devoted-american",
   "metadata": {},
   "outputs": [],
   "source": [
    "data_final.query('ANO != 2019')"
   ]
  },
  {
   "cell_type": "markdown",
   "id": "changing-conservative",
   "metadata": {},
   "source": [
    "Note que temos um novo dataframe com 99739 linhas."
   ]
  },
  {
   "cell_type": "code",
   "execution_count": null,
   "id": "fleet-parallel",
   "metadata": {},
   "outputs": [],
   "source": [
    "df = data_final.query('ANO != 2019')"
   ]
  },
  {
   "cell_type": "code",
   "execution_count": null,
   "id": "closed-induction",
   "metadata": {},
   "outputs": [],
   "source": [
    "df"
   ]
  },
  {
   "cell_type": "markdown",
   "id": "familiar-panic",
   "metadata": {},
   "source": [
    "### 7.1 Qual a quantidade de registros de cada produto em cada região?"
   ]
  },
  {
   "cell_type": "code",
   "execution_count": null,
   "id": "victorian-tumor",
   "metadata": {},
   "outputs": [],
   "source": [
    "grupos = df.groupby('PRODUTO')\n",
    "grupos"
   ]
  },
  {
   "cell_type": "code",
   "execution_count": null,
   "id": "bacterial-triumph",
   "metadata": {},
   "outputs": [],
   "source": [
    "grupos['REGIÃO'].value_counts().to_frame()"
   ]
  },
  {
   "cell_type": "markdown",
   "id": "ruled-waste",
   "metadata": {},
   "source": [
    "### 7.2 Como os preços da Gasolina Comum em São Paulo variaram em 2018?"
   ]
  },
  {
   "cell_type": "code",
   "execution_count": null,
   "id": "personalized-charity",
   "metadata": {},
   "outputs": [],
   "source": [
    "gasolina_sp_2018 = df.query('PRODUTO == \"GASOLINA COMUM\" and ESTADO == \"SAO PAULO\" and ANO == 2018')\n",
    "gasolina_sp_2018.head()"
   ]
  },
  {
   "cell_type": "code",
   "execution_count": null,
   "id": "figured-gnome",
   "metadata": {},
   "outputs": [],
   "source": [
    "gasolina_sp_2018.shape"
   ]
  },
  {
   "cell_type": "markdown",
   "id": "negative-fellowship",
   "metadata": {},
   "source": [
    "#### **Estatísticas Descritivas**"
   ]
  },
  {
   "cell_type": "code",
   "execution_count": null,
   "id": "generic-tablet",
   "metadata": {},
   "outputs": [],
   "source": [
    "gasolina_sp_2018.describe()"
   ]
  },
  {
   "cell_type": "code",
   "execution_count": null,
   "id": "narrative-governor",
   "metadata": {},
   "outputs": [],
   "source": [
    "gasolina_sp_2018['PREÇO MÉDIO REVENDA'].describe().to_frame()"
   ]
  },
  {
   "cell_type": "markdown",
   "id": "valuable-skirt",
   "metadata": {},
   "source": [
    "### 7.3 Como os preços da Gasolina Comum e do Etanol em São Paulo variaram em 2018?"
   ]
  },
  {
   "cell_type": "code",
   "execution_count": null,
   "id": "herbal-birmingham",
   "metadata": {},
   "outputs": [],
   "source": [
    "df.query('(PRODUTO == \"GASOLINA COMUM\" or PRODUTO == \"ETANOL HIDRATADO\") and ESTADO == \"SAO PAULO\" and ANO == 2018')"
   ]
  },
  {
   "cell_type": "code",
   "execution_count": null,
   "id": "statutory-moses",
   "metadata": {},
   "outputs": [],
   "source": [
    "lista_de_estados = [\"GASOLINA COMUM\", \"ETANOL HIDRATADO\"]\n",
    "df.query('PRODUTO in @lista_de_estados and ESTADO == \"SAO PAULO\" and ANO == 2018')"
   ]
  },
  {
   "cell_type": "code",
   "execution_count": null,
   "id": "familiar-pregnancy",
   "metadata": {},
   "outputs": [],
   "source": [
    "gasolina_etanol_sp_2018 = df.query('PRODUTO in [\"GASOLINA COMUM\", \"ETANOL HIDRATADO\"] and ESTADO == \"SAO PAULO\" and ANO == 2018')\n",
    "gasolina_etanol_sp_2018"
   ]
  },
  {
   "cell_type": "code",
   "execution_count": null,
   "id": "comparable-uncle",
   "metadata": {},
   "outputs": [],
   "source": [
    "# considerando os preços do etanol e da gasolina juntos, teremos essas estatística descritivas \n",
    "gasolina_etanol_sp_2018['PREÇO MÉDIO REVENDA'].describe().to_frame()"
   ]
  },
  {
   "cell_type": "code",
   "execution_count": null,
   "id": "ordinary-bacteria",
   "metadata": {},
   "outputs": [],
   "source": [
    "gasolina_etanol_sp_2018.groupby('PRODUTO')['PREÇO MÉDIO REVENDA'].describe()"
   ]
  },
  {
   "cell_type": "markdown",
   "id": "horizontal-finger",
   "metadata": {},
   "source": [
    "<h2>8. Assuntos para continuar os estudos</h2>\n",
    "<hr/>\n",
    "\n",
    "- join\n",
    "- concat\n",
    "- plot\n",
    "- data cleaning"
   ]
  }
 ],
 "metadata": {
  "kernelspec": {
   "display_name": "Python 3",
   "language": "python",
   "name": "python3"
  },
  "language_info": {
   "codemirror_mode": {
    "name": "ipython",
    "version": 3
   },
   "file_extension": ".py",
   "mimetype": "text/x-python",
   "name": "python",
   "nbconvert_exporter": "python",
   "pygments_lexer": "ipython3",
   "version": "3.10.12"
  }
 },
 "nbformat": 4,
 "nbformat_minor": 5
}
