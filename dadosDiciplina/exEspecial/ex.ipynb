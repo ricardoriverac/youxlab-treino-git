{
 "cells": [
  {
   "cell_type": "code",
   "execution_count": 108,
   "metadata": {},
   "outputs": [],
   "source": [
    "import pandas as pd"
   ]
  },
  {
   "cell_type": "code",
   "execution_count": 109,
   "metadata": {},
   "outputs": [
    {
     "data": {
      "text/html": [
       "<div>\n",
       "<style scoped>\n",
       "    .dataframe tbody tr th:only-of-type {\n",
       "        vertical-align: middle;\n",
       "    }\n",
       "\n",
       "    .dataframe tbody tr th {\n",
       "        vertical-align: top;\n",
       "    }\n",
       "\n",
       "    .dataframe thead th {\n",
       "        text-align: right;\n",
       "    }\n",
       "</style>\n",
       "<table border=\"1\" class=\"dataframe\">\n",
       "  <thead>\n",
       "    <tr style=\"text-align: right;\">\n",
       "      <th></th>\n",
       "      <th>Nome</th>\n",
       "      <th>Autor</th>\n",
       "      <th>Editora</th>\n",
       "      <th>Data de lançamento</th>\n",
       "      <th>ISBN</th>\n",
       "    </tr>\n",
       "  </thead>\n",
       "  <tbody>\n",
       "    <tr>\n",
       "      <th>0</th>\n",
       "      <td>Cem Anos de Solidão</td>\n",
       "      <td>Gabriel García Márquez</td>\n",
       "      <td>Arqueiro</td>\n",
       "      <td>1967-05-30</td>\n",
       "      <td>9788535914849</td>\n",
       "    </tr>\n",
       "    <tr>\n",
       "      <th>1</th>\n",
       "      <td>Dom Casmurro</td>\n",
       "      <td>Nicolas Fernanades Maia</td>\n",
       "      <td>Rocco</td>\n",
       "      <td>1899-01-01</td>\n",
       "      <td>9788508108512</td>\n",
       "    </tr>\n",
       "    <tr>\n",
       "      <th>2</th>\n",
       "      <td>A Revolução dos Bichos</td>\n",
       "      <td>Gabriel Rodolfo</td>\n",
       "      <td>Indio</td>\n",
       "      <td>1945-08-17</td>\n",
       "      <td>9788535914840</td>\n",
       "    </tr>\n",
       "  </tbody>\n",
       "</table>\n",
       "</div>"
      ],
      "text/plain": [
       "                     Nome                    Autor   Editora  \\\n",
       "0     Cem Anos de Solidão   Gabriel García Márquez  Arqueiro   \n",
       "1            Dom Casmurro  Nicolas Fernanades Maia     Rocco   \n",
       "2  A Revolução dos Bichos          Gabriel Rodolfo     Indio   \n",
       "\n",
       "  Data de lançamento           ISBN  \n",
       "0         1967-05-30  9788535914849  \n",
       "1         1899-01-01  9788508108512  \n",
       "2         1945-08-17  9788535914840  "
      ]
     },
     "execution_count": 109,
     "metadata": {},
     "output_type": "execute_result"
    }
   ],
   "source": [
    "df = pd.DataFrame({\n",
    "    'Nome':['Cem Anos de Solidão','Dom Casmurro','A Revolução dos Bichos'],\n",
    "    'Autor':['Gabriel García Márquez','Nicolas Fernanades Maia','Gabriel Rodolfo'],\n",
    "    'Editora':['Arqueiro','Rocco','Indio'],\n",
    "    'Data de lançamento':['1967-05-30','1899-01-01','1945-08-17'],\n",
    "    'ISBN':['9788535914849','9788508108512','9788535914840'],\n",
    "    })\n",
    "df"
   ]
  },
  {
   "cell_type": "code",
   "execution_count": 110,
   "metadata": {},
   "outputs": [
    {
     "data": {
      "text/html": [
       "<div>\n",
       "<style scoped>\n",
       "    .dataframe tbody tr th:only-of-type {\n",
       "        vertical-align: middle;\n",
       "    }\n",
       "\n",
       "    .dataframe tbody tr th {\n",
       "        vertical-align: top;\n",
       "    }\n",
       "\n",
       "    .dataframe thead th {\n",
       "        text-align: right;\n",
       "    }\n",
       "</style>\n",
       "<table border=\"1\" class=\"dataframe\">\n",
       "  <thead>\n",
       "    <tr style=\"text-align: right;\">\n",
       "      <th></th>\n",
       "      <th>ISBN</th>\n",
       "      <th>Quantidade</th>\n",
       "      <th>Data de Chegada</th>\n",
       "      <th>Nome do Comprador</th>\n",
       "    </tr>\n",
       "  </thead>\n",
       "  <tbody>\n",
       "    <tr>\n",
       "      <th>0</th>\n",
       "      <td>9788535914849</td>\n",
       "      <td>10</td>\n",
       "      <td>2023-03-12</td>\n",
       "      <td>Biblioteca Central</td>\n",
       "    </tr>\n",
       "    <tr>\n",
       "      <th>1</th>\n",
       "      <td>9788508108512</td>\n",
       "      <td>5</td>\n",
       "      <td>2023-04-01</td>\n",
       "      <td>Secretaria de Cultura</td>\n",
       "    </tr>\n",
       "    <tr>\n",
       "      <th>2</th>\n",
       "      <td>9788535914840</td>\n",
       "      <td>8</td>\n",
       "      <td>2023-05-15</td>\n",
       "      <td>Biblioteca Central</td>\n",
       "    </tr>\n",
       "  </tbody>\n",
       "</table>\n",
       "</div>"
      ],
      "text/plain": [
       "            ISBN Quantidade Data de Chegada      Nome do Comprador\n",
       "0  9788535914849         10      2023-03-12     Biblioteca Central\n",
       "1  9788508108512          5      2023-04-01  Secretaria de Cultura\n",
       "2  9788535914840          8      2023-05-15     Biblioteca Central"
      ]
     },
     "execution_count": 110,
     "metadata": {},
     "output_type": "execute_result"
    }
   ],
   "source": [
    "df_estoque = pd.DataFrame({\n",
    "    'ISBN':['9788535914849','9788508108512','9788535914840'],\n",
    "    'Quantidade': ['10','5','8'],\n",
    "    'Data de Chegada':['2023-03-12','2023-04-01','2023-05-15'],\n",
    "    'Nome do Comprador':['Biblioteca Central','Secretaria de Cultura','Biblioteca Central'],\n",
    "})\n",
    "df_estoque"
   ]
  },
  {
   "cell_type": "code",
   "execution_count": 111,
   "metadata": {},
   "outputs": [
    {
     "data": {
      "text/html": [
       "<div>\n",
       "<style scoped>\n",
       "    .dataframe tbody tr th:only-of-type {\n",
       "        vertical-align: middle;\n",
       "    }\n",
       "\n",
       "    .dataframe tbody tr th {\n",
       "        vertical-align: top;\n",
       "    }\n",
       "\n",
       "    .dataframe thead th {\n",
       "        text-align: right;\n",
       "    }\n",
       "</style>\n",
       "<table border=\"1\" class=\"dataframe\">\n",
       "  <thead>\n",
       "    <tr style=\"text-align: right;\">\n",
       "      <th></th>\n",
       "      <th>ISBN</th>\n",
       "      <th>Quantidade</th>\n",
       "      <th>Data de Chegada</th>\n",
       "      <th>Nome do Comprador</th>\n",
       "      <th>Nome</th>\n",
       "      <th>Autor</th>\n",
       "      <th>Editora</th>\n",
       "      <th>Data de lançamento</th>\n",
       "    </tr>\n",
       "  </thead>\n",
       "  <tbody>\n",
       "    <tr>\n",
       "      <th>0</th>\n",
       "      <td>9788535914849</td>\n",
       "      <td>10</td>\n",
       "      <td>2023-03-12</td>\n",
       "      <td>Biblioteca Central</td>\n",
       "      <td>Cem Anos de Solidão</td>\n",
       "      <td>Gabriel García Márquez</td>\n",
       "      <td>Arqueiro</td>\n",
       "      <td>1967-05-30</td>\n",
       "    </tr>\n",
       "    <tr>\n",
       "      <th>1</th>\n",
       "      <td>9788508108512</td>\n",
       "      <td>5</td>\n",
       "      <td>2023-04-01</td>\n",
       "      <td>Secretaria de Cultura</td>\n",
       "      <td>Dom Casmurro</td>\n",
       "      <td>Nicolas Fernanades Maia</td>\n",
       "      <td>Rocco</td>\n",
       "      <td>1899-01-01</td>\n",
       "    </tr>\n",
       "    <tr>\n",
       "      <th>2</th>\n",
       "      <td>9788535914840</td>\n",
       "      <td>8</td>\n",
       "      <td>2023-05-15</td>\n",
       "      <td>Biblioteca Central</td>\n",
       "      <td>A Revolução dos Bichos</td>\n",
       "      <td>Gabriel Rodolfo</td>\n",
       "      <td>Indio</td>\n",
       "      <td>1945-08-17</td>\n",
       "    </tr>\n",
       "  </tbody>\n",
       "</table>\n",
       "</div>"
      ],
      "text/plain": [
       "            ISBN Quantidade Data de Chegada      Nome do Comprador  \\\n",
       "0  9788535914849         10      2023-03-12     Biblioteca Central   \n",
       "1  9788508108512          5      2023-04-01  Secretaria de Cultura   \n",
       "2  9788535914840          8      2023-05-15     Biblioteca Central   \n",
       "\n",
       "                     Nome                    Autor   Editora  \\\n",
       "0     Cem Anos de Solidão   Gabriel García Márquez  Arqueiro   \n",
       "1            Dom Casmurro  Nicolas Fernanades Maia     Rocco   \n",
       "2  A Revolução dos Bichos          Gabriel Rodolfo     Indio   \n",
       "\n",
       "  Data de lançamento  \n",
       "0         1967-05-30  \n",
       "1         1899-01-01  \n",
       "2         1945-08-17  "
      ]
     },
     "execution_count": 111,
     "metadata": {},
     "output_type": "execute_result"
    }
   ],
   "source": [
    "tabela_junta = df_estoque.merge(df)\n",
    "tabela_junta"
   ]
  },
  {
   "cell_type": "code",
   "execution_count": 112,
   "metadata": {},
   "outputs": [
    {
     "data": {
      "text/html": [
       "<div>\n",
       "<style scoped>\n",
       "    .dataframe tbody tr th:only-of-type {\n",
       "        vertical-align: middle;\n",
       "    }\n",
       "\n",
       "    .dataframe tbody tr th {\n",
       "        vertical-align: top;\n",
       "    }\n",
       "\n",
       "    .dataframe thead th {\n",
       "        text-align: right;\n",
       "    }\n",
       "</style>\n",
       "<table border=\"1\" class=\"dataframe\">\n",
       "  <thead>\n",
       "    <tr style=\"text-align: right;\">\n",
       "      <th></th>\n",
       "      <th>Nome</th>\n",
       "      <th>Autor</th>\n",
       "      <th>Quantidade</th>\n",
       "      <th>Nome do Comprador</th>\n",
       "    </tr>\n",
       "  </thead>\n",
       "  <tbody>\n",
       "    <tr>\n",
       "      <th>0</th>\n",
       "      <td>Cem Anos de Solidão</td>\n",
       "      <td>Gabriel García Márquez</td>\n",
       "      <td>10</td>\n",
       "      <td>Biblioteca Central</td>\n",
       "    </tr>\n",
       "    <tr>\n",
       "      <th>1</th>\n",
       "      <td>Dom Casmurro</td>\n",
       "      <td>Nicolas Fernanades Maia</td>\n",
       "      <td>5</td>\n",
       "      <td>Secretaria de Cultura</td>\n",
       "    </tr>\n",
       "    <tr>\n",
       "      <th>2</th>\n",
       "      <td>A Revolução dos Bichos</td>\n",
       "      <td>Gabriel Rodolfo</td>\n",
       "      <td>8</td>\n",
       "      <td>Biblioteca Central</td>\n",
       "    </tr>\n",
       "  </tbody>\n",
       "</table>\n",
       "</div>"
      ],
      "text/plain": [
       "                     Nome                    Autor Quantidade  \\\n",
       "0     Cem Anos de Solidão   Gabriel García Márquez         10   \n",
       "1            Dom Casmurro  Nicolas Fernanades Maia          5   \n",
       "2  A Revolução dos Bichos          Gabriel Rodolfo          8   \n",
       "\n",
       "       Nome do Comprador  \n",
       "0     Biblioteca Central  \n",
       "1  Secretaria de Cultura  \n",
       "2     Biblioteca Central  "
      ]
     },
     "execution_count": 112,
     "metadata": {},
     "output_type": "execute_result"
    }
   ],
   "source": [
    "colunas = ['Nome','Autor','Quantidade','Nome do Comprador']\n",
    "nova_tabela = tabela_junta[colunas]\n",
    "nova_tabela"
   ]
  },
  {
   "cell_type": "code",
   "execution_count": 113,
   "metadata": {},
   "outputs": [
    {
     "data": {
      "text/plain": [
       "Index(['ISBN', 'Quantidade', 'Data de Chegada', 'Nome do Comprador', 'Nome',\n",
       "       'Autor', 'Editora', 'Data de lançamento'],\n",
       "      dtype='object')"
      ]
     },
     "execution_count": 113,
     "metadata": {},
     "output_type": "execute_result"
    }
   ],
   "source": [
    "tabela_junta.columns"
   ]
  },
  {
   "cell_type": "code",
   "execution_count": 114,
   "metadata": {},
   "outputs": [
    {
     "data": {
      "text/plain": [
       "<bound method NDFrame.to_csv of                      Nome                    Autor Quantidade  \\\n",
       "0     Cem Anos de Solidão   Gabriel García Márquez         10   \n",
       "1            Dom Casmurro  Nicolas Fernanades Maia          5   \n",
       "2  A Revolução dos Bichos          Gabriel Rodolfo          8   \n",
       "\n",
       "       Nome do Comprador  \n",
       "0     Biblioteca Central  \n",
       "1  Secretaria de Cultura  \n",
       "2     Biblioteca Central  >"
      ]
     },
     "execution_count": 114,
     "metadata": {},
     "output_type": "execute_result"
    }
   ],
   "source": [
    "nova_tabela.to_csv"
   ]
  }
 ],
 "metadata": {
  "kernelspec": {
   "display_name": "Python 3",
   "language": "python",
   "name": "python3"
  },
  "language_info": {
   "codemirror_mode": {
    "name": "ipython",
    "version": 3
   },
   "file_extension": ".py",
   "mimetype": "text/x-python",
   "name": "python",
   "nbconvert_exporter": "python",
   "pygments_lexer": "ipython3",
   "version": "3.10.12"
  }
 },
 "nbformat": 4,
 "nbformat_minor": 2
}
