{
 "cells": [
  {
   "cell_type": "code",
   "execution_count": 1,
   "id": "8184a935",
   "metadata": {},
   "outputs": [
    {
     "name": "stdout",
     "output_type": "stream",
     "text": [
      "  Fabricante       Cor  Quilometragem  Portas          Preco\n",
      "0     Toyota    Branco         150043       4   R$ 24,000.00\n",
      "1      Honda  Vermelho          87899       4   R$ 25,000.00\n",
      "2     Toyota      Azul          32549       3   R$ 27,000.00\n",
      "3        BMW     Preto          11179       5  R$ 122,000.00\n",
      "4     Nissan    Branco         213095       4   R$ 13,500.00\n"
     ]
    }
   ],
   "source": [
    "import pandas as pd\n",
    "\n",
    "dados = pd.read_csv('venda-de-carros.csv')\n",
    "print(dados.head())\n"
   ]
  },
  {
   "cell_type": "code",
   "execution_count": 2,
   "id": "a2f83326",
   "metadata": {},
   "outputs": [
    {
     "name": "stdout",
     "output_type": "stream",
     "text": [
      "<class 'pandas.core.frame.DataFrame'>\n",
      "RangeIndex: 10 entries, 0 to 9\n",
      "Data columns (total 5 columns):\n",
      " #   Column         Non-Null Count  Dtype \n",
      "---  ------         --------------  ----- \n",
      " 0   Fabricante     10 non-null     object\n",
      " 1   Cor            10 non-null     object\n",
      " 2   Quilometragem  10 non-null     int64 \n",
      " 3   Portas         10 non-null     int64 \n",
      " 4   Preco          10 non-null     object\n",
      "dtypes: int64(2), object(3)\n",
      "memory usage: 528.0+ bytes\n",
      "None\n"
     ]
    }
   ],
   "source": [
    "print(dados.info())\n"
   ]
  },
  {
   "cell_type": "code",
   "execution_count": 3,
   "id": "c9e3cce7",
   "metadata": {},
   "outputs": [
    {
     "name": "stdout",
     "output_type": "stream",
     "text": [
      "  Personagem  Idade\n",
      "0       Luke     19\n",
      "1       Leia     19\n",
      "2        Han     32\n"
     ]
    }
   ],
   "source": [
    "df = pd.DataFrame({\n",
    "    'Personagem': ['Luke', 'Leia', 'Han'],\n",
    "    'Idade': [19, 19, 32]\n",
    "})\n",
    "print(df)\n"
   ]
  },
  {
   "cell_type": "code",
   "execution_count": 4,
   "id": "fa951201",
   "metadata": {},
   "outputs": [],
   "source": [
    "\n",
    "df.columns = ['Nome', 'Anos']\n",
    "\n",
    "\n"
   ]
  },
  {
   "cell_type": "code",
   "execution_count": 5,
   "id": "8ea04180",
   "metadata": {},
   "outputs": [
    {
     "name": "stdout",
     "output_type": "stream",
     "text": [
      "a    100\n",
      "b    200\n",
      "c    300\n",
      "Name: Valores, dtype: int64\n"
     ]
    }
   ],
   "source": [
    "serie = pd.Series([100, 200, 300], index=['a', 'b', 'c'], name='Valores')\n",
    "print(serie)\n"
   ]
  },
  {
   "cell_type": "code",
   "execution_count": 6,
   "id": "22f68d37",
   "metadata": {},
   "outputs": [
    {
     "name": "stdout",
     "output_type": "stream",
     "text": [
      "   Nome  Anos  Nova_Coluna\n",
      "0  Luke    19           38\n",
      "1  Leia    19           38\n",
      "2   Han    32           64\n"
     ]
    }
   ],
   "source": [
    "df['Nova_Coluna'] = df['Anos'] * 2\n",
    "print(df)\n"
   ]
  },
  {
   "cell_type": "code",
   "execution_count": null,
   "id": "4625fa64",
   "metadata": {},
   "outputs": [
    {
     "name": "stdout",
     "output_type": "stream",
     "text": [
      "Nome           Luke\n",
      "Anos             19\n",
      "Nova_Coluna      38\n",
      "Name: 0, dtype: object\n",
      "19\n",
      "Nome           Luke\n",
      "Anos             19\n",
      "Nova_Coluna      38\n",
      "Name: 0, dtype: object\n"
     ]
    }
   ],
   "source": [
    "print(df.iloc[0])        \n",
    "print(df.iloc[0, 1])     \n",
    "print(df.loc[0])         "
   ]
  },
  {
   "cell_type": "code",
   "execution_count": 8,
   "id": "1c8f207d",
   "metadata": {},
   "outputs": [
    {
     "name": "stdout",
     "output_type": "stream",
     "text": [
      "   Nome  Anos\n",
      "0  Luke    19\n",
      "1  Leia    19\n",
      "2   Han    32\n"
     ]
    }
   ],
   "source": [
    "del df['Nova_Coluna']\n",
    "print(df)\n"
   ]
  },
  {
   "cell_type": "code",
   "execution_count": 9,
   "id": "eea59404",
   "metadata": {},
   "outputs": [
    {
     "name": "stdout",
     "output_type": "stream",
     "text": [
      "  Nome  Anos\n",
      "0  Han    32\n"
     ]
    }
   ],
   "source": [
    "\n",
    "filtro = df.query('Anos > 20').reset_index(drop=True)\n",
    "print(filtro)\n"
   ]
  },
  {
   "cell_type": "code",
   "execution_count": 10,
   "id": "c12a5da3",
   "metadata": {},
   "outputs": [
    {
     "name": "stdout",
     "output_type": "stream",
     "text": [
      "   Nome  Anos\n",
      "0  Luke    19\n",
      "1  Leia    19\n",
      "2   Han    32\n"
     ]
    }
   ],
   "source": [
    "df.dropna(inplace=True)   \n",
    "df.fillna(0, inplace=True)  \n",
    "print(df)\n"
   ]
  },
  {
   "cell_type": "code",
   "execution_count": 11,
   "id": "be2ab854",
   "metadata": {},
   "outputs": [
    {
     "name": "stdout",
     "output_type": "stream",
     "text": [
      "            Anos\n",
      "count   3.000000\n",
      "mean   23.333333\n",
      "std     7.505553\n",
      "min    19.000000\n",
      "25%    19.000000\n",
      "50%    19.000000\n",
      "75%    25.500000\n",
      "max    32.000000\n",
      "Média: 23.333333333333332\n",
      "Desvio padrão: 7.505553499465135\n"
     ]
    }
   ],
   "source": [
    "print(df.describe())\n",
    "print(\"Média:\", df['Anos'].mean())\n",
    "print(\"Desvio padrão:\", df['Anos'].std())\n"
   ]
  },
  {
   "cell_type": "code",
   "execution_count": 12,
   "id": "b0636781",
   "metadata": {},
   "outputs": [
    {
     "name": "stdout",
     "output_type": "stream",
     "text": [
      "Anos\n",
      "19    2\n",
      "32    1\n",
      "Name: count, dtype: int64\n"
     ]
    }
   ],
   "source": [
    "print(df['Anos'].value_counts())\n"
   ]
  },
  {
   "cell_type": "code",
   "execution_count": 13,
   "id": "1875007d",
   "metadata": {},
   "outputs": [
    {
     "name": "stdout",
     "output_type": "stream",
     "text": [
      "   Valores\n",
      "a      100\n",
      "b      200\n",
      "c      300\n"
     ]
    }
   ],
   "source": [
    "nova_df = serie.to_frame()\n",
    "print(nova_df)\n"
   ]
  },
  {
   "cell_type": "code",
   "execution_count": 14,
   "id": "b6237ad2",
   "metadata": {},
   "outputs": [
    {
     "name": "stdout",
     "output_type": "stream",
     "text": [
      "['Ford' 'Chevrolet' 'Volkswagen']\n"
     ]
    }
   ],
   "source": [
    "\n",
    "carros = pd.DataFrame({\n",
    "    'Marca': ['Ford', 'Chevrolet', 'Ford', 'Volkswagen'],\n",
    "    'Ano': [2012, 2015, 2012, 2018]\n",
    "})\n",
    "\n",
    "print(carros['Marca'].unique())\n"
   ]
  },
  {
   "cell_type": "code",
   "execution_count": 15,
   "id": "605bde0a",
   "metadata": {},
   "outputs": [
    {
     "name": "stdout",
     "output_type": "stream",
     "text": [
      "        Marca   Ano\n",
      "0   Chevrolet  2015\n",
      "1  Volkswagen  2018\n"
     ]
    }
   ],
   "source": [
    "\n",
    "filtro = carros.query('Ano > 2012').reset_index(drop=True)\n",
    "print(filtro)\n"
   ]
  },
  {
   "cell_type": "code",
   "execution_count": 16,
   "id": "6ec14fbd",
   "metadata": {},
   "outputs": [
    {
     "name": "stdout",
     "output_type": "stream",
     "text": [
      "  Marca   Ano\n",
      "0  Ford  2012\n",
      "2  Ford  2012\n"
     ]
    }
   ],
   "source": [
    "filtro = carros[carros['Marca'] == 'Ford']\n",
    "print(filtro)\n"
   ]
  },
  {
   "cell_type": "code",
   "execution_count": 17,
   "id": "cfcb22fe",
   "metadata": {},
   "outputs": [
    {
     "name": "stdout",
     "output_type": "stream",
     "text": [
      "        Marca   Ano\n",
      "0        Ford  2012\n",
      "2        Ford  2012\n",
      "3  Volkswagen  2018\n"
     ]
    }
   ],
   "source": [
    "marcas_desejadas = ['Ford', 'Volkswagen']\n",
    "filtro_lista = carros[carros['Marca'].isin(marcas_desejadas)]\n",
    "print(filtro_lista)\n"
   ]
  },
  {
   "cell_type": "code",
   "execution_count": 18,
   "id": "033b3fad",
   "metadata": {},
   "outputs": [
    {
     "name": "stdout",
     "output_type": "stream",
     "text": [
      "  Nome  Idade\n",
      "0    A   25.0\n",
      "  Nome  Idade\n",
      "0    A   25.0\n",
      "1    B    0.0\n",
      "2    0   30.0\n"
     ]
    }
   ],
   "source": [
    "\n",
    "exemplo = pd.DataFrame({\n",
    "    'Nome': ['A', 'B', None],\n",
    "    'Idade': [25, None, 30]\n",
    "})\n",
    "\n",
    "\n",
    "print(exemplo.dropna())\n",
    "\n",
    "\n",
    "print(exemplo.fillna(0))\n"
   ]
  },
  {
   "cell_type": "code",
   "execution_count": null,
   "id": "7ca53fe5",
   "metadata": {},
   "outputs": [
    {
     "name": "stdout",
     "output_type": "stream",
     "text": [
      "               Ano\n",
      "count     4.000000\n",
      "mean   2014.250000\n",
      "std       2.872281\n",
      "min    2012.000000\n",
      "25%    2012.000000\n",
      "50%    2013.500000\n",
      "75%    2015.750000\n",
      "max    2018.000000\n"
     ]
    }
   ],
   "source": [
    "print(carros.describe())  \n"
   ]
  },
  {
   "cell_type": "code",
   "execution_count": 20,
   "id": "46adfd5f",
   "metadata": {},
   "outputs": [
    {
     "name": "stdout",
     "output_type": "stream",
     "text": [
      "        Marca   Ano  É_Ford\n",
      "0        Ford  2012    True\n",
      "1   Chevrolet  2015   False\n",
      "2        Ford  2012    True\n",
      "3  Volkswagen  2018   False\n"
     ]
    }
   ],
   "source": [
    "\n",
    "carros['É_Ford'] = carros['Marca'] == 'Ford'\n",
    "print(carros)\n"
   ]
  },
  {
   "cell_type": "code",
   "execution_count": 21,
   "id": "e6e5f3e7",
   "metadata": {},
   "outputs": [
    {
     "name": "stdout",
     "output_type": "stream",
     "text": [
      "Marca\n",
      "Ford          2\n",
      "Chevrolet     1\n",
      "Volkswagen    1\n",
      "Name: count, dtype: int64\n"
     ]
    }
   ],
   "source": [
    "print(carros['Marca'].value_counts())\n"
   ]
  },
  {
   "cell_type": "code",
   "execution_count": 22,
   "id": "063342ab",
   "metadata": {},
   "outputs": [
    {
     "name": "stdout",
     "output_type": "stream",
     "text": [
      "            count\n",
      "Marca            \n",
      "Ford            2\n",
      "Chevrolet       1\n",
      "Volkswagen      1\n"
     ]
    }
   ],
   "source": [
    "contagem_df = carros['Marca'].value_counts().to_frame()\n",
    "print(contagem_df)\n"
   ]
  }
 ],
 "metadata": {
  "kernelspec": {
   "display_name": "Python 3",
   "language": "python",
   "name": "python3"
  },
  "language_info": {
   "codemirror_mode": {
    "name": "ipython",
    "version": 3
   },
   "file_extension": ".py",
   "mimetype": "text/x-python",
   "name": "python",
   "nbconvert_exporter": "python",
   "pygments_lexer": "ipython3",
   "version": "3.10.12"
  }
 },
 "nbformat": 4,
 "nbformat_minor": 5
}
