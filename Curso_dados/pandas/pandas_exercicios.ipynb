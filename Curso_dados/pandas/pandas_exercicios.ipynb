{
  "cells": [
    {
      "cell_type": "code",
      "execution_count": 3,
      "metadata": {
        "id": "X1Q0xVaxVr9V"
      },
      "outputs": [],
      "source": [
        "# Importe o pandas\n",
        "import pandas as pd"
      ]
    },
    {
      "cell_type": "code",
      "execution_count": 4,
      "metadata": {
        "id": "rlErNlrPWo_7"
      },
      "outputs": [],
      "source": [
        "# Crie uma Série com 3 estados diferentes\n",
        "estados = pd.Series([\"São Paulo\", \"Rio de Janeiro\", \"Minas Gerais\"])"
      ]
    },
    {
      "cell_type": "code",
      "execution_count": 5,
      "metadata": {
        "id": "FhyqncTiWuxA"
      },
      "outputs": [
        {
          "name": "stdout",
          "output_type": "stream",
          "text": [
            "0         São Paulo\n",
            "1    Rio de Janeiro\n",
            "2      Minas Gerais\n",
            "dtype: object\n"
          ]
        }
      ],
      "source": [
        "# Visualize os dados criados na Série\n",
        "print(estados)"
      ]
    },
    {
      "cell_type": "code",
      "execution_count": 6,
      "metadata": {
        "id": "IH4Tb4fhW2VB"
      },
      "outputs": [],
      "source": [
        "# Crie uma Série com 3 tipos de fabricantes de carro\n",
        "fabricantes = pd.Series([\"Toyota\", \"Honda\", \"BMW\"], index=[\"F1\", \"F2\", \"F3\"])"
      ]
    },
    {
      "cell_type": "code",
      "execution_count": 7,
      "metadata": {
        "id": "YAugkW1EW9EI"
      },
      "outputs": [
        {
          "name": "stdout",
          "output_type": "stream",
          "text": [
            "            Estado Fabricante\n",
            "0        São Paulo        NaN\n",
            "1   Rio de Janeiro        NaN\n",
            "2     Minas Gerais        NaN\n",
            "F1             NaN     Toyota\n",
            "F2             NaN      Honda\n",
            "F3             NaN        BMW\n"
          ]
        }
      ],
      "source": [
        "# Crie um DataFrame combinando as duas Séries\n",
        "df_combinado = pd.concat([estados, fabricantes], axis=1)\n",
        "df_combinado.columns = [\"Estado\", \"Fabricante\"]\n",
        "print(df_combinado)"
      ]
    },
    {
      "cell_type": "code",
      "execution_count": 8,
      "metadata": {
        "id": "GvlkmBi3XGi1"
      },
      "outputs": [
        {
          "name": "stdout",
          "output_type": "stream",
          "text": [
            "  Fabricante       Cor  Quilometragem  Portas          Preco\n",
            "0     Toyota    Branco         150043       4   R$ 24,000.00\n",
            "1      Honda  Vermelho          87899       4   R$ 25,000.00\n",
            "2     Toyota      Azul          32549       3   R$ 27,000.00\n",
            "3        BMW     Preto          11179       5  R$ 122,000.00\n",
            "4     Nissan    Branco         213095       4   R$ 13,500.00\n"
          ]
        }
      ],
      "source": [
        "# Importe o csv \"venda-de-carros.csv\" em visualize o DataFrame\n",
        "dados = pd.read_csv(r\"./datasets/venda-de-carros.csv\")\n",
        "print(dados.head())"
      ]
    },
    {
      "cell_type": "code",
      "execution_count": 9,
      "metadata": {
        "id": "rI5eHevAXTUB"
      },
      "outputs": [
        {
          "name": "stdout",
          "output_type": "stream",
          "text": [
            "Fabricante       object\n",
            "Cor              object\n",
            "Quilometragem     int64\n",
            "Portas            int64\n",
            "Preco            object\n",
            "dtype: object\n",
            "<class 'pandas.core.frame.DataFrame'>\n",
            "RangeIndex: 10 entries, 0 to 9\n",
            "Data columns (total 5 columns):\n",
            " #   Column         Non-Null Count  Dtype \n",
            "---  ------         --------------  ----- \n",
            " 0   Fabricante     10 non-null     object\n",
            " 1   Cor            10 non-null     object\n",
            " 2   Quilometragem  10 non-null     int64 \n",
            " 3   Portas         10 non-null     int64 \n",
            " 4   Preco          10 non-null     object\n",
            "dtypes: int64(2), object(3)\n",
            "memory usage: 528.0+ bytes\n"
          ]
        }
      ],
      "source": [
        "# Verifique os diferentes tipos de dados do DataFrame\n",
        "print(dados.dtypes)\n",
        "dados.info()"
      ]
    },
    {
      "cell_type": "code",
      "execution_count": 10,
      "metadata": {
        "id": "OE_yasEoXb17"
      },
      "outputs": [
        {
          "data": {
            "text/html": [
              "<div>\n",
              "<style scoped>\n",
              "    .dataframe tbody tr th:only-of-type {\n",
              "        vertical-align: middle;\n",
              "    }\n",
              "\n",
              "    .dataframe tbody tr th {\n",
              "        vertical-align: top;\n",
              "    }\n",
              "\n",
              "    .dataframe thead th {\n",
              "        text-align: right;\n",
              "    }\n",
              "</style>\n",
              "<table border=\"1\" class=\"dataframe\">\n",
              "  <thead>\n",
              "    <tr style=\"text-align: right;\">\n",
              "      <th></th>\n",
              "      <th>Quilometragem</th>\n",
              "      <th>Portas</th>\n",
              "    </tr>\n",
              "  </thead>\n",
              "  <tbody>\n",
              "    <tr>\n",
              "      <th>count</th>\n",
              "      <td>10.000000</td>\n",
              "      <td>10.000000</td>\n",
              "    </tr>\n",
              "    <tr>\n",
              "      <th>mean</th>\n",
              "      <td>78601.400000</td>\n",
              "      <td>4.000000</td>\n",
              "    </tr>\n",
              "    <tr>\n",
              "      <th>std</th>\n",
              "      <td>61983.471735</td>\n",
              "      <td>0.471405</td>\n",
              "    </tr>\n",
              "    <tr>\n",
              "      <th>min</th>\n",
              "      <td>11179.000000</td>\n",
              "      <td>3.000000</td>\n",
              "    </tr>\n",
              "    <tr>\n",
              "      <th>25%</th>\n",
              "      <td>35836.250000</td>\n",
              "      <td>4.000000</td>\n",
              "    </tr>\n",
              "    <tr>\n",
              "      <th>50%</th>\n",
              "      <td>57369.000000</td>\n",
              "      <td>4.000000</td>\n",
              "    </tr>\n",
              "    <tr>\n",
              "      <th>75%</th>\n",
              "      <td>96384.500000</td>\n",
              "      <td>4.000000</td>\n",
              "    </tr>\n",
              "    <tr>\n",
              "      <th>max</th>\n",
              "      <td>213095.000000</td>\n",
              "      <td>5.000000</td>\n",
              "    </tr>\n",
              "  </tbody>\n",
              "</table>\n",
              "</div>"
            ],
            "text/plain": [
              "       Quilometragem     Portas\n",
              "count      10.000000  10.000000\n",
              "mean    78601.400000   4.000000\n",
              "std     61983.471735   0.471405\n",
              "min     11179.000000   3.000000\n",
              "25%     35836.250000   4.000000\n",
              "50%     57369.000000   4.000000\n",
              "75%     96384.500000   4.000000\n",
              "max    213095.000000   5.000000"
            ]
          },
          "execution_count": 10,
          "metadata": {},
          "output_type": "execute_result"
        }
      ],
      "source": [
        "# Verifique as informações estatísticas do DataFrame usando .describe()\n",
        "dados.describe()"
      ]
    },
    {
      "cell_type": "code",
      "execution_count": 11,
      "metadata": {
        "id": "L0aaQ8IFXqWL"
      },
      "outputs": [
        {
          "name": "stdout",
          "output_type": "stream",
          "text": [
            "<class 'pandas.core.frame.DataFrame'>\n",
            "RangeIndex: 10 entries, 0 to 9\n",
            "Data columns (total 5 columns):\n",
            " #   Column         Non-Null Count  Dtype \n",
            "---  ------         --------------  ----- \n",
            " 0   Fabricante     10 non-null     object\n",
            " 1   Cor            10 non-null     object\n",
            " 2   Quilometragem  10 non-null     int64 \n",
            " 3   Portas         10 non-null     int64 \n",
            " 4   Preco          10 non-null     object\n",
            "dtypes: int64(2), object(3)\n",
            "memory usage: 528.0+ bytes\n"
          ]
        }
      ],
      "source": [
        "# Liste mais informações sobre o DataFrame usando a função info()\n",
        "dados.info()"
      ]
    },
    {
      "cell_type": "code",
      "execution_count": 12,
      "metadata": {
        "id": "khmCWEnFYHyN"
      },
      "outputs": [
        {
          "name": "stdout",
          "output_type": "stream",
          "text": [
            "Index(['Fabricante', 'Cor', 'Quilometragem', 'Portas', 'Preco'], dtype='object')\n"
          ]
        }
      ],
      "source": [
        "# Liste o nome de todas as colunas do DataFrame\n",
        "print(dados.columns)"
      ]
    },
    {
      "cell_type": "code",
      "execution_count": 13,
      "metadata": {
        "id": "JxAGoawHYM3w"
      },
      "outputs": [
        {
          "name": "stdout",
          "output_type": "stream",
          "text": [
            "  Fabricante       Cor  Quilometragem  Portas          Preco\n",
            "0     Toyota    Branco         150043       4   R$ 24,000.00\n",
            "1      Honda  Vermelho          87899       4   R$ 25,000.00\n",
            "2     Toyota      Azul          32549       3   R$ 27,000.00\n",
            "3        BMW     Preto          11179       5  R$ 122,000.00\n",
            "4     Nissan    Branco         213095       4   R$ 13,500.00\n"
          ]
        }
      ],
      "source": [
        "# Exiba apenas as 5 primeiras linhas do DataFrame\n",
        "print(dados.head())"
      ]
    },
    {
      "cell_type": "code",
      "execution_count": 14,
      "metadata": {
        "id": "yBfoLbgJYUr_"
      },
      "outputs": [
        {
          "name": "stdout",
          "output_type": "stream",
          "text": [
            "  Fabricante     Cor  Quilometragem  Portas         Preco\n",
            "5     Toyota   Verde          99213       4  R$ 14,500.00\n",
            "6      Honda    Azul          45698       4  R$ 17,500.00\n",
            "7      Honda    Azul          54738       4  R$ 27,000.00\n",
            "8     Toyota  Branco          60000       4  R$ 26,250.00\n",
            "9     Nissan  Branco          31600       4  R$ 19,700.00\n"
          ]
        }
      ],
      "source": [
        "# Exiba as 5 últimas linhas do DataFrame\n",
        "print(dados.tail())"
      ]
    },
    {
      "cell_type": "code",
      "execution_count": 15,
      "metadata": {
        "id": "dUS_98yBYXo8"
      },
      "outputs": [
        {
          "name": "stdout",
          "output_type": "stream",
          "text": [
            "Fabricante                 BMW\n",
            "Cor                      Preto\n",
            "Quilometragem            11179\n",
            "Portas                       5\n",
            "Preco            R$ 122,000.00\n",
            "Name: 3, dtype: object\n"
          ]
        }
      ],
      "source": [
        "# Utilize .loc para selecionar os dados da linha de índice 3 do DataFrame\n",
        "linha_3 = dados.loc[3]\n",
        "print(linha_3)"
      ]
    },
    {
      "cell_type": "code",
      "execution_count": 16,
      "metadata": {
        "id": "rSTtiZZMYiKx"
      },
      "outputs": [
        {
          "name": "stdout",
          "output_type": "stream",
          "text": [
            "Fabricante             Nissan\n",
            "Cor                    Branco\n",
            "Quilometragem          213095\n",
            "Portas                      4\n",
            "Preco            R$ 13,500.00\n",
            "Name: 4, dtype: object\n"
          ]
        }
      ],
      "source": [
        "# Utilize .iloc para exibir os dados que estão na 5° posição do DataFrame\n",
        "linha_5 = dados.iloc[4]\n",
        "print(linha_5)"
      ]
    },
    {
      "cell_type": "code",
      "execution_count": 21,
      "metadata": {
        "id": "GqvHWQgKYs8T"
      },
      "outputs": [
        {
          "name": "stdout",
          "output_type": "stream",
          "text": [
            "0    150043\n",
            "1     87899\n",
            "2     32549\n",
            "3     11179\n",
            "4    213095\n",
            "5     99213\n",
            "6     45698\n",
            "7     54738\n",
            "8     60000\n",
            "9     31600\n",
            "Name: Quilometragem, dtype: int64\n"
          ]
        }
      ],
      "source": [
        "# Selecione a coluna Quilometragem\n",
        "quilometragem = dados['Quilometragem']\n",
        "print(quilometragem)"
      ]
    },
    {
      "cell_type": "code",
      "execution_count": 22,
      "metadata": {
        "id": "ZY07R0fXY5PY"
      },
      "outputs": [
        {
          "name": "stdout",
          "output_type": "stream",
          "text": [
            "78601.4\n"
          ]
        }
      ],
      "source": [
        "# Calcule a média da coluna Quilometragem\n",
        "media_quilometragem = dados['Quilometragem'].mean()\n",
        "print(media_quilometragem)"
      ]
    },
    {
      "cell_type": "code",
      "execution_count": 23,
      "metadata": {
        "id": "v2hf7yI0ZB-s"
      },
      "outputs": [
        {
          "name": "stdout",
          "output_type": "stream",
          "text": [
            "  Fabricante     Cor  Quilometragem  Portas         Preco\n",
            "0     Toyota  Branco         150043       4  R$ 24,000.00\n",
            "4     Nissan  Branco         213095       4  R$ 13,500.00\n"
          ]
        }
      ],
      "source": [
        "# Liste os carros que possuem uma quilometragem maior que 100.000\n",
        "carros_maior_100k = dados[dados['Quilometragem'] > 100000]\n",
        "print(carros_maior_100k)"
      ]
    },
    {
      "cell_type": "code",
      "execution_count": 29,
      "metadata": {
        "id": "EACSY4tJZJx-"
      },
      "outputs": [],
      "source": [
        "# Agrupe as colunas pelo fabricante e calcule a média das outras colunas"
      ]
    }
  ],
  "metadata": {
    "colab": {
      "name": "pandas-exercicios",
      "provenance": []
    },
    "kernelspec": {
      "display_name": "Python 3",
      "name": "python3"
    },
    "language_info": {
      "codemirror_mode": {
        "name": "ipython",
        "version": 3
      },
      "file_extension": ".py",
      "mimetype": "text/x-python",
      "name": "python",
      "nbconvert_exporter": "python",
      "pygments_lexer": "ipython3",
      "version": "3.10.12"
    }
  },
  "nbformat": 4,
  "nbformat_minor": 0
}
