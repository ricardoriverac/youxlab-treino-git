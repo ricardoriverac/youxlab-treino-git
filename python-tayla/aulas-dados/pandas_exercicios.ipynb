{
  "cells": [
    {
      "cell_type": "code",
      "execution_count": 65,
      "metadata": {
        "id": "X1Q0xVaxVr9V"
      },
      "outputs": [],
      "source": [
        "# Importe o pandas\n",
        "import pandas as pd"
      ]
    },
    {
      "cell_type": "code",
      "execution_count": 66,
      "metadata": {
        "id": "rlErNlrPWo_7"
      },
      "outputs": [],
      "source": [
        "# Crie uma Série com 3 estados diferentes\n",
        "series1 = pd.Series(['Minas Gerais', 'Rio de Janeiro', 'Bahia'])"
      ]
    },
    {
      "cell_type": "code",
      "execution_count": 67,
      "metadata": {
        "id": "FhyqncTiWuxA"
      },
      "outputs": [
        {
          "data": {
            "text/plain": [
              "0      Minas Gerais\n",
              "1    Rio de Janeiro\n",
              "2             Bahia\n",
              "dtype: object"
            ]
          },
          "execution_count": 67,
          "metadata": {},
          "output_type": "execute_result"
        }
      ],
      "source": [
        "# Visualize os dados criados na Série\n",
        "series1"
      ]
    },
    {
      "cell_type": "code",
      "execution_count": 68,
      "metadata": {
        "id": "IH4Tb4fhW2VB"
      },
      "outputs": [
        {
          "data": {
            "text/plain": [
              "0     Honda\n",
              "1    Nissan\n",
              "2     Volvo\n",
              "dtype: object"
            ]
          },
          "execution_count": 68,
          "metadata": {},
          "output_type": "execute_result"
        }
      ],
      "source": [
        "# Crie uma Série com 3 tipos de fabricantes de carro\n",
        "series2 = pd.Series(['Honda', 'Nissan', 'Volvo'])\n",
        "series2"
      ]
    },
    {
      "cell_type": "code",
      "execution_count": 69,
      "metadata": {
        "id": "YAugkW1EW9EI"
      },
      "outputs": [
        {
          "data": {
            "text/html": [
              "<div>\n",
              "<style scoped>\n",
              "    .dataframe tbody tr th:only-of-type {\n",
              "        vertical-align: middle;\n",
              "    }\n",
              "\n",
              "    .dataframe tbody tr th {\n",
              "        vertical-align: top;\n",
              "    }\n",
              "\n",
              "    .dataframe thead th {\n",
              "        text-align: right;\n",
              "    }\n",
              "</style>\n",
              "<table border=\"1\" class=\"dataframe\">\n",
              "  <thead>\n",
              "    <tr style=\"text-align: right;\">\n",
              "      <th></th>\n",
              "      <th>Estados</th>\n",
              "      <th>Fabricantes</th>\n",
              "    </tr>\n",
              "  </thead>\n",
              "  <tbody>\n",
              "    <tr>\n",
              "      <th>0</th>\n",
              "      <td>Minas Gerais</td>\n",
              "      <td>Honda</td>\n",
              "    </tr>\n",
              "    <tr>\n",
              "      <th>1</th>\n",
              "      <td>Rio de Janeiro</td>\n",
              "      <td>Nissan</td>\n",
              "    </tr>\n",
              "    <tr>\n",
              "      <th>2</th>\n",
              "      <td>Bahia</td>\n",
              "      <td>Volvo</td>\n",
              "    </tr>\n",
              "  </tbody>\n",
              "</table>\n",
              "</div>"
            ],
            "text/plain": [
              "          Estados Fabricantes\n",
              "0    Minas Gerais       Honda\n",
              "1  Rio de Janeiro      Nissan\n",
              "2           Bahia       Volvo"
            ]
          },
          "execution_count": 69,
          "metadata": {},
          "output_type": "execute_result"
        }
      ],
      "source": [
        "# Crie um DataFrame combinando as duas Séries\n",
        "series_df = pd.DataFrame({\n",
        "    'Estados': ['Minas Gerais', 'Rio de Janeiro', 'Bahia'],\n",
        "    'Fabricantes': ['Honda', 'Nissan', 'Volvo']\n",
        "})\n",
        "series_df"
      ]
    },
    {
      "cell_type": "code",
      "execution_count": 70,
      "metadata": {
        "id": "GvlkmBi3XGi1"
      },
      "outputs": [
        {
          "data": {
            "text/html": [
              "<div>\n",
              "<style scoped>\n",
              "    .dataframe tbody tr th:only-of-type {\n",
              "        vertical-align: middle;\n",
              "    }\n",
              "\n",
              "    .dataframe tbody tr th {\n",
              "        vertical-align: top;\n",
              "    }\n",
              "\n",
              "    .dataframe thead th {\n",
              "        text-align: right;\n",
              "    }\n",
              "</style>\n",
              "<table border=\"1\" class=\"dataframe\">\n",
              "  <thead>\n",
              "    <tr style=\"text-align: right;\">\n",
              "      <th></th>\n",
              "      <th>Fabricante</th>\n",
              "      <th>Cor</th>\n",
              "      <th>Quilometragem</th>\n",
              "      <th>Portas</th>\n",
              "      <th>Preco</th>\n",
              "    </tr>\n",
              "  </thead>\n",
              "  <tbody>\n",
              "    <tr>\n",
              "      <th>0</th>\n",
              "      <td>Toyota</td>\n",
              "      <td>Branco</td>\n",
              "      <td>150043</td>\n",
              "      <td>4</td>\n",
              "      <td>R$ 24,000.00</td>\n",
              "    </tr>\n",
              "    <tr>\n",
              "      <th>1</th>\n",
              "      <td>Honda</td>\n",
              "      <td>Vermelho</td>\n",
              "      <td>87899</td>\n",
              "      <td>4</td>\n",
              "      <td>R$ 25,000.00</td>\n",
              "    </tr>\n",
              "    <tr>\n",
              "      <th>2</th>\n",
              "      <td>Toyota</td>\n",
              "      <td>Azul</td>\n",
              "      <td>32549</td>\n",
              "      <td>3</td>\n",
              "      <td>R$ 27,000.00</td>\n",
              "    </tr>\n",
              "    <tr>\n",
              "      <th>3</th>\n",
              "      <td>BMW</td>\n",
              "      <td>Preto</td>\n",
              "      <td>11179</td>\n",
              "      <td>5</td>\n",
              "      <td>R$ 122,000.00</td>\n",
              "    </tr>\n",
              "    <tr>\n",
              "      <th>4</th>\n",
              "      <td>Nissan</td>\n",
              "      <td>Branco</td>\n",
              "      <td>213095</td>\n",
              "      <td>4</td>\n",
              "      <td>R$ 13,500.00</td>\n",
              "    </tr>\n",
              "    <tr>\n",
              "      <th>5</th>\n",
              "      <td>Toyota</td>\n",
              "      <td>Verde</td>\n",
              "      <td>99213</td>\n",
              "      <td>4</td>\n",
              "      <td>R$ 14,500.00</td>\n",
              "    </tr>\n",
              "    <tr>\n",
              "      <th>6</th>\n",
              "      <td>Honda</td>\n",
              "      <td>Azul</td>\n",
              "      <td>45698</td>\n",
              "      <td>4</td>\n",
              "      <td>R$ 17,500.00</td>\n",
              "    </tr>\n",
              "    <tr>\n",
              "      <th>7</th>\n",
              "      <td>Honda</td>\n",
              "      <td>Azul</td>\n",
              "      <td>54738</td>\n",
              "      <td>4</td>\n",
              "      <td>R$ 27,000.00</td>\n",
              "    </tr>\n",
              "    <tr>\n",
              "      <th>8</th>\n",
              "      <td>Toyota</td>\n",
              "      <td>Branco</td>\n",
              "      <td>60000</td>\n",
              "      <td>4</td>\n",
              "      <td>R$ 26,250.00</td>\n",
              "    </tr>\n",
              "    <tr>\n",
              "      <th>9</th>\n",
              "      <td>Nissan</td>\n",
              "      <td>Branco</td>\n",
              "      <td>31600</td>\n",
              "      <td>4</td>\n",
              "      <td>R$ 19,700.00</td>\n",
              "    </tr>\n",
              "  </tbody>\n",
              "</table>\n",
              "</div>"
            ],
            "text/plain": [
              "  Fabricante       Cor  Quilometragem  Portas          Preco\n",
              "0     Toyota    Branco         150043       4   R$ 24,000.00\n",
              "1      Honda  Vermelho          87899       4   R$ 25,000.00\n",
              "2     Toyota      Azul          32549       3   R$ 27,000.00\n",
              "3        BMW     Preto          11179       5  R$ 122,000.00\n",
              "4     Nissan    Branco         213095       4   R$ 13,500.00\n",
              "5     Toyota     Verde          99213       4   R$ 14,500.00\n",
              "6      Honda      Azul          45698       4   R$ 17,500.00\n",
              "7      Honda      Azul          54738       4   R$ 27,000.00\n",
              "8     Toyota    Branco          60000       4   R$ 26,250.00\n",
              "9     Nissan    Branco          31600       4   R$ 19,700.00"
            ]
          },
          "execution_count": 70,
          "metadata": {},
          "output_type": "execute_result"
        }
      ],
      "source": [
        "# Importe o csv \"venda-de-carros.csv\" em visualize o DataFrame\n",
        "venda = pd.read_csv('/home/youx/teste_git/youxlab-treino-git/python-tayla/aulas-dados/datasets/venda-de-carros.csv')\n",
        "venda"
      ]
    },
    {
      "cell_type": "code",
      "execution_count": 71,
      "metadata": {
        "id": "rI5eHevAXTUB"
      },
      "outputs": [
        {
          "name": "stdout",
          "output_type": "stream",
          "text": [
            "<class 'pandas.core.frame.DataFrame'>\n",
            "RangeIndex: 10 entries, 0 to 9\n",
            "Data columns (total 5 columns):\n",
            " #   Column         Non-Null Count  Dtype \n",
            "---  ------         --------------  ----- \n",
            " 0   Fabricante     10 non-null     object\n",
            " 1   Cor            10 non-null     object\n",
            " 2   Quilometragem  10 non-null     int64 \n",
            " 3   Portas         10 non-null     int64 \n",
            " 4   Preco          10 non-null     object\n",
            "dtypes: int64(2), object(3)\n",
            "memory usage: 528.0+ bytes\n"
          ]
        }
      ],
      "source": [
        "# Verifique os diferentes tipos de dados do DataFrame\n",
        "venda.info()"
      ]
    },
    {
      "cell_type": "code",
      "execution_count": 72,
      "metadata": {
        "id": "OE_yasEoXb17"
      },
      "outputs": [
        {
          "data": {
            "text/html": [
              "<div>\n",
              "<style scoped>\n",
              "    .dataframe tbody tr th:only-of-type {\n",
              "        vertical-align: middle;\n",
              "    }\n",
              "\n",
              "    .dataframe tbody tr th {\n",
              "        vertical-align: top;\n",
              "    }\n",
              "\n",
              "    .dataframe thead th {\n",
              "        text-align: right;\n",
              "    }\n",
              "</style>\n",
              "<table border=\"1\" class=\"dataframe\">\n",
              "  <thead>\n",
              "    <tr style=\"text-align: right;\">\n",
              "      <th></th>\n",
              "      <th>Quilometragem</th>\n",
              "      <th>Portas</th>\n",
              "    </tr>\n",
              "  </thead>\n",
              "  <tbody>\n",
              "    <tr>\n",
              "      <th>count</th>\n",
              "      <td>10.000000</td>\n",
              "      <td>10.000000</td>\n",
              "    </tr>\n",
              "    <tr>\n",
              "      <th>mean</th>\n",
              "      <td>78601.400000</td>\n",
              "      <td>4.000000</td>\n",
              "    </tr>\n",
              "    <tr>\n",
              "      <th>std</th>\n",
              "      <td>61983.471735</td>\n",
              "      <td>0.471405</td>\n",
              "    </tr>\n",
              "    <tr>\n",
              "      <th>min</th>\n",
              "      <td>11179.000000</td>\n",
              "      <td>3.000000</td>\n",
              "    </tr>\n",
              "    <tr>\n",
              "      <th>25%</th>\n",
              "      <td>35836.250000</td>\n",
              "      <td>4.000000</td>\n",
              "    </tr>\n",
              "    <tr>\n",
              "      <th>50%</th>\n",
              "      <td>57369.000000</td>\n",
              "      <td>4.000000</td>\n",
              "    </tr>\n",
              "    <tr>\n",
              "      <th>75%</th>\n",
              "      <td>96384.500000</td>\n",
              "      <td>4.000000</td>\n",
              "    </tr>\n",
              "    <tr>\n",
              "      <th>max</th>\n",
              "      <td>213095.000000</td>\n",
              "      <td>5.000000</td>\n",
              "    </tr>\n",
              "  </tbody>\n",
              "</table>\n",
              "</div>"
            ],
            "text/plain": [
              "       Quilometragem     Portas\n",
              "count      10.000000  10.000000\n",
              "mean    78601.400000   4.000000\n",
              "std     61983.471735   0.471405\n",
              "min     11179.000000   3.000000\n",
              "25%     35836.250000   4.000000\n",
              "50%     57369.000000   4.000000\n",
              "75%     96384.500000   4.000000\n",
              "max    213095.000000   5.000000"
            ]
          },
          "execution_count": 72,
          "metadata": {},
          "output_type": "execute_result"
        }
      ],
      "source": [
        "# Verifique as informações estatísticas do DataFrame usando .describe()\n",
        "venda.describe()"
      ]
    },
    {
      "cell_type": "code",
      "execution_count": 73,
      "metadata": {
        "id": "L0aaQ8IFXqWL"
      },
      "outputs": [
        {
          "name": "stdout",
          "output_type": "stream",
          "text": [
            "<class 'pandas.core.frame.DataFrame'>\n",
            "RangeIndex: 10 entries, 0 to 9\n",
            "Data columns (total 5 columns):\n",
            " #   Column         Non-Null Count  Dtype \n",
            "---  ------         --------------  ----- \n",
            " 0   Fabricante     10 non-null     object\n",
            " 1   Cor            10 non-null     object\n",
            " 2   Quilometragem  10 non-null     int64 \n",
            " 3   Portas         10 non-null     int64 \n",
            " 4   Preco          10 non-null     object\n",
            "dtypes: int64(2), object(3)\n",
            "memory usage: 528.0+ bytes\n"
          ]
        }
      ],
      "source": [
        "# Liste mais informações sobre o DataFrame usando a função info()\n",
        "venda.info()"
      ]
    },
    {
      "cell_type": "code",
      "execution_count": 74,
      "metadata": {
        "id": "khmCWEnFYHyN"
      },
      "outputs": [
        {
          "data": {
            "text/plain": [
              "['Fabricante', 'Cor', 'Quilometragem', 'Portas', 'Preco']"
            ]
          },
          "execution_count": 74,
          "metadata": {},
          "output_type": "execute_result"
        }
      ],
      "source": [
        "# Liste o nome de todas as colunas do DataFrame\n",
        "lista_colunas = list(venda.columns)\n",
        "lista_colunas"
      ]
    },
    {
      "cell_type": "code",
      "execution_count": 75,
      "metadata": {
        "id": "JxAGoawHYM3w"
      },
      "outputs": [
        {
          "data": {
            "text/html": [
              "<div>\n",
              "<style scoped>\n",
              "    .dataframe tbody tr th:only-of-type {\n",
              "        vertical-align: middle;\n",
              "    }\n",
              "\n",
              "    .dataframe tbody tr th {\n",
              "        vertical-align: top;\n",
              "    }\n",
              "\n",
              "    .dataframe thead th {\n",
              "        text-align: right;\n",
              "    }\n",
              "</style>\n",
              "<table border=\"1\" class=\"dataframe\">\n",
              "  <thead>\n",
              "    <tr style=\"text-align: right;\">\n",
              "      <th></th>\n",
              "      <th>Fabricante</th>\n",
              "      <th>Cor</th>\n",
              "      <th>Quilometragem</th>\n",
              "      <th>Portas</th>\n",
              "      <th>Preco</th>\n",
              "    </tr>\n",
              "  </thead>\n",
              "  <tbody>\n",
              "    <tr>\n",
              "      <th>0</th>\n",
              "      <td>Toyota</td>\n",
              "      <td>Branco</td>\n",
              "      <td>150043</td>\n",
              "      <td>4</td>\n",
              "      <td>R$ 24,000.00</td>\n",
              "    </tr>\n",
              "    <tr>\n",
              "      <th>1</th>\n",
              "      <td>Honda</td>\n",
              "      <td>Vermelho</td>\n",
              "      <td>87899</td>\n",
              "      <td>4</td>\n",
              "      <td>R$ 25,000.00</td>\n",
              "    </tr>\n",
              "    <tr>\n",
              "      <th>2</th>\n",
              "      <td>Toyota</td>\n",
              "      <td>Azul</td>\n",
              "      <td>32549</td>\n",
              "      <td>3</td>\n",
              "      <td>R$ 27,000.00</td>\n",
              "    </tr>\n",
              "    <tr>\n",
              "      <th>3</th>\n",
              "      <td>BMW</td>\n",
              "      <td>Preto</td>\n",
              "      <td>11179</td>\n",
              "      <td>5</td>\n",
              "      <td>R$ 122,000.00</td>\n",
              "    </tr>\n",
              "    <tr>\n",
              "      <th>4</th>\n",
              "      <td>Nissan</td>\n",
              "      <td>Branco</td>\n",
              "      <td>213095</td>\n",
              "      <td>4</td>\n",
              "      <td>R$ 13,500.00</td>\n",
              "    </tr>\n",
              "  </tbody>\n",
              "</table>\n",
              "</div>"
            ],
            "text/plain": [
              "  Fabricante       Cor  Quilometragem  Portas          Preco\n",
              "0     Toyota    Branco         150043       4   R$ 24,000.00\n",
              "1      Honda  Vermelho          87899       4   R$ 25,000.00\n",
              "2     Toyota      Azul          32549       3   R$ 27,000.00\n",
              "3        BMW     Preto          11179       5  R$ 122,000.00\n",
              "4     Nissan    Branco         213095       4   R$ 13,500.00"
            ]
          },
          "execution_count": 75,
          "metadata": {},
          "output_type": "execute_result"
        }
      ],
      "source": [
        "# Exiba apenas as 5 primeiras linhas do DataFrame\n",
        "venda.head()"
      ]
    },
    {
      "cell_type": "code",
      "execution_count": 76,
      "metadata": {
        "id": "yBfoLbgJYUr_"
      },
      "outputs": [
        {
          "data": {
            "text/html": [
              "<div>\n",
              "<style scoped>\n",
              "    .dataframe tbody tr th:only-of-type {\n",
              "        vertical-align: middle;\n",
              "    }\n",
              "\n",
              "    .dataframe tbody tr th {\n",
              "        vertical-align: top;\n",
              "    }\n",
              "\n",
              "    .dataframe thead th {\n",
              "        text-align: right;\n",
              "    }\n",
              "</style>\n",
              "<table border=\"1\" class=\"dataframe\">\n",
              "  <thead>\n",
              "    <tr style=\"text-align: right;\">\n",
              "      <th></th>\n",
              "      <th>Fabricante</th>\n",
              "      <th>Cor</th>\n",
              "      <th>Quilometragem</th>\n",
              "      <th>Portas</th>\n",
              "      <th>Preco</th>\n",
              "    </tr>\n",
              "  </thead>\n",
              "  <tbody>\n",
              "    <tr>\n",
              "      <th>5</th>\n",
              "      <td>Toyota</td>\n",
              "      <td>Verde</td>\n",
              "      <td>99213</td>\n",
              "      <td>4</td>\n",
              "      <td>R$ 14,500.00</td>\n",
              "    </tr>\n",
              "    <tr>\n",
              "      <th>6</th>\n",
              "      <td>Honda</td>\n",
              "      <td>Azul</td>\n",
              "      <td>45698</td>\n",
              "      <td>4</td>\n",
              "      <td>R$ 17,500.00</td>\n",
              "    </tr>\n",
              "    <tr>\n",
              "      <th>7</th>\n",
              "      <td>Honda</td>\n",
              "      <td>Azul</td>\n",
              "      <td>54738</td>\n",
              "      <td>4</td>\n",
              "      <td>R$ 27,000.00</td>\n",
              "    </tr>\n",
              "    <tr>\n",
              "      <th>8</th>\n",
              "      <td>Toyota</td>\n",
              "      <td>Branco</td>\n",
              "      <td>60000</td>\n",
              "      <td>4</td>\n",
              "      <td>R$ 26,250.00</td>\n",
              "    </tr>\n",
              "    <tr>\n",
              "      <th>9</th>\n",
              "      <td>Nissan</td>\n",
              "      <td>Branco</td>\n",
              "      <td>31600</td>\n",
              "      <td>4</td>\n",
              "      <td>R$ 19,700.00</td>\n",
              "    </tr>\n",
              "  </tbody>\n",
              "</table>\n",
              "</div>"
            ],
            "text/plain": [
              "  Fabricante     Cor  Quilometragem  Portas         Preco\n",
              "5     Toyota   Verde          99213       4  R$ 14,500.00\n",
              "6      Honda    Azul          45698       4  R$ 17,500.00\n",
              "7      Honda    Azul          54738       4  R$ 27,000.00\n",
              "8     Toyota  Branco          60000       4  R$ 26,250.00\n",
              "9     Nissan  Branco          31600       4  R$ 19,700.00"
            ]
          },
          "execution_count": 76,
          "metadata": {},
          "output_type": "execute_result"
        }
      ],
      "source": [
        "# Exiba as 5 últimas linhas do DataFrame\n",
        "venda.iloc[[5,6,7,8,9]]"
      ]
    },
    {
      "cell_type": "code",
      "execution_count": 77,
      "metadata": {
        "id": "dUS_98yBYXo8"
      },
      "outputs": [
        {
          "data": {
            "text/plain": [
              "Fabricante                 BMW\n",
              "Cor                      Preto\n",
              "Quilometragem            11179\n",
              "Portas                       5\n",
              "Preco            R$ 122,000.00\n",
              "Name: 3, dtype: object"
            ]
          },
          "execution_count": 77,
          "metadata": {},
          "output_type": "execute_result"
        }
      ],
      "source": [
        "# Utilize .loc para selecionar os dados da linha de índice 3 do DataFrame\n",
        "venda.loc[3]"
      ]
    },
    {
      "cell_type": "code",
      "execution_count": 78,
      "metadata": {
        "id": "rSTtiZZMYiKx"
      },
      "outputs": [
        {
          "data": {
            "text/plain": [
              "Fabricante             Toyota\n",
              "Cor                     Verde\n",
              "Quilometragem           99213\n",
              "Portas                      4\n",
              "Preco            R$ 14,500.00\n",
              "Name: 5, dtype: object"
            ]
          },
          "execution_count": 78,
          "metadata": {},
          "output_type": "execute_result"
        }
      ],
      "source": [
        "# Utilize .iloc para exibir os dados que estão na 5° posição do DataFrame\n",
        "venda.iloc[5]"
      ]
    },
    {
      "cell_type": "code",
      "execution_count": 79,
      "metadata": {
        "id": "GqvHWQgKYs8T"
      },
      "outputs": [
        {
          "data": {
            "text/html": [
              "<div>\n",
              "<style scoped>\n",
              "    .dataframe tbody tr th:only-of-type {\n",
              "        vertical-align: middle;\n",
              "    }\n",
              "\n",
              "    .dataframe tbody tr th {\n",
              "        vertical-align: top;\n",
              "    }\n",
              "\n",
              "    .dataframe thead th {\n",
              "        text-align: right;\n",
              "    }\n",
              "</style>\n",
              "<table border=\"1\" class=\"dataframe\">\n",
              "  <thead>\n",
              "    <tr style=\"text-align: right;\">\n",
              "      <th></th>\n",
              "      <th>Quilometragem</th>\n",
              "    </tr>\n",
              "  </thead>\n",
              "  <tbody>\n",
              "    <tr>\n",
              "      <th>0</th>\n",
              "      <td>150043</td>\n",
              "    </tr>\n",
              "    <tr>\n",
              "      <th>1</th>\n",
              "      <td>87899</td>\n",
              "    </tr>\n",
              "    <tr>\n",
              "      <th>2</th>\n",
              "      <td>32549</td>\n",
              "    </tr>\n",
              "    <tr>\n",
              "      <th>3</th>\n",
              "      <td>11179</td>\n",
              "    </tr>\n",
              "    <tr>\n",
              "      <th>4</th>\n",
              "      <td>213095</td>\n",
              "    </tr>\n",
              "    <tr>\n",
              "      <th>5</th>\n",
              "      <td>99213</td>\n",
              "    </tr>\n",
              "    <tr>\n",
              "      <th>6</th>\n",
              "      <td>45698</td>\n",
              "    </tr>\n",
              "    <tr>\n",
              "      <th>7</th>\n",
              "      <td>54738</td>\n",
              "    </tr>\n",
              "    <tr>\n",
              "      <th>8</th>\n",
              "      <td>60000</td>\n",
              "    </tr>\n",
              "    <tr>\n",
              "      <th>9</th>\n",
              "      <td>31600</td>\n",
              "    </tr>\n",
              "  </tbody>\n",
              "</table>\n",
              "</div>"
            ],
            "text/plain": [
              "   Quilometragem\n",
              "0         150043\n",
              "1          87899\n",
              "2          32549\n",
              "3          11179\n",
              "4         213095\n",
              "5          99213\n",
              "6          45698\n",
              "7          54738\n",
              "8          60000\n",
              "9          31600"
            ]
          },
          "execution_count": 79,
          "metadata": {},
          "output_type": "execute_result"
        }
      ],
      "source": [
        "# Selecione a coluna Quilometragem\n",
        "venda[['Quilometragem']]"
      ]
    },
    {
      "cell_type": "code",
      "execution_count": 80,
      "metadata": {
        "id": "ZY07R0fXY5PY"
      },
      "outputs": [
        {
          "name": "stdout",
          "output_type": "stream",
          "text": [
            "78601.4\n"
          ]
        }
      ],
      "source": [
        "# Calcule a média da coluna Quilometragem\n",
        "print(venda['Quilometragem'].mean())"
      ]
    },
    {
      "cell_type": "code",
      "execution_count": 81,
      "metadata": {
        "id": "v2hf7yI0ZB-s"
      },
      "outputs": [
        {
          "data": {
            "text/html": [
              "<div>\n",
              "<style scoped>\n",
              "    .dataframe tbody tr th:only-of-type {\n",
              "        vertical-align: middle;\n",
              "    }\n",
              "\n",
              "    .dataframe tbody tr th {\n",
              "        vertical-align: top;\n",
              "    }\n",
              "\n",
              "    .dataframe thead th {\n",
              "        text-align: right;\n",
              "    }\n",
              "</style>\n",
              "<table border=\"1\" class=\"dataframe\">\n",
              "  <thead>\n",
              "    <tr style=\"text-align: right;\">\n",
              "      <th></th>\n",
              "      <th>Fabricante</th>\n",
              "      <th>Cor</th>\n",
              "      <th>Quilometragem</th>\n",
              "      <th>Portas</th>\n",
              "      <th>Preco</th>\n",
              "    </tr>\n",
              "  </thead>\n",
              "  <tbody>\n",
              "    <tr>\n",
              "      <th>0</th>\n",
              "      <td>Toyota</td>\n",
              "      <td>Branco</td>\n",
              "      <td>150043</td>\n",
              "      <td>4</td>\n",
              "      <td>R$ 24,000.00</td>\n",
              "    </tr>\n",
              "    <tr>\n",
              "      <th>4</th>\n",
              "      <td>Nissan</td>\n",
              "      <td>Branco</td>\n",
              "      <td>213095</td>\n",
              "      <td>4</td>\n",
              "      <td>R$ 13,500.00</td>\n",
              "    </tr>\n",
              "  </tbody>\n",
              "</table>\n",
              "</div>"
            ],
            "text/plain": [
              "  Fabricante     Cor  Quilometragem  Portas         Preco\n",
              "0     Toyota  Branco         150043       4  R$ 24,000.00\n",
              "4     Nissan  Branco         213095       4  R$ 13,500.00"
            ]
          },
          "execution_count": 81,
          "metadata": {},
          "output_type": "execute_result"
        }
      ],
      "source": [
        "# Liste os carros que possuem uma quilometragem maior que 100.000\n",
        "venda[venda['Quilometragem'] >= 100000]"
      ]
    },
    {
      "cell_type": "code",
      "execution_count": 82,
      "metadata": {
        "id": "EACSY4tJZJx-"
      },
      "outputs": [
        {
          "data": {
            "text/html": [
              "<div>\n",
              "<style scoped>\n",
              "    .dataframe tbody tr th:only-of-type {\n",
              "        vertical-align: middle;\n",
              "    }\n",
              "\n",
              "    .dataframe tbody tr th {\n",
              "        vertical-align: top;\n",
              "    }\n",
              "\n",
              "    .dataframe thead tr th {\n",
              "        text-align: left;\n",
              "    }\n",
              "\n",
              "    .dataframe thead tr:last-of-type th {\n",
              "        text-align: right;\n",
              "    }\n",
              "</style>\n",
              "<table border=\"1\" class=\"dataframe\">\n",
              "  <thead>\n",
              "    <tr>\n",
              "      <th></th>\n",
              "      <th colspan=\"8\" halign=\"left\">Quilometragem</th>\n",
              "      <th colspan=\"8\" halign=\"left\">Portas</th>\n",
              "    </tr>\n",
              "    <tr>\n",
              "      <th></th>\n",
              "      <th>count</th>\n",
              "      <th>mean</th>\n",
              "      <th>std</th>\n",
              "      <th>min</th>\n",
              "      <th>25%</th>\n",
              "      <th>50%</th>\n",
              "      <th>75%</th>\n",
              "      <th>max</th>\n",
              "      <th>count</th>\n",
              "      <th>mean</th>\n",
              "      <th>std</th>\n",
              "      <th>min</th>\n",
              "      <th>25%</th>\n",
              "      <th>50%</th>\n",
              "      <th>75%</th>\n",
              "      <th>max</th>\n",
              "    </tr>\n",
              "    <tr>\n",
              "      <th>Fabricante</th>\n",
              "      <th></th>\n",
              "      <th></th>\n",
              "      <th></th>\n",
              "      <th></th>\n",
              "      <th></th>\n",
              "      <th></th>\n",
              "      <th></th>\n",
              "      <th></th>\n",
              "      <th></th>\n",
              "      <th></th>\n",
              "      <th></th>\n",
              "      <th></th>\n",
              "      <th></th>\n",
              "      <th></th>\n",
              "      <th></th>\n",
              "      <th></th>\n",
              "    </tr>\n",
              "  </thead>\n",
              "  <tbody>\n",
              "    <tr>\n",
              "      <th>BMW</th>\n",
              "      <td>1.0</td>\n",
              "      <td>11179.000000</td>\n",
              "      <td>NaN</td>\n",
              "      <td>11179.0</td>\n",
              "      <td>11179.00</td>\n",
              "      <td>11179.0</td>\n",
              "      <td>11179.00</td>\n",
              "      <td>11179.0</td>\n",
              "      <td>1.0</td>\n",
              "      <td>5.00</td>\n",
              "      <td>NaN</td>\n",
              "      <td>5.0</td>\n",
              "      <td>5.00</td>\n",
              "      <td>5.0</td>\n",
              "      <td>5.0</td>\n",
              "      <td>5.0</td>\n",
              "    </tr>\n",
              "    <tr>\n",
              "      <th>Honda</th>\n",
              "      <td>3.0</td>\n",
              "      <td>62778.333333</td>\n",
              "      <td>22219.728179</td>\n",
              "      <td>45698.0</td>\n",
              "      <td>50218.00</td>\n",
              "      <td>54738.0</td>\n",
              "      <td>71318.50</td>\n",
              "      <td>87899.0</td>\n",
              "      <td>3.0</td>\n",
              "      <td>4.00</td>\n",
              "      <td>0.0</td>\n",
              "      <td>4.0</td>\n",
              "      <td>4.00</td>\n",
              "      <td>4.0</td>\n",
              "      <td>4.0</td>\n",
              "      <td>4.0</td>\n",
              "    </tr>\n",
              "    <tr>\n",
              "      <th>Nissan</th>\n",
              "      <td>2.0</td>\n",
              "      <td>122347.500000</td>\n",
              "      <td>128336.345251</td>\n",
              "      <td>31600.0</td>\n",
              "      <td>76973.75</td>\n",
              "      <td>122347.5</td>\n",
              "      <td>167721.25</td>\n",
              "      <td>213095.0</td>\n",
              "      <td>2.0</td>\n",
              "      <td>4.00</td>\n",
              "      <td>0.0</td>\n",
              "      <td>4.0</td>\n",
              "      <td>4.00</td>\n",
              "      <td>4.0</td>\n",
              "      <td>4.0</td>\n",
              "      <td>4.0</td>\n",
              "    </tr>\n",
              "    <tr>\n",
              "      <th>Toyota</th>\n",
              "      <td>4.0</td>\n",
              "      <td>85451.250000</td>\n",
              "      <td>51015.991325</td>\n",
              "      <td>32549.0</td>\n",
              "      <td>53137.25</td>\n",
              "      <td>79606.5</td>\n",
              "      <td>111920.50</td>\n",
              "      <td>150043.0</td>\n",
              "      <td>4.0</td>\n",
              "      <td>3.75</td>\n",
              "      <td>0.5</td>\n",
              "      <td>3.0</td>\n",
              "      <td>3.75</td>\n",
              "      <td>4.0</td>\n",
              "      <td>4.0</td>\n",
              "      <td>4.0</td>\n",
              "    </tr>\n",
              "  </tbody>\n",
              "</table>\n",
              "</div>"
            ],
            "text/plain": [
              "           Quilometragem                                                   \\\n",
              "                   count           mean            std      min       25%   \n",
              "Fabricante                                                                  \n",
              "BMW                  1.0   11179.000000            NaN  11179.0  11179.00   \n",
              "Honda                3.0   62778.333333   22219.728179  45698.0  50218.00   \n",
              "Nissan               2.0  122347.500000  128336.345251  31600.0  76973.75   \n",
              "Toyota               4.0   85451.250000   51015.991325  32549.0  53137.25   \n",
              "\n",
              "                                          Portas                             \\\n",
              "                 50%        75%       max  count  mean  std  min   25%  50%   \n",
              "Fabricante                                                                    \n",
              "BMW          11179.0   11179.00   11179.0    1.0  5.00  NaN  5.0  5.00  5.0   \n",
              "Honda        54738.0   71318.50   87899.0    3.0  4.00  0.0  4.0  4.00  4.0   \n",
              "Nissan      122347.5  167721.25  213095.0    2.0  4.00  0.0  4.0  4.00  4.0   \n",
              "Toyota       79606.5  111920.50  150043.0    4.0  3.75  0.5  3.0  3.75  4.0   \n",
              "\n",
              "                      \n",
              "            75%  max  \n",
              "Fabricante            \n",
              "BMW         5.0  5.0  \n",
              "Honda       4.0  4.0  \n",
              "Nissan      4.0  4.0  \n",
              "Toyota      4.0  4.0  "
            ]
          },
          "execution_count": 82,
          "metadata": {},
          "output_type": "execute_result"
        }
      ],
      "source": [
        "# Agrupe as colunas pelo fabricante e calcule a média das outras colunas\n",
        "agrupamento = venda.groupby('Fabricante')\n",
        "agrupamento.describe()"
      ]
    }
  ],
  "metadata": {
    "colab": {
      "name": "pandas-exercicios",
      "provenance": []
    },
    "kernelspec": {
      "display_name": "Python 3",
      "name": "python3"
    },
    "language_info": {
      "codemirror_mode": {
        "name": "ipython",
        "version": 3
      },
      "file_extension": ".py",
      "mimetype": "text/x-python",
      "name": "python",
      "nbconvert_exporter": "python",
      "pygments_lexer": "ipython3",
      "version": "3.10.12"
    }
  },
  "nbformat": 4,
  "nbformat_minor": 0
}
