{
 "cells": [
  {
   "cell_type": "markdown",
   "id": "081ef495",
   "metadata": {},
   "source": [
    "# Manipulação Básica de Datasets"
   ]
  },
  {
   "cell_type": "markdown",
   "id": "7ed652bc",
   "metadata": {},
   "source": [
    "## Importando uma base de dados"
   ]
  },
  {
   "cell_type": "markdown",
   "id": "5eef58b7",
   "metadata": {},
   "source": [
    "<p>Método .read_csv() serve para importar uma base de dados.</p>"
   ]
  },
  {
   "cell_type": "code",
   "execution_count": 2,
   "id": "1f16b0a4",
   "metadata": {},
   "outputs": [
    {
     "data": {
      "text/html": [
       "<div>\n",
       "<style scoped>\n",
       "    .dataframe tbody tr th:only-of-type {\n",
       "        vertical-align: middle;\n",
       "    }\n",
       "\n",
       "    .dataframe tbody tr th {\n",
       "        vertical-align: top;\n",
       "    }\n",
       "\n",
       "    .dataframe thead th {\n",
       "        text-align: right;\n",
       "    }\n",
       "</style>\n",
       "<table border=\"1\" class=\"dataframe\">\n",
       "  <thead>\n",
       "    <tr style=\"text-align: right;\">\n",
       "      <th></th>\n",
       "      <th>Fabricante</th>\n",
       "      <th>Cor</th>\n",
       "      <th>Quilometragem</th>\n",
       "      <th>Portas</th>\n",
       "      <th>Preco</th>\n",
       "    </tr>\n",
       "  </thead>\n",
       "  <tbody>\n",
       "    <tr>\n",
       "      <th>0</th>\n",
       "      <td>Toyota</td>\n",
       "      <td>Branco</td>\n",
       "      <td>150043</td>\n",
       "      <td>4</td>\n",
       "      <td>R$ 24,000.00</td>\n",
       "    </tr>\n",
       "    <tr>\n",
       "      <th>1</th>\n",
       "      <td>Honda</td>\n",
       "      <td>Vermelho</td>\n",
       "      <td>87899</td>\n",
       "      <td>4</td>\n",
       "      <td>R$ 25,000.00</td>\n",
       "    </tr>\n",
       "    <tr>\n",
       "      <th>2</th>\n",
       "      <td>Toyota</td>\n",
       "      <td>Azul</td>\n",
       "      <td>32549</td>\n",
       "      <td>3</td>\n",
       "      <td>R$ 27,000.00</td>\n",
       "    </tr>\n",
       "    <tr>\n",
       "      <th>3</th>\n",
       "      <td>BMW</td>\n",
       "      <td>Preto</td>\n",
       "      <td>11179</td>\n",
       "      <td>5</td>\n",
       "      <td>R$ 122,000.00</td>\n",
       "    </tr>\n",
       "    <tr>\n",
       "      <th>4</th>\n",
       "      <td>Nissan</td>\n",
       "      <td>Branco</td>\n",
       "      <td>213095</td>\n",
       "      <td>4</td>\n",
       "      <td>R$ 13,500.00</td>\n",
       "    </tr>\n",
       "    <tr>\n",
       "      <th>5</th>\n",
       "      <td>Toyota</td>\n",
       "      <td>Verde</td>\n",
       "      <td>99213</td>\n",
       "      <td>4</td>\n",
       "      <td>R$ 14,500.00</td>\n",
       "    </tr>\n",
       "    <tr>\n",
       "      <th>6</th>\n",
       "      <td>Honda</td>\n",
       "      <td>Azul</td>\n",
       "      <td>45698</td>\n",
       "      <td>4</td>\n",
       "      <td>R$ 17,500.00</td>\n",
       "    </tr>\n",
       "    <tr>\n",
       "      <th>7</th>\n",
       "      <td>Honda</td>\n",
       "      <td>Azul</td>\n",
       "      <td>54738</td>\n",
       "      <td>4</td>\n",
       "      <td>R$ 27,000.00</td>\n",
       "    </tr>\n",
       "    <tr>\n",
       "      <th>8</th>\n",
       "      <td>Toyota</td>\n",
       "      <td>Branco</td>\n",
       "      <td>60000</td>\n",
       "      <td>4</td>\n",
       "      <td>R$ 26,250.00</td>\n",
       "    </tr>\n",
       "    <tr>\n",
       "      <th>9</th>\n",
       "      <td>Nissan</td>\n",
       "      <td>Branco</td>\n",
       "      <td>31600</td>\n",
       "      <td>4</td>\n",
       "      <td>R$ 19,700.00</td>\n",
       "    </tr>\n",
       "  </tbody>\n",
       "</table>\n",
       "</div>"
      ],
      "text/plain": [
       "  Fabricante       Cor  Quilometragem  Portas          Preco\n",
       "0     Toyota    Branco         150043       4   R$ 24,000.00\n",
       "1      Honda  Vermelho          87899       4   R$ 25,000.00\n",
       "2     Toyota      Azul          32549       3   R$ 27,000.00\n",
       "3        BMW     Preto          11179       5  R$ 122,000.00\n",
       "4     Nissan    Branco         213095       4   R$ 13,500.00\n",
       "5     Toyota     Verde          99213       4   R$ 14,500.00\n",
       "6      Honda      Azul          45698       4   R$ 17,500.00\n",
       "7      Honda      Azul          54738       4   R$ 27,000.00\n",
       "8     Toyota    Branco          60000       4   R$ 26,250.00\n",
       "9     Nissan    Branco          31600       4   R$ 19,700.00"
      ]
     },
     "execution_count": 2,
     "metadata": {},
     "output_type": "execute_result"
    }
   ],
   "source": [
    "import pandas as pd\n",
    "dados = pd.read_csv('/home/youx/teste_git/youxlab-treino-git/python-tayla/aulas-dados/datasets/venda-de-carros.csv')\n",
    "dados"
   ]
  },
  {
   "cell_type": "markdown",
   "id": "142bb5ca",
   "metadata": {},
   "source": [
    "## Exibindo as primeiras linhas do Dataset"
   ]
  },
  {
   "cell_type": "markdown",
   "id": "d6d58d5d",
   "metadata": {},
   "source": [
    "<p>Método .head() exibe as 5 primeiras linhas da base de dados por padrão, ou quantas linhas eu\n",
    "quiser passando o valor dentro do head:</p>"
   ]
  },
  {
   "cell_type": "code",
   "execution_count": 3,
   "id": "681d480c",
   "metadata": {},
   "outputs": [
    {
     "data": {
      "text/html": [
       "<div>\n",
       "<style scoped>\n",
       "    .dataframe tbody tr th:only-of-type {\n",
       "        vertical-align: middle;\n",
       "    }\n",
       "\n",
       "    .dataframe tbody tr th {\n",
       "        vertical-align: top;\n",
       "    }\n",
       "\n",
       "    .dataframe thead th {\n",
       "        text-align: right;\n",
       "    }\n",
       "</style>\n",
       "<table border=\"1\" class=\"dataframe\">\n",
       "  <thead>\n",
       "    <tr style=\"text-align: right;\">\n",
       "      <th></th>\n",
       "      <th>Fabricante</th>\n",
       "      <th>Cor</th>\n",
       "      <th>Quilometragem</th>\n",
       "      <th>Portas</th>\n",
       "      <th>Preco</th>\n",
       "    </tr>\n",
       "  </thead>\n",
       "  <tbody>\n",
       "    <tr>\n",
       "      <th>0</th>\n",
       "      <td>Toyota</td>\n",
       "      <td>Branco</td>\n",
       "      <td>150043</td>\n",
       "      <td>4</td>\n",
       "      <td>R$ 24,000.00</td>\n",
       "    </tr>\n",
       "    <tr>\n",
       "      <th>1</th>\n",
       "      <td>Honda</td>\n",
       "      <td>Vermelho</td>\n",
       "      <td>87899</td>\n",
       "      <td>4</td>\n",
       "      <td>R$ 25,000.00</td>\n",
       "    </tr>\n",
       "    <tr>\n",
       "      <th>2</th>\n",
       "      <td>Toyota</td>\n",
       "      <td>Azul</td>\n",
       "      <td>32549</td>\n",
       "      <td>3</td>\n",
       "      <td>R$ 27,000.00</td>\n",
       "    </tr>\n",
       "    <tr>\n",
       "      <th>3</th>\n",
       "      <td>BMW</td>\n",
       "      <td>Preto</td>\n",
       "      <td>11179</td>\n",
       "      <td>5</td>\n",
       "      <td>R$ 122,000.00</td>\n",
       "    </tr>\n",
       "    <tr>\n",
       "      <th>4</th>\n",
       "      <td>Nissan</td>\n",
       "      <td>Branco</td>\n",
       "      <td>213095</td>\n",
       "      <td>4</td>\n",
       "      <td>R$ 13,500.00</td>\n",
       "    </tr>\n",
       "    <tr>\n",
       "      <th>5</th>\n",
       "      <td>Toyota</td>\n",
       "      <td>Verde</td>\n",
       "      <td>99213</td>\n",
       "      <td>4</td>\n",
       "      <td>R$ 14,500.00</td>\n",
       "    </tr>\n",
       "    <tr>\n",
       "      <th>6</th>\n",
       "      <td>Honda</td>\n",
       "      <td>Azul</td>\n",
       "      <td>45698</td>\n",
       "      <td>4</td>\n",
       "      <td>R$ 17,500.00</td>\n",
       "    </tr>\n",
       "    <tr>\n",
       "      <th>7</th>\n",
       "      <td>Honda</td>\n",
       "      <td>Azul</td>\n",
       "      <td>54738</td>\n",
       "      <td>4</td>\n",
       "      <td>R$ 27,000.00</td>\n",
       "    </tr>\n",
       "  </tbody>\n",
       "</table>\n",
       "</div>"
      ],
      "text/plain": [
       "  Fabricante       Cor  Quilometragem  Portas          Preco\n",
       "0     Toyota    Branco         150043       4   R$ 24,000.00\n",
       "1      Honda  Vermelho          87899       4   R$ 25,000.00\n",
       "2     Toyota      Azul          32549       3   R$ 27,000.00\n",
       "3        BMW     Preto          11179       5  R$ 122,000.00\n",
       "4     Nissan    Branco         213095       4   R$ 13,500.00\n",
       "5     Toyota     Verde          99213       4   R$ 14,500.00\n",
       "6      Honda      Azul          45698       4   R$ 17,500.00\n",
       "7      Honda      Azul          54738       4   R$ 27,000.00"
      ]
     },
     "execution_count": 3,
     "metadata": {},
     "output_type": "execute_result"
    }
   ],
   "source": [
    "dados.head(8)"
   ]
  },
  {
   "cell_type": "markdown",
   "id": "173527fa",
   "metadata": {},
   "source": [
    "## Informação da base de dados"
   ]
  },
  {
   "cell_type": "markdown",
   "id": "6803a370",
   "metadata": {},
   "source": [
    "<p>Método .info() exibe as informações da base:</p>\n",
    "<p>< class 'pandas.core.frame.DataFrame'> informa que a base é um DataFrame (formato de base de dados no python).</p>\n",
    "<p>RangeIndex: 10 entries, 0 to 9: informa que tem 10 linhas, e o index vai de 0 até 9.</p>\n",
    "<p>Non-Null Count: informa se possui valores nulos em cada coluna.</p>\n",
    "<p>Dtype: informa o tipo de dado de cada coluna.</p>"
   ]
  },
  {
   "cell_type": "code",
   "execution_count": 4,
   "id": "9ade8e22",
   "metadata": {},
   "outputs": [
    {
     "name": "stdout",
     "output_type": "stream",
     "text": [
      "<class 'pandas.core.frame.DataFrame'>\n",
      "RangeIndex: 10 entries, 0 to 9\n",
      "Data columns (total 5 columns):\n",
      " #   Column         Non-Null Count  Dtype \n",
      "---  ------         --------------  ----- \n",
      " 0   Fabricante     10 non-null     object\n",
      " 1   Cor            10 non-null     object\n",
      " 2   Quilometragem  10 non-null     int64 \n",
      " 3   Portas         10 non-null     int64 \n",
      " 4   Preco          10 non-null     object\n",
      "dtypes: int64(2), object(3)\n",
      "memory usage: 528.0+ bytes\n"
     ]
    }
   ],
   "source": [
    "dados.info()"
   ]
  },
  {
   "cell_type": "markdown",
   "id": "a0a57f04",
   "metadata": {},
   "source": [
    "## DataFrame\n",
    "<p>Toda base de dados importada pro python, é um DataFrame (tabela bi-dimensional)</p>\n",
    "<p>Função type() mostra o tipo:</p>"
   ]
  },
  {
   "cell_type": "code",
   "execution_count": 5,
   "id": "c10ca224",
   "metadata": {},
   "outputs": [
    {
     "data": {
      "text/plain": [
       "pandas.core.frame.DataFrame"
      ]
     },
     "execution_count": 5,
     "metadata": {},
     "output_type": "execute_result"
    }
   ],
   "source": [
    "type(dados)"
   ]
  },
  {
   "cell_type": "markdown",
   "id": "b4d508da",
   "metadata": {},
   "source": [
    "<p>O atributo .shape retorna quantas linhas e colunas tem no DataFrame:</p>"
   ]
  },
  {
   "cell_type": "code",
   "execution_count": 6,
   "id": "df363bfd",
   "metadata": {},
   "outputs": [
    {
     "data": {
      "text/plain": [
       "(10, 5)"
      ]
     },
     "execution_count": 6,
     "metadata": {},
     "output_type": "execute_result"
    }
   ],
   "source": [
    "dados.shape"
   ]
  },
  {
   "cell_type": "markdown",
   "id": "3f8f8aec",
   "metadata": {},
   "source": [
    "### Criando um DataFrame:\n",
    "<p>Função .DataFrame() do pandas cria um DataFrame, podemos passar um dicionário pra criar</p>"
   ]
  },
  {
   "cell_type": "code",
   "execution_count": 7,
   "id": "cf4d64de",
   "metadata": {},
   "outputs": [
    {
     "data": {
      "text/html": [
       "<div>\n",
       "<style scoped>\n",
       "    .dataframe tbody tr th:only-of-type {\n",
       "        vertical-align: middle;\n",
       "    }\n",
       "\n",
       "    .dataframe tbody tr th {\n",
       "        vertical-align: top;\n",
       "    }\n",
       "\n",
       "    .dataframe thead th {\n",
       "        text-align: right;\n",
       "    }\n",
       "</style>\n",
       "<table border=\"1\" class=\"dataframe\">\n",
       "  <thead>\n",
       "    <tr style=\"text-align: right;\">\n",
       "      <th></th>\n",
       "      <th>nome</th>\n",
       "      <th>idade</th>\n",
       "      <th>peso</th>\n",
       "      <th>eh jedi</th>\n",
       "    </tr>\n",
       "  </thead>\n",
       "  <tbody>\n",
       "    <tr>\n",
       "      <th>0</th>\n",
       "      <td>Luke Skywalker</td>\n",
       "      <td>16</td>\n",
       "      <td>70</td>\n",
       "      <td>True</td>\n",
       "    </tr>\n",
       "    <tr>\n",
       "      <th>1</th>\n",
       "      <td>Yoda</td>\n",
       "      <td>1000</td>\n",
       "      <td>15</td>\n",
       "      <td>True</td>\n",
       "    </tr>\n",
       "    <tr>\n",
       "      <th>2</th>\n",
       "      <td>Palpatine</td>\n",
       "      <td>70</td>\n",
       "      <td>60</td>\n",
       "      <td>False</td>\n",
       "    </tr>\n",
       "  </tbody>\n",
       "</table>\n",
       "</div>"
      ],
      "text/plain": [
       "             nome  idade  peso  eh jedi\n",
       "0  Luke Skywalker     16    70     True\n",
       "1            Yoda   1000    15     True\n",
       "2       Palpatine     70    60    False"
      ]
     },
     "execution_count": 7,
     "metadata": {},
     "output_type": "execute_result"
    }
   ],
   "source": [
    "personagens_df = pd.DataFrame({\n",
    "    'nome': ['Luke Skywalker', 'Yoda', 'Palpatine'],\n",
    "    'idade': [16, 1000, 70],\n",
    "    'peso' : [70, 15, 60],\n",
    "    'eh jedi': [True, True, False]\n",
    "})\n",
    "\n",
    "personagens_df"
   ]
  },
  {
   "cell_type": "markdown",
   "id": "0d623311",
   "metadata": {},
   "source": [
    "### Renomeando colunas:\n",
    "<p>Atributo .columns retorna uma \"lista\" com nome de todas as colunas, também é ppossível armazenar em uma lista:</p>"
   ]
  },
  {
   "cell_type": "code",
   "execution_count": 8,
   "id": "3b570913",
   "metadata": {},
   "outputs": [
    {
     "data": {
      "text/plain": [
       "Index(['nome', 'idade', 'peso', 'eh jedi'], dtype='object')"
      ]
     },
     "execution_count": 8,
     "metadata": {},
     "output_type": "execute_result"
    }
   ],
   "source": [
    "personagens_df.columns"
   ]
  },
  {
   "cell_type": "code",
   "execution_count": 9,
   "id": "eef1c65e",
   "metadata": {},
   "outputs": [
    {
     "data": {
      "text/plain": [
       "['nome', 'idade', 'peso', 'eh jedi']"
      ]
     },
     "execution_count": 9,
     "metadata": {},
     "output_type": "execute_result"
    }
   ],
   "source": [
    "lista_personagens = list(personagens_df.columns)\n",
    "lista_personagens"
   ]
  },
  {
   "cell_type": "markdown",
   "id": "7b93991c",
   "metadata": {},
   "source": [
    "<p>O metódo .rename() seve pra renomear as colunas passando um diocionário,no exemplo abaixo estamos criando um novo DataFrame com as colunas \n",
    "renomeadas:</p>"
   ]
  },
  {
   "cell_type": "code",
   "execution_count": 10,
   "id": "f0795b74",
   "metadata": {},
   "outputs": [
    {
     "data": {
      "text/html": [
       "<div>\n",
       "<style scoped>\n",
       "    .dataframe tbody tr th:only-of-type {\n",
       "        vertical-align: middle;\n",
       "    }\n",
       "\n",
       "    .dataframe tbody tr th {\n",
       "        vertical-align: top;\n",
       "    }\n",
       "\n",
       "    .dataframe thead th {\n",
       "        text-align: right;\n",
       "    }\n",
       "</style>\n",
       "<table border=\"1\" class=\"dataframe\">\n",
       "  <thead>\n",
       "    <tr style=\"text-align: right;\">\n",
       "      <th></th>\n",
       "      <th>Nome Completo</th>\n",
       "      <th>Idade</th>\n",
       "      <th>peso</th>\n",
       "      <th>eh jedi</th>\n",
       "    </tr>\n",
       "  </thead>\n",
       "  <tbody>\n",
       "    <tr>\n",
       "      <th>0</th>\n",
       "      <td>Luke Skywalker</td>\n",
       "      <td>16</td>\n",
       "      <td>70</td>\n",
       "      <td>True</td>\n",
       "    </tr>\n",
       "    <tr>\n",
       "      <th>1</th>\n",
       "      <td>Yoda</td>\n",
       "      <td>1000</td>\n",
       "      <td>15</td>\n",
       "      <td>True</td>\n",
       "    </tr>\n",
       "    <tr>\n",
       "      <th>2</th>\n",
       "      <td>Palpatine</td>\n",
       "      <td>70</td>\n",
       "      <td>60</td>\n",
       "      <td>False</td>\n",
       "    </tr>\n",
       "  </tbody>\n",
       "</table>\n",
       "</div>"
      ],
      "text/plain": [
       "    Nome Completo  Idade  peso  eh jedi\n",
       "0  Luke Skywalker     16    70     True\n",
       "1            Yoda   1000    15     True\n",
       "2       Palpatine     70    60    False"
      ]
     },
     "execution_count": 10,
     "metadata": {},
     "output_type": "execute_result"
    }
   ],
   "source": [
    "personagens_df_renomeado = personagens_df.rename(columns={\n",
    "    'nome': 'Nome Completo', # renomeia a coluna 'nome' pra 'Nome Completo'\n",
    "    'idade': 'Idade'\n",
    "})\n",
    "personagens_df_renomeado"
   ]
  },
  {
   "cell_type": "markdown",
   "id": "54fbe4cd",
   "metadata": {
    "vscode": {
     "languageId": "html"
    }
   },
   "source": [
    "<p>É possível também renomear o DataFrame original, nesse caso personagens_df, e continuar utilizando-o, basta colocar inplace = True, veja o exemplo:</p>"
   ]
  },
  {
   "cell_type": "code",
   "execution_count": 11,
   "id": "b03cff22",
   "metadata": {},
   "outputs": [
    {
     "data": {
      "text/html": [
       "<div>\n",
       "<style scoped>\n",
       "    .dataframe tbody tr th:only-of-type {\n",
       "        vertical-align: middle;\n",
       "    }\n",
       "\n",
       "    .dataframe tbody tr th {\n",
       "        vertical-align: top;\n",
       "    }\n",
       "\n",
       "    .dataframe thead th {\n",
       "        text-align: right;\n",
       "    }\n",
       "</style>\n",
       "<table border=\"1\" class=\"dataframe\">\n",
       "  <thead>\n",
       "    <tr style=\"text-align: right;\">\n",
       "      <th></th>\n",
       "      <th>Nome Completo</th>\n",
       "      <th>Idade</th>\n",
       "      <th>peso</th>\n",
       "      <th>eh jedi</th>\n",
       "    </tr>\n",
       "  </thead>\n",
       "  <tbody>\n",
       "    <tr>\n",
       "      <th>0</th>\n",
       "      <td>Luke Skywalker</td>\n",
       "      <td>16</td>\n",
       "      <td>70</td>\n",
       "      <td>True</td>\n",
       "    </tr>\n",
       "    <tr>\n",
       "      <th>1</th>\n",
       "      <td>Yoda</td>\n",
       "      <td>1000</td>\n",
       "      <td>15</td>\n",
       "      <td>True</td>\n",
       "    </tr>\n",
       "    <tr>\n",
       "      <th>2</th>\n",
       "      <td>Palpatine</td>\n",
       "      <td>70</td>\n",
       "      <td>60</td>\n",
       "      <td>False</td>\n",
       "    </tr>\n",
       "  </tbody>\n",
       "</table>\n",
       "</div>"
      ],
      "text/plain": [
       "    Nome Completo  Idade  peso  eh jedi\n",
       "0  Luke Skywalker     16    70     True\n",
       "1            Yoda   1000    15     True\n",
       "2       Palpatine     70    60    False"
      ]
     },
     "execution_count": 11,
     "metadata": {},
     "output_type": "execute_result"
    }
   ],
   "source": [
    "personagens_df.rename(columns={\n",
    "    'nome': 'Nome Completo',\n",
    "    'idade': 'Idade'},\n",
    "    inplace=True)\n",
    "\n",
    "personagens_df"
   ]
  },
  {
   "cell_type": "markdown",
   "id": "22e2029d",
   "metadata": {},
   "source": [
    "<p>Outra forma de renomear é utilizando .columns e passando uma lista com os novos nomes:</p>"
   ]
  },
  {
   "cell_type": "code",
   "execution_count": 12,
   "id": "bb5624aa",
   "metadata": {},
   "outputs": [
    {
     "data": {
      "text/html": [
       "<div>\n",
       "<style scoped>\n",
       "    .dataframe tbody tr th:only-of-type {\n",
       "        vertical-align: middle;\n",
       "    }\n",
       "\n",
       "    .dataframe tbody tr th {\n",
       "        vertical-align: top;\n",
       "    }\n",
       "\n",
       "    .dataframe thead th {\n",
       "        text-align: right;\n",
       "    }\n",
       "</style>\n",
       "<table border=\"1\" class=\"dataframe\">\n",
       "  <thead>\n",
       "    <tr style=\"text-align: right;\">\n",
       "      <th></th>\n",
       "      <th>NOME</th>\n",
       "      <th>IDADE</th>\n",
       "      <th>PESO</th>\n",
       "      <th>EH JEDI</th>\n",
       "    </tr>\n",
       "  </thead>\n",
       "  <tbody>\n",
       "    <tr>\n",
       "      <th>0</th>\n",
       "      <td>Luke Skywalker</td>\n",
       "      <td>16</td>\n",
       "      <td>70</td>\n",
       "      <td>True</td>\n",
       "    </tr>\n",
       "    <tr>\n",
       "      <th>1</th>\n",
       "      <td>Yoda</td>\n",
       "      <td>1000</td>\n",
       "      <td>15</td>\n",
       "      <td>True</td>\n",
       "    </tr>\n",
       "    <tr>\n",
       "      <th>2</th>\n",
       "      <td>Palpatine</td>\n",
       "      <td>70</td>\n",
       "      <td>60</td>\n",
       "      <td>False</td>\n",
       "    </tr>\n",
       "  </tbody>\n",
       "</table>\n",
       "</div>"
      ],
      "text/plain": [
       "             NOME  IDADE  PESO  EH JEDI\n",
       "0  Luke Skywalker     16    70     True\n",
       "1            Yoda   1000    15     True\n",
       "2       Palpatine     70    60    False"
      ]
     },
     "execution_count": 12,
     "metadata": {},
     "output_type": "execute_result"
    }
   ],
   "source": [
    "personagens_df.columns = ['NOME', 'IDADE', 'PESO', 'EH JEDI']\n",
    "personagens_df"
   ]
  },
  {
   "cell_type": "markdown",
   "id": "0553c5e3",
   "metadata": {},
   "source": [
    "## Series\n",
    "<p>Array uni-dimensional com os dados e rótulos de um eixo. Exemplo: uma coluna da base de dados (vamos voltar pra base que chama dados):</p>"
   ]
  },
  {
   "cell_type": "code",
   "execution_count": 13,
   "id": "b4628a05",
   "metadata": {},
   "outputs": [
    {
     "name": "stdout",
     "output_type": "stream",
     "text": [
      "0    Toyota\n",
      "1     Honda\n",
      "2    Toyota\n",
      "3       BMW\n",
      "4    Nissan\n",
      "5    Toyota\n",
      "6     Honda\n",
      "7     Honda\n",
      "8    Toyota\n",
      "9    Nissan\n",
      "Name: Fabricante, dtype: object\n"
     ]
    },
    {
     "data": {
      "text/plain": [
       "pandas.core.series.Series"
      ]
     },
     "execution_count": 13,
     "metadata": {},
     "output_type": "execute_result"
    }
   ],
   "source": [
    "print(dados['Fabricante'])\n",
    "type(dados['Fabricante'])"
   ]
  },
  {
   "cell_type": "markdown",
   "id": "253be3d3",
   "metadata": {},
   "source": [
    "### Criando uma Series:\n",
    "<p>O método .Series() cria uma series, basta passar uma lista, ex:</p>"
   ]
  },
  {
   "cell_type": "code",
   "execution_count": 14,
   "id": "f70e0133",
   "metadata": {},
   "outputs": [
    {
     "data": {
      "text/plain": [
       "0    5.5\n",
       "1    6.0\n",
       "2    9.5\n",
       "dtype: float64"
      ]
     },
     "execution_count": 14,
     "metadata": {},
     "output_type": "execute_result"
    }
   ],
   "source": [
    "series1 = pd.Series([5.5, 6.0, 9.5])\n",
    "series1"
   ]
  },
  {
   "cell_type": "markdown",
   "id": "6559dc26",
   "metadata": {},
   "source": [
    "<p>Também é possível modificar o index e o nome:</p>"
   ]
  },
  {
   "cell_type": "code",
   "execution_count": 15,
   "id": "1d24f099",
   "metadata": {},
   "outputs": [
    {
     "data": {
      "text/plain": [
       "prova 1    5.5\n",
       "prova 2    6.0\n",
       "projeto    9.5\n",
       "Name: Notas do Luke Skywalker, dtype: float64"
      ]
     },
     "execution_count": 15,
     "metadata": {},
     "output_type": "execute_result"
    }
   ],
   "source": [
    "series1 = pd.Series([5.5, 6.0, 9.5], index=['prova 1', 'prova 2', 'projeto'], name='Notas do Luke Skywalker')\n",
    "series1"
   ]
  },
  {
   "cell_type": "markdown",
   "id": "fe8eff94",
   "metadata": {},
   "source": [
    "<p>Pra criar uma cópia, precisamos utilizar o .copy()</p>"
   ]
  },
  {
   "cell_type": "code",
   "execution_count": 16,
   "id": "89ef93b5",
   "metadata": {},
   "outputs": [
    {
     "data": {
      "text/plain": [
       "<bound method NDFrame.copy of 0      Branco\n",
       "1    Vermelho\n",
       "2        Azul\n",
       "3       Preto\n",
       "4      Branco\n",
       "5       Verde\n",
       "6        Azul\n",
       "7        Azul\n",
       "8      Branco\n",
       "9      Branco\n",
       "Name: Cor, dtype: object>"
      ]
     },
     "execution_count": 16,
     "metadata": {},
     "output_type": "execute_result"
    }
   ],
   "source": [
    "cor_copia = dados['Cor'].copy\n",
    "cor_copia"
   ]
  },
  {
   "cell_type": "markdown",
   "id": "eab66a0f",
   "metadata": {},
   "source": [
    "<p>Pra gerar DataFrame a partir de series, podemos usar o .concat():</p>"
   ]
  },
  {
   "cell_type": "code",
   "execution_count": 17,
   "id": "6afa527e",
   "metadata": {},
   "outputs": [
    {
     "data": {
      "text/html": [
       "<div>\n",
       "<style scoped>\n",
       "    .dataframe tbody tr th:only-of-type {\n",
       "        vertical-align: middle;\n",
       "    }\n",
       "\n",
       "    .dataframe tbody tr th {\n",
       "        vertical-align: top;\n",
       "    }\n",
       "\n",
       "    .dataframe thead th {\n",
       "        text-align: right;\n",
       "    }\n",
       "</style>\n",
       "<table border=\"1\" class=\"dataframe\">\n",
       "  <thead>\n",
       "    <tr style=\"text-align: right;\">\n",
       "      <th></th>\n",
       "      <th>Notas do Luke Skywalker</th>\n",
       "      <th>Notas dos Lakers</th>\n",
       "    </tr>\n",
       "  </thead>\n",
       "  <tbody>\n",
       "    <tr>\n",
       "      <th>prova 1</th>\n",
       "      <td>5.5</td>\n",
       "      <td>8.2</td>\n",
       "    </tr>\n",
       "    <tr>\n",
       "      <th>prova 2</th>\n",
       "      <td>6.0</td>\n",
       "      <td>6.5</td>\n",
       "    </tr>\n",
       "    <tr>\n",
       "      <th>projeto</th>\n",
       "      <td>9.5</td>\n",
       "      <td>12.5</td>\n",
       "    </tr>\n",
       "  </tbody>\n",
       "</table>\n",
       "</div>"
      ],
      "text/plain": [
       "         Notas do Luke Skywalker  Notas dos Lakers\n",
       "prova 1                      5.5               8.2\n",
       "prova 2                      6.0               6.5\n",
       "projeto                      9.5              12.5"
      ]
     },
     "execution_count": 17,
     "metadata": {},
     "output_type": "execute_result"
    }
   ],
   "source": [
    "series1 = pd.Series([5.5, 6.0, 9.5], index=['prova 1', 'prova 2', 'projeto'], name='Notas do Luke Skywalker')\n",
    "series2 = pd.Series([8.2, 6.5, 12.5], index=['prova 1', 'prova 2', 'projeto'], name='Notas dos Lakers')\n",
    "\n",
    "dados_series = pd.concat([series1, series2], axis=1)\n",
    "dados_series"
   ]
  },
  {
   "cell_type": "markdown",
   "id": "aaef1e24",
   "metadata": {},
   "source": [
    "## Criando colunas\n",
    "<p>Podemos criar uma nova coluna a nossa base passando o nome dela, e o que queremos para ela, ex:</p>"
   ]
  },
  {
   "cell_type": "code",
   "execution_count": 18,
   "id": "49dd0044",
   "metadata": {},
   "outputs": [
    {
     "data": {
      "text/html": [
       "<div>\n",
       "<style scoped>\n",
       "    .dataframe tbody tr th:only-of-type {\n",
       "        vertical-align: middle;\n",
       "    }\n",
       "\n",
       "    .dataframe tbody tr th {\n",
       "        vertical-align: top;\n",
       "    }\n",
       "\n",
       "    .dataframe thead th {\n",
       "        text-align: right;\n",
       "    }\n",
       "</style>\n",
       "<table border=\"1\" class=\"dataframe\">\n",
       "  <thead>\n",
       "    <tr style=\"text-align: right;\">\n",
       "      <th></th>\n",
       "      <th>Fabricante</th>\n",
       "      <th>Cor</th>\n",
       "      <th>Quilometragem</th>\n",
       "      <th>Portas</th>\n",
       "      <th>Preco</th>\n",
       "      <th>Nova coluna</th>\n",
       "    </tr>\n",
       "  </thead>\n",
       "  <tbody>\n",
       "    <tr>\n",
       "      <th>0</th>\n",
       "      <td>Toyota</td>\n",
       "      <td>Branco</td>\n",
       "      <td>150043</td>\n",
       "      <td>4</td>\n",
       "      <td>R$ 24,000.00</td>\n",
       "      <td>Testando</td>\n",
       "    </tr>\n",
       "    <tr>\n",
       "      <th>1</th>\n",
       "      <td>Honda</td>\n",
       "      <td>Vermelho</td>\n",
       "      <td>87899</td>\n",
       "      <td>4</td>\n",
       "      <td>R$ 25,000.00</td>\n",
       "      <td>Testando</td>\n",
       "    </tr>\n",
       "    <tr>\n",
       "      <th>2</th>\n",
       "      <td>Toyota</td>\n",
       "      <td>Azul</td>\n",
       "      <td>32549</td>\n",
       "      <td>3</td>\n",
       "      <td>R$ 27,000.00</td>\n",
       "      <td>Testando</td>\n",
       "    </tr>\n",
       "    <tr>\n",
       "      <th>3</th>\n",
       "      <td>BMW</td>\n",
       "      <td>Preto</td>\n",
       "      <td>11179</td>\n",
       "      <td>5</td>\n",
       "      <td>R$ 122,000.00</td>\n",
       "      <td>Testando</td>\n",
       "    </tr>\n",
       "    <tr>\n",
       "      <th>4</th>\n",
       "      <td>Nissan</td>\n",
       "      <td>Branco</td>\n",
       "      <td>213095</td>\n",
       "      <td>4</td>\n",
       "      <td>R$ 13,500.00</td>\n",
       "      <td>Testando</td>\n",
       "    </tr>\n",
       "    <tr>\n",
       "      <th>5</th>\n",
       "      <td>Toyota</td>\n",
       "      <td>Verde</td>\n",
       "      <td>99213</td>\n",
       "      <td>4</td>\n",
       "      <td>R$ 14,500.00</td>\n",
       "      <td>Testando</td>\n",
       "    </tr>\n",
       "    <tr>\n",
       "      <th>6</th>\n",
       "      <td>Honda</td>\n",
       "      <td>Azul</td>\n",
       "      <td>45698</td>\n",
       "      <td>4</td>\n",
       "      <td>R$ 17,500.00</td>\n",
       "      <td>Testando</td>\n",
       "    </tr>\n",
       "    <tr>\n",
       "      <th>7</th>\n",
       "      <td>Honda</td>\n",
       "      <td>Azul</td>\n",
       "      <td>54738</td>\n",
       "      <td>4</td>\n",
       "      <td>R$ 27,000.00</td>\n",
       "      <td>Testando</td>\n",
       "    </tr>\n",
       "    <tr>\n",
       "      <th>8</th>\n",
       "      <td>Toyota</td>\n",
       "      <td>Branco</td>\n",
       "      <td>60000</td>\n",
       "      <td>4</td>\n",
       "      <td>R$ 26,250.00</td>\n",
       "      <td>Testando</td>\n",
       "    </tr>\n",
       "    <tr>\n",
       "      <th>9</th>\n",
       "      <td>Nissan</td>\n",
       "      <td>Branco</td>\n",
       "      <td>31600</td>\n",
       "      <td>4</td>\n",
       "      <td>R$ 19,700.00</td>\n",
       "      <td>Testando</td>\n",
       "    </tr>\n",
       "  </tbody>\n",
       "</table>\n",
       "</div>"
      ],
      "text/plain": [
       "  Fabricante       Cor  Quilometragem  Portas          Preco Nova coluna\n",
       "0     Toyota    Branco         150043       4   R$ 24,000.00    Testando\n",
       "1      Honda  Vermelho          87899       4   R$ 25,000.00    Testando\n",
       "2     Toyota      Azul          32549       3   R$ 27,000.00    Testando\n",
       "3        BMW     Preto          11179       5  R$ 122,000.00    Testando\n",
       "4     Nissan    Branco         213095       4   R$ 13,500.00    Testando\n",
       "5     Toyota     Verde          99213       4   R$ 14,500.00    Testando\n",
       "6      Honda      Azul          45698       4   R$ 17,500.00    Testando\n",
       "7      Honda      Azul          54738       4   R$ 27,000.00    Testando\n",
       "8     Toyota    Branco          60000       4   R$ 26,250.00    Testando\n",
       "9     Nissan    Branco          31600       4   R$ 19,700.00    Testando"
      ]
     },
     "execution_count": 18,
     "metadata": {},
     "output_type": "execute_result"
    }
   ],
   "source": [
    "dados['Nova coluna'] = 'Testando'\n",
    "dados"
   ]
  },
  {
   "cell_type": "markdown",
   "id": "4241122f",
   "metadata": {},
   "source": [
    "<p>Podemos criar também utilizando outra coluna, como por exemplo, criar uma coluna multiplicando a Quilometragem por 2:</p>"
   ]
  },
  {
   "cell_type": "code",
   "execution_count": 19,
   "id": "e1f8e662",
   "metadata": {},
   "outputs": [
    {
     "data": {
      "text/html": [
       "<div>\n",
       "<style scoped>\n",
       "    .dataframe tbody tr th:only-of-type {\n",
       "        vertical-align: middle;\n",
       "    }\n",
       "\n",
       "    .dataframe tbody tr th {\n",
       "        vertical-align: top;\n",
       "    }\n",
       "\n",
       "    .dataframe thead th {\n",
       "        text-align: right;\n",
       "    }\n",
       "</style>\n",
       "<table border=\"1\" class=\"dataframe\">\n",
       "  <thead>\n",
       "    <tr style=\"text-align: right;\">\n",
       "      <th></th>\n",
       "      <th>Fabricante</th>\n",
       "      <th>Cor</th>\n",
       "      <th>Quilometragem</th>\n",
       "      <th>Portas</th>\n",
       "      <th>Preco</th>\n",
       "      <th>Nova coluna</th>\n",
       "    </tr>\n",
       "  </thead>\n",
       "  <tbody>\n",
       "    <tr>\n",
       "      <th>0</th>\n",
       "      <td>Toyota</td>\n",
       "      <td>Branco</td>\n",
       "      <td>300086</td>\n",
       "      <td>4</td>\n",
       "      <td>R$ 24,000.00</td>\n",
       "      <td>Testando</td>\n",
       "    </tr>\n",
       "    <tr>\n",
       "      <th>1</th>\n",
       "      <td>Honda</td>\n",
       "      <td>Vermelho</td>\n",
       "      <td>175798</td>\n",
       "      <td>4</td>\n",
       "      <td>R$ 25,000.00</td>\n",
       "      <td>Testando</td>\n",
       "    </tr>\n",
       "    <tr>\n",
       "      <th>2</th>\n",
       "      <td>Toyota</td>\n",
       "      <td>Azul</td>\n",
       "      <td>65098</td>\n",
       "      <td>3</td>\n",
       "      <td>R$ 27,000.00</td>\n",
       "      <td>Testando</td>\n",
       "    </tr>\n",
       "    <tr>\n",
       "      <th>3</th>\n",
       "      <td>BMW</td>\n",
       "      <td>Preto</td>\n",
       "      <td>22358</td>\n",
       "      <td>5</td>\n",
       "      <td>R$ 122,000.00</td>\n",
       "      <td>Testando</td>\n",
       "    </tr>\n",
       "    <tr>\n",
       "      <th>4</th>\n",
       "      <td>Nissan</td>\n",
       "      <td>Branco</td>\n",
       "      <td>426190</td>\n",
       "      <td>4</td>\n",
       "      <td>R$ 13,500.00</td>\n",
       "      <td>Testando</td>\n",
       "    </tr>\n",
       "    <tr>\n",
       "      <th>5</th>\n",
       "      <td>Toyota</td>\n",
       "      <td>Verde</td>\n",
       "      <td>198426</td>\n",
       "      <td>4</td>\n",
       "      <td>R$ 14,500.00</td>\n",
       "      <td>Testando</td>\n",
       "    </tr>\n",
       "    <tr>\n",
       "      <th>6</th>\n",
       "      <td>Honda</td>\n",
       "      <td>Azul</td>\n",
       "      <td>91396</td>\n",
       "      <td>4</td>\n",
       "      <td>R$ 17,500.00</td>\n",
       "      <td>Testando</td>\n",
       "    </tr>\n",
       "    <tr>\n",
       "      <th>7</th>\n",
       "      <td>Honda</td>\n",
       "      <td>Azul</td>\n",
       "      <td>109476</td>\n",
       "      <td>4</td>\n",
       "      <td>R$ 27,000.00</td>\n",
       "      <td>Testando</td>\n",
       "    </tr>\n",
       "    <tr>\n",
       "      <th>8</th>\n",
       "      <td>Toyota</td>\n",
       "      <td>Branco</td>\n",
       "      <td>120000</td>\n",
       "      <td>4</td>\n",
       "      <td>R$ 26,250.00</td>\n",
       "      <td>Testando</td>\n",
       "    </tr>\n",
       "    <tr>\n",
       "      <th>9</th>\n",
       "      <td>Nissan</td>\n",
       "      <td>Branco</td>\n",
       "      <td>63200</td>\n",
       "      <td>4</td>\n",
       "      <td>R$ 19,700.00</td>\n",
       "      <td>Testando</td>\n",
       "    </tr>\n",
       "  </tbody>\n",
       "</table>\n",
       "</div>"
      ],
      "text/plain": [
       "  Fabricante       Cor  Quilometragem  Portas          Preco Nova coluna\n",
       "0     Toyota    Branco         300086       4   R$ 24,000.00    Testando\n",
       "1      Honda  Vermelho         175798       4   R$ 25,000.00    Testando\n",
       "2     Toyota      Azul          65098       3   R$ 27,000.00    Testando\n",
       "3        BMW     Preto          22358       5  R$ 122,000.00    Testando\n",
       "4     Nissan    Branco         426190       4   R$ 13,500.00    Testando\n",
       "5     Toyota     Verde         198426       4   R$ 14,500.00    Testando\n",
       "6      Honda      Azul          91396       4   R$ 17,500.00    Testando\n",
       "7      Honda      Azul         109476       4   R$ 27,000.00    Testando\n",
       "8     Toyota    Branco         120000       4   R$ 26,250.00    Testando\n",
       "9     Nissan    Branco          63200       4   R$ 19,700.00    Testando"
      ]
     },
     "execution_count": 19,
     "metadata": {},
     "output_type": "execute_result"
    }
   ],
   "source": [
    "dados['Quilometragem'] = dados['Quilometragem'] * 2\n",
    "dados"
   ]
  },
  {
   "cell_type": "markdown",
   "id": "1ac9cb18",
   "metadata": {},
   "source": [
    "## Seleção por índices\n",
    "<p>O .iloc[] retorna todas as obsevações indexadas na posição (posição começa do 0) que escolher, ex:</p>"
   ]
  },
  {
   "cell_type": "code",
   "execution_count": 20,
   "id": "4a649f32",
   "metadata": {},
   "outputs": [
    {
     "name": "stdout",
     "output_type": "stream",
     "text": [
      "  Fabricante       Cor  Quilometragem  Portas          Preco Nova coluna\n",
      "0     Toyota    Branco         300086       4   R$ 24,000.00    Testando\n",
      "1      Honda  Vermelho         175798       4   R$ 25,000.00    Testando\n",
      "2     Toyota      Azul          65098       3   R$ 27,000.00    Testando\n",
      "3        BMW     Preto          22358       5  R$ 122,000.00    Testando\n",
      "4     Nissan    Branco         426190       4   R$ 13,500.00    Testando\n",
      "5     Toyota     Verde         198426       4   R$ 14,500.00    Testando\n",
      "6      Honda      Azul          91396       4   R$ 17,500.00    Testando\n",
      "7      Honda      Azul         109476       4   R$ 27,000.00    Testando\n",
      "8     Toyota    Branco         120000       4   R$ 26,250.00    Testando\n",
      "9     Nissan    Branco          63200       4   R$ 19,700.00    Testando\n"
     ]
    },
    {
     "data": {
      "text/plain": [
       "Fabricante              Honda\n",
       "Cor                  Vermelho\n",
       "Quilometragem          175798\n",
       "Portas                      4\n",
       "Preco            R$ 25,000.00\n",
       "Nova coluna          Testando\n",
       "Name: 1, dtype: object"
      ]
     },
     "execution_count": 20,
     "metadata": {},
     "output_type": "execute_result"
    }
   ],
   "source": [
    "print(dados)\n",
    "\n",
    "dados.iloc[1]"
   ]
  },
  {
   "cell_type": "code",
   "execution_count": 21,
   "id": "310beb57",
   "metadata": {},
   "outputs": [
    {
     "name": "stdout",
     "output_type": "stream",
     "text": [
      "  Fabricante       Cor  Quilometragem  Portas          Preco Nova coluna\n",
      "0     Toyota    Branco         300086       4   R$ 24,000.00    Testando\n",
      "1      Honda  Vermelho         175798       4   R$ 25,000.00    Testando\n",
      "2     Toyota      Azul          65098       3   R$ 27,000.00    Testando\n",
      "3        BMW     Preto          22358       5  R$ 122,000.00    Testando\n",
      "4     Nissan    Branco         426190       4   R$ 13,500.00    Testando\n",
      "5     Toyota     Verde         198426       4   R$ 14,500.00    Testando\n",
      "6      Honda      Azul          91396       4   R$ 17,500.00    Testando\n",
      "7      Honda      Azul         109476       4   R$ 27,000.00    Testando\n",
      "8     Toyota    Branco         120000       4   R$ 26,250.00    Testando\n",
      "9     Nissan    Branco          63200       4   R$ 19,700.00    Testando\n"
     ]
    },
    {
     "data": {
      "text/html": [
       "<div>\n",
       "<style scoped>\n",
       "    .dataframe tbody tr th:only-of-type {\n",
       "        vertical-align: middle;\n",
       "    }\n",
       "\n",
       "    .dataframe tbody tr th {\n",
       "        vertical-align: top;\n",
       "    }\n",
       "\n",
       "    .dataframe thead th {\n",
       "        text-align: right;\n",
       "    }\n",
       "</style>\n",
       "<table border=\"1\" class=\"dataframe\">\n",
       "  <thead>\n",
       "    <tr style=\"text-align: right;\">\n",
       "      <th></th>\n",
       "      <th>Fabricante</th>\n",
       "      <th>Cor</th>\n",
       "      <th>Quilometragem</th>\n",
       "      <th>Portas</th>\n",
       "      <th>Preco</th>\n",
       "      <th>Nova coluna</th>\n",
       "    </tr>\n",
       "  </thead>\n",
       "  <tbody>\n",
       "    <tr>\n",
       "      <th>4</th>\n",
       "      <td>Nissan</td>\n",
       "      <td>Branco</td>\n",
       "      <td>426190</td>\n",
       "      <td>4</td>\n",
       "      <td>R$ 13,500.00</td>\n",
       "      <td>Testando</td>\n",
       "    </tr>\n",
       "    <tr>\n",
       "      <th>5</th>\n",
       "      <td>Toyota</td>\n",
       "      <td>Verde</td>\n",
       "      <td>198426</td>\n",
       "      <td>4</td>\n",
       "      <td>R$ 14,500.00</td>\n",
       "      <td>Testando</td>\n",
       "    </tr>\n",
       "  </tbody>\n",
       "</table>\n",
       "</div>"
      ],
      "text/plain": [
       "  Fabricante     Cor  Quilometragem  Portas         Preco Nova coluna\n",
       "4     Nissan  Branco         426190       4  R$ 13,500.00    Testando\n",
       "5     Toyota   Verde         198426       4  R$ 14,500.00    Testando"
      ]
     },
     "execution_count": 21,
     "metadata": {},
     "output_type": "execute_result"
    }
   ],
   "source": [
    "print(dados)\n",
    "\n",
    "dados.iloc[4:6]"
   ]
  },
  {
   "cell_type": "markdown",
   "id": "678dc5f7",
   "metadata": {},
   "source": [
    "<p>Também é possível acessar linhas e colunas, colocando uma vírgula:</p>"
   ]
  },
  {
   "cell_type": "code",
   "execution_count": 22,
   "id": "bcdeecbe",
   "metadata": {},
   "outputs": [
    {
     "name": "stdout",
     "output_type": "stream",
     "text": [
      "  Fabricante       Cor  Quilometragem  Portas          Preco Nova coluna\n",
      "0     Toyota    Branco         300086       4   R$ 24,000.00    Testando\n",
      "1      Honda  Vermelho         175798       4   R$ 25,000.00    Testando\n",
      "2     Toyota      Azul          65098       3   R$ 27,000.00    Testando\n",
      "3        BMW     Preto          22358       5  R$ 122,000.00    Testando\n",
      "4     Nissan    Branco         426190       4   R$ 13,500.00    Testando\n",
      "5     Toyota     Verde         198426       4   R$ 14,500.00    Testando\n",
      "6      Honda      Azul          91396       4   R$ 17,500.00    Testando\n",
      "7      Honda      Azul         109476       4   R$ 27,000.00    Testando\n",
      "8     Toyota    Branco         120000       4   R$ 26,250.00    Testando\n",
      "9     Nissan    Branco          63200       4   R$ 19,700.00    Testando\n"
     ]
    },
    {
     "data": {
      "text/plain": [
       "4    426190\n",
       "5    198426\n",
       "Name: Quilometragem, dtype: int64"
      ]
     },
     "execution_count": 22,
     "metadata": {},
     "output_type": "execute_result"
    }
   ],
   "source": [
    "print(dados)\n",
    "\n",
    "dados.iloc[4:6, 2]"
   ]
  },
  {
   "cell_type": "markdown",
   "id": "d9a694ac",
   "metadata": {},
   "source": [
    "<p>O .loc[] faz o index acessar os rótulos dos index, se eu acessar o rótulo 4 do index:</p>"
   ]
  },
  {
   "cell_type": "code",
   "execution_count": 23,
   "id": "1dbf3792",
   "metadata": {},
   "outputs": [
    {
     "name": "stdout",
     "output_type": "stream",
     "text": [
      "  Fabricante       Cor  Quilometragem  Portas          Preco Nova coluna\n",
      "0     Toyota    Branco         300086       4   R$ 24,000.00    Testando\n",
      "1      Honda  Vermelho         175798       4   R$ 25,000.00    Testando\n",
      "2     Toyota      Azul          65098       3   R$ 27,000.00    Testando\n",
      "3        BMW     Preto          22358       5  R$ 122,000.00    Testando\n",
      "4     Nissan    Branco         426190       4   R$ 13,500.00    Testando\n",
      "5     Toyota     Verde         198426       4   R$ 14,500.00    Testando\n",
      "6      Honda      Azul          91396       4   R$ 17,500.00    Testando\n",
      "7      Honda      Azul         109476       4   R$ 27,000.00    Testando\n",
      "8     Toyota    Branco         120000       4   R$ 26,250.00    Testando\n",
      "9     Nissan    Branco          63200       4   R$ 19,700.00    Testando\n"
     ]
    },
    {
     "data": {
      "text/plain": [
       "Fabricante             Nissan\n",
       "Cor                    Branco\n",
       "Quilometragem          426190\n",
       "Portas                      4\n",
       "Preco            R$ 13,500.00\n",
       "Nova coluna          Testando\n",
       "Name: 4, dtype: object"
      ]
     },
     "execution_count": 23,
     "metadata": {},
     "output_type": "execute_result"
    }
   ],
   "source": [
    "print(dados)\n",
    "\n",
    "dados.loc[4]"
   ]
  },
  {
   "cell_type": "code",
   "execution_count": 24,
   "id": "8a89cf0e",
   "metadata": {},
   "outputs": [
    {
     "name": "stdout",
     "output_type": "stream",
     "text": [
      "  Fabricante       Cor  Quilometragem  Portas          Preco Nova coluna\n",
      "0     Toyota    Branco         300086       4   R$ 24,000.00    Testando\n",
      "1      Honda  Vermelho         175798       4   R$ 25,000.00    Testando\n",
      "2     Toyota      Azul          65098       3   R$ 27,000.00    Testando\n",
      "3        BMW     Preto          22358       5  R$ 122,000.00    Testando\n",
      "4     Nissan    Branco         426190       4   R$ 13,500.00    Testando\n",
      "5     Toyota     Verde         198426       4   R$ 14,500.00    Testando\n",
      "6      Honda      Azul          91396       4   R$ 17,500.00    Testando\n",
      "7      Honda      Azul         109476       4   R$ 27,000.00    Testando\n",
      "8     Toyota    Branco         120000       4   R$ 26,250.00    Testando\n",
      "9     Nissan    Branco          63200       4   R$ 19,700.00    Testando\n"
     ]
    },
    {
     "data": {
      "text/html": [
       "<div>\n",
       "<style scoped>\n",
       "    .dataframe tbody tr th:only-of-type {\n",
       "        vertical-align: middle;\n",
       "    }\n",
       "\n",
       "    .dataframe tbody tr th {\n",
       "        vertical-align: top;\n",
       "    }\n",
       "\n",
       "    .dataframe thead th {\n",
       "        text-align: right;\n",
       "    }\n",
       "</style>\n",
       "<table border=\"1\" class=\"dataframe\">\n",
       "  <thead>\n",
       "    <tr style=\"text-align: right;\">\n",
       "      <th></th>\n",
       "      <th>Fabricante</th>\n",
       "      <th>Cor</th>\n",
       "      <th>Quilometragem</th>\n",
       "      <th>Portas</th>\n",
       "      <th>Preco</th>\n",
       "      <th>Nova coluna</th>\n",
       "    </tr>\n",
       "  </thead>\n",
       "  <tbody>\n",
       "    <tr>\n",
       "      <th>4</th>\n",
       "      <td>Nissan</td>\n",
       "      <td>Branco</td>\n",
       "      <td>426190</td>\n",
       "      <td>4</td>\n",
       "      <td>R$ 13,500.00</td>\n",
       "      <td>Testando</td>\n",
       "    </tr>\n",
       "    <tr>\n",
       "      <th>5</th>\n",
       "      <td>Toyota</td>\n",
       "      <td>Verde</td>\n",
       "      <td>198426</td>\n",
       "      <td>4</td>\n",
       "      <td>R$ 14,500.00</td>\n",
       "      <td>Testando</td>\n",
       "    </tr>\n",
       "    <tr>\n",
       "      <th>6</th>\n",
       "      <td>Honda</td>\n",
       "      <td>Azul</td>\n",
       "      <td>91396</td>\n",
       "      <td>4</td>\n",
       "      <td>R$ 17,500.00</td>\n",
       "      <td>Testando</td>\n",
       "    </tr>\n",
       "  </tbody>\n",
       "</table>\n",
       "</div>"
      ],
      "text/plain": [
       "  Fabricante     Cor  Quilometragem  Portas         Preco Nova coluna\n",
       "4     Nissan  Branco         426190       4  R$ 13,500.00    Testando\n",
       "5     Toyota   Verde         198426       4  R$ 14,500.00    Testando\n",
       "6      Honda    Azul          91396       4  R$ 17,500.00    Testando"
      ]
     },
     "execution_count": 24,
     "metadata": {},
     "output_type": "execute_result"
    }
   ],
   "source": [
    "print(dados)\n",
    "\n",
    "dados.loc[4:6]"
   ]
  },
  {
   "cell_type": "markdown",
   "id": "ac608219",
   "metadata": {},
   "source": [
    "## Seleção de múltiplas colunas:"
   ]
  },
  {
   "cell_type": "code",
   "execution_count": 25,
   "id": "0edf1989",
   "metadata": {},
   "outputs": [
    {
     "data": {
      "text/html": [
       "<div>\n",
       "<style scoped>\n",
       "    .dataframe tbody tr th:only-of-type {\n",
       "        vertical-align: middle;\n",
       "    }\n",
       "\n",
       "    .dataframe tbody tr th {\n",
       "        vertical-align: top;\n",
       "    }\n",
       "\n",
       "    .dataframe thead th {\n",
       "        text-align: right;\n",
       "    }\n",
       "</style>\n",
       "<table border=\"1\" class=\"dataframe\">\n",
       "  <thead>\n",
       "    <tr style=\"text-align: right;\">\n",
       "      <th></th>\n",
       "      <th>Fabricante</th>\n",
       "      <th>Cor</th>\n",
       "      <th>Portas</th>\n",
       "    </tr>\n",
       "  </thead>\n",
       "  <tbody>\n",
       "    <tr>\n",
       "      <th>0</th>\n",
       "      <td>Toyota</td>\n",
       "      <td>Branco</td>\n",
       "      <td>4</td>\n",
       "    </tr>\n",
       "    <tr>\n",
       "      <th>1</th>\n",
       "      <td>Honda</td>\n",
       "      <td>Vermelho</td>\n",
       "      <td>4</td>\n",
       "    </tr>\n",
       "    <tr>\n",
       "      <th>2</th>\n",
       "      <td>Toyota</td>\n",
       "      <td>Azul</td>\n",
       "      <td>3</td>\n",
       "    </tr>\n",
       "    <tr>\n",
       "      <th>3</th>\n",
       "      <td>BMW</td>\n",
       "      <td>Preto</td>\n",
       "      <td>5</td>\n",
       "    </tr>\n",
       "    <tr>\n",
       "      <th>4</th>\n",
       "      <td>Nissan</td>\n",
       "      <td>Branco</td>\n",
       "      <td>4</td>\n",
       "    </tr>\n",
       "    <tr>\n",
       "      <th>5</th>\n",
       "      <td>Toyota</td>\n",
       "      <td>Verde</td>\n",
       "      <td>4</td>\n",
       "    </tr>\n",
       "    <tr>\n",
       "      <th>6</th>\n",
       "      <td>Honda</td>\n",
       "      <td>Azul</td>\n",
       "      <td>4</td>\n",
       "    </tr>\n",
       "    <tr>\n",
       "      <th>7</th>\n",
       "      <td>Honda</td>\n",
       "      <td>Azul</td>\n",
       "      <td>4</td>\n",
       "    </tr>\n",
       "    <tr>\n",
       "      <th>8</th>\n",
       "      <td>Toyota</td>\n",
       "      <td>Branco</td>\n",
       "      <td>4</td>\n",
       "    </tr>\n",
       "    <tr>\n",
       "      <th>9</th>\n",
       "      <td>Nissan</td>\n",
       "      <td>Branco</td>\n",
       "      <td>4</td>\n",
       "    </tr>\n",
       "  </tbody>\n",
       "</table>\n",
       "</div>"
      ],
      "text/plain": [
       "  Fabricante       Cor  Portas\n",
       "0     Toyota    Branco       4\n",
       "1      Honda  Vermelho       4\n",
       "2     Toyota      Azul       3\n",
       "3        BMW     Preto       5\n",
       "4     Nissan    Branco       4\n",
       "5     Toyota     Verde       4\n",
       "6      Honda      Azul       4\n",
       "7      Honda      Azul       4\n",
       "8     Toyota    Branco       4\n",
       "9     Nissan    Branco       4"
      ]
     },
     "execution_count": 25,
     "metadata": {},
     "output_type": "execute_result"
    }
   ],
   "source": [
    "dados[['Fabricante', 'Cor', 'Portas']]"
   ]
  },
  {
   "cell_type": "markdown",
   "id": "ab1f67aa",
   "metadata": {},
   "source": [
    "### Deletar uma coluna\n",
    "<p>Para deletar uma coluna use o del, veja o ex:</p>"
   ]
  },
  {
   "cell_type": "code",
   "execution_count": 26,
   "id": "ce928a8c",
   "metadata": {},
   "outputs": [
    {
     "data": {
      "text/html": [
       "<div>\n",
       "<style scoped>\n",
       "    .dataframe tbody tr th:only-of-type {\n",
       "        vertical-align: middle;\n",
       "    }\n",
       "\n",
       "    .dataframe tbody tr th {\n",
       "        vertical-align: top;\n",
       "    }\n",
       "\n",
       "    .dataframe thead th {\n",
       "        text-align: right;\n",
       "    }\n",
       "</style>\n",
       "<table border=\"1\" class=\"dataframe\">\n",
       "  <thead>\n",
       "    <tr style=\"text-align: right;\">\n",
       "      <th></th>\n",
       "      <th>Fabricante</th>\n",
       "      <th>Cor</th>\n",
       "      <th>Quilometragem</th>\n",
       "      <th>Preco</th>\n",
       "      <th>Nova coluna</th>\n",
       "    </tr>\n",
       "  </thead>\n",
       "  <tbody>\n",
       "    <tr>\n",
       "      <th>0</th>\n",
       "      <td>Toyota</td>\n",
       "      <td>Branco</td>\n",
       "      <td>300086</td>\n",
       "      <td>R$ 24,000.00</td>\n",
       "      <td>Testando</td>\n",
       "    </tr>\n",
       "    <tr>\n",
       "      <th>1</th>\n",
       "      <td>Honda</td>\n",
       "      <td>Vermelho</td>\n",
       "      <td>175798</td>\n",
       "      <td>R$ 25,000.00</td>\n",
       "      <td>Testando</td>\n",
       "    </tr>\n",
       "    <tr>\n",
       "      <th>2</th>\n",
       "      <td>Toyota</td>\n",
       "      <td>Azul</td>\n",
       "      <td>65098</td>\n",
       "      <td>R$ 27,000.00</td>\n",
       "      <td>Testando</td>\n",
       "    </tr>\n",
       "    <tr>\n",
       "      <th>3</th>\n",
       "      <td>BMW</td>\n",
       "      <td>Preto</td>\n",
       "      <td>22358</td>\n",
       "      <td>R$ 122,000.00</td>\n",
       "      <td>Testando</td>\n",
       "    </tr>\n",
       "    <tr>\n",
       "      <th>4</th>\n",
       "      <td>Nissan</td>\n",
       "      <td>Branco</td>\n",
       "      <td>426190</td>\n",
       "      <td>R$ 13,500.00</td>\n",
       "      <td>Testando</td>\n",
       "    </tr>\n",
       "    <tr>\n",
       "      <th>5</th>\n",
       "      <td>Toyota</td>\n",
       "      <td>Verde</td>\n",
       "      <td>198426</td>\n",
       "      <td>R$ 14,500.00</td>\n",
       "      <td>Testando</td>\n",
       "    </tr>\n",
       "    <tr>\n",
       "      <th>6</th>\n",
       "      <td>Honda</td>\n",
       "      <td>Azul</td>\n",
       "      <td>91396</td>\n",
       "      <td>R$ 17,500.00</td>\n",
       "      <td>Testando</td>\n",
       "    </tr>\n",
       "    <tr>\n",
       "      <th>7</th>\n",
       "      <td>Honda</td>\n",
       "      <td>Azul</td>\n",
       "      <td>109476</td>\n",
       "      <td>R$ 27,000.00</td>\n",
       "      <td>Testando</td>\n",
       "    </tr>\n",
       "    <tr>\n",
       "      <th>8</th>\n",
       "      <td>Toyota</td>\n",
       "      <td>Branco</td>\n",
       "      <td>120000</td>\n",
       "      <td>R$ 26,250.00</td>\n",
       "      <td>Testando</td>\n",
       "    </tr>\n",
       "    <tr>\n",
       "      <th>9</th>\n",
       "      <td>Nissan</td>\n",
       "      <td>Branco</td>\n",
       "      <td>63200</td>\n",
       "      <td>R$ 19,700.00</td>\n",
       "      <td>Testando</td>\n",
       "    </tr>\n",
       "  </tbody>\n",
       "</table>\n",
       "</div>"
      ],
      "text/plain": [
       "  Fabricante       Cor  Quilometragem          Preco Nova coluna\n",
       "0     Toyota    Branco         300086   R$ 24,000.00    Testando\n",
       "1      Honda  Vermelho         175798   R$ 25,000.00    Testando\n",
       "2     Toyota      Azul          65098   R$ 27,000.00    Testando\n",
       "3        BMW     Preto          22358  R$ 122,000.00    Testando\n",
       "4     Nissan    Branco         426190   R$ 13,500.00    Testando\n",
       "5     Toyota     Verde         198426   R$ 14,500.00    Testando\n",
       "6      Honda      Azul          91396   R$ 17,500.00    Testando\n",
       "7      Honda      Azul         109476   R$ 27,000.00    Testando\n",
       "8     Toyota    Branco         120000   R$ 26,250.00    Testando\n",
       "9     Nissan    Branco          63200   R$ 19,700.00    Testando"
      ]
     },
     "execution_count": 26,
     "metadata": {},
     "output_type": "execute_result"
    }
   ],
   "source": [
    "del dados['Portas']\n",
    "\n",
    "dados"
   ]
  },
  {
   "cell_type": "markdown",
   "id": "c668568d",
   "metadata": {},
   "source": [
    "## Filtragem de dados\n",
    "<p>O .unique() retorna os dados únicos de uma coluna:</p>"
   ]
  },
  {
   "cell_type": "code",
   "execution_count": 27,
   "id": "17d9216f",
   "metadata": {},
   "outputs": [
    {
     "data": {
      "text/plain": [
       "array(['Toyota', 'Honda', 'BMW', 'Nissan'], dtype=object)"
      ]
     },
     "execution_count": 27,
     "metadata": {},
     "output_type": "execute_result"
    }
   ],
   "source": [
    "dados['Fabricante'].unique()"
   ]
  },
  {
   "cell_type": "markdown",
   "id": "77710916",
   "metadata": {},
   "source": [
    "<p>Para filtrar por condições, utilizamos .query() e no final do filtro usamos .reset_index() pros dados filtrados voltarem o index começando do 0</p>"
   ]
  },
  {
   "cell_type": "code",
   "execution_count": 28,
   "id": "f62a55b8",
   "metadata": {},
   "outputs": [
    {
     "data": {
      "text/html": [
       "<div>\n",
       "<style scoped>\n",
       "    .dataframe tbody tr th:only-of-type {\n",
       "        vertical-align: middle;\n",
       "    }\n",
       "\n",
       "    .dataframe tbody tr th {\n",
       "        vertical-align: top;\n",
       "    }\n",
       "\n",
       "    .dataframe thead th {\n",
       "        text-align: right;\n",
       "    }\n",
       "</style>\n",
       "<table border=\"1\" class=\"dataframe\">\n",
       "  <thead>\n",
       "    <tr style=\"text-align: right;\">\n",
       "      <th></th>\n",
       "      <th>index</th>\n",
       "      <th>Fabricante</th>\n",
       "      <th>Cor</th>\n",
       "      <th>Quilometragem</th>\n",
       "      <th>Preco</th>\n",
       "      <th>Nova coluna</th>\n",
       "    </tr>\n",
       "  </thead>\n",
       "  <tbody>\n",
       "    <tr>\n",
       "      <th>0</th>\n",
       "      <td>1</td>\n",
       "      <td>Honda</td>\n",
       "      <td>Vermelho</td>\n",
       "      <td>175798</td>\n",
       "      <td>R$ 25,000.00</td>\n",
       "      <td>Testando</td>\n",
       "    </tr>\n",
       "    <tr>\n",
       "      <th>1</th>\n",
       "      <td>6</td>\n",
       "      <td>Honda</td>\n",
       "      <td>Azul</td>\n",
       "      <td>91396</td>\n",
       "      <td>R$ 17,500.00</td>\n",
       "      <td>Testando</td>\n",
       "    </tr>\n",
       "    <tr>\n",
       "      <th>2</th>\n",
       "      <td>7</td>\n",
       "      <td>Honda</td>\n",
       "      <td>Azul</td>\n",
       "      <td>109476</td>\n",
       "      <td>R$ 27,000.00</td>\n",
       "      <td>Testando</td>\n",
       "    </tr>\n",
       "  </tbody>\n",
       "</table>\n",
       "</div>"
      ],
      "text/plain": [
       "   index Fabricante       Cor  Quilometragem         Preco Nova coluna\n",
       "0      1      Honda  Vermelho         175798  R$ 25,000.00    Testando\n",
       "1      6      Honda      Azul          91396  R$ 17,500.00    Testando\n",
       "2      7      Honda      Azul         109476  R$ 27,000.00    Testando"
      ]
     },
     "execution_count": 28,
     "metadata": {},
     "output_type": "execute_result"
    }
   ],
   "source": [
    "dados_filtrados = dados.query('Fabricante == \"Honda\"').reset_index()\n",
    "dados_filtrados"
   ]
  },
  {
   "cell_type": "code",
   "execution_count": 29,
   "id": "14993dba",
   "metadata": {},
   "outputs": [
    {
     "data": {
      "text/html": [
       "<div>\n",
       "<style scoped>\n",
       "    .dataframe tbody tr th:only-of-type {\n",
       "        vertical-align: middle;\n",
       "    }\n",
       "\n",
       "    .dataframe tbody tr th {\n",
       "        vertical-align: top;\n",
       "    }\n",
       "\n",
       "    .dataframe thead th {\n",
       "        text-align: right;\n",
       "    }\n",
       "</style>\n",
       "<table border=\"1\" class=\"dataframe\">\n",
       "  <thead>\n",
       "    <tr style=\"text-align: right;\">\n",
       "      <th></th>\n",
       "      <th>index</th>\n",
       "      <th>Fabricante</th>\n",
       "      <th>Cor</th>\n",
       "      <th>Quilometragem</th>\n",
       "      <th>Preco</th>\n",
       "      <th>Nova coluna</th>\n",
       "    </tr>\n",
       "  </thead>\n",
       "  <tbody>\n",
       "    <tr>\n",
       "      <th>0</th>\n",
       "      <td>6</td>\n",
       "      <td>Honda</td>\n",
       "      <td>Azul</td>\n",
       "      <td>91396</td>\n",
       "      <td>R$ 17,500.00</td>\n",
       "      <td>Testando</td>\n",
       "    </tr>\n",
       "    <tr>\n",
       "      <th>1</th>\n",
       "      <td>7</td>\n",
       "      <td>Honda</td>\n",
       "      <td>Azul</td>\n",
       "      <td>109476</td>\n",
       "      <td>R$ 27,000.00</td>\n",
       "      <td>Testando</td>\n",
       "    </tr>\n",
       "  </tbody>\n",
       "</table>\n",
       "</div>"
      ],
      "text/plain": [
       "   index Fabricante   Cor  Quilometragem         Preco Nova coluna\n",
       "0      6      Honda  Azul          91396  R$ 17,500.00    Testando\n",
       "1      7      Honda  Azul         109476  R$ 27,000.00    Testando"
      ]
     },
     "execution_count": 29,
     "metadata": {},
     "output_type": "execute_result"
    }
   ],
   "source": [
    "dados_filtrados2 = dados.query('Fabricante == \"Honda\" and Cor == \"Azul\"').reset_index()\n",
    "dados_filtrados2"
   ]
  },
  {
   "cell_type": "markdown",
   "id": "e438ee49",
   "metadata": {},
   "source": [
    "<p>Outra forma de filtrar</p>"
   ]
  },
  {
   "cell_type": "code",
   "execution_count": 30,
   "id": "7acee9c3",
   "metadata": {},
   "outputs": [
    {
     "data": {
      "text/html": [
       "<div>\n",
       "<style scoped>\n",
       "    .dataframe tbody tr th:only-of-type {\n",
       "        vertical-align: middle;\n",
       "    }\n",
       "\n",
       "    .dataframe tbody tr th {\n",
       "        vertical-align: top;\n",
       "    }\n",
       "\n",
       "    .dataframe thead th {\n",
       "        text-align: right;\n",
       "    }\n",
       "</style>\n",
       "<table border=\"1\" class=\"dataframe\">\n",
       "  <thead>\n",
       "    <tr style=\"text-align: right;\">\n",
       "      <th></th>\n",
       "      <th>Fabricante</th>\n",
       "      <th>Cor</th>\n",
       "      <th>Quilometragem</th>\n",
       "      <th>Preco</th>\n",
       "      <th>Nova coluna</th>\n",
       "    </tr>\n",
       "  </thead>\n",
       "  <tbody>\n",
       "    <tr>\n",
       "      <th>1</th>\n",
       "      <td>Honda</td>\n",
       "      <td>Vermelho</td>\n",
       "      <td>175798</td>\n",
       "      <td>R$ 25,000.00</td>\n",
       "      <td>Testando</td>\n",
       "    </tr>\n",
       "    <tr>\n",
       "      <th>6</th>\n",
       "      <td>Honda</td>\n",
       "      <td>Azul</td>\n",
       "      <td>91396</td>\n",
       "      <td>R$ 17,500.00</td>\n",
       "      <td>Testando</td>\n",
       "    </tr>\n",
       "    <tr>\n",
       "      <th>7</th>\n",
       "      <td>Honda</td>\n",
       "      <td>Azul</td>\n",
       "      <td>109476</td>\n",
       "      <td>R$ 27,000.00</td>\n",
       "      <td>Testando</td>\n",
       "    </tr>\n",
       "  </tbody>\n",
       "</table>\n",
       "</div>"
      ],
      "text/plain": [
       "  Fabricante       Cor  Quilometragem         Preco Nova coluna\n",
       "1      Honda  Vermelho         175798  R$ 25,000.00    Testando\n",
       "6      Honda      Azul          91396  R$ 17,500.00    Testando\n",
       "7      Honda      Azul         109476  R$ 27,000.00    Testando"
      ]
     },
     "execution_count": 30,
     "metadata": {},
     "output_type": "execute_result"
    }
   ],
   "source": [
    "dados_filtrados3 = dados[dados['Fabricante'] == \"Honda\"]\n",
    "dados_filtrados3"
   ]
  },
  {
   "cell_type": "code",
   "execution_count": 31,
   "id": "0e4bd336",
   "metadata": {},
   "outputs": [
    {
     "data": {
      "text/html": [
       "<div>\n",
       "<style scoped>\n",
       "    .dataframe tbody tr th:only-of-type {\n",
       "        vertical-align: middle;\n",
       "    }\n",
       "\n",
       "    .dataframe tbody tr th {\n",
       "        vertical-align: top;\n",
       "    }\n",
       "\n",
       "    .dataframe thead th {\n",
       "        text-align: right;\n",
       "    }\n",
       "</style>\n",
       "<table border=\"1\" class=\"dataframe\">\n",
       "  <thead>\n",
       "    <tr style=\"text-align: right;\">\n",
       "      <th></th>\n",
       "      <th>Fabricante</th>\n",
       "      <th>Cor</th>\n",
       "      <th>Quilometragem</th>\n",
       "      <th>Preco</th>\n",
       "      <th>Nova coluna</th>\n",
       "    </tr>\n",
       "  </thead>\n",
       "  <tbody>\n",
       "    <tr>\n",
       "      <th>6</th>\n",
       "      <td>Honda</td>\n",
       "      <td>Azul</td>\n",
       "      <td>91396</td>\n",
       "      <td>R$ 17,500.00</td>\n",
       "      <td>Testando</td>\n",
       "    </tr>\n",
       "    <tr>\n",
       "      <th>7</th>\n",
       "      <td>Honda</td>\n",
       "      <td>Azul</td>\n",
       "      <td>109476</td>\n",
       "      <td>R$ 27,000.00</td>\n",
       "      <td>Testando</td>\n",
       "    </tr>\n",
       "  </tbody>\n",
       "</table>\n",
       "</div>"
      ],
      "text/plain": [
       "  Fabricante   Cor  Quilometragem         Preco Nova coluna\n",
       "6      Honda  Azul          91396  R$ 17,500.00    Testando\n",
       "7      Honda  Azul         109476  R$ 27,000.00    Testando"
      ]
     },
     "execution_count": 31,
     "metadata": {},
     "output_type": "execute_result"
    }
   ],
   "source": [
    "dados_filtrados4 = dados[(dados['Fabricante'] == \"Honda\") & (dados['Cor'] == \"Azul\")]\n",
    "dados_filtrados4"
   ]
  },
  {
   "cell_type": "markdown",
   "id": "c6a1950c",
   "metadata": {},
   "source": [
    "### Filtrando a partir de uma lista:"
   ]
  },
  {
   "cell_type": "code",
   "execution_count": 32,
   "id": "b6d5e63f",
   "metadata": {},
   "outputs": [
    {
     "data": {
      "text/html": [
       "<div>\n",
       "<style scoped>\n",
       "    .dataframe tbody tr th:only-of-type {\n",
       "        vertical-align: middle;\n",
       "    }\n",
       "\n",
       "    .dataframe tbody tr th {\n",
       "        vertical-align: top;\n",
       "    }\n",
       "\n",
       "    .dataframe thead th {\n",
       "        text-align: right;\n",
       "    }\n",
       "</style>\n",
       "<table border=\"1\" class=\"dataframe\">\n",
       "  <thead>\n",
       "    <tr style=\"text-align: right;\">\n",
       "      <th></th>\n",
       "      <th>Fabricante</th>\n",
       "      <th>Cor</th>\n",
       "      <th>Quilometragem</th>\n",
       "      <th>Preco</th>\n",
       "      <th>Nova coluna</th>\n",
       "    </tr>\n",
       "  </thead>\n",
       "  <tbody>\n",
       "    <tr>\n",
       "      <th>1</th>\n",
       "      <td>Honda</td>\n",
       "      <td>Vermelho</td>\n",
       "      <td>175798</td>\n",
       "      <td>R$ 25,000.00</td>\n",
       "      <td>Testando</td>\n",
       "    </tr>\n",
       "    <tr>\n",
       "      <th>2</th>\n",
       "      <td>Toyota</td>\n",
       "      <td>Azul</td>\n",
       "      <td>65098</td>\n",
       "      <td>R$ 27,000.00</td>\n",
       "      <td>Testando</td>\n",
       "    </tr>\n",
       "    <tr>\n",
       "      <th>6</th>\n",
       "      <td>Honda</td>\n",
       "      <td>Azul</td>\n",
       "      <td>91396</td>\n",
       "      <td>R$ 17,500.00</td>\n",
       "      <td>Testando</td>\n",
       "    </tr>\n",
       "    <tr>\n",
       "      <th>7</th>\n",
       "      <td>Honda</td>\n",
       "      <td>Azul</td>\n",
       "      <td>109476</td>\n",
       "      <td>R$ 27,000.00</td>\n",
       "      <td>Testando</td>\n",
       "    </tr>\n",
       "  </tbody>\n",
       "</table>\n",
       "</div>"
      ],
      "text/plain": [
       "  Fabricante       Cor  Quilometragem         Preco Nova coluna\n",
       "1      Honda  Vermelho         175798  R$ 25,000.00    Testando\n",
       "2     Toyota      Azul          65098  R$ 27,000.00    Testando\n",
       "6      Honda      Azul          91396  R$ 17,500.00    Testando\n",
       "7      Honda      Azul         109476  R$ 27,000.00    Testando"
      ]
     },
     "execution_count": 32,
     "metadata": {},
     "output_type": "execute_result"
    }
   ],
   "source": [
    "lista_cor = ['Azul', 'Vermelho']\n",
    "dados_filtrados5 = dados.query('Cor in @lista_cor')\n",
    "dados_filtrados5"
   ]
  },
  {
   "cell_type": "markdown",
   "id": "3532e871",
   "metadata": {},
   "source": [
    "<p>O .dropna() remove todas as linhas do DataFrame que são vazias.</p>\n",
    "<p>O .fillna() preenche todos valores vazios de um DataFrame com 0.</p>"
   ]
  },
  {
   "cell_type": "markdown",
   "id": "3501e877",
   "metadata": {},
   "source": [
    "## Estatística descritiva\n",
    "<p>O .describle() nos retorna a estatística descritiva como contagem, média, etc.:</p>"
   ]
  },
  {
   "cell_type": "code",
   "execution_count": 33,
   "id": "faee6429",
   "metadata": {},
   "outputs": [
    {
     "data": {
      "text/plain": [
       "count               10\n",
       "unique               9\n",
       "top       R$ 27,000.00\n",
       "freq                 2\n",
       "Name: Preco, dtype: object"
      ]
     },
     "execution_count": 33,
     "metadata": {},
     "output_type": "execute_result"
    }
   ],
   "source": [
    "dados['Preco'].describe()"
   ]
  },
  {
   "cell_type": "markdown",
   "id": "bfcb8f83",
   "metadata": {},
   "source": [
    "<p>Para calcular a média, soma, desvio padrão, min, max:</p>"
   ]
  },
  {
   "cell_type": "code",
   "execution_count": 34,
   "id": "a77a03b8",
   "metadata": {},
   "outputs": [
    {
     "name": "stdout",
     "output_type": "stream",
     "text": [
      "157202.8\n",
      "1572028\n",
      "123966.94346908238\n",
      "22358\n",
      "426190\n"
     ]
    }
   ],
   "source": [
    "print(dados['Quilometragem'].mean())\n",
    "print(dados['Quilometragem'].sum())\n",
    "print(dados['Quilometragem'].std())\n",
    "print(dados['Quilometragem'].min())\n",
    "print(dados['Quilometragem'].max())"
   ]
  },
  {
   "cell_type": "markdown",
   "id": "f15c203c",
   "metadata": {},
   "source": [
    "<p>Pra contagem usamos .value_counts():</p>"
   ]
  },
  {
   "cell_type": "code",
   "execution_count": 35,
   "id": "4ed4eac4",
   "metadata": {},
   "outputs": [
    {
     "data": {
      "text/plain": [
       "Fabricante\n",
       "Toyota    4\n",
       "Honda     3\n",
       "Nissan    2\n",
       "BMW       1\n",
       "Name: count, dtype: int64"
      ]
     },
     "execution_count": 35,
     "metadata": {},
     "output_type": "execute_result"
    }
   ],
   "source": [
    "dados['Fabricante'].value_counts()"
   ]
  },
  {
   "cell_type": "markdown",
   "id": "57302af0",
   "metadata": {},
   "source": [
    "<p>Podemos também criar um novo DataFrame usando .to_frame():</p> "
   ]
  },
  {
   "cell_type": "code",
   "execution_count": 36,
   "id": "8b4573bd",
   "metadata": {},
   "outputs": [
    {
     "data": {
      "text/html": [
       "<div>\n",
       "<style scoped>\n",
       "    .dataframe tbody tr th:only-of-type {\n",
       "        vertical-align: middle;\n",
       "    }\n",
       "\n",
       "    .dataframe tbody tr th {\n",
       "        vertical-align: top;\n",
       "    }\n",
       "\n",
       "    .dataframe thead th {\n",
       "        text-align: right;\n",
       "    }\n",
       "</style>\n",
       "<table border=\"1\" class=\"dataframe\">\n",
       "  <thead>\n",
       "    <tr style=\"text-align: right;\">\n",
       "      <th></th>\n",
       "      <th>Fabricante</th>\n",
       "      <th>count</th>\n",
       "    </tr>\n",
       "  </thead>\n",
       "  <tbody>\n",
       "    <tr>\n",
       "      <th>0</th>\n",
       "      <td>Toyota</td>\n",
       "      <td>4</td>\n",
       "    </tr>\n",
       "    <tr>\n",
       "      <th>1</th>\n",
       "      <td>Honda</td>\n",
       "      <td>3</td>\n",
       "    </tr>\n",
       "    <tr>\n",
       "      <th>2</th>\n",
       "      <td>Nissan</td>\n",
       "      <td>2</td>\n",
       "    </tr>\n",
       "    <tr>\n",
       "      <th>3</th>\n",
       "      <td>BMW</td>\n",
       "      <td>1</td>\n",
       "    </tr>\n",
       "  </tbody>\n",
       "</table>\n",
       "</div>"
      ],
      "text/plain": [
       "  Fabricante  count\n",
       "0     Toyota      4\n",
       "1      Honda      3\n",
       "2     Nissan      2\n",
       "3        BMW      1"
      ]
     },
     "execution_count": 36,
     "metadata": {},
     "output_type": "execute_result"
    }
   ],
   "source": [
    "dados_fabricante = dados['Fabricante'].value_counts().to_frame().reset_index()\n",
    "dados_fabricante"
   ]
  },
  {
   "cell_type": "markdown",
   "id": "db8470b0",
   "metadata": {},
   "source": [
    "## Agrupamento\n",
    "<p>Pra agrupar um grupo de elementos é usado o .grouphy()</p>"
   ]
  },
  {
   "cell_type": "code",
   "execution_count": 38,
   "id": "e117fac0",
   "metadata": {},
   "outputs": [
    {
     "data": {
      "text/plain": [
       "<pandas.core.groupby.generic.DataFrameGroupBy object at 0x7e94572c76d0>"
      ]
     },
     "execution_count": 38,
     "metadata": {},
     "output_type": "execute_result"
    }
   ],
   "source": [
    "# agrupa as linhas da tabela de acordo com seus respectivos fabricantes\n",
    "grupos = dados.groupby('Fabricante')\n",
    "grupos"
   ]
  },
  {
   "cell_type": "code",
   "execution_count": 40,
   "id": "7275777d",
   "metadata": {},
   "outputs": [
    {
     "data": {
      "text/plain": [
       "{'BMW': [3], 'Honda': [1, 6, 7], 'Nissan': [4, 9], 'Toyota': [0, 2, 5, 8]}"
      ]
     },
     "execution_count": 40,
     "metadata": {},
     "output_type": "execute_result"
    }
   ],
   "source": [
    "# retorna os grupos obtidos pelo groupby\n",
    "grupos.groups"
   ]
  },
  {
   "cell_type": "code",
   "execution_count": 41,
   "id": "b818347a",
   "metadata": {},
   "outputs": [
    {
     "data": {
      "text/plain": [
       "{'BMW': array([3]),\n",
       " 'Honda': array([1, 6, 7]),\n",
       " 'Nissan': array([4, 9]),\n",
       " 'Toyota': array([0, 2, 5, 8])}"
      ]
     },
     "execution_count": 41,
     "metadata": {},
     "output_type": "execute_result"
    }
   ],
   "source": [
    "# retorna os índices das linhas/observações de cada grupo\n",
    "grupos.indices"
   ]
  },
  {
   "cell_type": "code",
   "execution_count": 42,
   "id": "67a63dd4",
   "metadata": {},
   "outputs": [
    {
     "data": {
      "text/html": [
       "<div>\n",
       "<style scoped>\n",
       "    .dataframe tbody tr th:only-of-type {\n",
       "        vertical-align: middle;\n",
       "    }\n",
       "\n",
       "    .dataframe tbody tr th {\n",
       "        vertical-align: top;\n",
       "    }\n",
       "\n",
       "    .dataframe thead th {\n",
       "        text-align: right;\n",
       "    }\n",
       "</style>\n",
       "<table border=\"1\" class=\"dataframe\">\n",
       "  <thead>\n",
       "    <tr style=\"text-align: right;\">\n",
       "      <th></th>\n",
       "      <th>Fabricante</th>\n",
       "      <th>Cor</th>\n",
       "      <th>Quilometragem</th>\n",
       "      <th>Preco</th>\n",
       "      <th>Nova coluna</th>\n",
       "    </tr>\n",
       "  </thead>\n",
       "  <tbody>\n",
       "    <tr>\n",
       "      <th>0</th>\n",
       "      <td>Toyota</td>\n",
       "      <td>Branco</td>\n",
       "      <td>300086</td>\n",
       "      <td>R$ 24,000.00</td>\n",
       "      <td>Testando</td>\n",
       "    </tr>\n",
       "    <tr>\n",
       "      <th>2</th>\n",
       "      <td>Toyota</td>\n",
       "      <td>Azul</td>\n",
       "      <td>65098</td>\n",
       "      <td>R$ 27,000.00</td>\n",
       "      <td>Testando</td>\n",
       "    </tr>\n",
       "    <tr>\n",
       "      <th>5</th>\n",
       "      <td>Toyota</td>\n",
       "      <td>Verde</td>\n",
       "      <td>198426</td>\n",
       "      <td>R$ 14,500.00</td>\n",
       "      <td>Testando</td>\n",
       "    </tr>\n",
       "    <tr>\n",
       "      <th>8</th>\n",
       "      <td>Toyota</td>\n",
       "      <td>Branco</td>\n",
       "      <td>120000</td>\n",
       "      <td>R$ 26,250.00</td>\n",
       "      <td>Testando</td>\n",
       "    </tr>\n",
       "  </tbody>\n",
       "</table>\n",
       "</div>"
      ],
      "text/plain": [
       "  Fabricante     Cor  Quilometragem         Preco Nova coluna\n",
       "0     Toyota  Branco         300086  R$ 24,000.00    Testando\n",
       "2     Toyota    Azul          65098  R$ 27,000.00    Testando\n",
       "5     Toyota   Verde         198426  R$ 14,500.00    Testando\n",
       "8     Toyota  Branco         120000  R$ 26,250.00    Testando"
      ]
     },
     "execution_count": 42,
     "metadata": {},
     "output_type": "execute_result"
    }
   ],
   "source": [
    "# retorna um DataFrame apenas com as observações do grupo escolhido\n",
    "grupos.get_group('Toyota')"
   ]
  },
  {
   "cell_type": "code",
   "execution_count": 43,
   "id": "ef0e3d80",
   "metadata": {},
   "outputs": [
    {
     "data": {
      "text/html": [
       "<div>\n",
       "<style scoped>\n",
       "    .dataframe tbody tr th:only-of-type {\n",
       "        vertical-align: middle;\n",
       "    }\n",
       "\n",
       "    .dataframe tbody tr th {\n",
       "        vertical-align: top;\n",
       "    }\n",
       "\n",
       "    .dataframe thead tr th {\n",
       "        text-align: left;\n",
       "    }\n",
       "\n",
       "    .dataframe thead tr:last-of-type th {\n",
       "        text-align: right;\n",
       "    }\n",
       "</style>\n",
       "<table border=\"1\" class=\"dataframe\">\n",
       "  <thead>\n",
       "    <tr>\n",
       "      <th></th>\n",
       "      <th colspan=\"8\" halign=\"left\">Quilometragem</th>\n",
       "    </tr>\n",
       "    <tr>\n",
       "      <th></th>\n",
       "      <th>count</th>\n",
       "      <th>mean</th>\n",
       "      <th>std</th>\n",
       "      <th>min</th>\n",
       "      <th>25%</th>\n",
       "      <th>50%</th>\n",
       "      <th>75%</th>\n",
       "      <th>max</th>\n",
       "    </tr>\n",
       "    <tr>\n",
       "      <th>Fabricante</th>\n",
       "      <th></th>\n",
       "      <th></th>\n",
       "      <th></th>\n",
       "      <th></th>\n",
       "      <th></th>\n",
       "      <th></th>\n",
       "      <th></th>\n",
       "      <th></th>\n",
       "    </tr>\n",
       "  </thead>\n",
       "  <tbody>\n",
       "    <tr>\n",
       "      <th>BMW</th>\n",
       "      <td>1.0</td>\n",
       "      <td>22358.000000</td>\n",
       "      <td>NaN</td>\n",
       "      <td>22358.0</td>\n",
       "      <td>22358.0</td>\n",
       "      <td>22358.0</td>\n",
       "      <td>22358.0</td>\n",
       "      <td>22358.0</td>\n",
       "    </tr>\n",
       "    <tr>\n",
       "      <th>Honda</th>\n",
       "      <td>3.0</td>\n",
       "      <td>125556.666667</td>\n",
       "      <td>44439.456357</td>\n",
       "      <td>91396.0</td>\n",
       "      <td>100436.0</td>\n",
       "      <td>109476.0</td>\n",
       "      <td>142637.0</td>\n",
       "      <td>175798.0</td>\n",
       "    </tr>\n",
       "    <tr>\n",
       "      <th>Nissan</th>\n",
       "      <td>2.0</td>\n",
       "      <td>244695.000000</td>\n",
       "      <td>256672.690503</td>\n",
       "      <td>63200.0</td>\n",
       "      <td>153947.5</td>\n",
       "      <td>244695.0</td>\n",
       "      <td>335442.5</td>\n",
       "      <td>426190.0</td>\n",
       "    </tr>\n",
       "    <tr>\n",
       "      <th>Toyota</th>\n",
       "      <td>4.0</td>\n",
       "      <td>170902.500000</td>\n",
       "      <td>102031.982651</td>\n",
       "      <td>65098.0</td>\n",
       "      <td>106274.5</td>\n",
       "      <td>159213.0</td>\n",
       "      <td>223841.0</td>\n",
       "      <td>300086.0</td>\n",
       "    </tr>\n",
       "  </tbody>\n",
       "</table>\n",
       "</div>"
      ],
      "text/plain": [
       "           Quilometragem                                                   \\\n",
       "                   count           mean            std      min       25%   \n",
       "Fabricante                                                                  \n",
       "BMW                  1.0   22358.000000            NaN  22358.0   22358.0   \n",
       "Honda                3.0  125556.666667   44439.456357  91396.0  100436.0   \n",
       "Nissan               2.0  244695.000000  256672.690503  63200.0  153947.5   \n",
       "Toyota               4.0  170902.500000  102031.982651  65098.0  106274.5   \n",
       "\n",
       "                                          \n",
       "                 50%       75%       max  \n",
       "Fabricante                                \n",
       "BMW          22358.0   22358.0   22358.0  \n",
       "Honda       109476.0  142637.0  175798.0  \n",
       "Nissan      244695.0  335442.5  426190.0  \n",
       "Toyota      159213.0  223841.0  300086.0  "
      ]
     },
     "execution_count": 43,
     "metadata": {},
     "output_type": "execute_result"
    }
   ],
   "source": [
    "# descreve algumas estatísticas descritivas pras observações de cada grupo\n",
    "grupos.describe()"
   ]
  },
  {
   "cell_type": "markdown",
   "id": "c216aa31",
   "metadata": {},
   "source": [
    "<p>Também pode ter agrupamentos por mais de um atributo</p>"
   ]
  },
  {
   "cell_type": "code",
   "execution_count": 45,
   "id": "91a75cdb",
   "metadata": {},
   "outputs": [
    {
     "data": {
      "text/html": [
       "<div>\n",
       "<style scoped>\n",
       "    .dataframe tbody tr th:only-of-type {\n",
       "        vertical-align: middle;\n",
       "    }\n",
       "\n",
       "    .dataframe tbody tr th {\n",
       "        vertical-align: top;\n",
       "    }\n",
       "\n",
       "    .dataframe thead th {\n",
       "        text-align: right;\n",
       "    }\n",
       "</style>\n",
       "<table border=\"1\" class=\"dataframe\">\n",
       "  <thead>\n",
       "    <tr style=\"text-align: right;\">\n",
       "      <th></th>\n",
       "      <th>Fabricante</th>\n",
       "      <th>Cor</th>\n",
       "      <th>Quilometragem</th>\n",
       "      <th>Preco</th>\n",
       "      <th>Nova coluna</th>\n",
       "    </tr>\n",
       "  </thead>\n",
       "  <tbody>\n",
       "    <tr>\n",
       "      <th>0</th>\n",
       "      <td>Toyota</td>\n",
       "      <td>Branco</td>\n",
       "      <td>300086</td>\n",
       "      <td>R$ 24,000.00</td>\n",
       "      <td>Testando</td>\n",
       "    </tr>\n",
       "    <tr>\n",
       "      <th>1</th>\n",
       "      <td>Honda</td>\n",
       "      <td>Vermelho</td>\n",
       "      <td>175798</td>\n",
       "      <td>R$ 25,000.00</td>\n",
       "      <td>Testando</td>\n",
       "    </tr>\n",
       "    <tr>\n",
       "      <th>2</th>\n",
       "      <td>Toyota</td>\n",
       "      <td>Azul</td>\n",
       "      <td>65098</td>\n",
       "      <td>R$ 27,000.00</td>\n",
       "      <td>Testando</td>\n",
       "    </tr>\n",
       "    <tr>\n",
       "      <th>3</th>\n",
       "      <td>BMW</td>\n",
       "      <td>Preto</td>\n",
       "      <td>22358</td>\n",
       "      <td>R$ 122,000.00</td>\n",
       "      <td>Testando</td>\n",
       "    </tr>\n",
       "    <tr>\n",
       "      <th>4</th>\n",
       "      <td>Nissan</td>\n",
       "      <td>Branco</td>\n",
       "      <td>426190</td>\n",
       "      <td>R$ 13,500.00</td>\n",
       "      <td>Testando</td>\n",
       "    </tr>\n",
       "  </tbody>\n",
       "</table>\n",
       "</div>"
      ],
      "text/plain": [
       "  Fabricante       Cor  Quilometragem          Preco Nova coluna\n",
       "0     Toyota    Branco         300086   R$ 24,000.00    Testando\n",
       "1      Honda  Vermelho         175798   R$ 25,000.00    Testando\n",
       "2     Toyota      Azul          65098   R$ 27,000.00    Testando\n",
       "3        BMW     Preto          22358  R$ 122,000.00    Testando\n",
       "4     Nissan    Branco         426190   R$ 13,500.00    Testando"
      ]
     },
     "execution_count": 45,
     "metadata": {},
     "output_type": "execute_result"
    }
   ],
   "source": [
    "dados.head()"
   ]
  },
  {
   "cell_type": "code",
   "execution_count": 46,
   "id": "586cfb37",
   "metadata": {},
   "outputs": [
    {
     "data": {
      "text/plain": [
       "<pandas.core.groupby.generic.DataFrameGroupBy object at 0x7e9454911930>"
      ]
     },
     "execution_count": 46,
     "metadata": {},
     "output_type": "execute_result"
    }
   ],
   "source": [
    "# agrupa os registros do DataFrame primeiramente por seus fabricantes\n",
    "# depois agrupa os registros de cada fabricante (grupo) de acordo com a quilometragem\n",
    "grupos = dados.groupby(['Fabricante', 'Quilometragem'])\n",
    "grupos"
   ]
  },
  {
   "cell_type": "code",
   "execution_count": 47,
   "id": "0dc76081",
   "metadata": {},
   "outputs": [
    {
     "data": {
      "text/plain": [
       "{('BMW', 22358): [3], ('Honda', 91396): [6], ('Honda', 109476): [7], ('Honda', 175798): [1], ('Nissan', 63200): [9], ('Nissan', 426190): [4], ('Toyota', 65098): [2], ('Toyota', 120000): [8], ('Toyota', 198426): [5], ('Toyota', 300086): [0]}"
      ]
     },
     "execution_count": 47,
     "metadata": {},
     "output_type": "execute_result"
    }
   ],
   "source": [
    "grupos.groups"
   ]
  },
  {
   "cell_type": "markdown",
   "id": "dc52c1e6",
   "metadata": {},
   "source": [
    "<p>.agg() agrega (roda) uma série de funções para os elementos de um DataFrame ou de grupos de um DataFrame</p>"
   ]
  },
  {
   "cell_type": "code",
   "execution_count": 49,
   "id": "58136c5d",
   "metadata": {},
   "outputs": [
    {
     "data": {
      "text/html": [
       "<div>\n",
       "<style scoped>\n",
       "    .dataframe tbody tr th:only-of-type {\n",
       "        vertical-align: middle;\n",
       "    }\n",
       "\n",
       "    .dataframe tbody tr th {\n",
       "        vertical-align: top;\n",
       "    }\n",
       "\n",
       "    .dataframe thead th {\n",
       "        text-align: right;\n",
       "    }\n",
       "</style>\n",
       "<table border=\"1\" class=\"dataframe\">\n",
       "  <thead>\n",
       "    <tr style=\"text-align: right;\">\n",
       "      <th></th>\n",
       "      <th>A</th>\n",
       "      <th>B</th>\n",
       "      <th>C</th>\n",
       "    </tr>\n",
       "  </thead>\n",
       "  <tbody>\n",
       "    <tr>\n",
       "      <th>0</th>\n",
       "      <td>1.0</td>\n",
       "      <td>2.0</td>\n",
       "      <td>3.0</td>\n",
       "    </tr>\n",
       "    <tr>\n",
       "      <th>1</th>\n",
       "      <td>4.0</td>\n",
       "      <td>5.0</td>\n",
       "      <td>6.0</td>\n",
       "    </tr>\n",
       "    <tr>\n",
       "      <th>2</th>\n",
       "      <td>7.0</td>\n",
       "      <td>8.0</td>\n",
       "      <td>9.0</td>\n",
       "    </tr>\n",
       "    <tr>\n",
       "      <th>3</th>\n",
       "      <td>NaN</td>\n",
       "      <td>NaN</td>\n",
       "      <td>NaN</td>\n",
       "    </tr>\n",
       "  </tbody>\n",
       "</table>\n",
       "</div>"
      ],
      "text/plain": [
       "     A    B    C\n",
       "0  1.0  2.0  3.0\n",
       "1  4.0  5.0  6.0\n",
       "2  7.0  8.0  9.0\n",
       "3  NaN  NaN  NaN"
      ]
     },
     "execution_count": 49,
     "metadata": {},
     "output_type": "execute_result"
    }
   ],
   "source": [
    "df = pd.DataFrame([[1, 2, 3],\n",
    "                   [4, 5, 6],\n",
    "                   [7, 8, 9],\n",
    "                   [None, None, None]],\n",
    "                   columns=['A', 'B', 'C'])\n",
    "df"
   ]
  },
  {
   "cell_type": "code",
   "execution_count": 50,
   "id": "03ba9aee",
   "metadata": {},
   "outputs": [
    {
     "name": "stderr",
     "output_type": "stream",
     "text": [
      "/tmp/ipykernel_8380/2756550811.py:1: FutureWarning: The provided callable <built-in function sum> is currently using Series.sum. In a future version of pandas, the provided callable will be used directly. To keep current behavior pass the string \"sum\" instead.\n",
      "  df.agg([sum, min]) # ignora o None\n",
      "/tmp/ipykernel_8380/2756550811.py:1: FutureWarning: The provided callable <built-in function min> is currently using Series.min. In a future version of pandas, the provided callable will be used directly. To keep current behavior pass the string \"min\" instead.\n",
      "  df.agg([sum, min]) # ignora o None\n"
     ]
    },
    {
     "data": {
      "text/html": [
       "<div>\n",
       "<style scoped>\n",
       "    .dataframe tbody tr th:only-of-type {\n",
       "        vertical-align: middle;\n",
       "    }\n",
       "\n",
       "    .dataframe tbody tr th {\n",
       "        vertical-align: top;\n",
       "    }\n",
       "\n",
       "    .dataframe thead th {\n",
       "        text-align: right;\n",
       "    }\n",
       "</style>\n",
       "<table border=\"1\" class=\"dataframe\">\n",
       "  <thead>\n",
       "    <tr style=\"text-align: right;\">\n",
       "      <th></th>\n",
       "      <th>A</th>\n",
       "      <th>B</th>\n",
       "      <th>C</th>\n",
       "    </tr>\n",
       "  </thead>\n",
       "  <tbody>\n",
       "    <tr>\n",
       "      <th>sum</th>\n",
       "      <td>12.0</td>\n",
       "      <td>15.0</td>\n",
       "      <td>18.0</td>\n",
       "    </tr>\n",
       "    <tr>\n",
       "      <th>min</th>\n",
       "      <td>1.0</td>\n",
       "      <td>2.0</td>\n",
       "      <td>3.0</td>\n",
       "    </tr>\n",
       "  </tbody>\n",
       "</table>\n",
       "</div>"
      ],
      "text/plain": [
       "        A     B     C\n",
       "sum  12.0  15.0  18.0\n",
       "min   1.0   2.0   3.0"
      ]
     },
     "execution_count": 50,
     "metadata": {},
     "output_type": "execute_result"
    }
   ],
   "source": [
    "df.agg([sum, min]) # ignora o None"
   ]
  },
  {
   "cell_type": "code",
   "execution_count": 51,
   "id": "878898c6",
   "metadata": {},
   "outputs": [
    {
     "data": {
      "text/plain": [
       "<pandas.core.groupby.generic.DataFrameGroupBy object at 0x7e9454910340>"
      ]
     },
     "execution_count": 51,
     "metadata": {},
     "output_type": "execute_result"
    }
   ],
   "source": [
    "grupos = dados.groupby('Fabricante')\n",
    "grupos"
   ]
  },
  {
   "cell_type": "code",
   "execution_count": 52,
   "id": "321ee9e8",
   "metadata": {},
   "outputs": [
    {
     "name": "stderr",
     "output_type": "stream",
     "text": [
      "/tmp/ipykernel_8380/2585986137.py:2: FutureWarning: The provided callable <built-in function min> is currently using SeriesGroupBy.min. In a future version of pandas, the provided callable will be used directly. To keep current behavior pass the string \"min\" instead.\n",
      "  grupos['Preco'].agg([min, max])\n",
      "/tmp/ipykernel_8380/2585986137.py:2: FutureWarning: The provided callable <built-in function max> is currently using SeriesGroupBy.max. In a future version of pandas, the provided callable will be used directly. To keep current behavior pass the string \"max\" instead.\n",
      "  grupos['Preco'].agg([min, max])\n"
     ]
    },
    {
     "data": {
      "text/html": [
       "<div>\n",
       "<style scoped>\n",
       "    .dataframe tbody tr th:only-of-type {\n",
       "        vertical-align: middle;\n",
       "    }\n",
       "\n",
       "    .dataframe tbody tr th {\n",
       "        vertical-align: top;\n",
       "    }\n",
       "\n",
       "    .dataframe thead th {\n",
       "        text-align: right;\n",
       "    }\n",
       "</style>\n",
       "<table border=\"1\" class=\"dataframe\">\n",
       "  <thead>\n",
       "    <tr style=\"text-align: right;\">\n",
       "      <th></th>\n",
       "      <th>min</th>\n",
       "      <th>max</th>\n",
       "    </tr>\n",
       "    <tr>\n",
       "      <th>Fabricante</th>\n",
       "      <th></th>\n",
       "      <th></th>\n",
       "    </tr>\n",
       "  </thead>\n",
       "  <tbody>\n",
       "    <tr>\n",
       "      <th>BMW</th>\n",
       "      <td>R$ 122,000.00</td>\n",
       "      <td>R$ 122,000.00</td>\n",
       "    </tr>\n",
       "    <tr>\n",
       "      <th>Honda</th>\n",
       "      <td>R$ 17,500.00</td>\n",
       "      <td>R$ 27,000.00</td>\n",
       "    </tr>\n",
       "    <tr>\n",
       "      <th>Nissan</th>\n",
       "      <td>R$ 13,500.00</td>\n",
       "      <td>R$ 19,700.00</td>\n",
       "    </tr>\n",
       "    <tr>\n",
       "      <th>Toyota</th>\n",
       "      <td>R$ 14,500.00</td>\n",
       "      <td>R$ 27,000.00</td>\n",
       "    </tr>\n",
       "  </tbody>\n",
       "</table>\n",
       "</div>"
      ],
      "text/plain": [
       "                      min            max\n",
       "Fabricante                              \n",
       "BMW         R$ 122,000.00  R$ 122,000.00\n",
       "Honda        R$ 17,500.00   R$ 27,000.00\n",
       "Nissan       R$ 13,500.00   R$ 19,700.00\n",
       "Toyota       R$ 14,500.00   R$ 27,000.00"
      ]
     },
     "execution_count": 52,
     "metadata": {},
     "output_type": "execute_result"
    }
   ],
   "source": [
    "# computa o menor e maior valor do 'Preco' para cada fabricante (grupo)\n",
    "grupos['Preco'].agg([min, max])"
   ]
  },
  {
   "cell_type": "markdown",
   "id": "df353d90",
   "metadata": {},
   "source": [
    "## Ordenação"
   ]
  },
  {
   "cell_type": "code",
   "execution_count": 57,
   "id": "e7ed9d51",
   "metadata": {},
   "outputs": [
    {
     "data": {
      "text/html": [
       "<div>\n",
       "<style scoped>\n",
       "    .dataframe tbody tr th:only-of-type {\n",
       "        vertical-align: middle;\n",
       "    }\n",
       "\n",
       "    .dataframe tbody tr th {\n",
       "        vertical-align: top;\n",
       "    }\n",
       "\n",
       "    .dataframe thead th {\n",
       "        text-align: right;\n",
       "    }\n",
       "</style>\n",
       "<table border=\"1\" class=\"dataframe\">\n",
       "  <thead>\n",
       "    <tr style=\"text-align: right;\">\n",
       "      <th></th>\n",
       "      <th>nome</th>\n",
       "      <th>idade</th>\n",
       "      <th>nota_final</th>\n",
       "    </tr>\n",
       "  </thead>\n",
       "  <tbody>\n",
       "    <tr>\n",
       "      <th>0</th>\n",
       "      <td>João</td>\n",
       "      <td>20</td>\n",
       "      <td>5.0</td>\n",
       "    </tr>\n",
       "    <tr>\n",
       "      <th>1</th>\n",
       "      <td>Maria</td>\n",
       "      <td>21</td>\n",
       "      <td>10.0</td>\n",
       "    </tr>\n",
       "    <tr>\n",
       "      <th>2</th>\n",
       "      <td>José</td>\n",
       "      <td>19</td>\n",
       "      <td>6.0</td>\n",
       "    </tr>\n",
       "    <tr>\n",
       "      <th>3</th>\n",
       "      <td>Alice</td>\n",
       "      <td>20</td>\n",
       "      <td>10.0</td>\n",
       "    </tr>\n",
       "  </tbody>\n",
       "</table>\n",
       "</div>"
      ],
      "text/plain": [
       "    nome  idade  nota_final\n",
       "0   João     20         5.0\n",
       "1  Maria     21        10.0\n",
       "2   José     19         6.0\n",
       "3  Alice     20        10.0"
      ]
     },
     "execution_count": 57,
     "metadata": {},
     "output_type": "execute_result"
    }
   ],
   "source": [
    "notas = pd.DataFrame({\n",
    "    'nome': ['João', 'Maria', 'José', 'Alice'],\n",
    "    'idade': [20, 21, 19, 20],\n",
    "    'nota_final': [5.0, 10.0, 6.0, 10.0]\n",
    "})\n",
    "notas"
   ]
  },
  {
   "cell_type": "markdown",
   "id": "687d3726",
   "metadata": {},
   "source": [
    "<p>.sort(values): ordena valores ao longo de um eixo</p>"
   ]
  },
  {
   "cell_type": "code",
   "execution_count": 58,
   "id": "624bf8a1",
   "metadata": {},
   "outputs": [
    {
     "data": {
      "text/html": [
       "<div>\n",
       "<style scoped>\n",
       "    .dataframe tbody tr th:only-of-type {\n",
       "        vertical-align: middle;\n",
       "    }\n",
       "\n",
       "    .dataframe tbody tr th {\n",
       "        vertical-align: top;\n",
       "    }\n",
       "\n",
       "    .dataframe thead th {\n",
       "        text-align: right;\n",
       "    }\n",
       "</style>\n",
       "<table border=\"1\" class=\"dataframe\">\n",
       "  <thead>\n",
       "    <tr style=\"text-align: right;\">\n",
       "      <th></th>\n",
       "      <th>nome</th>\n",
       "      <th>idade</th>\n",
       "      <th>nota_final</th>\n",
       "    </tr>\n",
       "  </thead>\n",
       "  <tbody>\n",
       "    <tr>\n",
       "      <th>0</th>\n",
       "      <td>João</td>\n",
       "      <td>20</td>\n",
       "      <td>5.0</td>\n",
       "    </tr>\n",
       "    <tr>\n",
       "      <th>2</th>\n",
       "      <td>José</td>\n",
       "      <td>19</td>\n",
       "      <td>6.0</td>\n",
       "    </tr>\n",
       "    <tr>\n",
       "      <th>1</th>\n",
       "      <td>Maria</td>\n",
       "      <td>21</td>\n",
       "      <td>10.0</td>\n",
       "    </tr>\n",
       "    <tr>\n",
       "      <th>3</th>\n",
       "      <td>Alice</td>\n",
       "      <td>20</td>\n",
       "      <td>10.0</td>\n",
       "    </tr>\n",
       "  </tbody>\n",
       "</table>\n",
       "</div>"
      ],
      "text/plain": [
       "    nome  idade  nota_final\n",
       "0   João     20         5.0\n",
       "2   José     19         6.0\n",
       "1  Maria     21        10.0\n",
       "3  Alice     20        10.0"
      ]
     },
     "execution_count": 58,
     "metadata": {},
     "output_type": "execute_result"
    }
   ],
   "source": [
    "notas.sort_values(by='nota_final')"
   ]
  },
  {
   "cell_type": "markdown",
   "id": "bea90d4a",
   "metadata": {},
   "source": [
    "<p>Por padrão, o método retorna uma cópia dos dados ordenados em ordem crescente (ascendente). Podemos alterar isso pelo argumento ascending</p>"
   ]
  },
  {
   "cell_type": "code",
   "execution_count": 59,
   "id": "5009cc72",
   "metadata": {},
   "outputs": [
    {
     "data": {
      "text/html": [
       "<div>\n",
       "<style scoped>\n",
       "    .dataframe tbody tr th:only-of-type {\n",
       "        vertical-align: middle;\n",
       "    }\n",
       "\n",
       "    .dataframe tbody tr th {\n",
       "        vertical-align: top;\n",
       "    }\n",
       "\n",
       "    .dataframe thead th {\n",
       "        text-align: right;\n",
       "    }\n",
       "</style>\n",
       "<table border=\"1\" class=\"dataframe\">\n",
       "  <thead>\n",
       "    <tr style=\"text-align: right;\">\n",
       "      <th></th>\n",
       "      <th>nome</th>\n",
       "      <th>idade</th>\n",
       "      <th>nota_final</th>\n",
       "    </tr>\n",
       "  </thead>\n",
       "  <tbody>\n",
       "    <tr>\n",
       "      <th>1</th>\n",
       "      <td>Maria</td>\n",
       "      <td>21</td>\n",
       "      <td>10.0</td>\n",
       "    </tr>\n",
       "    <tr>\n",
       "      <th>3</th>\n",
       "      <td>Alice</td>\n",
       "      <td>20</td>\n",
       "      <td>10.0</td>\n",
       "    </tr>\n",
       "    <tr>\n",
       "      <th>2</th>\n",
       "      <td>José</td>\n",
       "      <td>19</td>\n",
       "      <td>6.0</td>\n",
       "    </tr>\n",
       "    <tr>\n",
       "      <th>0</th>\n",
       "      <td>João</td>\n",
       "      <td>20</td>\n",
       "      <td>5.0</td>\n",
       "    </tr>\n",
       "  </tbody>\n",
       "</table>\n",
       "</div>"
      ],
      "text/plain": [
       "    nome  idade  nota_final\n",
       "1  Maria     21        10.0\n",
       "3  Alice     20        10.0\n",
       "2   José     19         6.0\n",
       "0   João     20         5.0"
      ]
     },
     "execution_count": 59,
     "metadata": {},
     "output_type": "execute_result"
    }
   ],
   "source": [
    "notas.sort_values(by='nota_final', ascending=False)"
   ]
  },
  {
   "cell_type": "markdown",
   "id": "1cba3ba7",
   "metadata": {},
   "source": [
    "<p>Podemos ordenar a partir de mais de uma coluna:</p>"
   ]
  },
  {
   "cell_type": "code",
   "execution_count": 61,
   "id": "55138e78",
   "metadata": {},
   "outputs": [
    {
     "data": {
      "text/html": [
       "<div>\n",
       "<style scoped>\n",
       "    .dataframe tbody tr th:only-of-type {\n",
       "        vertical-align: middle;\n",
       "    }\n",
       "\n",
       "    .dataframe tbody tr th {\n",
       "        vertical-align: top;\n",
       "    }\n",
       "\n",
       "    .dataframe thead th {\n",
       "        text-align: right;\n",
       "    }\n",
       "</style>\n",
       "<table border=\"1\" class=\"dataframe\">\n",
       "  <thead>\n",
       "    <tr style=\"text-align: right;\">\n",
       "      <th></th>\n",
       "      <th>nome</th>\n",
       "      <th>idade</th>\n",
       "      <th>nota_final</th>\n",
       "    </tr>\n",
       "  </thead>\n",
       "  <tbody>\n",
       "    <tr>\n",
       "      <th>3</th>\n",
       "      <td>Alice</td>\n",
       "      <td>20</td>\n",
       "      <td>10.0</td>\n",
       "    </tr>\n",
       "    <tr>\n",
       "      <th>1</th>\n",
       "      <td>Maria</td>\n",
       "      <td>21</td>\n",
       "      <td>10.0</td>\n",
       "    </tr>\n",
       "    <tr>\n",
       "      <th>2</th>\n",
       "      <td>José</td>\n",
       "      <td>19</td>\n",
       "      <td>6.0</td>\n",
       "    </tr>\n",
       "    <tr>\n",
       "      <th>0</th>\n",
       "      <td>João</td>\n",
       "      <td>20</td>\n",
       "      <td>5.0</td>\n",
       "    </tr>\n",
       "  </tbody>\n",
       "</table>\n",
       "</div>"
      ],
      "text/plain": [
       "    nome  idade  nota_final\n",
       "3  Alice     20        10.0\n",
       "1  Maria     21        10.0\n",
       "2   José     19         6.0\n",
       "0   João     20         5.0"
      ]
     },
     "execution_count": 61,
     "metadata": {},
     "output_type": "execute_result"
    }
   ],
   "source": [
    "# ordena os registros, primeiramente, pela coluna 'nota_final' em ordem decrescente\n",
    "# então, reordena os registros \"empatados\", ou seja, com a mesma nota final, em ordem alfabética (ordem crescente)\n",
    "notas.sort_values(by=['nota_final', 'nome'], ascending=[False, True])"
   ]
  },
  {
   "cell_type": "markdown",
   "id": "7810e0b9",
   "metadata": {},
   "source": [
    "### o DataFrame não é alterado dps da ordenação!!"
   ]
  },
  {
   "cell_type": "code",
   "execution_count": 62,
   "id": "19b6898b",
   "metadata": {},
   "outputs": [
    {
     "data": {
      "text/html": [
       "<div>\n",
       "<style scoped>\n",
       "    .dataframe tbody tr th:only-of-type {\n",
       "        vertical-align: middle;\n",
       "    }\n",
       "\n",
       "    .dataframe tbody tr th {\n",
       "        vertical-align: top;\n",
       "    }\n",
       "\n",
       "    .dataframe thead th {\n",
       "        text-align: right;\n",
       "    }\n",
       "</style>\n",
       "<table border=\"1\" class=\"dataframe\">\n",
       "  <thead>\n",
       "    <tr style=\"text-align: right;\">\n",
       "      <th></th>\n",
       "      <th>nome</th>\n",
       "      <th>idade</th>\n",
       "      <th>nota_final</th>\n",
       "    </tr>\n",
       "  </thead>\n",
       "  <tbody>\n",
       "    <tr>\n",
       "      <th>0</th>\n",
       "      <td>João</td>\n",
       "      <td>20</td>\n",
       "      <td>5.0</td>\n",
       "    </tr>\n",
       "    <tr>\n",
       "      <th>1</th>\n",
       "      <td>Maria</td>\n",
       "      <td>21</td>\n",
       "      <td>10.0</td>\n",
       "    </tr>\n",
       "    <tr>\n",
       "      <th>2</th>\n",
       "      <td>José</td>\n",
       "      <td>19</td>\n",
       "      <td>6.0</td>\n",
       "    </tr>\n",
       "    <tr>\n",
       "      <th>3</th>\n",
       "      <td>Alice</td>\n",
       "      <td>20</td>\n",
       "      <td>10.0</td>\n",
       "    </tr>\n",
       "  </tbody>\n",
       "</table>\n",
       "</div>"
      ],
      "text/plain": [
       "    nome  idade  nota_final\n",
       "0   João     20         5.0\n",
       "1  Maria     21        10.0\n",
       "2   José     19         6.0\n",
       "3  Alice     20        10.0"
      ]
     },
     "execution_count": 62,
     "metadata": {},
     "output_type": "execute_result"
    }
   ],
   "source": [
    "notas"
   ]
  },
  {
   "cell_type": "markdown",
   "id": "1dac57b4",
   "metadata": {},
   "source": [
    "<p>Pra alterar tem q usar inplace=True</p>"
   ]
  },
  {
   "cell_type": "code",
   "execution_count": 65,
   "id": "311b9198",
   "metadata": {},
   "outputs": [],
   "source": [
    "notas.sort_values(by=['nota_final', 'nome'], ascending=[False, True], inplace=True)"
   ]
  },
  {
   "cell_type": "code",
   "execution_count": 66,
   "id": "7157943e",
   "metadata": {},
   "outputs": [
    {
     "data": {
      "text/html": [
       "<div>\n",
       "<style scoped>\n",
       "    .dataframe tbody tr th:only-of-type {\n",
       "        vertical-align: middle;\n",
       "    }\n",
       "\n",
       "    .dataframe tbody tr th {\n",
       "        vertical-align: top;\n",
       "    }\n",
       "\n",
       "    .dataframe thead th {\n",
       "        text-align: right;\n",
       "    }\n",
       "</style>\n",
       "<table border=\"1\" class=\"dataframe\">\n",
       "  <thead>\n",
       "    <tr style=\"text-align: right;\">\n",
       "      <th></th>\n",
       "      <th>nome</th>\n",
       "      <th>idade</th>\n",
       "      <th>nota_final</th>\n",
       "    </tr>\n",
       "  </thead>\n",
       "  <tbody>\n",
       "    <tr>\n",
       "      <th>3</th>\n",
       "      <td>Alice</td>\n",
       "      <td>20</td>\n",
       "      <td>10.0</td>\n",
       "    </tr>\n",
       "    <tr>\n",
       "      <th>1</th>\n",
       "      <td>Maria</td>\n",
       "      <td>21</td>\n",
       "      <td>10.0</td>\n",
       "    </tr>\n",
       "    <tr>\n",
       "      <th>2</th>\n",
       "      <td>José</td>\n",
       "      <td>19</td>\n",
       "      <td>6.0</td>\n",
       "    </tr>\n",
       "    <tr>\n",
       "      <th>0</th>\n",
       "      <td>João</td>\n",
       "      <td>20</td>\n",
       "      <td>5.0</td>\n",
       "    </tr>\n",
       "  </tbody>\n",
       "</table>\n",
       "</div>"
      ],
      "text/plain": [
       "    nome  idade  nota_final\n",
       "3  Alice     20        10.0\n",
       "1  Maria     21        10.0\n",
       "2   José     19         6.0\n",
       "0   João     20         5.0"
      ]
     },
     "execution_count": 66,
     "metadata": {},
     "output_type": "execute_result"
    }
   ],
   "source": [
    "notas"
   ]
  }
 ],
 "metadata": {
  "kernelspec": {
   "display_name": "Python 3",
   "language": "python",
   "name": "python3"
  },
  "language_info": {
   "codemirror_mode": {
    "name": "ipython",
    "version": 3
   },
   "file_extension": ".py",
   "mimetype": "text/x-python",
   "name": "python",
   "nbconvert_exporter": "python",
   "pygments_lexer": "ipython3",
   "version": "3.10.12"
  }
 },
 "nbformat": 4,
 "nbformat_minor": 5
}
